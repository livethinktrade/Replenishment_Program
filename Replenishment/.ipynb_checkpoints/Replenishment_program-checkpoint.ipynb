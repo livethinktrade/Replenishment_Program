{
 "cells": [
  {
   "cell_type": "code",
   "execution_count": 1,
   "id": "e6208782",
   "metadata": {},
   "outputs": [
    {
     "name": "stdout",
     "output_type": "stream",
     "text": [
      "\n",
      "Support Sheet Imported\n",
      "Updated: 377\n",
      "Inserted: 0\n",
      "\n",
      "Inventory list imported\n",
      "Updated: 467 Records\n",
      "Inserted: 0 Records\n"
     ]
    }
   ],
   "source": [
    "from store_info import Replenishment\n",
    "# from Sales_Report.Reports.reports import *\n",
    "store = Replenishment(store_type_input='midwest')\n",
    "\n",
    "store.support_import(r'C:\\Users\\User1\\OneDrive\\WinWin Staff Folders\\Michael\\Replenishment program\\Replenishment\\support document\\support_sheet.xlsx')\n",
    "store.inventory_import(r'C:\\Users\\User1\\OneDrive\\WinWin Staff Folders\\Michael\\Replenishment program\\Replenishment\\support document\\inventory\\inventory.csv')\n",
    "\n"
   ]
  },
  {
   "cell_type": "code",
   "execution_count": 3,
   "id": "4f2ccd4f",
   "metadata": {},
   "outputs": [
    {
     "name": "stdout",
     "output_type": "stream",
     "text": [
      "\n",
      " Store Data Imported\n",
      "Updated: 0 Records\n",
      "Inserted: 49 Records\n",
      "\n",
      "Store Program Data Imported\n",
      "Updated: 0 Records\n",
      "Inserted: 34 Records\n",
      "Program History Insert: 34 Records\n"
     ]
    }
   ],
   "source": [
    "# kvat \n",
    "\n",
    "store = Replenishment(store_type_input='midwest')\n",
    "\n",
    "# store.sales_import(\"jewel_salesdata_backup_Jul-08-2022.xlsx\")\n",
    "# store.delivery_import(\"jewel_deliverydata_backup_Jul-08-2022.xlsx\")\n",
    "# store.store_import()\n",
    "# store.master_planogram_import()\n",
    "# store.store_program_import()\n",
    "# store.store_approval_import('delta_approval.csv')\n",
    "store.support_import(r'C:\\Users\\User1\\OneDrive\\WinWin Staff Folders\\Michael\\Replenishment program\\Replenishment\\support document\\support_sheet.xlsx')\n",
    "store.inventory_import(r'C:\\Users\\User1\\OneDrive\\WinWin Staff Folders\\Michael\\Replenishment program\\Replenishment\\support document\\inventory\\inventory.csv')\n",
    "# store.sales_update(file='Sherlock Store Matrix.csv')\n",
    "# store.delivery_update(file='kvat.csv')\n",
    "# store.sales_report()\n",
    "# store.size_table_update('size_table')\n",
    "\n"
   ]
  },
  {
   "cell_type": "code",
   "execution_count": 16,
   "id": "047c9933",
   "metadata": {},
   "outputs": [
    {
     "name": "stdout",
     "output_type": "stream",
     "text": [
      "kroger_dillons_dummy_sales.xlsx\n"
     ]
    }
   ],
   "source": [
    "store_type_input = 'kroger_dillons'\n",
    "store_setting= pd.read_excel(rf'C:\\Users\\User1\\OneDrive\\WinWin Staff Folders\\Michael\\Groccery Store Program\\{store_type_input}\\{store_type_input}_store_setting.xlsm',\n",
    "                                            sheet_name='Sheet2',\n",
    "                                            header=None,\n",
    "                                            index_col=0,\n",
    "                                            names=('setting', 'values'))\n",
    "\n",
    "atlanta = Reports(store_type_input, store_setting)\n",
    "atlanta.external_report(f'{store_type_input}_dummy_sales.xlsx')"
   ]
  },
  {
   "cell_type": "code",
   "execution_count": 13,
   "id": "1e308657",
   "metadata": {},
   "outputs": [],
   "source": [
    "import datetime\n",
    "import re\n",
    "import pandas as pd\n",
    "import datetime as dt\n",
    "import psycopg2\n",
    "\n",
    "import pandas.io.sql as psql\n",
    "\n",
    "import numpy as np\n",
    "from psycopg2.extensions import register_adapter, AsIs\n",
    "psycopg2.extensions.register_adapter(np.int64, psycopg2._psycopg.AsIs)\n",
    "\n",
    "#downloads the sales & delivery data for all stores\n",
    "store_list = [\n",
    "    \n",
    "    'acme',\n",
    "    'follett',\n",
    "    'fresh_encounter',\n",
    "    'intermountain',\n",
    "    'jewel',\n",
    "    'kroger_atlanta',\n",
    "    'kroger_central',\n",
    "    'kroger_cincinatti',\n",
    "    'kroger_columbus',\n",
    "    'kroger_dallas',\n",
    "    'kroger_delta',\n",
    "    'kroger_dillons',\n",
    "    'kroger_king_soopers',\n",
    "    'kroger_louisville',\n",
    "    'kroger_michigan',\n",
    "    'kroger_nashville',\n",
    "    'kvat',\n",
    "    'safeway_denver',\n",
    "    'texas_division'\n",
    "]\n",
    "\n",
    "\n",
    "i= 0\n",
    "num_of_store = len(store_list)\n",
    "\n",
    "date = datetime.date.today()\n",
    "date = date.strftime(\"%b-%d-%Y\")\n",
    "\n",
    "\n",
    "\n",
    "while i < num_of_store:\n",
    "\n",
    "    store = store_list[i]\n",
    "    \n",
    "    connection = psycopg2.connect(database=f\"Grocery\", user=\"postgres\", password=\"winwin\", host=\"localhost\")\n",
    "\n",
    "    num = psql.read_sql(f\"select * from {store}.delivery2\", connection)\n",
    "\n",
    "    num.to_excel(f'{store}_deliverydata_backup_{date}.xlsx', index = False)\n",
    "    \n",
    "    num = psql.read_sql(f\"select * from {store}.sales2\", connection)\n",
    " \n",
    "    num.to_excel(f'{store}_salesdata_backup_{date}.xlsx', index = False)\n",
    "    \n",
    "    i+=1\n",
    "\n",
    "i= 0\n",
    "# num_of_store = len(store_list)\n",
    "\n",
    "# while i < num_of_store:\n",
    "\n",
    "#     store = store_list[i]\n",
    "#     connection = psycopg2.connect(database=f\"Grocery\", user=\"postgres\", password=\"winwin\", host=\"localhost\")\n",
    "\n",
    "#     num = psql.read_sql(f\"select * from {store}.sales2\", connection)\n",
    "\n",
    "    \n",
    "#     num.to_excel(f'{store}_salesdata_backup_{date}.xlsx', index = False)\n",
    "#     i+=1\n",
    "    \n",
    "    \n",
    "    \n",
    "    \n",
    "\n"
   ]
  },
  {
   "cell_type": "code",
   "execution_count": 2,
   "id": "2f224c69",
   "metadata": {},
   "outputs": [],
   "source": []
  },
  {
   "cell_type": "code",
   "execution_count": 7,
   "id": "81f23ed6",
   "metadata": {},
   "outputs": [
    {
     "name": "stdout",
     "output_type": "stream",
     "text": [
      "\n",
      " acme Delivery Data Updated\n",
      "Updated: 7 Records\n",
      "Inserted: 0 Records\n",
      "No Programs have been established for these stores listed:\n",
      "\n",
      " [996]\n",
      "acme_external_sales_report_Sep-12-2022.xlsx\n",
      "\n",
      "Sales Report Generated\n"
     ]
    }
   ],
   "source": [
    "# Mid-Atlantic\n",
    "from store_info import Replenishment\n",
    "\n",
    "acme = Replenishment(store_type_input='acme')\n",
    "\n",
    "\n",
    "current_week = input('Please input the name of the sales file for the \"Current Sales Week\"\\n')\n",
    "previous_week = input('Please input the name of the sales file for the \"Previous Sales Week\"\\n')\n",
    "\n",
    "acme.sales_update(current_week, previous_week)\n",
    "acme.delivery_update(file=r'C:\\Users\\User1\\OneDrive\\WinWin Staff Folders\\Michael\\Replenishment program\\Replenishment\\support document\\deliveries\\acme.csv')\n",
    "acme.sales_report()\n",
    "# acme.size_table_update('size_table')"
   ]
  },
  {
   "cell_type": "code",
   "execution_count": 2,
   "id": "a9f69153",
   "metadata": {},
   "outputs": [
    {
     "name": "stdout",
     "output_type": "stream",
     "text": [
      "Please input the name of the sales file for the \"Current Sales Week\"\n",
      "50\n",
      "Please input the name of the sales file for the \"Previous Sales Week\"\n",
      "hjglhj\n",
      "50 hjglhj\n"
     ]
    }
   ],
   "source": [
    "# Texas Division\n",
    "from store_info import Replenishment\n",
    "\n",
    "texas_division = Replenishment(store_type_input='texas_division')\n",
    "\n",
    "\n",
    "current_week = input('Please input the name of the sales file for the \"Current Sales Week\"\\n')\n",
    "previous_week = input('Please input the name of the sales file for the \"Previous Sales Week\"\\n')\n",
    "\n",
    "texas_division.sales_update(current_week, previous_week)\n",
    "texas_division.delivery_update(file=r'C:\\Users\\User1\\OneDrive\\WinWin Staff Folders\\Michael\\Replenishment program\\Replenishment\\support document\\deliveries\\texas.csv')\n",
    "texas_division.sales_report()\n",
    "\n",
    "        "
   ]
  },
  {
   "cell_type": "code",
   "execution_count": 21,
   "id": "ef4bf278",
   "metadata": {},
   "outputs": [
    {
     "name": "stdout",
     "output_type": "stream",
     "text": [
      "\n",
      " fresh_encounter Sales Data Imported\n",
      "\n",
      " fresh_encounter Delivery Data Updated\n",
      "Updated: 126 Records\n",
      "Inserted: 33 Records\n",
      "No Programs have been established for these stores listed:\n",
      "\n",
      " [431, 438, 458, 468, 930, 930, 930]\n",
      "fresh_encounter_external_sales_report_Sep-26-2022.xlsx\n",
      "\n",
      "Sales Report Generated\n"
     ]
    }
   ],
   "source": [
    "# fresh Encounter\n",
    "from store_info import Replenishment\n",
    "\n",
    "fresh_encounter = Replenishment(store_type_input='fresh_encounter')\n",
    "\n",
    "\n",
    "fresh_encounter.sales_import(file=r'C:\\Users\\User1\\OneDrive\\WinWin Staff Folders\\Michael\\Replenishment program\\Replenishment\\support document\\sales\\fresh_encounter_salesdata_fixed.xlsx')\n",
    "fresh_encounter.delivery_update(file=r'C:\\Users\\User1\\OneDrive\\WinWin Staff Folders\\Michael\\Replenishment program\\Replenishment\\support document\\deliveries\\fresh_encounter.csv')\n",
    "fresh_encounter.sales_report()"
   ]
  },
  {
   "cell_type": "code",
   "execution_count": 15,
   "id": "930a2b87",
   "metadata": {},
   "outputs": [
    {
     "name": "stdout",
     "output_type": "stream",
     "text": [
      "\n",
      "Sales Data Imported\n",
      "\n",
      "Delivery Data Updated\n",
      "Updated: 179 Records\n",
      "Inserted: 0 Records\n",
      "No Programs have been established for these stores listed:\n",
      "\n",
      " [15, 3004]\n",
      "No Programs have been established for these stores listed:\n",
      "\n",
      " [15, 3004]\n",
      "intermountain_external_sales_report_Jul-01-2022.xlsx\n",
      "intermountain_internal_sales_report_Jul-01-2022.xlsx\n",
      "\n",
      "Sales Report Generated\n"
     ]
    }
   ],
   "source": [
    "# Intermountain \n",
    "from store_info import Replenishment\n",
    "\n",
    "intermountain = Replenishment(store_type_input='intermountain')\n",
    "\n",
    "current_week = input('Please input the name of the sales file for the \"Current Sales Week\"\\n')\n",
    "previous_week = input('Please input the name of the sales file for the \"Previous Sales Week\"\\n')\n",
    "\n",
    "intermountain.sales_update(current_week, previous_week)\n",
    "intermountain.delivery_update(file=r'C:\\Users\\User1\\OneDrive\\WinWin Staff Folders\\Michael\\Replenishment program\\Replenishment\\support document\\deliveries\\intermountain.csv')\n",
    "intermountain.sales_report()"
   ]
  },
  {
   "cell_type": "code",
   "execution_count": 4,
   "id": "e8105cda",
   "metadata": {},
   "outputs": [
    {
     "name": "stdout",
     "output_type": "stream",
     "text": [
      "No Programs have been established for these stores listed:\n",
      "\n",
      " []\n",
      "follett_external_sales_report_Sep-28-2022.xlsx\n",
      "\n",
      "Sales Report Generated\n"
     ]
    }
   ],
   "source": [
    "# follett\n",
    "from store_info import Replenishment\n",
    "\n",
    "follett = Replenishment(store_type_input='follett')\n",
    "\n",
    "# follett.sales_import(file=r'C:\\Users\\User1\\OneDrive\\WinWin Staff Folders\\Michael\\Replenishment program\\Replenishment\\support document\\sales\\follett_salesdata_fixed.xlsx')\n",
    "# follett.delivery_update(file=r'C:\\Users\\User1\\OneDrive\\WinWin Staff Folders\\Michael\\Replenishment program\\Replenishment\\support document\\deliveries\\follett.csv')\n",
    "follett.sales_report()                                         "
   ]
  },
  {
   "cell_type": "code",
   "execution_count": 3,
   "id": "1b14fb31",
   "metadata": {},
   "outputs": [
    {
     "name": "stdout",
     "output_type": "stream",
     "text": [
      "Found code for Sales table in support sheet instead of delivery table store 3464 upc: 81031202373\n",
      "Found code for Sales table in support sheet instead of delivery table store 3741 upc: 81031202300\n",
      "Found code for Sales table in support sheet instead of delivery table store 3465 upc: 81031202045\n",
      "Found code for Sales table in support sheet instead of delivery table store 3278 upc: 81031202155\n",
      "Found code for Sales table in support sheet instead of delivery table store 3546 upc: 81031202045\n",
      "Found code for Sales table in support sheet instead of delivery table store 3178 upc: 81031202045\n",
      "\n",
      " jewel Sales Data Updated\n",
      "Updated: 83 Records\n",
      "Inserted: 0 Records\n",
      "\n",
      " jewel Delivery Data Updated\n",
      "Updated: 250 Records\n",
      "Inserted: 54 Records\n",
      "No Programs have been established for these stores listed:\n",
      "\n",
      " [157, 1282, 3053, 3220, 3349, 3421, 3425, 3429, 3443, 3446, 3455, 3461, 3473, 3477, 3481, 3491, 3514, 3720, 3721, 3775, 4060]\n"
     ]
    },
    {
     "name": "stderr",
     "output_type": "stream",
     "text": [
      "C:\\Users\\User1\\anaconda3\\lib\\site-packages\\pandas\\core\\indexing.py:1684: SettingWithCopyWarning: \n",
      "A value is trying to be set on a copy of a slice from a DataFrame.\n",
      "Try using .loc[row_indexer,col_indexer] = value instead\n",
      "\n",
      "See the caveats in the documentation: https://pandas.pydata.org/pandas-docs/stable/user_guide/indexing.html#returning-a-view-versus-a-copy\n",
      "  self.obj[key] = infer_fill_value(value)\n",
      "C:\\Users\\User1\\anaconda3\\lib\\site-packages\\pandas\\core\\indexing.py:1817: SettingWithCopyWarning: \n",
      "A value is trying to be set on a copy of a slice from a DataFrame.\n",
      "Try using .loc[row_indexer,col_indexer] = value instead\n",
      "\n",
      "See the caveats in the documentation: https://pandas.pydata.org/pandas-docs/stable/user_guide/indexing.html#returning-a-view-versus-a-copy\n",
      "  self._setitem_single_column(loc, value, pi)\n"
     ]
    },
    {
     "name": "stdout",
     "output_type": "stream",
     "text": [
      "jewel_external_sales_report_Sep-20-2022.xlsx\n",
      "\n",
      "Sales Report Generated\n"
     ]
    }
   ],
   "source": [
    "# jewel\n",
    "from store_info import Replenishment\n",
    "\n",
    "jewel = Replenishment(store_type_input='jewel')\n",
    "\n",
    "jewel.sales_update(r'C:\\Users\\User1\\OneDrive\\WinWin Staff Folders\\Michael\\Replenishment program\\Replenishment\\support document\\sales\\jewel_sales.xlsx')\n",
    "jewel.delivery_update(file=r'C:\\Users\\User1\\OneDrive\\WinWin Staff Folders\\Michael\\Replenishment program\\Replenishment\\support document\\deliveries\\jewel.csv')\n",
    "\n",
    "\n",
    "jewel.sales_report()"
   ]
  },
  {
   "cell_type": "code",
   "execution_count": 4,
   "id": "2628b1d3",
   "metadata": {},
   "outputs": [
    {
     "name": "stderr",
     "output_type": "stream",
     "text": [
      "C:\\Users\\User1\\anaconda3\\lib\\site-packages\\pandas\\core\\frame.py:3641: SettingWithCopyWarning: \n",
      "A value is trying to be set on a copy of a slice from a DataFrame.\n",
      "Try using .loc[row_indexer,col_indexer] = value instead\n",
      "\n",
      "See the caveats in the documentation: https://pandas.pydata.org/pandas-docs/stable/user_guide/indexing.html#returning-a-view-versus-a-copy\n",
      "  self[k1] = value[k2]\n",
      "C:\\Users\\User1\\OneDrive\\WinWin Staff Folders\\Michael\\Replenishment program\\Replenishment\\Update\\Transform_Sales_Data\\transform.py:86: FutureWarning: The default value of regex will change from True to False in a future version.\n",
      "  new['RPT_SHORT_DESC'] = new.RPT_SHORT_DESC.str.replace('[^a-zA-Z]', '')\n"
     ]
    },
    {
     "name": "stdout",
     "output_type": "stream",
     "text": [
      "Found code for Sales table in support sheet instead of delivery table store 394 upc: 81031202373\n",
      "Found code for Sales table in support sheet instead of delivery table store 493 upc: 81031202373\n",
      "\n",
      " kroger_atlanta Sales Data Updated\n",
      "Updated: 200 Records\n",
      "Inserted: 260 Records\n",
      "\n",
      " kroger_atlanta Delivery Data Updated\n",
      "Updated: 76 Records\n",
      "Inserted: 46 Records\n",
      "No Programs have been established for these stores listed:\n",
      "\n",
      " []\n"
     ]
    },
    {
     "name": "stderr",
     "output_type": "stream",
     "text": [
      "C:\\Users\\User1\\anaconda3\\lib\\site-packages\\pandas\\core\\indexing.py:1684: SettingWithCopyWarning: \n",
      "A value is trying to be set on a copy of a slice from a DataFrame.\n",
      "Try using .loc[row_indexer,col_indexer] = value instead\n",
      "\n",
      "See the caveats in the documentation: https://pandas.pydata.org/pandas-docs/stable/user_guide/indexing.html#returning-a-view-versus-a-copy\n",
      "  self.obj[key] = infer_fill_value(value)\n",
      "C:\\Users\\User1\\anaconda3\\lib\\site-packages\\pandas\\core\\indexing.py:1817: SettingWithCopyWarning: \n",
      "A value is trying to be set on a copy of a slice from a DataFrame.\n",
      "Try using .loc[row_indexer,col_indexer] = value instead\n",
      "\n",
      "See the caveats in the documentation: https://pandas.pydata.org/pandas-docs/stable/user_guide/indexing.html#returning-a-view-versus-a-copy\n",
      "  self._setitem_single_column(loc, value, pi)\n"
     ]
    },
    {
     "name": "stdout",
     "output_type": "stream",
     "text": [
      "kroger_atlanta_external_sales_report_Sep-26-2022.xlsx\n",
      "\n",
      "Sales Report Generated\n"
     ]
    }
   ],
   "source": [
    "# atlanta\n",
    "from store_info import Replenishment\n",
    "\n",
    "atlanta = Replenishment(store_type_input='kroger_atlanta')\n",
    "\n",
    "atlanta.sales_update(r'C:\\Users\\User1\\OneDrive\\WinWin Staff Folders\\Michael\\Replenishment program\\Replenishment\\support document\\sales\\Sherlock Store Matrix.csv')\n",
    "atlanta.delivery_update(file=r'C:\\Users\\User1\\OneDrive\\WinWin Staff Folders\\Michael\\Replenishment program\\Replenishment\\support document\\deliveries\\atlanta.csv')\n",
    "atlanta.sales_report()"
   ]
  },
  {
   "cell_type": "code",
   "execution_count": 5,
   "id": "68debb9c",
   "metadata": {},
   "outputs": [
    {
     "name": "stdout",
     "output_type": "stream",
     "text": [
      "Found code for Sales table in support sheet instead of delivery table store 923 upc: 81031202305\n",
      "Found code for Sales table in support sheet instead of delivery table store 995 upc: 81031202229\n",
      "Found code for Sales table in support sheet instead of delivery table store 989 upc: 81031202236\n",
      "Found code for Sales table in support sheet instead of delivery table store 86 upc: 81031202045\n",
      "Found code for Sales table in support sheet instead of delivery table store 965 upc: 81031202045\n",
      "Found code for Sales table in support sheet instead of delivery table store 735 upc: 81031202155\n",
      "Found code for Sales table in support sheet instead of delivery table store 869 upc: 81031202155\n",
      "Found code for Sales table in support sheet instead of delivery table store 946 upc: 81031202045\n",
      "Found code for Sales table in support sheet instead of delivery table store 86 upc: 81031202045\n",
      "Found code for Sales table in support sheet instead of delivery table store 965 upc: 81031202045\n",
      "Found code for Sales table in support sheet instead of delivery table store 900 upc: 81031202045\n",
      "Found code for Sales table in support sheet instead of delivery table store 979 upc: 81031202045\n",
      "Found code for Sales table in support sheet instead of delivery table store 985 upc: 81031202155\n",
      "Found code for Sales table in support sheet instead of delivery table store 918 upc: 81031202373\n",
      "\n",
      " kroger_central Sales Data Updated\n",
      "Updated: 87 Records\n",
      "Inserted: 96 Records\n",
      "\n",
      " kroger_central Delivery Data Updated\n",
      "Updated: 6 Records\n",
      "Inserted: 9 Records\n",
      "No Programs have been established for these stores listed:\n",
      "\n",
      " [1, 889]\n",
      "kroger_central_external_sales_report_Sep-26-2022.xlsx\n",
      "\n",
      "Sales Report Generated\n"
     ]
    }
   ],
   "source": [
    "# central\n",
    "from store_info import Replenishment\n",
    "\n",
    "central = Replenishment(store_type_input='kroger_central')\n",
    "\n",
    "\n",
    "central.sales_update(r'C:\\Users\\User1\\OneDrive\\WinWin Staff Folders\\Michael\\Replenishment program\\Replenishment\\support document\\sales\\Sherlock Store Matrix.csv')\n",
    "central.delivery_update(file=r'C:\\Users\\User1\\OneDrive\\WinWin Staff Folders\\Michael\\Replenishment program\\Replenishment\\support document\\deliveries\\central.csv')\n",
    "central.sales_report()"
   ]
  },
  {
   "cell_type": "code",
   "execution_count": 6,
   "id": "b125d768",
   "metadata": {},
   "outputs": [
    {
     "name": "stdout",
     "output_type": "stream",
     "text": [
      "\n",
      " kroger_columbus Sales Data Updated\n",
      "Updated: 160 Records\n",
      "Inserted: 181 Records\n",
      "\n",
      " kroger_columbus Delivery Data Updated\n",
      "Updated: 66 Records\n",
      "Inserted: 27 Records\n",
      "No Programs have been established for these stores listed:\n",
      "\n",
      " []\n",
      "kroger_columbus_external_sales_report_Sep-26-2022.xlsx\n",
      "\n",
      "Sales Report Generated\n"
     ]
    }
   ],
   "source": [
    "# columubus\n",
    "from store_info import Replenishment\n",
    "\n",
    "columbus = Replenishment(store_type_input='kroger_columbus')\n",
    "\n",
    "\n",
    "columbus.sales_update(r'C:\\Users\\User1\\OneDrive\\WinWin Staff Folders\\Michael\\Replenishment program\\Replenishment\\support document\\sales\\Sherlock Store Matrix.csv')\n",
    "columbus.delivery_update(file=r'C:\\Users\\User1\\OneDrive\\WinWin Staff Folders\\Michael\\Replenishment program\\Replenishment\\support document\\deliveries\\columbus.csv')\n",
    "columbus.sales_report()"
   ]
  },
  {
   "cell_type": "code",
   "execution_count": 19,
   "id": "4bd39071",
   "metadata": {},
   "outputs": [
    {
     "name": "stdout",
     "output_type": "stream",
     "text": [
      "Found code for Sales table in support sheet instead of delivery table store 596 upc: 81031202256\n",
      "Found code for Sales table in support sheet instead of delivery table store 542 upc: 81031202256\n",
      "Found code for Sales table in support sheet instead of delivery table store 591 upc: 81031202256\n",
      "Found code for Sales table in support sheet instead of delivery table store 596 upc: 81031202269\n",
      "Found code for Sales table in support sheet instead of delivery table store 589 upc: 81031202381\n",
      "Found code for Sales table in support sheet instead of delivery table store 596 upc: 81031202155\n",
      "Found code for Sales table in support sheet instead of delivery table store 579 upc: 81031202355\n",
      "Found code for Sales table in support sheet instead of delivery table store 596 upc: 81031202255\n",
      "Found code for Sales table in support sheet instead of delivery table store 542 upc: 81031202256\n",
      "Found code for Sales table in support sheet instead of delivery table store 592 upc: 81031202255\n",
      "Found code for Sales table in support sheet instead of delivery table store 533 upc: 81031202256\n",
      "Found code for Sales table in support sheet instead of delivery table store 596 upc: 81031202373\n",
      "Found code for Sales table in support sheet instead of delivery table store 596 upc: 81031202348\n",
      "\n",
      " kroger_dallas Sales Data Updated\n",
      "Updated: 123 Records\n",
      "Inserted: 0 Records\n",
      "No Programs have been established for these stores listed:\n",
      "\n",
      " []\n",
      "kroger_dallas_external_sales_report_Sep-26-2022.xlsx\n",
      "\n",
      "Sales Report Generated\n"
     ]
    }
   ],
   "source": [
    "# dallas\n",
    "from store_info import Replenishment\n",
    "\n",
    "dallas = Replenishment(store_type_input='kroger_dallas')\n",
    "\n",
    "\n",
    "\n",
    "dallas.sales_update(r'C:\\Users\\User1\\OneDrive\\WinWin Staff Folders\\Michael\\Replenishment program\\Replenishment\\support document\\sales\\Sherlock Store Matrix.csv')\n",
    "dallas.delivery_update(file=r'C:\\Users\\User1\\OneDrive\\WinWin Staff Folders\\Michael\\Replenishment program\\Replenishment\\support document\\deliveries\\dallas.csv')\n",
    "dallas.sales_report()"
   ]
  },
  {
   "cell_type": "code",
   "execution_count": 8,
   "id": "4b6df5d5",
   "metadata": {},
   "outputs": [
    {
     "name": "stdout",
     "output_type": "stream",
     "text": [
      "\n",
      " kroger_dillons Sales Data Updated\n",
      "Updated: 109 Records\n",
      "Inserted: 139 Records\n",
      "\n",
      " kroger_dillons Delivery Data Updated\n",
      "Updated: 18 Records\n",
      "Inserted: 39 Records\n",
      "No Programs have been established for these stores listed:\n",
      "\n",
      " []\n",
      "kroger_dillons_external_sales_report_Sep-26-2022.xlsx\n",
      "\n",
      "Sales Report Generated\n"
     ]
    }
   ],
   "source": [
    "# dillons\n",
    "from store_info import Replenishment\n",
    "\n",
    "dillons = Replenishment(store_type_input='kroger_dillons')\n",
    "\n",
    "dillons.sales_update(r'C:\\Users\\User1\\OneDrive\\WinWin Staff Folders\\Michael\\Replenishment program\\Replenishment\\support document\\sales\\Sherlock Store Matrix.csv')\n",
    "dillons.delivery_update(file=r'C:\\Users\\User1\\OneDrive\\WinWin Staff Folders\\Michael\\Replenishment program\\Replenishment\\support document\\deliveries\\dillons.csv')\n",
    "dillons.sales_report()"
   ]
  },
  {
   "cell_type": "code",
   "execution_count": 9,
   "id": "881ba544",
   "metadata": {},
   "outputs": [
    {
     "name": "stdout",
     "output_type": "stream",
     "text": [
      "\n",
      " kroger_king_soopers Sales Data Updated\n",
      "Updated: 57 Records\n",
      "Inserted: 60 Records\n",
      "\n",
      " kroger_king_soopers Delivery Data Updated\n",
      "Updated: 18 Records\n",
      "Inserted: 3 Records\n",
      "No Programs have been established for these stores listed:\n",
      "\n",
      " []\n",
      "kroger_king_soopers_external_sales_report_Sep-26-2022.xlsx\n",
      "\n",
      "Sales Report Generated\n"
     ]
    }
   ],
   "source": [
    "# king sooper\n",
    "from store_info import Replenishment\n",
    "\n",
    "king_soopers = Replenishment(store_type_input='kroger_king_soopers')\n",
    "\n",
    "\n",
    "king_soopers.sales_update(r'C:\\Users\\User1\\OneDrive\\WinWin Staff Folders\\Michael\\Replenishment program\\Replenishment\\support document\\sales\\Sherlock Store Matrix.csv')\n",
    "king_soopers.delivery_update(file=r'C:\\Users\\User1\\OneDrive\\WinWin Staff Folders\\Michael\\Replenishment program\\Replenishment\\support document\\deliveries\\king.csv')\n",
    "king_soopers.sales_report()"
   ]
  },
  {
   "cell_type": "code",
   "execution_count": 12,
   "id": "1efb8bb5",
   "metadata": {},
   "outputs": [
    {
     "name": "stdout",
     "output_type": "stream",
     "text": [
      "Found code for Sales table in support sheet instead of delivery table store 387 upc: 81031202384\n",
      "\n",
      " kroger_louisville Sales Data Updated\n",
      "Updated: 221 Records\n",
      "Inserted: 0 Records\n",
      "\n",
      " kroger_louisville Delivery Data Updated\n",
      "Updated: 63 Records\n",
      "Inserted: 0 Records\n",
      "No Programs have been established for these stores listed:\n",
      "\n",
      " []\n",
      "kroger_louisville_external_sales_report_Sep-26-2022.xlsx\n",
      "\n",
      "Sales Report Generated\n"
     ]
    }
   ],
   "source": [
    "# louisville\n",
    "from store_info import Replenishment\n",
    "\n",
    "louisville = Replenishment(store_type_input='kroger_louisville')\n",
    "\n",
    "louisville.sales_update(r'C:\\Users\\User1\\OneDrive\\WinWin Staff Folders\\Michael\\Replenishment program\\Replenishment\\support document\\sales\\Sherlock Store Matrix.csv')\n",
    "louisville.delivery_update(file=r'C:\\Users\\User1\\OneDrive\\WinWin Staff Folders\\Michael\\Replenishment program\\Replenishment\\support document\\deliveries\\louisville.csv')\n",
    "louisville.sales_report()"
   ]
  },
  {
   "cell_type": "code",
   "execution_count": 13,
   "id": "05d85060",
   "metadata": {},
   "outputs": [
    {
     "name": "stdout",
     "output_type": "stream",
     "text": [
      "Found code for Sales table in support sheet instead of delivery table store 638 upc: 81031202045\n",
      "Found code for Sales table in support sheet instead of delivery table store 638 upc: 81031202045\n",
      "\n",
      " kroger_michigan Sales Data Updated\n",
      "Updated: 107 Records\n",
      "Inserted: 0 Records\n",
      "\n",
      " kroger_michigan Delivery Data Updated\n",
      "Updated: 10 Records\n",
      "Inserted: 0 Records\n",
      "No Programs have been established for these stores listed:\n",
      "\n",
      " [115]\n",
      "kroger_michigan_external_sales_report_Sep-26-2022.xlsx\n",
      "\n",
      "Sales Report Generated\n"
     ]
    }
   ],
   "source": [
    "# michigan\n",
    "from store_info import Replenishment\n",
    "\n",
    "michigan = Replenishment(store_type_input='kroger_michigan')\n",
    "\n",
    "michigan.sales_update(r'C:\\Users\\User1\\OneDrive\\WinWin Staff Folders\\Michael\\Replenishment program\\Replenishment\\support document\\sales\\Sherlock Store Matrix.csv')\n",
    "michigan.delivery_update(file=r'C:\\Users\\User1\\OneDrive\\WinWin Staff Folders\\Michael\\Replenishment program\\Replenishment\\support document\\deliveries\\michigan.csv')\n",
    "michigan.sales_report()"
   ]
  },
  {
   "cell_type": "code",
   "execution_count": 15,
   "id": "04a8d7cc",
   "metadata": {},
   "outputs": [
    {
     "name": "stdout",
     "output_type": "stream",
     "text": [
      "\n",
      " kroger_nashville Sales Data Updated\n",
      "Updated: 242 Records\n",
      "Inserted: 0 Records\n",
      "\n",
      " kroger_nashville Delivery Data Updated\n",
      "Updated: 54 Records\n",
      "Inserted: 0 Records\n",
      "No Programs have been established for these stores listed:\n",
      "\n",
      " []\n",
      "kroger_nashville_external_sales_report_Sep-26-2022.xlsx\n",
      "\n",
      "Sales Report Generated\n"
     ]
    }
   ],
   "source": [
    "# nashville\n",
    "from store_info import Replenishment\n",
    "\n",
    "nashville = Replenishment(store_type_input='kroger_nashville')\n",
    "\n",
    "\n",
    "nashville.sales_update(r'C:\\Users\\User1\\OneDrive\\WinWin Staff Folders\\Michael\\Replenishment program\\Replenishment\\support document\\sales\\Sherlock Store Matrix.csv')\n",
    "nashville.delivery_update(file=r'C:\\Users\\User1\\OneDrive\\WinWin Staff Folders\\Michael\\Replenishment program\\Replenishment\\support document\\deliveries\\nashville.csv')\n",
    "nashville.sales_report()"
   ]
  },
  {
   "cell_type": "code",
   "execution_count": 16,
   "id": "9d2cb4fe",
   "metadata": {},
   "outputs": [
    {
     "name": "stdout",
     "output_type": "stream",
     "text": [
      "Found code for Sales table in support sheet instead of delivery table store 211 upc: 81031202069\n",
      "Found code for Sales table in support sheet instead of delivery table store 217 upc: 81031202045\n",
      "Found code for Sales table in support sheet instead of delivery table store 249 upc: 81031202229\n",
      "Found code for Sales table in support sheet instead of delivery table store 436 upc: 81031202229\n",
      "Found code for Sales table in support sheet instead of delivery table store 438 upc: 81031202373\n",
      "Found code for Sales table in support sheet instead of delivery table store 608 upc: 81031202300\n",
      "Found code for Sales table in support sheet instead of delivery table store 610 upc: 81031202172\n",
      "Found code for Sales table in support sheet instead of delivery table store 610 upc: 81031202230\n",
      "Found code for Sales table in support sheet instead of delivery table store 610 upc: 81031202373\n",
      "Found code for Sales table in support sheet instead of delivery table store 620 upc: 81031202324\n",
      "Found code for Sales table in support sheet instead of delivery table store 620 upc: 81031202300\n",
      "Found code for Sales table in support sheet instead of delivery table store 634 upc: 81031202045\n",
      "Found code for Sales table in support sheet instead of delivery table store 641 upc: 81031202324\n",
      "Found code for Sales table in support sheet instead of delivery table store 655 upc: 81031202335\n",
      "Found code for Sales table in support sheet instead of delivery table store 665 upc: 81031202047\n",
      "Found code for Sales table in support sheet instead of delivery table store 667 upc: 81031202325\n",
      "Found code for Sales table in support sheet instead of delivery table store 667 upc: 81031202324\n",
      "Found code for Sales table in support sheet instead of delivery table store 687 upc: 81031202324\n",
      "Found code for Sales table in support sheet instead of delivery table store 713 upc: 81031202300\n",
      "Found code for Sales table in support sheet instead of delivery table store 727 upc: 81031202324\n",
      "Found code for Sales table in support sheet instead of delivery table store 865 upc: 81031202045\n",
      "Found code for Sales table in support sheet instead of delivery table store 897 upc: 81031202325\n",
      "\n",
      " kvat Sales Data Updated\n",
      "Updated: 0 Records\n",
      "Inserted: 379 Records\n",
      "\n",
      " kvat Delivery Data Updated\n",
      "Updated: 345 Records\n",
      "Inserted: 8 Records\n",
      "No Programs have been established for these stores listed:\n",
      "\n",
      " [206, 614, 626, 678, 694, 735, 735, 848, 2803]\n",
      "kvat_external_sales_report_Sep-26-2022.xlsx\n",
      "\n",
      "Sales Report Generated\n"
     ]
    }
   ],
   "source": [
    "# kvat \n",
    "from store_info import Replenishment\n",
    "\n",
    "kvat = Replenishment(store_type_input='kvat')\n",
    "\n",
    "\n",
    "kvat.sales_update(r'C:\\Users\\User1\\OneDrive\\WinWin Staff Folders\\Michael\\Replenishment program\\Replenishment\\support document\\sales\\kvat_sales.xlsx')\n",
    "kvat.delivery_update(file=r'C:\\Users\\User1\\OneDrive\\WinWin Staff Folders\\Michael\\Replenishment program\\Replenishment\\support document\\deliveries\\kvat.csv')\n",
    "kvat.sales_report()"
   ]
  },
  {
   "cell_type": "code",
   "execution_count": 20,
   "id": "6ab69390",
   "metadata": {},
   "outputs": [
    {
     "name": "stdout",
     "output_type": "stream",
     "text": [
      "Found code for Sales table in support sheet instead of delivery table store 1038 upc: 81031202155\n",
      "Found code for Sales table in support sheet instead of delivery table store 1267 upc: 81031202155\n",
      "Found code for Sales table in support sheet instead of delivery table store 1463 upc: 81031202217\n",
      "Found code for Sales table in support sheet instead of delivery table store 2342 upc: 81031202217\n",
      "Found code for Sales table in support sheet instead of delivery table store 2624 upc: 81031202217\n",
      "Found code for Sales table in support sheet instead of delivery table store 27 upc: 81031202372\n",
      "Found code for Sales table in support sheet instead of delivery table store 841 upc: 81031202217\n",
      "Found code for Sales table in support sheet instead of delivery table store 2824 upc: 81031202372\n",
      "Found code for Sales table in support sheet instead of delivery table store 2824 upc: 81031202373\n",
      "Found code for Sales table in support sheet instead of delivery table store 2824 upc: 81031202374\n",
      "Found code for Sales table in support sheet instead of delivery table store 60 upc: 81031202217\n",
      "Found code for Sales table in support sheet instead of delivery table store 65 upc: 81031202045\n",
      "Found code for Sales table in support sheet instead of delivery table store 66 upc: 81031202372\n",
      "Found code for Sales table in support sheet instead of delivery table store 67 upc: 81031202069\n",
      "Found code for Sales table in support sheet instead of delivery table store 467 upc: 81031202155\n",
      "Found code for Sales table in support sheet instead of delivery table store 549 upc: 81031202069\n",
      "Found code for Sales table in support sheet instead of delivery table store 549 upc: 81031202155\n",
      "Found code for Sales table in support sheet instead of delivery table store 549 upc: 81031202217\n",
      "Found code for Sales table in support sheet instead of delivery table store 583 upc: 81031202373\n",
      "Found code for Sales table in support sheet instead of delivery table store 1552 upc: 81031202155\n",
      "Found code for Sales table in support sheet instead of delivery table store 1552 upc: 81031202217\n",
      "Found code for Sales table in support sheet instead of delivery table store 557 upc: 81031202069\n",
      "Found code for Sales table in support sheet instead of delivery table store 920 upc: 81031202155\n",
      "Found code for Sales table in support sheet instead of delivery table store 1116 upc: 81031202155\n",
      "Found code for Sales table in support sheet instead of delivery table store 1615 upc: 81031202045\n",
      "Found code for Sales table in support sheet instead of delivery table store 1828 upc: 81031202155\n",
      "Found code for Sales table in support sheet instead of delivery table store 2341 upc: 81031202217\n",
      "Found code for Sales table in support sheet instead of delivery table store 2812 upc: 81031202217\n",
      "Found code for Sales table in support sheet instead of delivery table store 2915 upc: 81031202374\n",
      "Found code for Sales table in support sheet instead of delivery table store 2917 upc: 81031202217\n",
      "Found code for Sales table in support sheet instead of delivery table store 803 upc: 81031202045\n",
      "Found code for Sales table in support sheet instead of delivery table store 803 upc: 81031202373\n",
      "Found code for Sales table in support sheet instead of delivery table store 879 upc: 81031202372\n",
      "Found code for Sales table in support sheet instead of delivery table store 879 upc: 81031202373\n",
      "Found code for Sales table in support sheet instead of delivery table store 1286 upc: 81031202373\n",
      "Found code for Sales table in support sheet instead of delivery table store 1440 upc: 81031202069\n",
      "Found code for Sales table in support sheet instead of delivery table store 1440 upc: 81031202155\n",
      "Found code for Sales table in support sheet instead of delivery table store 1446 upc: 81031202069\n",
      "Found code for Sales table in support sheet instead of delivery table store 1577 upc: 81031202045\n",
      "Found code for Sales table in support sheet instead of delivery table store 1578 upc: 81031202372\n",
      "Found code for Sales table in support sheet instead of delivery table store 1578 upc: 81031202373\n",
      "Found code for Sales table in support sheet instead of delivery table store 1644 upc: 81031202045\n",
      "Found code for Sales table in support sheet instead of delivery table store 1877 upc: 81031202374\n",
      "Found code for Sales table in support sheet instead of delivery table store 617 upc: 81031202045\n",
      "Found code for Sales table in support sheet instead of delivery table store 617 upc: 81031202155\n",
      "Found code for Sales table in support sheet instead of delivery table store 617 upc: 81031202217\n",
      "Found code for Sales table in support sheet instead of delivery table store 1681 upc: 81031202217\n",
      "Found code for Sales table in support sheet instead of delivery table store 1721 upc: 81031202155\n",
      "Found code for Sales table in support sheet instead of delivery table store 1760 upc: 81031202155\n",
      "Found code for Sales table in support sheet instead of delivery table store 2810 upc: 81031202155\n",
      "Found code for Sales table in support sheet instead of delivery table store 3727 upc: 81031202155\n",
      "\n",
      " safeway_denver Sales Data Updated\n",
      "Updated: 0 Records\n",
      "Inserted: 190 Records\n",
      "\n",
      " safeway_denver Delivery Data Updated\n",
      "Updated: 90 Records\n",
      "Inserted: 0 Records\n",
      "No Programs have been established for these stores listed:\n",
      "\n",
      " [27, 64, 824, 1548, 2520, 2911]\n",
      "safeway_denver_external_sales_report_Sep-26-2022.xlsx\n",
      "\n",
      "Sales Report Generated\n"
     ]
    }
   ],
   "source": [
    "# safeway denver\n",
    "from store_info import Replenishment\n",
    "\n",
    "safeway_denver= Replenishment(store_type_input='safeway_denver')\n",
    "\n",
    "safeway_denver.sales_update(r'C:\\Users\\User1\\OneDrive\\WinWin Staff Folders\\Michael\\Replenishment program\\Replenishment\\support document\\sales\\denver_sales.xlsx')\n",
    "safeway_denver.delivery_update(file=r'C:\\Users\\User1\\OneDrive\\WinWin Staff Folders\\Michael\\Replenishment program\\Replenishment\\support document\\deliveries\\denver.csv')\n",
    "safeway_denver.sales_report()"
   ]
  },
  {
   "cell_type": "code",
   "execution_count": 17,
   "id": "c0c83341",
   "metadata": {},
   "outputs": [
    {
     "name": "stdout",
     "output_type": "stream",
     "text": [
      "Found code for Sales table in support sheet instead of delivery table store 454 upc: 81031202369\n",
      "Found code for Sales table in support sheet instead of delivery table store 454 upc: 81031202370\n",
      "Found code for Sales table in support sheet instead of delivery table store 335 upc: 81031202369\n",
      "Found code for Sales table in support sheet instead of delivery table store 335 upc: 81031202370\n",
      "\n",
      " kroger_cincinatti Sales Data Updated\n",
      "Updated: 134 Records\n",
      "Inserted: 169 Records\n",
      "\n",
      " kroger_cincinatti Delivery Data Updated\n",
      "Updated: 36 Records\n",
      "Inserted: 30 Records\n",
      "No Programs have been established for these stores listed:\n",
      "\n",
      " []\n",
      "kroger_cincinatti_external_sales_report_Sep-26-2022.xlsx\n",
      "\n",
      "Sales Report Generated\n"
     ]
    }
   ],
   "source": [
    "# cincinatti\n",
    "from store_info import Replenishment\n",
    "\n",
    "atlanta = Replenishment(store_type_input='kroger_cincinatti')\n",
    "\n",
    "atlanta.sales_update(r'C:\\Users\\User1\\OneDrive\\WinWin Staff Folders\\Michael\\Replenishment program\\Replenishment\\support document\\sales\\Sherlock Store Matrix.csv')\n",
    "atlanta.delivery_update(file=r'C:\\Users\\User1\\OneDrive\\WinWin Staff Folders\\Michael\\Replenishment program\\Replenishment\\support document\\deliveries\\cincinatti.csv')\n",
    "atlanta.sales_report()"
   ]
  },
  {
   "cell_type": "code",
   "execution_count": 18,
   "id": "60c9a54b",
   "metadata": {},
   "outputs": [
    {
     "name": "stdout",
     "output_type": "stream",
     "text": [
      "Found code for Sales table in support sheet instead of delivery table store 625 upc: 81031202273\n",
      "Found code for Sales table in support sheet instead of delivery table store 625 upc: 81031202272\n",
      "Found code for Sales table in support sheet instead of delivery table store 409 upc: 81031202272\n",
      "Found code for Sales table in support sheet instead of delivery table store 623 upc: 81031202069\n",
      "Found code for Sales table in support sheet instead of delivery table store 622 upc: 81031202069\n",
      "Found code for Sales table in support sheet instead of delivery table store 622 upc: 81031202059\n",
      "Found code for Sales table in support sheet instead of delivery table store 625 upc: 81031202059\n",
      "\n",
      " kroger_delta Sales Data Updated\n",
      "Updated: 17 Records\n",
      "Inserted: 12 Records\n"
     ]
    }
   ],
   "source": [
    "\n",
    "atlanta = Replenishment(store_type_input='kroger_delta')\n",
    "\n",
    "atlanta.sales_update(r'C:\\Users\\User1\\OneDrive\\WinWin Staff Folders\\Michael\\Replenishment program\\Replenishment\\support document\\sales\\Sherlock Store Matrix.csv')\n",
    "# atlanta.delivery_update(file=r'C:\\Users\\User1\\OneDrive\\WinWin Staff Folders\\Michael\\Replenishment program\\Replenishment\\support document\\deliveries\\delta.csv')\n",
    "# atlanta.sales_report()"
   ]
  },
  {
   "cell_type": "code",
   "execution_count": 6,
   "id": "a930968f",
   "metadata": {},
   "outputs": [
    {
     "name": "stdout",
     "output_type": "stream",
     "text": [
      "No Programs have been established for these stores listed:\n",
      "\n",
      " []\n",
      "Kroger Corporate Report Generated\n"
     ]
    }
   ],
   "source": [
    "# Be sure to update all sales tables for all stores in the Kroger Division. \n",
    "# Kroger Corporate Report\n",
    "\n",
    "kroger_corporate = Replenishment(store_type_input='kroger_dallas')\n",
    "\n",
    "kroger_corporate.kroger_corporate_report()\n",
    "\n"
   ]
  },
  {
   "cell_type": "code",
   "execution_count": null,
   "id": "05cfb0a3",
   "metadata": {},
   "outputs": [],
   "source": []
  }
 ],
 "metadata": {
  "interpreter": {
   "hash": "eb4e0a0fd1d19bb9a06c4c3c2c2cf016517ec825f23f225e84b2f7e81a104fe7"
  },
  "kernelspec": {
   "display_name": "Python 3 (ipykernel)",
   "language": "python",
   "name": "python3"
  },
  "language_info": {
   "codemirror_mode": {
    "name": "ipython",
    "version": 3
   },
   "file_extension": ".py",
   "mimetype": "text/x-python",
   "name": "python",
   "nbconvert_exporter": "python",
   "pygments_lexer": "ipython3",
   "version": "3.9.7"
  }
 },
 "nbformat": 4,
 "nbformat_minor": 5
}
