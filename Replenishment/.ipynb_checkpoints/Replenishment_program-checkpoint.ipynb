{
 "cells": [
  {
   "cell_type": "code",
   "execution_count": 1,
   "id": "e6208782",
   "metadata": {},
   "outputs": [
    {
     "name": "stdout",
     "output_type": "stream",
     "text": [
      "\n",
      "Enter the Current Year\n",
      "\n",
      "Enter the Current Week\n"
     ]
    }
   ],
   "source": [
    "from store_info import Replenishment\n",
    "# from Sales_Report.Reports.reports import *\n",
    "\n",
    "print('\\nEnter the Current Year')\n",
    "# year = int(input())\n",
    "\n",
    "print('\\nEnter the Current Week')\n",
    "# week = int(input())\n",
    "\n",
    "year = 2022\n",
    "week = 25\n"
   ]
  },
  {
   "cell_type": "code",
   "execution_count": 7,
   "id": "4f2ccd4f",
   "metadata": {},
   "outputs": [
    {
     "name": "stdout",
     "output_type": "stream",
     "text": [
      "\n",
      "Inventory list imported\n"
     ]
    }
   ],
   "source": [
    "# kvat \n",
    "\n",
    "kvat = Replenishment(store_type_input='kvat', \n",
    "                               current_year = year , \n",
    "                               current_week= week)\n",
    "# kvat.store_import()\n",
    "# kvat.master_planogram_import()\n",
    "# kvat.store_program_import()\n",
    "# kvat.store_approval_import('texas_division_approval.csv')\n",
    "# kvat.support_import('support_sheet')\n",
    "# kvat.delivery_import('texas_division_deliverydata_fixed.xlsx')\n",
    "# kvat.sales_import('texas_division_salesdata_fixed.xlsx')\n",
    "kvat.inventory_import('inventory.csv')\n",
    "# kvat.sales_update(file='Sherlock Store Matrix.csv')\n",
    "# kvat.delivery_update(file='kvat.csv')\n",
    "# kvat.sales_report()"
   ]
  },
  {
   "cell_type": "code",
   "execution_count": 16,
   "id": "047c9933",
   "metadata": {},
   "outputs": [
    {
     "name": "stdout",
     "output_type": "stream",
     "text": [
      "kroger_dillons_dummy_sales.xlsx\n"
     ]
    }
   ],
   "source": [
    "store_type_input = 'kroger_dillons'\n",
    "store_setting= pd.read_excel(rf'C:\\Users\\User1\\OneDrive\\WinWin Staff Folders\\Michael\\Groccery Store Program\\{store_type_input}\\{store_type_input}_store_setting.xlsm',\n",
    "                                            sheet_name='Sheet2',\n",
    "                                            header=None,\n",
    "                                            index_col=0,\n",
    "                                            names=('setting', 'values'))\n",
    "\n",
    "atlanta = Reports(store_type_input, store_setting)\n",
    "atlanta.external_report(f'{store_type_input}_dummy_sales.xlsx')"
   ]
  },
  {
   "cell_type": "code",
   "execution_count": 10,
   "id": "e334c275",
   "metadata": {},
   "outputs": [
    {
     "name": "stdout",
     "output_type": "stream",
     "text": [
      "texas_division\n",
      "('pass', 'pass')\n"
     ]
    }
   ],
   "source": [
    "# STEP 1 start of program and data check\n",
    "\n",
    "\n",
    "\n",
    "store_type_input = input()\n",
    "\n",
    "connection_pool = pool.SimpleConnectionPool(1, 10000, \n",
    "                                            database= f\"{store_type_input}\", \n",
    "                                            user=\"postgres\", \n",
    "                                            password=\"winwin\", \n",
    "                                            host=\"localhost\")\n",
    "\n",
    "\n",
    "\n",
    "\n",
    "\n",
    "# reads in new delivery data and puts it into a df\n",
    "new_deliv = pd.read_excel(rf'C:\\Users\\User1\\OneDrive\\WinWin Staff Folders\\Michael\\Groccery Store Program\\{store_type_input}\\{store_type_input}_deliverydata.xlsx')\n",
    "\n",
    "# reads in new sales data and puts it into a df\n",
    "new_sales = pd.read_excel(rf'C:\\Users\\User1\\OneDrive\\WinWin Staff Folders\\Michael\\Groccery Store Program\\{store_type_input}\\{store_type_input}_salesdata.xlsx')\n",
    "\n",
    "# reads in support data and puts it into a df\n",
    "itemsupport = pd.read_excel(\"support.xlsx\")\n",
    "\n",
    "# reads in store capactiy data and puts it into a df\n",
    "case_capacity = pd.read_excel(rf'C:\\Users\\User1\\OneDrive\\WinWin Staff Folders\\Michael\\Groccery Store Program\\{store_type_input}\\{store_type_input}_casecapacity.xlsx')\n",
    "\n",
    "\n",
    "# def dataimport_check():\n",
    "\n",
    "#     i=0\n",
    "#     sales_check_count = len(new_sales)\n",
    "#     while i < sales_check_count:\n",
    "\n",
    "#         sales_check = new_sales.iloc[i,9]\n",
    "#         if store_type_input == sales_check:\n",
    "#             i+=1\n",
    "#             sales_result = \"pass\" \n",
    "\n",
    "#         else:\n",
    "            \n",
    "#             print(\"sales check fail\")\n",
    "#             sales_result = \"fail\"\n",
    "#             break\n",
    "\n",
    "#     if sales_result == 'pass':\n",
    "        \n",
    "#         i=0\n",
    "#         deliv_check_count = len(new_deliv)\n",
    "#         while i < deliv_check_count:\n",
    "\n",
    "#             deliv_check = new_deliv.iloc[i,6]\n",
    "#             if store_type_input == deliv_check:\n",
    "#                 i+=1\n",
    "#                 deliv_result = \"pass\" \n",
    "\n",
    "#             else:\n",
    "                \n",
    "#                 print(\"deliv check fail\")\n",
    "#                 deliv_result = \"fail\"\n",
    "#                 break\n",
    "#     return sales_result, deliv_result\n",
    "        \n",
    "# check = dataimport_check()\n",
    "# print(check)"
   ]
  },
  {
   "cell_type": "code",
   "execution_count": 12,
   "id": "20733ea8",
   "metadata": {},
   "outputs": [],
   "source": [
    "#STEP 1.5 DELETE ALL PRE-EXISTING DATA\n",
    "connection = connection_pool.getconn()\n",
    "cursor = connection.cursor()\n",
    "cursor.execute('DELETE FROM SALES;')\n",
    "\n",
    "connection.commit()\n",
    "cursor.close()\n",
    "connection_pool.putconn(connection)"
   ]
  },
  {
   "cell_type": "code",
   "execution_count": null,
   "id": "33c189c2",
   "metadata": {},
   "outputs": [],
   "source": [
    "# this code is to delete create or whatever you want to do with tablesw and views for all store databasesS\n",
    "\n",
    "sql_code = \"\"\"\n",
    "select * from sales\n",
    "\n",
    "\n",
    "\"\"\"\n",
    "\n",
    "sql_setup(sql_code)"
   ]
  },
  {
   "cell_type": "code",
   "execution_count": 5,
   "id": "1e308657",
   "metadata": {},
   "outputs": [],
   "source": [
    "import datetime\n",
    "import re\n",
    "import pandas as pd\n",
    "import datetime as dt\n",
    "import psycopg2\n",
    "\n",
    "import pandas.io.sql as psql\n",
    "\n",
    "import numpy as np\n",
    "from psycopg2.extensions import register_adapter, AsIs\n",
    "psycopg2.extensions.register_adapter(np.int64, psycopg2._psycopg.AsIs)\n",
    "\n",
    "#downloads the sales & delivery data for all stores\n",
    "store_list = [  \n",
    "                'acme',\n",
    "#                 'brookshire',\n",
    "                'fresh_encounter', \n",
    "                'intermountain', \n",
    "                'jewel',\n",
    "                'kroger_central', \n",
    "                'kroger_columbus',\n",
    "                'kroger_dallas', \n",
    "#                 'kroger_delta', \n",
    "                'kroger_michigan',\n",
    "                'kvat', \n",
    "                'safeway_denver', \n",
    "                'texas_division']\n",
    "\n",
    "i= 0\n",
    "num_of_store = len(store_list)\n",
    "\n",
    "date = datetime.date.today()\n",
    "date = date.strftime(\"%b-%d-%Y\")\n",
    "\n",
    "\n",
    "\n",
    "while i < num_of_store:\n",
    "\n",
    "    store = store_list[i]\n",
    "    connection = psycopg2.connect(database=f\"{store}\", user=\"postgres\", password=\"winwin\", host=\"localhost\")\n",
    "\n",
    "    num = psql.read_sql(f\"select * from delivery2\", connection)\n",
    "\n",
    "    num.to_excel(f'{store}_deliverydata_backup_{date}.xlsx', index = False)\n",
    "    i+=1\n",
    "\n",
    "i= 0\n",
    "num_of_store = len(store_list)\n",
    "\n",
    "while i < num_of_store:\n",
    "\n",
    "    store = store_list[i]\n",
    "    connection = psycopg2.connect(database=f\"{store}\", user=\"postgres\", password=\"winwin\", host=\"localhost\")\n",
    "\n",
    "    num = psql.read_sql(f\"select * from sales2\", connection)\n",
    "\n",
    "    \n",
    "    num.to_excel(f'{store}_salesdata_backup_{date}.xlsx', index = False)\n",
    "    i+=1\n",
    "    \n",
    "    \n",
    "    \n",
    "    \n",
    "\n"
   ]
  },
  {
   "cell_type": "code",
   "execution_count": 2,
   "id": "2f224c69",
   "metadata": {},
   "outputs": [],
   "source": []
  },
  {
   "cell_type": "code",
   "execution_count": 2,
   "id": "81f23ed6",
   "metadata": {},
   "outputs": [
    {
     "name": "stdout",
     "output_type": "stream",
     "text": [
      "Updated: 0\n",
      "Inserted: 47\n",
      " Store Table Updated\n"
     ]
    }
   ],
   "source": [
    "# Mid-Atlantic\n",
    "from store_info import Replenishment\n",
    "\n",
    "acme = Replenishment(store_type_input='acme',\n",
    "                     current_year = year , \n",
    "                     current_week= week)\n",
    "\n",
    "# acme.sales_import('acme_salesdata_fixed.xlsx')\n",
    "# acme.delivery_update(file='acme.csv')\n",
    "# acme.sales_report()\n",
    "acme.size_table_update('size_table')"
   ]
  },
  {
   "cell_type": "code",
   "execution_count": 9,
   "id": "a9f69153",
   "metadata": {},
   "outputs": [
    {
     "name": "stdout",
     "output_type": "stream",
     "text": [
      "\n",
      "Delivery Data Updated\n",
      "Updated: 12 Records\n",
      "Inserted: 0 Records\n",
      "No Programs have been established for these stores listed:\n",
      "\n",
      " [1057, 1776, 1786, 1972, 2481, 2544, 2673, 3054, 3312, 3522, 4062]\n",
      "No Programs have been established for these stores listed:\n",
      "\n",
      " [1057, 1776, 1786, 1972, 2481, 2544, 2673, 3054, 3312, 3522, 4062]\n",
      "texas_division_external_sales_report_Jun-17-2022.xlsx\n",
      "texas_division_internal_sales_report_Jun-17-2022.xlsx\n",
      "\n",
      "Sales Report Generated\n"
     ]
    }
   ],
   "source": [
    "# Texas Division\n",
    "from store_info import Replenishment\n",
    "\n",
    "texas_division = Replenishment(store_type_input='texas_division',\n",
    "                               current_year = year , \n",
    "                               current_week= week)\n",
    "\n",
    "# texas_division.sales_update(file='')\n",
    "# texas_division.sales_import('texas_division_salesdata')\n",
    "texas_division.delivery_update(file='texas.csv')\n",
    "texas_division.sales_report()\n",
    "\n",
    "        "
   ]
  },
  {
   "cell_type": "code",
   "execution_count": null,
   "id": "3347f407",
   "metadata": {},
   "outputs": [],
   "source": [
    "# brookshire\n",
    "from store_info import Replenishment\n",
    "\n",
    "brookshire = Replenishment(store_type_input='brookshire',\n",
    "                               transition_date_range='2022SS', \n",
    "                               current_year = year , \n",
    "                               current_week= week)\n",
    "brookshire.sales_update(file='')\n",
    "brookshire.delivery_update(file='brookshire')\n",
    "brookshire.sales_report()\n"
   ]
  },
  {
   "cell_type": "code",
   "execution_count": 6,
   "id": "ef4bf278",
   "metadata": {},
   "outputs": [
    {
     "name": "stdout",
     "output_type": "stream",
     "text": [
      "\n",
      "Sales Data Imported\n",
      "\n",
      "Delivery Data Updated\n",
      "Updated: 77 Records\n",
      "Inserted: 20 Records\n",
      "No Programs have been established for these stores listed:\n",
      "\n",
      " [431, 438, 458, 468, 930, 930, 930]\n",
      "No Programs have been established for these stores listed:\n",
      "\n",
      " [431, 438, 458, 468, 930, 930, 930]\n",
      "look into store 116 something is off that needs to be fixed\n",
      "look into store 116 something is off that needs to be fixed\n",
      "look into store 116 something is off that needs to be fixed\n",
      "fresh_encounter_external_sales_report_Jun-27-2022.xlsx\n",
      "fresh_encounter_internal_sales_report_Jun-27-2022.xlsx\n",
      "\n",
      "Sales Report Generated\n"
     ]
    }
   ],
   "source": [
    "# fresh Encounter\n",
    "from store_info import Replenishment\n",
    "\n",
    "fresh_encounter = Replenishment(store_type_input='fresh_encounter',\n",
    "                               current_year = year , \n",
    "                               current_week= 1)\n",
    "\n",
    "fresh_encounter.sales_import(file='fresh_encounter_salesdata_fixed.xlsx')\n",
    "fresh_encounter.delivery_update(file='fresh_encounter.csv')\n",
    "fresh_encounter.sales_report()"
   ]
  },
  {
   "cell_type": "code",
   "execution_count": 3,
   "id": "930a2b87",
   "metadata": {},
   "outputs": [
    {
     "name": "stdout",
     "output_type": "stream",
     "text": [
      "No Programs have been established for these stores listed:\n",
      "\n",
      " [15, 3004]\n",
      "No Programs have been established for these stores listed:\n",
      "\n",
      " [15, 3004]\n",
      "intermountain_external_sales_report_Jun-24-2022.xlsx\n",
      "intermountain_internal_sales_report_Jun-24-2022.xlsx\n",
      "\n",
      "Sales Report Generated\n"
     ]
    }
   ],
   "source": [
    "# Intermountain \n",
    "from store_info import Replenishment\n",
    "\n",
    "intermountain = Replenishment(store_type_input='intermountain',\n",
    "                               current_year = year , \n",
    "                               current_week= week)\n",
    "\n",
    "# intermountain.sales_update(file='')\n",
    "# intermountain.sales_import('intermountain_salesdata_fixed.xlsx')\n",
    "# intermountain.delivery_update(file='intermountain.csv')\n",
    "intermountain.sales_report()"
   ]
  },
  {
   "cell_type": "code",
   "execution_count": 7,
   "id": "1b14fb31",
   "metadata": {},
   "outputs": [
    {
     "name": "stdout",
     "output_type": "stream",
     "text": [
      "\n",
      "Delivery Data Updated\n",
      "Updated: 0 Records\n",
      "Inserted: 2845 Records\n",
      "No Programs have been established for these stores listed:\n",
      "\n",
      " [157, 1282, 3053, 3220, 3349, 3421, 3425, 3429, 3443, 3443, 3443, 3446, 3455, 3461, 3473, 3477, 3481, 3491, 3514, 3720, 3721, 3775, 3775, 3775, 4060]\n",
      "No Programs have been established for these stores listed:\n",
      "\n",
      " [157, 1282, 3053, 3220, 3349, 3421, 3425, 3429, 3443, 3443, 3443, 3446, 3455, 3461, 3473, 3477, 3481, 3491, 3514, 3720, 3721, 3775, 3775, 3775, 4060]\n",
      "jewel_external_sales_report_Jun-22-2022.xlsx\n",
      "jewel_internal_sales_report_Jun-22-2022.xlsx\n",
      "\n",
      "Sales Report Generated\n"
     ]
    }
   ],
   "source": [
    "# jewel\n",
    "from store_info import Replenishment\n",
    "\n",
    "jewel = Replenishment(store_type_input='jewel',\n",
    "                               current_year = year , \n",
    "                               current_week= week)\n",
    "\n",
    "# jewel.sales_update(file='2022 Winwin Sales Data')\n",
    "# jewel.sales_import('jewel_salesdata_fixed.xlsx')\n",
    "# jewel.delivery_import(file='jewel_reset.xlsx')\n",
    "jewel.delivery_update(file='jewel_check.csv')\n",
    "jewel.sales_report()"
   ]
  },
  {
   "cell_type": "code",
   "execution_count": null,
   "id": "2628b1d3",
   "metadata": {},
   "outputs": [],
   "source": [
    "# atlanta\n",
    "from store_info import Replenishment\n",
    "\n",
    "atlanta = Replenishment(store_type_input='kroger_atlanta',\n",
    "                               transition_date_range='2022SS', \n",
    "                               current_year = year , \n",
    "                               current_week= week)\n",
    "\n",
    "atlanta.sales_update(file='')\n",
    "atlanta.delivery_update(file='')\n",
    "atlanta.sales_report()"
   ]
  },
  {
   "cell_type": "code",
   "execution_count": 2,
   "id": "68debb9c",
   "metadata": {},
   "outputs": [
    {
     "name": "stderr",
     "output_type": "stream",
     "text": [
      "C:\\Users\\User1\\anaconda3\\lib\\site-packages\\pandas\\core\\frame.py:3641: SettingWithCopyWarning: \n",
      "A value is trying to be set on a copy of a slice from a DataFrame.\n",
      "Try using .loc[row_indexer,col_indexer] = value instead\n",
      "\n",
      "See the caveats in the documentation: https://pandas.pydata.org/pandas-docs/stable/user_guide/indexing.html#returning-a-view-versus-a-copy\n",
      "  self[k1] = value[k2]\n",
      "C:\\Users\\User1\\OneDrive\\WinWin Staff Folders\\Michael\\Replenishment program\\Replenishment\\Update\\Transform_Sales_Data\\transform.py:49: FutureWarning: The default value of regex will change from True to False in a future version.\n",
      "  new['RPT_SHORT_DESC'] = new.RPT_SHORT_DESC.str.replace('[^a-zA-Z]', '')\n"
     ]
    },
    {
     "name": "stdout",
     "output_type": "stream",
     "text": [
      "\n",
      "Sales Data Updated\n",
      "Updated: 96 Records\n",
      "Inserted: 85 Records\n",
      "\n",
      "Delivery Data Updated\n",
      "Updated: 23 Records\n",
      "Inserted: 0 Records\n",
      "No Programs have been established for these stores listed:\n",
      "\n",
      " [1, 889]\n",
      "No Programs have been established for these stores listed:\n",
      "\n",
      " [1, 889]\n",
      "kroger_central_external_sales_report_Jun-27-2022.xlsx\n",
      "kroger_central_internal_sales_report_Jun-27-2022.xlsx\n",
      "\n",
      "Sales Report Generated\n"
     ]
    }
   ],
   "source": [
    "# central\n",
    "from store_info import Replenishment\n",
    "\n",
    "central = Replenishment(store_type_input='kroger_central',\n",
    "                               current_year = year , \n",
    "                               current_week= week)\n",
    "\n",
    "central.sales_update(file='Sherlock Store Matrix.csv')\n",
    "central.delivery_update(file='central.csv')\n",
    "central.sales_report()"
   ]
  },
  {
   "cell_type": "code",
   "execution_count": 3,
   "id": "b125d768",
   "metadata": {},
   "outputs": [
    {
     "name": "stdout",
     "output_type": "stream",
     "text": [
      "\n",
      "Sales Data Updated\n",
      "Updated: 169 Records\n",
      "Inserted: 205 Records\n",
      "\n",
      "Delivery Data Updated\n",
      "Updated: 56 Records\n",
      "Inserted: 15 Records\n",
      "No Programs have been established for these stores listed:\n",
      "\n",
      " []\n",
      "No Programs have been established for these stores listed:\n",
      "\n",
      " []\n",
      "kroger_columbus_external_sales_report_Jun-27-2022.xlsx\n",
      "kroger_columbus_internal_sales_report_Jun-27-2022.xlsx\n",
      "\n",
      "Sales Report Generated\n"
     ]
    }
   ],
   "source": [
    "# columubus\n",
    "from store_info import Replenishment\n",
    "\n",
    "columbus = Replenishment(store_type_input='kroger_columbus',\n",
    "                               current_year = year , \n",
    "                               current_week= week)\n",
    "\n",
    "columbus.sales_update(file='Sherlock Store Matrix.csv')\n",
    "columbus.delivery_update(file='columbus.csv')\n",
    "columbus.sales_report()"
   ]
  },
  {
   "cell_type": "code",
   "execution_count": 4,
   "id": "4bd39071",
   "metadata": {},
   "outputs": [
    {
     "name": "stdout",
     "output_type": "stream",
     "text": [
      "\n",
      "Sales Data Updated\n",
      "Updated: 43 Records\n",
      "Inserted: 60 Records\n",
      "\n",
      "Delivery Data Updated\n",
      "Updated: 7 Records\n",
      "Inserted: 0 Records\n",
      "No Programs have been established for these stores listed:\n",
      "\n",
      " []\n",
      "No Programs have been established for these stores listed:\n",
      "\n",
      " []\n",
      "kroger_dallas_external_sales_report_Jun-27-2022.xlsx\n",
      "kroger_dallas_internal_sales_report_Jun-27-2022.xlsx\n",
      "\n",
      "Sales Report Generated\n"
     ]
    }
   ],
   "source": [
    "# dallas\n",
    "from store_info import Replenishment\n",
    "\n",
    "dallas = Replenishment(store_type_input='kroger_dallas',\n",
    "                               current_year = year , \n",
    "                               current_week= week)\n",
    "\n",
    "dallas.sales_update(file='Sherlock Store Matrix.csv')\n",
    "dallas.delivery_update(file='dallas.csv')\n",
    "dallas.sales_report()"
   ]
  },
  {
   "cell_type": "code",
   "execution_count": null,
   "id": "93579b28",
   "metadata": {},
   "outputs": [],
   "source": [
    "# delta\n",
    "from store_info import Replenishment\n",
    "\n",
    "delta = Replenishment(store_type_input='',\n",
    "                               transition_date_range='2022SS', \n",
    "                               current_year = year , \n",
    "                               current_week= week)\n",
    "\n",
    "delta.sales_update(file='')\n",
    "delta.delivery_update(file='')\n",
    "delta.sales_report()"
   ]
  },
  {
   "cell_type": "code",
   "execution_count": null,
   "id": "4b6df5d5",
   "metadata": {},
   "outputs": [],
   "source": [
    "# dillons\n",
    "from store_info import Replenishment\n",
    "\n",
    "dillons = Replenishment(store_type_input='',\n",
    "                               transition_date_range='2022SS', \n",
    "                               current_year = year , \n",
    "                               current_week= week)\n",
    "dillons.sales_update(file='')\n",
    "dillons.delivery_update(file='')\n",
    "dillons.sales_report()"
   ]
  },
  {
   "cell_type": "code",
   "execution_count": null,
   "id": "881ba544",
   "metadata": {},
   "outputs": [],
   "source": [
    "# king sooper\n",
    "from store_info import Replenishment\n",
    "\n",
    " king_sooper= Replenishment(store_type_input='',\n",
    "                               transition_date_range='2022SS', \n",
    "                               current_year = year , \n",
    "                               current_week= week)\n",
    "    \n",
    "king_sooper.sales_update(file='')\n",
    "king_sooper.delivery_update(file='')\n",
    "king_sooper.sales_report()"
   ]
  },
  {
   "cell_type": "code",
   "execution_count": null,
   "id": "1efb8bb5",
   "metadata": {},
   "outputs": [],
   "source": [
    "# louisville\n",
    "from store_info import Replenishment\n",
    "\n",
    "louisville = Replenishment(store_type_input='',\n",
    "                               current_year = year , \n",
    "                               current_week= week)\n",
    "\n",
    "louisville.sales_update(file='')\n",
    "louisville.delivery_update(file='')\n",
    "louisville.sales_report()"
   ]
  },
  {
   "cell_type": "code",
   "execution_count": 5,
   "id": "05d85060",
   "metadata": {},
   "outputs": [
    {
     "name": "stdout",
     "output_type": "stream",
     "text": [
      "\n",
      "Sales Data Updated\n",
      "Updated: 25 Records\n",
      "Inserted: 36 Records\n",
      "\n",
      "Delivery Data Updated\n",
      "Updated: 6 Records\n",
      "Inserted: 13 Records\n",
      "No Programs have been established for these stores listed:\n",
      "\n",
      " [115]\n",
      "No Programs have been established for these stores listed:\n",
      "\n",
      " [115]\n",
      "look into store 749 something is off that needs to be fixed\n",
      "look into store 749 something is off that needs to be fixed\n",
      "look into store 749 something is off that needs to be fixed\n",
      "kroger_michigan_external_sales_report_Jun-27-2022.xlsx\n",
      "kroger_michigan_internal_sales_report_Jun-27-2022.xlsx\n",
      "\n",
      "Sales Report Generated\n"
     ]
    }
   ],
   "source": [
    "# michigan\n",
    "from store_info import Replenishment\n",
    "\n",
    "michigan = Replenishment(store_type_input='kroger_michigan',\n",
    "                               current_year = year , \n",
    "                               current_week= week)\n",
    "\n",
    "michigan.sales_update(file='Sherlock Store Matrix.csv')\n",
    "michigan.delivery_update(file='michigan.csv')\n",
    "michigan.sales_report()"
   ]
  },
  {
   "cell_type": "code",
   "execution_count": null,
   "id": "04a8d7cc",
   "metadata": {},
   "outputs": [],
   "source": [
    "# nashville\n",
    "from store_info import Replenishment\n",
    "\n",
    "nashville = Replenishment(store_type_input='',\n",
    "                               current_year = year , \n",
    "                               current_week= week)\n",
    "\n",
    "nashville.sales_update(file='')\n",
    "nashville.delivery_update(file='')\n",
    "nashville.sales_report()"
   ]
  },
  {
   "cell_type": "code",
   "execution_count": 4,
   "id": "9d2cb4fe",
   "metadata": {},
   "outputs": [
    {
     "name": "stdout",
     "output_type": "stream",
     "text": [
      "Updated: 356\n",
      "Inserted: 0\n",
      "\n",
      "Support Sheet Imported\n",
      "Updated: 0\n",
      "Inserted: 47\n",
      " Store Table Updated\n"
     ]
    }
   ],
   "source": [
    "# kvat \n",
    "from store_info import Replenishment\n",
    "\n",
    "kvat = Replenishment(store_type_input='kvat',\n",
    "                               current_year = year , \n",
    "                               current_week= week)\n",
    "kvat.support_import('support_sheet')\n",
    "kvat.size_table_update('size_table')\n",
    "\n",
    "# kvat.sales_update(file='kvat_sales.xlsx')\n",
    "# kvat.delivery_update(file='kvat.csv')\n",
    "# kvat.sales_report()"
   ]
  },
  {
   "cell_type": "code",
   "execution_count": 7,
   "id": "6ab69390",
   "metadata": {},
   "outputs": [
    {
     "name": "stdout",
     "output_type": "stream",
     "text": [
      "\n",
      "Sales Data Updated\n",
      "Updated: 0 Records\n",
      "Inserted: 188 Records\n",
      "\n",
      "Delivery Data Updated\n",
      "Updated: 6 Records\n",
      "Inserted: 0 Records\n",
      "No Programs have been established for these stores listed:\n",
      "\n",
      " [27, 64, 824, 1548, 2520, 2911]\n",
      "No Programs have been established for these stores listed:\n",
      "\n",
      " [27, 64, 824, 1548, 2520, 2911]\n",
      "look into store 2915 something is off that needs to be fixed\n",
      "look into store 2915 something is off that needs to be fixed\n",
      "look into store 2915 something is off that needs to be fixed\n",
      "safeway_denver_external_sales_report_Jun-27-2022.xlsx\n",
      "safeway_denver_internal_sales_report_Jun-27-2022.xlsx\n",
      "\n",
      "Sales Report Generated\n"
     ]
    }
   ],
   "source": [
    "# safeway denver\n",
    "from store_info import Replenishment\n",
    "\n",
    "safeway_denver= Replenishment(store_type_input='safeway_denver',\n",
    "                               current_year = year , \n",
    "                               current_week= week)\n",
    "\n",
    "safeway_denver.sales_update(file='denver_sales.xlsx')\n",
    "safeway_denver.delivery_update(file='denver.csv')\n",
    "safeway_denver.sales_report()"
   ]
  },
  {
   "cell_type": "code",
   "execution_count": null,
   "id": "c0c83341",
   "metadata": {},
   "outputs": [],
   "source": []
  }
 ],
 "metadata": {
  "interpreter": {
   "hash": "eb4e0a0fd1d19bb9a06c4c3c2c2cf016517ec825f23f225e84b2f7e81a104fe7"
  },
  "kernelspec": {
   "display_name": "Python 3 (ipykernel)",
   "language": "python",
   "name": "python3"
  },
  "language_info": {
   "codemirror_mode": {
    "name": "ipython",
    "version": 3
   },
   "file_extension": ".py",
   "mimetype": "text/x-python",
   "name": "python",
   "nbconvert_exporter": "python",
   "pygments_lexer": "ipython3",
   "version": "3.9.7"
  }
 },
 "nbformat": 4,
 "nbformat_minor": 5
}
