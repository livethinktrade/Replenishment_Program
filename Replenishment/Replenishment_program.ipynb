{
 "cells": [
  {
   "cell_type": "code",
   "execution_count": 1,
   "id": "e6208782",
   "metadata": {},
   "outputs": [
    {
     "name": "stdout",
     "output_type": "stream",
     "text": [
      "\n",
      "Support Sheet Imported\n",
      "Updated: 379\n",
      "Inserted: 0\n",
      "\n",
      "Inventory list imported\n",
      "Updated: 477 Records\n",
      "Inserted: 0 Records\n"
     ]
    }
   ],
   "source": [
    "from store_info import Replenishment\n",
    "import os\n",
    "# from Sales_Report.Reports.reports import *\n",
    "store = Replenishment(store_type_input='midwest')\n",
    "sales_data_file_path = os.getcwd() + r'\\support document\\sales'\n",
    "delivery_data_file_path = os.getcwd() + r'\\support document\\deliveries'\n",
    "\n",
    "store.support_import(r'C:\\Users\\User1\\OneDrive - winwinproducts.com\\Grocery\\Replenishment\\support_sheet.xlsx')\n",
    "store.inventory_import(r'C:\\Users\\User1\\OneDrive\\WinWin Staff Folders\\Michael\\Replenishment program\\Replenishment\\support document\\inventory\\inventory.csv')\n"
   ]
  },
  {
   "cell_type": "code",
   "execution_count": null,
   "id": "2454ecdf",
   "metadata": {},
   "outputs": [],
   "source": []
  },
  {
   "cell_type": "code",
   "execution_count": 8,
   "id": "4f2ccd4f",
   "metadata": {},
   "outputs": [
    {
     "name": "stdout",
     "output_type": "stream",
     "text": [
      "\n",
      "Master Planogram list imported\n",
      "Updated: 34 Records\n",
      "Inserted: 0 Records\n",
      "\n",
      "Store Program Data Imported\n",
      "Updated: 151 Records\n",
      "Inserted: 0 Records\n",
      "Program History Insert: 0 Records\n",
      "\n",
      " Store Data Imported\n",
      "Updated: 88 Records\n",
      "Inserted: 0 Records\n"
     ]
    }
   ],
   "source": [
    "store = Replenishment(store_type_input='intermountain')\n",
    "\n",
    "\n",
    "# store.store_import()\n",
    "\n",
    "# updates the master planogram\n",
    "store.master_planogram_import()\n",
    "\n",
    "# updates the planogram for each store based on the values set in the store setting.\n",
    "store.store_pog_import()\n",
    "\n",
    "# update notes\n",
    "store.store_notes_import()\n",
    "\n",
    "# store.store_approval_import('delta_approval.csv')\n",
    "# store.size_table_update('size_table')"
   ]
  },
  {
   "cell_type": "code",
   "execution_count": 2,
   "id": "81f23ed6",
   "metadata": {},
   "outputs": [
    {
     "name": "stdout",
     "output_type": "stream",
     "text": [
      "Please input the name of the sales file for the \"Current Sales Week\"\n",
      "10-27-22 acme.xlsx\n",
      "Please input the name of the sales file for the \"Previous Sales Week\"\n",
      "10-19-22 acme.xlsx\n"
     ]
    },
    {
     "name": "stderr",
     "output_type": "stream",
     "text": [
      "C:\\Users\\User1\\OneDrive\\WinWin Staff Folders\\Michael\\Replenishment program\\Replenishment\\Update\\Transform_Sales_Data\\transform.py:1106: UserWarning: \n",
      "    \n",
      "                The 2 files from the sales data is showing that it is 2 weeks\n",
      "                apart.\n",
      "    \n",
      "                Ideally the sales data imported should be from week to week. However if more than a weeks of sales data\n",
      "                was missed being sent, it is still ok to import the sales data.\n",
      "    \n",
      "                If this is the case, enter 'VERIFIED' if not enter 'CANCEL'\n",
      "  warnings.warn(f\"\"\"\n"
     ]
    },
    {
     "name": "stdout",
     "output_type": "stream",
     "text": [
      "\n",
      "\n",
      "\n",
      "READ STATEMENT ABOVE:\tverified\n",
      "Found code for Sales table in support sheet instead of delivery table store 3798 upc: 81031202046\n",
      "Found code for Sales table in support sheet instead of delivery table store 3841 upc: 81031202171\n",
      "\n",
      " acme Sales Data Updated\n",
      "Updated: 0 Records\n",
      "Inserted: 221 Records\n",
      "\n",
      " acme Delivery Data Updated\n",
      "Updated: 82 Records\n",
      "Inserted: 8 Records\n",
      "No Programs have been established for these stores listed:\n",
      "\n",
      " [996]\n"
     ]
    },
    {
     "name": "stderr",
     "output_type": "stream",
     "text": [
      "C:\\Users\\User1\\anaconda3\\lib\\site-packages\\pandas\\core\\indexing.py:1684: SettingWithCopyWarning: \n",
      "A value is trying to be set on a copy of a slice from a DataFrame.\n",
      "Try using .loc[row_indexer,col_indexer] = value instead\n",
      "\n",
      "See the caveats in the documentation: https://pandas.pydata.org/pandas-docs/stable/user_guide/indexing.html#returning-a-view-versus-a-copy\n",
      "  self.obj[key] = infer_fill_value(value)\n",
      "C:\\Users\\User1\\anaconda3\\lib\\site-packages\\pandas\\core\\indexing.py:1817: SettingWithCopyWarning: \n",
      "A value is trying to be set on a copy of a slice from a DataFrame.\n",
      "Try using .loc[row_indexer,col_indexer] = value instead\n",
      "\n",
      "See the caveats in the documentation: https://pandas.pydata.org/pandas-docs/stable/user_guide/indexing.html#returning-a-view-versus-a-copy\n",
      "  self._setitem_single_column(loc, value, pi)\n"
     ]
    },
    {
     "name": "stdout",
     "output_type": "stream",
     "text": [
      "acme_external_sales_report_Oct-28-2022.xlsx\n",
      "\n",
      "Sales Report Generated\n"
     ]
    }
   ],
   "source": [
    "# Mid-Atlantic\n",
    "\n",
    "from store_info import Replenishment\n",
    "\n",
    "acme = Replenishment(store_type_input='acme')\n",
    "\n",
    "\n",
    "current_week = input('Please input the name of the sales file for the \"Current Sales Week\"\\n')\n",
    "previous_week = input('Please input the name of the sales file for the \"Previous Sales Week\"\\n')\n",
    "\n",
    "acme.sales_update(sales_data_file_path + rf'\\acme\\{current_week}', sales_data_file_path + rf'\\acme\\{previous_week}' )\n",
    "acme.delivery_update(delivery_data_file_path + r'\\acme.csv')\n",
    "acme.sales_report()\n"
   ]
  },
  {
   "cell_type": "code",
   "execution_count": 4,
   "id": "a9f69153",
   "metadata": {},
   "outputs": [
    {
     "name": "stdout",
     "output_type": "stream",
     "text": [
      "Please input the name of the sales file for the \"Current Sales Week\"\n",
      "10.22.22 texas.xlsm\n",
      "Please input the name of the sales file for the \"Previous Sales Week\"\n",
      "10.15.22 texas.xlsm\n"
     ]
    },
    {
     "name": "stderr",
     "output_type": "stream",
     "text": [
      "C:\\Users\\User1\\OneDrive\\WinWin Staff Folders\\Michael\\Replenishment program\\Replenishment\\Update\\Transform_Sales_Data\\transform.py:507: SettingWithCopyWarning: \n",
      "A value is trying to be set on a copy of a slice from a DataFrame.\n",
      "Try using .loc[row_indexer,col_indexer] = value instead\n",
      "\n",
      "See the caveats in the documentation: https://pandas.pydata.org/pandas-docs/stable/user_guide/indexing.html#returning-a-view-versus-a-copy\n",
      "  df['store_year'] = store_year\n",
      "C:\\Users\\User1\\OneDrive\\WinWin Staff Folders\\Michael\\Replenishment program\\Replenishment\\Update\\Transform_Sales_Data\\transform.py:508: SettingWithCopyWarning: \n",
      "A value is trying to be set on a copy of a slice from a DataFrame.\n",
      "Try using .loc[row_indexer,col_indexer] = value instead\n",
      "\n",
      "See the caveats in the documentation: https://pandas.pydata.org/pandas-docs/stable/user_guide/indexing.html#returning-a-view-versus-a-copy\n",
      "  df['store_week'] = store_week\n",
      "C:\\Users\\User1\\OneDrive\\WinWin Staff Folders\\Michael\\Replenishment program\\Replenishment\\Update\\Transform_Sales_Data\\transform.py:510: SettingWithCopyWarning: \n",
      "A value is trying to be set on a copy of a slice from a DataFrame.\n",
      "Try using .loc[row_indexer,col_indexer] = value instead\n",
      "\n",
      "See the caveats in the documentation: https://pandas.pydata.org/pandas-docs/stable/user_guide/indexing.html#returning-a-view-versus-a-copy\n",
      "  df['date'] = date\n",
      "C:\\Users\\User1\\OneDrive\\WinWin Staff Folders\\Michael\\Replenishment program\\Replenishment\\Update\\Transform_Sales_Data\\transform.py:1106: UserWarning: \n",
      "    \n",
      "                The 2 files from the sales data is showing that it is 2 weeks\n",
      "                apart.\n",
      "    \n",
      "                Ideally the sales data imported should be from week to week. However if more than a weeks of sales data\n",
      "                was missed being sent, it is still ok to import the sales data.\n",
      "    \n",
      "                If this is the case, enter 'VERIFIED' if not enter 'CANCEL'\n",
      "  warnings.warn(f\"\"\"\n"
     ]
    },
    {
     "name": "stdout",
     "output_type": "stream",
     "text": [
      "\n",
      "\n",
      "\n",
      "READ STATEMENT ABOVE:\tverified\n",
      "Found code for Sales table in support sheet instead of delivery table store 4176 upc: 81031202229\n",
      "Found code for Sales table in support sheet instead of delivery table store 4176 upc: 81031202230\n",
      "Found code for Sales table in support sheet instead of delivery table store 4272 upc: 81031202337\n",
      "Found code for Sales table in support sheet instead of delivery table store 4279 upc: 81031202278\n",
      "Found code for Sales table in support sheet instead of delivery table store 1262 upc: 81031202155\n",
      "Found code for Sales table in support sheet instead of delivery table store 3621 upc: 81031202337\n",
      "Found code for Sales table in support sheet instead of delivery table store 4191 upc: 81031202337\n",
      "Found code for Sales table in support sheet instead of delivery table store 4267 upc: 81031202337\n",
      "Found code for Sales table in support sheet instead of delivery table store 4267 upc: 81031202144\n",
      "Found code for Sales table in support sheet instead of delivery table store 1783 upc: 81031202163\n",
      "Found code for Sales table in support sheet instead of delivery table store 1783 upc: 81031202257\n",
      "Found code for Sales table in support sheet instead of delivery table store 4112 upc: 81031202229\n",
      "Found code for Sales table in support sheet instead of delivery table store 4234 upc: 81031202163\n",
      "Found code for Sales table in support sheet instead of delivery table store 2477 upc: 81031202155\n",
      "Found code for Sales table in support sheet instead of delivery table store 1041 upc: 81031202278\n",
      "Found code for Sales table in support sheet instead of delivery table store 714 upc: 81031202337\n",
      "\n",
      " texas_division Sales Data Updated\n",
      "Updated: 0 Records\n",
      "Inserted: 112 Records\n",
      "\n",
      " texas_division Delivery Data Updated\n",
      "Updated: 74 Records\n",
      "Inserted: 6 Records\n",
      "No Programs have been established for these stores listed:\n",
      "\n",
      " [1057, 1776, 1786, 1972, 2481, 2544, 2673, 3054, 3312, 3522, 4062]\n"
     ]
    },
    {
     "name": "stderr",
     "output_type": "stream",
     "text": [
      "C:\\Users\\User1\\anaconda3\\lib\\site-packages\\pandas\\core\\indexing.py:1684: SettingWithCopyWarning: \n",
      "A value is trying to be set on a copy of a slice from a DataFrame.\n",
      "Try using .loc[row_indexer,col_indexer] = value instead\n",
      "\n",
      "See the caveats in the documentation: https://pandas.pydata.org/pandas-docs/stable/user_guide/indexing.html#returning-a-view-versus-a-copy\n",
      "  self.obj[key] = infer_fill_value(value)\n",
      "C:\\Users\\User1\\anaconda3\\lib\\site-packages\\pandas\\core\\indexing.py:1817: SettingWithCopyWarning: \n",
      "A value is trying to be set on a copy of a slice from a DataFrame.\n",
      "Try using .loc[row_indexer,col_indexer] = value instead\n",
      "\n",
      "See the caveats in the documentation: https://pandas.pydata.org/pandas-docs/stable/user_guide/indexing.html#returning-a-view-versus-a-copy\n",
      "  self._setitem_single_column(loc, value, pi)\n"
     ]
    },
    {
     "name": "stdout",
     "output_type": "stream",
     "text": [
      "texas_division_external_sales_report_Oct-28-2022.xlsx\n",
      "\n",
      "Sales Report Generated\n"
     ]
    }
   ],
   "source": [
    "# Texas Division\n",
    "from store_info import Replenishment\n",
    "\n",
    "texas_division = Replenishment(store_type_input='texas_division')\n",
    "\n",
    "\n",
    "current_week = input('Please input the name of the sales file for the \"Current Sales Week\"\\n')\n",
    "previous_week = input('Please input the name of the sales file for the \"Previous Sales Week\"\\n')\n",
    "\n",
    "texas_division.sales_update(sales_data_file_path + rf'\\texas\\{current_week}', sales_data_file_path + rf'\\texas\\{previous_week}' )\n",
    "texas_division.delivery_update(delivery_data_file_path + r'\\texas.csv')\n",
    "texas_division.sales_report()\n",
    "\n"
   ]
  },
  {
   "cell_type": "code",
   "execution_count": 2,
   "id": "ef4bf278",
   "metadata": {},
   "outputs": [
    {
     "name": "stdout",
     "output_type": "stream",
     "text": [
      "Found code for Sales table in support sheet instead of delivery table store 340.0 upc: 81031202324\n",
      "Found code for Sales table in support sheet instead of delivery table store 330.0 upc: 81031202319\n",
      "Found code for Sales table in support sheet instead of delivery table store 3.0 upc: 81031202214\n",
      "Found code for Sales table in support sheet instead of delivery table store 710.0 upc: 81031202229\n",
      "Found code for Sales table in support sheet instead of delivery table store 330.0 upc: 81031202305\n",
      "Found code for Sales table in support sheet instead of delivery table store 330.0 upc: 81031202305\n",
      "Found code for Sales table in support sheet instead of delivery table store 710.0 upc: 81031202230\n",
      "\n",
      " midwest Sales Data Updated\n",
      "Updated: 0 Records\n",
      "Inserted: 121 Records\n",
      "\n",
      " midwest Delivery Data Updated\n",
      "Updated: 20 Records\n",
      "Inserted: 17 Records\n"
     ]
    }
   ],
   "source": [
    "# fresh Encounter midwest\n",
    "from store_info import Replenishment\n",
    "\n",
    "fresh_encounter = Replenishment(store_type_input='midwest')\n",
    "\n",
    "fresh_encounter.sales_update(sales_data_file_path + r'\\fresh_sales.csv')\n",
    "fresh_encounter.delivery_update(delivery_data_file_path + r'\\fresh_encounter.csv')\n",
    "fresh_encounter.sales_report()"
   ]
  },
  {
   "cell_type": "code",
   "execution_count": 3,
   "id": "10c15ae6",
   "metadata": {},
   "outputs": [
    {
     "name": "stdout",
     "output_type": "stream",
     "text": [
      "Found code for Sales table in support sheet instead of delivery table store 441.0 upc: 81031202448\n",
      "Found code for Sales table in support sheet instead of delivery table store 446.0 upc: 81031202449\n",
      "Found code for Sales table in support sheet instead of delivery table store 444.0 upc: 81031202449\n",
      "Found code for Sales table in support sheet instead of delivery table store 434.0 upc: 81031202449\n",
      "Found code for Sales table in support sheet instead of delivery table store 456.0 upc: 81031202418\n",
      "Found code for Sales table in support sheet instead of delivery table store 445.0 upc: 81031202449\n",
      "Found code for Sales table in support sheet instead of delivery table store 480.0 upc: 81031202449\n",
      "Found code for Sales table in support sheet instead of delivery table store 459.0 upc: 81031202418\n",
      "Found code for Sales table in support sheet instead of delivery table store 461.0 upc: 81031202449\n",
      "Found code for Sales table in support sheet instead of delivery table store 462.0 upc: 81031202449\n",
      "Found code for Sales table in support sheet instead of delivery table store 463.0 upc: 81031202449\n",
      "Found code for Sales table in support sheet instead of delivery table store 464.0 upc: 81031202418\n",
      "Found code for Sales table in support sheet instead of delivery table store 467.0 upc: 81031202449\n",
      "Found code for Sales table in support sheet instead of delivery table store 478.0 upc: 81031202418\n",
      "Found code for Sales table in support sheet instead of delivery table store 430.0 upc: 81031202420\n",
      "Found code for Sales table in support sheet instead of delivery table store 454.0 upc: 81031202420\n",
      "Found code for Sales table in support sheet instead of delivery table store 454.0 upc: 81031202420\n",
      "Found code for Sales table in support sheet instead of delivery table store 470.0 upc: 81031202420\n",
      "Found code for Sales table in support sheet instead of delivery table store 464.0 upc: 81031202420\n",
      "Found code for Sales table in support sheet instead of delivery table store 460.0 upc: 81031202420\n",
      "Found code for Sales table in support sheet instead of delivery table store 475.0 upc: 81031202420\n",
      "Found code for Sales table in support sheet instead of delivery table store 464.0 upc: 81031202230\n",
      "Found code for Sales table in support sheet instead of delivery table store 467.0 upc: 81031202230\n",
      "Found code for Sales table in support sheet instead of delivery table store 464.0 upc: 81031202155\n",
      "\n",
      " sal Sales Data Updated\n",
      "Updated: 0 Records\n",
      "Inserted: 169 Records\n",
      "\n",
      " sal Delivery Data Updated\n",
      "Updated: 86 Records\n",
      "Inserted: 10 Records\n"
     ]
    }
   ],
   "source": [
    "# fresh encounter SAL\n",
    "from store_info import Replenishment\n",
    "\n",
    "fresh_encounter = Replenishment(store_type_input='sal')\n",
    "\n",
    "fresh_encounter.sales_update(sales_data_file_path + r'\\fresh_sales.csv')\n",
    "fresh_encounter.delivery_update(delivery_data_file_path + r'\\fresh_encounter.csv')\n",
    "fresh_encounter.sales_report()"
   ]
  },
  {
   "cell_type": "code",
   "execution_count": 8,
   "id": "930a2b87",
   "metadata": {},
   "outputs": [
    {
     "name": "stdout",
     "output_type": "stream",
     "text": [
      "\n",
      " intermountain Delivery Data Updated\n",
      "Updated: 212 Records\n",
      "Inserted: 91 Records\n",
      "No Programs have been established for these stores listed:\n",
      "\n",
      " [15, 155, 3004, 3337]\n",
      "intermountain_external_sales_report_Oct-28-2022.xlsx\n",
      "\n",
      "Sales Report Generated\n"
     ]
    }
   ],
   "source": [
    "# Intermountain \n",
    "from store_info import Replenishment\n",
    "\n",
    "intermountain = Replenishment(store_type_input='intermountain')\n",
    "\n",
    "# current_week = input('Please input the name of the sales file for the \"Current Sales Week\"\\n')\n",
    "# previous_week = input('Please input the name of the sales file for the \"Previous Sales Week\"\\n')\n",
    "\n",
    "# intermountain.sales_update(sales_data_file_path + rf'\\intermountain\\{current_week}', sales_data_file_path + rf'\\intermountain\\{previous_week}' )\n",
    "intermountain.delivery_update(delivery_data_file_path + r'\\intermountain.csv')\n",
    "intermountain.sales_report()"
   ]
  },
  {
   "cell_type": "code",
   "execution_count": 4,
   "id": "e8105cda",
   "metadata": {
    "collapsed": true
   },
   "outputs": [
    {
     "name": "stdout",
     "output_type": "stream",
     "text": [
      "\n",
      " follett Sales Data Imported\n",
      "No Programs have been established for these stores listed:\n",
      "\n",
      " []\n",
      "152\n",
      "0\n",
      "1\n",
      "2\n",
      "3\n",
      "4\n",
      "5\n",
      "6\n",
      "7\n",
      "8\n",
      "9\n",
      "10\n",
      "11\n",
      "12\n",
      "13\n",
      "14\n",
      "15\n",
      "16\n",
      "17\n",
      "18\n",
      "19\n",
      "20\n",
      "21\n",
      "22\n",
      "23\n",
      "24\n",
      "25\n",
      "26\n",
      "27\n",
      "28\n",
      "29\n",
      "30\n",
      "31\n",
      "32\n",
      "33\n",
      "34\n",
      "35\n",
      "36\n",
      "37\n",
      "38\n",
      "39\n",
      "40\n",
      "41\n",
      "42\n",
      "43\n",
      "44\n",
      "45\n",
      "46\n",
      "47\n",
      "48\n",
      "49\n",
      "50\n",
      "51\n",
      "52\n",
      "53\n",
      "54"
     ]
    },
    {
     "name": "stderr",
     "output_type": "stream",
     "text": [
      "C:\\Users\\User1\\anaconda3\\lib\\site-packages\\pandas\\core\\indexing.py:1684: SettingWithCopyWarning: \n",
      "A value is trying to be set on a copy of a slice from a DataFrame.\n",
      "Try using .loc[row_indexer,col_indexer] = value instead\n",
      "\n",
      "See the caveats in the documentation: https://pandas.pydata.org/pandas-docs/stable/user_guide/indexing.html#returning-a-view-versus-a-copy\n",
      "  self.obj[key] = infer_fill_value(value)\n",
      "C:\\Users\\User1\\anaconda3\\lib\\site-packages\\pandas\\core\\indexing.py:1817: SettingWithCopyWarning: \n",
      "A value is trying to be set on a copy of a slice from a DataFrame.\n",
      "Try using .loc[row_indexer,col_indexer] = value instead\n",
      "\n",
      "See the caveats in the documentation: https://pandas.pydata.org/pandas-docs/stable/user_guide/indexing.html#returning-a-view-versus-a-copy\n",
      "  self._setitem_single_column(loc, value, pi)\n"
     ]
    },
    {
     "name": "stdout",
     "output_type": "stream",
     "text": [
      "\n",
      "55\n",
      "56\n",
      "57\n",
      "58\n",
      "59\n",
      "60\n",
      "61\n",
      "62\n",
      "63\n",
      "64\n",
      "65\n",
      "66\n",
      "67\n",
      "68\n",
      "69\n",
      "70\n",
      "71\n",
      "72\n",
      "73\n",
      "74\n",
      "75\n",
      "76\n",
      "77\n",
      "78\n",
      "79\n",
      "80\n",
      "81\n",
      "82\n",
      "83\n",
      "84\n",
      "85\n",
      "86\n",
      "87\n",
      "88\n",
      "89\n",
      "90\n",
      "91\n",
      "92\n",
      "93\n",
      "94\n",
      "95\n",
      "96\n",
      "97\n",
      "98\n",
      "99\n",
      "100\n",
      "101\n",
      "102\n",
      "103\n",
      "104\n",
      "105\n",
      "106\n",
      "107\n",
      "108\n",
      "109\n",
      "110\n",
      "111\n",
      "112\n",
      "113\n",
      "114\n",
      "115\n",
      "116\n",
      "117\n",
      "118\n",
      "119\n",
      "120\n",
      "121\n",
      "122\n",
      "123\n",
      "124\n",
      "125\n",
      "126\n",
      "127\n",
      "128\n",
      "129\n",
      "130\n",
      "131\n",
      "132\n",
      "133\n",
      "134\n",
      "135\n",
      "136\n",
      "137\n",
      "138\n",
      "139\n",
      "140\n",
      "141\n",
      "142\n",
      "143\n",
      "144\n",
      "145\n",
      "146\n",
      "147\n",
      "148\n",
      "149\n",
      "150\n",
      "151\n",
      "follett_external_sales_report_Sep-30-2022.xlsx\n",
      "\n",
      "Sales Report Generated\n"
     ]
    }
   ],
   "source": [
    "# follett\n",
    "from store_info import Replenishment\n",
    "\n",
    "follett = Replenishment(store_type_input='follett')\n",
    "\n",
    "follett.sales_import(file=r'C:\\Users\\User1\\OneDrive\\WinWin Staff Folders\\Michael\\Replenishment program\\Replenishment\\support document\\sales\\follett_salesdata_fixed.xlsx')\n",
    "# follett.delivery_update(delivery_data_file_path + r'\\follett.csv')\n",
    "follett.sales_report()                                         "
   ]
  },
  {
   "cell_type": "code",
   "execution_count": 5,
   "id": "1b14fb31",
   "metadata": {},
   "outputs": [
    {
     "name": "stderr",
     "output_type": "stream",
     "text": [
      "C:\\Users\\User1\\OneDrive\\WinWin Staff Folders\\Michael\\Replenishment program\\Replenishment\\Update\\Transform_Sales_Data\\transform.py:376: FutureWarning: The default value of regex will change from True to False in a future version.\n",
      "  old['store_type'] = old.store_type.str.replace('[^a-zA-Z]', '')\n"
     ]
    },
    {
     "name": "stdout",
     "output_type": "stream",
     "text": [
      "Found code for Sales table in support sheet instead of delivery table store 3770 upc: 81031202305\n",
      "Found code for Sales table in support sheet instead of delivery table store 3478 upc: 81031202234\n",
      "Found code for Sales table in support sheet instead of delivery table store 3464 upc: 81031202373\n",
      "\n",
      " jewel Sales Data Updated\n",
      "Updated: 50 Records\n",
      "Inserted: 0 Records\n",
      "\n",
      " jewel Delivery Data Updated\n",
      "Updated: 231 Records\n",
      "Inserted: 0 Records\n"
     ]
    }
   ],
   "source": [
    "# jewel\n",
    "from store_info import Replenishment\n",
    "\n",
    "jewel = Replenishment(store_type_input='jewel')\n",
    "\n",
    "jewel.sales_update(sales_data_file_path + r'\\jewel_sales.xlsx')\n",
    "jewel.delivery_update(delivery_data_file_path + r'\\jewel.csv')\n",
    "\n",
    "\n",
    "# jewel.sales_report()"
   ]
  },
  {
   "cell_type": "code",
   "execution_count": 3,
   "id": "2628b1d3",
   "metadata": {},
   "outputs": [
    {
     "name": "stderr",
     "output_type": "stream",
     "text": [
      "C:\\Users\\User1\\anaconda3\\lib\\site-packages\\pandas\\core\\frame.py:3641: SettingWithCopyWarning: \n",
      "A value is trying to be set on a copy of a slice from a DataFrame.\n",
      "Try using .loc[row_indexer,col_indexer] = value instead\n",
      "\n",
      "See the caveats in the documentation: https://pandas.pydata.org/pandas-docs/stable/user_guide/indexing.html#returning-a-view-versus-a-copy\n",
      "  self[k1] = value[k2]\n",
      "C:\\Users\\User1\\OneDrive\\WinWin Staff Folders\\Michael\\Replenishment program\\Replenishment\\Update\\Transform_Sales_Data\\transform.py:86: FutureWarning: The default value of regex will change from True to False in a future version.\n",
      "  new['RPT_SHORT_DESC'] = new.RPT_SHORT_DESC.str.replace('[^a-zA-Z]', '')\n"
     ]
    },
    {
     "name": "stdout",
     "output_type": "stream",
     "text": [
      "\n",
      " kroger_atlanta Sales Data Updated\n",
      "Updated: 241 Records\n",
      "Inserted: 272 Records\n",
      "\n",
      " kroger_atlanta Delivery Data Updated\n",
      "Updated: 205 Records\n",
      "Inserted: 33 Records\n",
      "No Programs have been established for these stores listed:\n",
      "\n",
      " []\n"
     ]
    },
    {
     "name": "stderr",
     "output_type": "stream",
     "text": [
      "C:\\Users\\User1\\anaconda3\\lib\\site-packages\\pandas\\core\\indexing.py:1684: SettingWithCopyWarning: \n",
      "A value is trying to be set on a copy of a slice from a DataFrame.\n",
      "Try using .loc[row_indexer,col_indexer] = value instead\n",
      "\n",
      "See the caveats in the documentation: https://pandas.pydata.org/pandas-docs/stable/user_guide/indexing.html#returning-a-view-versus-a-copy\n",
      "  self.obj[key] = infer_fill_value(value)\n",
      "C:\\Users\\User1\\anaconda3\\lib\\site-packages\\pandas\\core\\indexing.py:1817: SettingWithCopyWarning: \n",
      "A value is trying to be set on a copy of a slice from a DataFrame.\n",
      "Try using .loc[row_indexer,col_indexer] = value instead\n",
      "\n",
      "See the caveats in the documentation: https://pandas.pydata.org/pandas-docs/stable/user_guide/indexing.html#returning-a-view-versus-a-copy\n",
      "  self._setitem_single_column(loc, value, pi)\n"
     ]
    },
    {
     "name": "stdout",
     "output_type": "stream",
     "text": [
      "kroger_atlanta_external_sales_report_Nov-07-2022.xlsx\n",
      "\n",
      "Sales Report Generated\n"
     ]
    }
   ],
   "source": [
    "# atlanta\n",
    "from store_info import Replenishment\n",
    "\n",
    "atlanta = Replenishment(store_type_input='kroger_atlanta')\n",
    "\n",
    "atlanta.sales_update(sales_data_file_path + r'\\Sherlock Store Matrix.csv')\n",
    "atlanta.delivery_update(delivery_data_file_path + r'\\atlanta.csv')\n",
    "atlanta.sales_report()"
   ]
  },
  {
   "cell_type": "code",
   "execution_count": 21,
   "id": "68debb9c",
   "metadata": {},
   "outputs": [
    {
     "name": "stdout",
     "output_type": "stream",
     "text": [
      "Found code for Sales table in support sheet instead of delivery table store 86 upc: 81031202045\n",
      "Found code for Sales table in support sheet instead of delivery table store 900 upc: 81031202045\n",
      "Found code for Sales table in support sheet instead of delivery table store 822 upc: 81031202045\n",
      "Found code for Sales table in support sheet instead of delivery table store 946 upc: 81031202045\n",
      "Found code for Sales table in support sheet instead of delivery table store 990 upc: 81031202155\n",
      "Found code for Sales table in support sheet instead of delivery table store 894 upc: 81031202155\n",
      "Found code for Sales table in support sheet instead of delivery table store 91 upc: 81031202373\n",
      "Found code for Sales table in support sheet instead of delivery table store 972 upc: 81031202164\n",
      "Found code for Sales table in support sheet instead of delivery table store 900 upc: 81031202045\n",
      "Found code for Sales table in support sheet instead of delivery table store 989 upc: 81031202236\n",
      "\n",
      " kroger_central Sales Data Updated\n",
      "Updated: 192 Records\n",
      "Inserted: 0 Records\n",
      "\n",
      " kroger_central Delivery Data Updated\n",
      "Updated: 52 Records\n",
      "Inserted: 16 Records\n",
      "No Programs have been established for these stores listed:\n",
      "\n",
      " [1, 889]\n",
      "kroger_central_external_sales_report_Nov-07-2022.xlsx\n",
      "\n",
      "Sales Report Generated\n"
     ]
    }
   ],
   "source": [
    "# central\n",
    "from store_info import Replenishment\n",
    "\n",
    "central = Replenishment(store_type_input='kroger_central')\n",
    "\n",
    "\n",
    "central.sales_update( sales_data_file_path + r'\\Sherlock Store Matrix.csv')\n",
    "central.delivery_update(delivery_data_file_path + r'\\central.csv')\n",
    "central.sales_report()"
   ]
  },
  {
   "cell_type": "code",
   "execution_count": 16,
   "id": "b125d768",
   "metadata": {},
   "outputs": [
    {
     "name": "stdout",
     "output_type": "stream",
     "text": [
      "Found code for Sales table in support sheet instead of delivery table store 839 upc: 81031202385\n",
      "\n",
      " kroger_columbus Sales Data Updated\n",
      "Updated: 379 Records\n",
      "Inserted: 0 Records\n",
      "\n",
      " kroger_columbus Delivery Data Updated\n",
      "Updated: 141 Records\n",
      "Inserted: 36 Records\n",
      "No Programs have been established for these stores listed:\n",
      "\n",
      " []\n",
      "kroger_columbus_external_sales_report_Nov-07-2022.xlsx\n",
      "\n",
      "Sales Report Generated\n"
     ]
    }
   ],
   "source": [
    "# columubus\n",
    "from store_info import Replenishment\n",
    "\n",
    "columbus = Replenishment(store_type_input='kroger_columbus')\n",
    "\n",
    "\n",
    "columbus.sales_update(sales_data_file_path + r'\\Sherlock Store Matrix.csv')\n",
    "columbus.delivery_update(delivery_data_file_path + r'\\columbus.csv')\n",
    "columbus.sales_report()"
   ]
  },
  {
   "cell_type": "code",
   "execution_count": 18,
   "id": "4bd39071",
   "metadata": {},
   "outputs": [
    {
     "name": "stdout",
     "output_type": "stream",
     "text": [
      "Found code for Sales table in support sheet instead of delivery table store 596 upc: 81031202269\n",
      "Found code for Sales table in support sheet instead of delivery table store 576 upc: 81031202256\n",
      "Found code for Sales table in support sheet instead of delivery table store 599 upc: 81031202255\n",
      "Found code for Sales table in support sheet instead of delivery table store 542 upc: 81031202164\n",
      "Found code for Sales table in support sheet instead of delivery table store 533 upc: 81031202164\n",
      "Found code for Sales table in support sheet instead of delivery table store 580 upc: 81031202155\n",
      "Found code for Sales table in support sheet instead of delivery table store 596 upc: 81031202373\n",
      "Found code for Sales table in support sheet instead of delivery table store 542 upc: 81031202256\n",
      "Found code for Sales table in support sheet instead of delivery table store 596 upc: 81031202255\n",
      "Found code for Sales table in support sheet instead of delivery table store 591 upc: 81031202256\n",
      "Found code for Sales table in support sheet instead of delivery table store 565 upc: 81031202384\n",
      "Found code for Sales table in support sheet instead of delivery table store 591 upc: 81031202373\n",
      "Found code for Sales table in support sheet instead of delivery table store 591 upc: 81031202372\n",
      "\n",
      " kroger_dallas Sales Data Updated\n",
      "Updated: 149 Records\n",
      "Inserted: 0 Records\n",
      "\n",
      " kroger_dallas Delivery Data Updated\n",
      "Updated: 36 Records\n",
      "Inserted: 0 Records\n",
      "No Programs have been established for these stores listed:\n",
      "\n",
      " []\n",
      "kroger_dallas_external_sales_report_Nov-07-2022.xlsx\n",
      "\n",
      "Sales Report Generated\n"
     ]
    }
   ],
   "source": [
    "# dallas\n",
    "from store_info import Replenishment\n",
    "\n",
    "dallas = Replenishment(store_type_input='kroger_dallas')\n",
    "\n",
    "\n",
    "\n",
    "dallas.sales_update(sales_data_file_path + r'\\Sherlock Store Matrix.csv')\n",
    "dallas.delivery_update(delivery_data_file_path + r'\\dallas.csv')\n",
    "dallas.sales_report()"
   ]
  },
  {
   "cell_type": "code",
   "execution_count": 19,
   "id": "4b6df5d5",
   "metadata": {},
   "outputs": [
    {
     "name": "stdout",
     "output_type": "stream",
     "text": [
      "\n",
      " kroger_dillons Sales Data Updated\n",
      "Updated: 257 Records\n",
      "Inserted: 0 Records\n",
      "\n",
      " kroger_dillons Delivery Data Updated\n",
      "Updated: 33 Records\n",
      "Inserted: 0 Records\n",
      "No Programs have been established for these stores listed:\n",
      "\n",
      " []\n",
      "kroger_dillons_external_sales_report_Nov-07-2022.xlsx\n",
      "Error: No objects to concatenate\n",
      "\n",
      "Sales Report Generated\n"
     ]
    }
   ],
   "source": [
    "# dillons\n",
    "from store_info import Replenishment\n",
    "\n",
    "dillons = Replenishment(store_type_input='kroger_dillons')\n",
    "\n",
    "dillons.sales_update(sales_data_file_path + r'\\Sherlock Store Matrix.csv')\n",
    "dillons.delivery_update(delivery_data_file_path + r'\\dillons.csv')\n",
    "dillons.sales_report()"
   ]
  },
  {
   "cell_type": "code",
   "execution_count": 8,
   "id": "881ba544",
   "metadata": {},
   "outputs": [
    {
     "name": "stdout",
     "output_type": "stream",
     "text": [
      "Found code for Sales table in support sheet instead of delivery table store 82 upc: 81031202384\n",
      "Found code for Sales table in support sheet instead of delivery table store 105 upc: 81031202366\n",
      "\n",
      " kroger_king_soopers Sales Data Updated\n",
      "Updated: 57 Records\n",
      "Inserted: 62 Records\n",
      "\n",
      " kroger_king_soopers Delivery Data Updated\n",
      "Updated: 36 Records\n",
      "Inserted: 6 Records\n",
      "No Programs have been established for these stores listed:\n",
      "\n",
      " []\n",
      "kroger_king_soopers_external_sales_report_Nov-07-2022.xlsx\n",
      "\n",
      "Sales Report Generated\n"
     ]
    }
   ],
   "source": [
    "# king sooper\n",
    "from store_info import Replenishment\n",
    "\n",
    "king_soopers = Replenishment(store_type_input='kroger_king_soopers')\n",
    "\n",
    "\n",
    "king_soopers.sales_update(sales_data_file_path + r'\\Sherlock Store Matrix.csv')\n",
    "king_soopers.delivery_update(delivery_data_file_path + r'\\king.csv')\n",
    "king_soopers.sales_report()"
   ]
  },
  {
   "cell_type": "code",
   "execution_count": 9,
   "id": "1efb8bb5",
   "metadata": {},
   "outputs": [
    {
     "name": "stdout",
     "output_type": "stream",
     "text": [
      "\n",
      " kroger_louisville Sales Data Updated\n",
      "Updated: 103 Records\n",
      "Inserted: 117 Records\n",
      "\n",
      " kroger_louisville Delivery Data Updated\n",
      "Updated: 99 Records\n",
      "Inserted: 15 Records\n",
      "No Programs have been established for these stores listed:\n",
      "\n",
      " []\n",
      "kroger_louisville_external_sales_report_Nov-07-2022.xlsx\n",
      "\n",
      "Sales Report Generated\n"
     ]
    }
   ],
   "source": [
    "# louisville\n",
    "from store_info import Replenishment\n",
    "\n",
    "louisville = Replenishment(store_type_input='kroger_louisville')\n",
    "\n",
    "louisville.sales_update(sales_data_file_path + r'\\Sherlock Store Matrix.csv')\n",
    "louisville.delivery_update(delivery_data_file_path + r'\\louisville.csv')\n",
    "louisville.sales_report()"
   ]
  },
  {
   "cell_type": "code",
   "execution_count": 10,
   "id": "05d85060",
   "metadata": {},
   "outputs": [
    {
     "name": "stdout",
     "output_type": "stream",
     "text": [
      "Found code for Sales table in support sheet instead of delivery table store 737 upc: 81031202046\n",
      "Found code for Sales table in support sheet instead of delivery table store 444 upc: 81031202367\n",
      "\n",
      " kroger_michigan Sales Data Updated\n",
      "Updated: 40 Records\n",
      "Inserted: 49 Records\n",
      "\n",
      " kroger_michigan Delivery Data Updated\n",
      "Updated: 35 Records\n",
      "Inserted: 3 Records\n",
      "No Programs have been established for these stores listed:\n",
      "\n",
      " [115]\n",
      "kroger_michigan_external_sales_report_Nov-07-2022.xlsx\n",
      "\n",
      "Sales Report Generated\n"
     ]
    }
   ],
   "source": [
    "# michigan\n",
    "from store_info import Replenishment\n",
    "\n",
    "michigan = Replenishment(store_type_input='kroger_michigan')\n",
    "\n",
    "michigan.sales_update(sales_data_file_path + r'\\Sherlock Store Matrix.csv')\n",
    "michigan.delivery_update(delivery_data_file_path + r'\\michigan.csv')\n",
    "michigan.sales_report()"
   ]
  },
  {
   "cell_type": "code",
   "execution_count": 11,
   "id": "04a8d7cc",
   "metadata": {},
   "outputs": [
    {
     "name": "stdout",
     "output_type": "stream",
     "text": [
      "\n",
      " kroger_nashville Sales Data Updated\n",
      "Updated: 135 Records\n",
      "Inserted: 166 Records\n",
      "\n",
      " kroger_nashville Delivery Data Updated\n",
      "Updated: 90 Records\n",
      "Inserted: 21 Records\n",
      "No Programs have been established for these stores listed:\n",
      "\n",
      " []\n",
      "kroger_nashville_external_sales_report_Nov-07-2022.xlsx\n",
      "\n",
      "Sales Report Generated\n"
     ]
    }
   ],
   "source": [
    "# nashville\n",
    "from store_info import Replenishment\n",
    "\n",
    "nashville = Replenishment(store_type_input='kroger_nashville')\n",
    "\n",
    "\n",
    "nashville.sales_update(sales_data_file_path + r'\\Sherlock Store Matrix.csv')\n",
    "nashville.delivery_update(delivery_data_file_path + r'\\nashville.csv')\n",
    "nashville.sales_report()"
   ]
  },
  {
   "cell_type": "code",
   "execution_count": 12,
   "id": "9d2cb4fe",
   "metadata": {},
   "outputs": [
    {
     "name": "stdout",
     "output_type": "stream",
     "text": [
      "Found code for Sales table in support sheet instead of delivery table store 252 upc: 81031202373\n",
      "Found code for Sales table in support sheet instead of delivery table store 425 upc: 81031202233\n",
      "Found code for Sales table in support sheet instead of delivery table store 428 upc: 81031202324\n",
      "Found code for Sales table in support sheet instead of delivery table store 428 upc: 81031202372\n",
      "Found code for Sales table in support sheet instead of delivery table store 438 upc: 81031202373\n",
      "Found code for Sales table in support sheet instead of delivery table store 603 upc: 81031202369\n",
      "Found code for Sales table in support sheet instead of delivery table store 608 upc: 81031202098\n",
      "Found code for Sales table in support sheet instead of delivery table store 610 upc: 81031202155\n",
      "Found code for Sales table in support sheet instead of delivery table store 620 upc: 81031202372\n",
      "Found code for Sales table in support sheet instead of delivery table store 629 upc: 81031202367\n",
      "Found code for Sales table in support sheet instead of delivery table store 656 upc: 81031202230\n",
      "Found code for Sales table in support sheet instead of delivery table store 672 upc: 81031202280\n",
      "Found code for Sales table in support sheet instead of delivery table store 687 upc: 81031202324\n",
      "Found code for Sales table in support sheet instead of delivery table store 713 upc: 81031202264\n",
      "Found code for Sales table in support sheet instead of delivery table store 715 upc: 81031202098\n",
      "Found code for Sales table in support sheet instead of delivery table store 724 upc: 81031202385\n",
      "Found code for Sales table in support sheet instead of delivery table store 773 upc: 81031202230\n",
      "Found code for Sales table in support sheet instead of delivery table store 849 upc: 81031202230\n",
      "Found code for Sales table in support sheet instead of delivery table store 865 upc: 81031202170\n",
      "Found code for Sales table in support sheet instead of delivery table store 865 upc: 81031202324\n",
      "Found code for Sales table in support sheet instead of delivery table store 895 upc: 81031202098\n",
      "Found code for Sales table in support sheet instead of delivery table store 2446 upc: 81031202258\n",
      "\n",
      " kvat Sales Data Updated\n",
      "Updated: 0 Records\n",
      "Inserted: 358 Records\n",
      "\n",
      " kvat Delivery Data Updated\n",
      "Updated: 264 Records\n",
      "Inserted: 10 Records\n",
      "No Programs have been established for these stores listed:\n",
      "\n",
      " [206, 614, 626, 678, 694, 735, 735, 848, 2803]\n",
      "kvat_external_sales_report_Nov-07-2022.xlsx\n",
      "Error: No objects to concatenate\n",
      "\n",
      "Sales Report Generated\n"
     ]
    }
   ],
   "source": [
    "# kvat \n",
    "from store_info import Replenishment\n",
    "\n",
    "kvat = Replenishment(store_type_input='kvat')\n",
    "\n",
    "\n",
    "kvat.sales_update(sales_data_file_path + r'\\kvat_sales.xlsx')\n",
    "kvat.delivery_update(delivery_data_file_path + r'\\kvat.csv')\n",
    "kvat.sales_report()"
   ]
  },
  {
   "cell_type": "code",
   "execution_count": 15,
   "id": "6ab69390",
   "metadata": {},
   "outputs": [
    {
     "ename": "IndexError",
     "evalue": "list index out of range",
     "output_type": "error",
     "traceback": [
      "\u001b[1;31m---------------------------------------------------------------------------\u001b[0m",
      "\u001b[1;31mIndexError\u001b[0m                                Traceback (most recent call last)",
      "\u001b[1;32m~\\AppData\\Local\\Temp/ipykernel_5700/511126242.py\u001b[0m in \u001b[0;36m<module>\u001b[1;34m\u001b[0m\n\u001b[0;32m      4\u001b[0m \u001b[0msafeway_denver\u001b[0m\u001b[1;33m=\u001b[0m \u001b[0mReplenishment\u001b[0m\u001b[1;33m(\u001b[0m\u001b[0mstore_type_input\u001b[0m\u001b[1;33m=\u001b[0m\u001b[1;34m'safeway_denver'\u001b[0m\u001b[1;33m)\u001b[0m\u001b[1;33m\u001b[0m\u001b[1;33m\u001b[0m\u001b[0m\n\u001b[0;32m      5\u001b[0m \u001b[1;33m\u001b[0m\u001b[0m\n\u001b[1;32m----> 6\u001b[1;33m \u001b[0msafeway_denver\u001b[0m\u001b[1;33m.\u001b[0m\u001b[0msales_update\u001b[0m\u001b[1;33m(\u001b[0m\u001b[0msales_data_file_path\u001b[0m \u001b[1;33m+\u001b[0m \u001b[1;34mr'\\denver_sales.xlsx'\u001b[0m\u001b[1;33m)\u001b[0m\u001b[1;33m\u001b[0m\u001b[1;33m\u001b[0m\u001b[0m\n\u001b[0m\u001b[0;32m      7\u001b[0m \u001b[0msafeway_denver\u001b[0m\u001b[1;33m.\u001b[0m\u001b[0mdelivery_update\u001b[0m\u001b[1;33m(\u001b[0m\u001b[0mdelivery_data_file_path\u001b[0m \u001b[1;33m+\u001b[0m \u001b[1;34mr'\\denver.csv'\u001b[0m\u001b[1;33m)\u001b[0m\u001b[1;33m\u001b[0m\u001b[1;33m\u001b[0m\u001b[0m\n\u001b[0;32m      8\u001b[0m \u001b[0msafeway_denver\u001b[0m\u001b[1;33m.\u001b[0m\u001b[0msales_report\u001b[0m\u001b[1;33m(\u001b[0m\u001b[1;33m)\u001b[0m\u001b[1;33m\u001b[0m\u001b[1;33m\u001b[0m\u001b[0m\n",
      "\u001b[1;32m~\\OneDrive\\WinWin Staff Folders\\Michael\\Replenishment program\\Replenishment\\store_info.py\u001b[0m in \u001b[0;36msales_update\u001b[1;34m(self, current_weeks_sales, previous_weeks_sales)\u001b[0m\n\u001b[0;32m    401\u001b[0m         \u001b[1;32melif\u001b[0m \u001b[0mself\u001b[0m\u001b[1;33m.\u001b[0m\u001b[0mstore_type_input\u001b[0m \u001b[1;33m==\u001b[0m \u001b[1;34m'safeway_denver'\u001b[0m\u001b[1;33m:\u001b[0m\u001b[1;33m\u001b[0m\u001b[1;33m\u001b[0m\u001b[0m\n\u001b[0;32m    402\u001b[0m \u001b[1;33m\u001b[0m\u001b[0m\n\u001b[1;32m--> 403\u001b[1;33m             \u001b[0msales_data\u001b[0m \u001b[1;33m=\u001b[0m \u001b[0mtransform\u001b[0m\u001b[1;33m.\u001b[0m\u001b[0msafeway_denver_transform\u001b[0m\u001b[1;33m(\u001b[0m\u001b[0mcurrent_weeks_sales\u001b[0m\u001b[1;33m)\u001b[0m\u001b[1;33m\u001b[0m\u001b[1;33m\u001b[0m\u001b[0m\n\u001b[0m\u001b[0;32m    404\u001b[0m \u001b[1;33m\u001b[0m\u001b[0m\n\u001b[0;32m    405\u001b[0m         \u001b[1;32melif\u001b[0m \u001b[0mself\u001b[0m\u001b[1;33m.\u001b[0m\u001b[0mstore_type_input\u001b[0m \u001b[1;33m==\u001b[0m \u001b[1;34m'jewel'\u001b[0m\u001b[1;33m:\u001b[0m\u001b[1;33m\u001b[0m\u001b[1;33m\u001b[0m\u001b[0m\n",
      "\u001b[1;32m~\\OneDrive\\WinWin Staff Folders\\Michael\\Replenishment program\\Replenishment\\Update\\Transform_Sales_Data\\transform.py\u001b[0m in \u001b[0;36msafeway_denver_transform\u001b[1;34m(self, file)\u001b[0m\n\u001b[0;32m    266\u001b[0m         \u001b[0mstring\u001b[0m \u001b[1;33m=\u001b[0m \u001b[0mstring\u001b[0m\u001b[1;33m[\u001b[0m\u001b[1;36m1\u001b[0m\u001b[1;33m]\u001b[0m\u001b[1;33m.\u001b[0m\u001b[0msplit\u001b[0m\u001b[1;33m(\u001b[0m\u001b[1;33m)\u001b[0m\u001b[1;33m\u001b[0m\u001b[1;33m\u001b[0m\u001b[0m\n\u001b[0;32m    267\u001b[0m \u001b[1;33m\u001b[0m\u001b[0m\n\u001b[1;32m--> 268\u001b[1;33m         \u001b[0mdate_string\u001b[0m \u001b[1;33m=\u001b[0m \u001b[0mstring\u001b[0m\u001b[1;33m[\u001b[0m\u001b[1;36m4\u001b[0m\u001b[1;33m]\u001b[0m\u001b[1;33m\u001b[0m\u001b[1;33m\u001b[0m\u001b[0m\n\u001b[0m\u001b[0;32m    269\u001b[0m \u001b[1;33m\u001b[0m\u001b[0m\n\u001b[0;32m    270\u001b[0m         \u001b[1;31m# computed date\u001b[0m\u001b[1;33m\u001b[0m\u001b[1;33m\u001b[0m\u001b[0m\n",
      "\u001b[1;31mIndexError\u001b[0m: list index out of range"
     ]
    }
   ],
   "source": [
    "# safeway denver\n",
    "from store_info import Replenishment\n",
    "\n",
    "safeway_denver= Replenishment(store_type_input='safeway_denver')\n",
    "\n",
    "safeway_denver.sales_update(sales_data_file_path + r'\\denver_sales.xlsx')\n",
    "safeway_denver.delivery_update(delivery_data_file_path + r'\\denver.csv')\n",
    "safeway_denver.sales_report()"
   ]
  },
  {
   "cell_type": "code",
   "execution_count": 13,
   "id": "c0c83341",
   "metadata": {},
   "outputs": [
    {
     "name": "stdout",
     "output_type": "stream",
     "text": [
      "Found code for Sales table in support sheet instead of delivery table store 376 upc: 81031202385\n",
      "\n",
      " kroger_cincinatti Sales Data Updated\n",
      "Updated: 128 Records\n",
      "Inserted: 149 Records\n",
      "\n",
      " kroger_cincinatti Delivery Data Updated\n",
      "Updated: 100 Records\n",
      "Inserted: 21 Records\n",
      "No Programs have been established for these stores listed:\n",
      "\n",
      " []\n",
      "kroger_cincinatti_external_sales_report_Nov-07-2022.xlsx\n",
      "\n",
      "Sales Report Generated\n"
     ]
    }
   ],
   "source": [
    "# cincinatti\n",
    "from store_info import Replenishment\n",
    "\n",
    "atlanta = Replenishment(store_type_input='kroger_cincinatti')\n",
    "\n",
    "atlanta.sales_update(sales_data_file_path + r'\\Sherlock Store Matrix.csv')\n",
    "atlanta.delivery_update(delivery_data_file_path + r'\\cincinatti.csv')\n",
    "atlanta.sales_report()"
   ]
  },
  {
   "cell_type": "code",
   "execution_count": 14,
   "id": "60c9a54b",
   "metadata": {},
   "outputs": [
    {
     "name": "stdout",
     "output_type": "stream",
     "text": [
      "Found code for Sales table in support sheet instead of delivery table store 625 upc: 81031202272\n",
      "Found code for Sales table in support sheet instead of delivery table store 625 upc: 81031202273\n",
      "Found code for Sales table in support sheet instead of delivery table store 625 upc: 81031202268\n",
      "Found code for Sales table in support sheet instead of delivery table store 622 upc: 81031202059\n",
      "Found code for Sales table in support sheet instead of delivery table store 625 upc: 81031202268\n",
      "Found code for Sales table in support sheet instead of delivery table store 625 upc: 81031202069\n",
      "Found code for Sales table in support sheet instead of delivery table store 625 upc: 81031202155\n",
      "\n",
      " kroger_delta Sales Data Updated\n",
      "Updated: 9 Records\n",
      "Inserted: 10 Records\n"
     ]
    }
   ],
   "source": [
    "\n",
    "delta = Replenishment(store_type_input='kroger_delta')\n",
    "\n",
    "delta.sales_update(sales_data_file_path + r'\\Sherlock Store Matrix.csv')\n",
    "# delta.delivery_update(file=r'C:\\Users\\User1\\OneDrive\\WinWin Staff Folders\\Michael\\Replenishment program\\Replenishment\\support document\\deliveries\\delta.csv')\n",
    "# delta.sales_report()"
   ]
  },
  {
   "cell_type": "code",
   "execution_count": 15,
   "id": "a930968f",
   "metadata": {},
   "outputs": [
    {
     "name": "stdout",
     "output_type": "stream",
     "text": [
      "No Programs have been established for these stores listed:\n",
      "\n",
      " []\n",
      "Kroger Corporate Report Generated\n"
     ]
    }
   ],
   "source": [
    "# Be sure to update all sales tables for all stores in the Kroger Division. \n",
    "# Kroger Corporate Report\n",
    "\n",
    "kroger_corporate = Replenishment(store_type_input='kroger_dallas')\n",
    "\n",
    "kroger_corporate.kroger_corporate_report()\n",
    "\n"
   ]
  },
  {
   "cell_type": "code",
   "execution_count": null,
   "id": "05cfb0a3",
   "metadata": {},
   "outputs": [],
   "source": []
  }
 ],
 "metadata": {
  "interpreter": {
   "hash": "eb4e0a0fd1d19bb9a06c4c3c2c2cf016517ec825f23f225e84b2f7e81a104fe7"
  },
  "kernelspec": {
   "display_name": "Python 3 (ipykernel)",
   "language": "python",
   "name": "python3"
  },
  "language_info": {
   "codemirror_mode": {
    "name": "ipython",
    "version": 3
   },
   "file_extension": ".py",
   "mimetype": "text/x-python",
   "name": "python",
   "nbconvert_exporter": "python",
   "pygments_lexer": "ipython3",
   "version": "3.9.7"
  }
 },
 "nbformat": 4,
 "nbformat_minor": 5
}
