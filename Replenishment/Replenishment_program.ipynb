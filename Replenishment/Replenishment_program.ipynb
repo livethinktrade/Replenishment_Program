{
 "cells": [
  {
   "cell_type": "code",
   "execution_count": 1,
   "id": "e6208782",
   "metadata": {},
   "outputs": [
    {
     "name": "stdout",
     "output_type": "stream",
     "text": [
      "\n",
      "Enter the Current Year\n",
      "2022\n",
      "\n",
      "Enter the Current Week\n",
      "21\n"
     ]
    }
   ],
   "source": [
    "from store_info import Replenishment\n",
    "from Sales_Report.Reports.reports import *\n",
    "\n",
    "print('\\nEnter the Current Year')\n",
    "year = int(input())\n",
    "\n",
    "print('\\nEnter the Current Week')\n",
    "week = int(input())\n"
   ]
  },
  {
   "cell_type": "code",
   "execution_count": 10,
   "id": "e334c275",
   "metadata": {},
   "outputs": [
    {
     "name": "stdout",
     "output_type": "stream",
     "text": [
      "texas_division\n",
      "('pass', 'pass')\n"
     ]
    }
   ],
   "source": [
    "# STEP 1 start of program and data check\n",
    "\n",
    "\n",
    "\n",
    "store_type_input = input()\n",
    "\n",
    "connection_pool = pool.SimpleConnectionPool(1, 10000, \n",
    "                                            database= f\"{store_type_input}\", \n",
    "                                            user=\"postgres\", \n",
    "                                            password=\"winwin\", \n",
    "                                            host=\"localhost\")\n",
    "\n",
    "\n",
    "\n",
    "\n",
    "\n",
    "# reads in new delivery data and puts it into a df\n",
    "new_deliv = pd.read_excel(rf'C:\\Users\\User1\\OneDrive\\WinWin Staff Folders\\Michael\\Groccery Store Program\\{store_type_input}\\{store_type_input}_deliverydata.xlsx')\n",
    "\n",
    "# reads in new sales data and puts it into a df\n",
    "new_sales = pd.read_excel(rf'C:\\Users\\User1\\OneDrive\\WinWin Staff Folders\\Michael\\Groccery Store Program\\{store_type_input}\\{store_type_input}_salesdata.xlsx')\n",
    "\n",
    "# reads in support data and puts it into a df\n",
    "itemsupport = pd.read_excel(\"support.xlsx\")\n",
    "\n",
    "# reads in store capactiy data and puts it into a df\n",
    "case_capacity = pd.read_excel(rf'C:\\Users\\User1\\OneDrive\\WinWin Staff Folders\\Michael\\Groccery Store Program\\{store_type_input}\\{store_type_input}_casecapacity.xlsx')\n",
    "\n",
    "\n",
    "# def dataimport_check():\n",
    "\n",
    "#     i=0\n",
    "#     sales_check_count = len(new_sales)\n",
    "#     while i < sales_check_count:\n",
    "\n",
    "#         sales_check = new_sales.iloc[i,9]\n",
    "#         if store_type_input == sales_check:\n",
    "#             i+=1\n",
    "#             sales_result = \"pass\" \n",
    "\n",
    "#         else:\n",
    "            \n",
    "#             print(\"sales check fail\")\n",
    "#             sales_result = \"fail\"\n",
    "#             break\n",
    "\n",
    "#     if sales_result == 'pass':\n",
    "        \n",
    "#         i=0\n",
    "#         deliv_check_count = len(new_deliv)\n",
    "#         while i < deliv_check_count:\n",
    "\n",
    "#             deliv_check = new_deliv.iloc[i,6]\n",
    "#             if store_type_input == deliv_check:\n",
    "#                 i+=1\n",
    "#                 deliv_result = \"pass\" \n",
    "\n",
    "#             else:\n",
    "                \n",
    "#                 print(\"deliv check fail\")\n",
    "#                 deliv_result = \"fail\"\n",
    "#                 break\n",
    "#     return sales_result, deliv_result\n",
    "        \n",
    "# check = dataimport_check()\n",
    "# print(check)"
   ]
  },
  {
   "cell_type": "code",
   "execution_count": 12,
   "id": "20733ea8",
   "metadata": {},
   "outputs": [],
   "source": [
    "#STEP 1.5 DELETE ALL PRE-EXISTING DATA\n",
    "connection = connection_pool.getconn()\n",
    "cursor = connection.cursor()\n",
    "cursor.execute('DELETE FROM SALES;')\n",
    "\n",
    "connection.commit()\n",
    "cursor.close()\n",
    "connection_pool.putconn(connection)"
   ]
  },
  {
   "cell_type": "code",
   "execution_count": null,
   "id": "33c189c2",
   "metadata": {},
   "outputs": [],
   "source": [
    "# this code is to delete create or whatever you want to do with tablesw and views for all store databasesS\n",
    "\n",
    "sql_code = \"\"\"\n",
    "select * from sales\n",
    "\n",
    "\n",
    "\"\"\"\n",
    "\n",
    "sql_setup(sql_code)"
   ]
  },
  {
   "cell_type": "code",
   "execution_count": 2,
   "id": "1e308657",
   "metadata": {},
   "outputs": [],
   "source": [
    "import datetime\n",
    "import re\n",
    "import pandas as pd\n",
    "import datetime as dt\n",
    "import psycopg2\n",
    "\n",
    "import pandas.io.sql as psql\n",
    "\n",
    "import numpy as np\n",
    "from psycopg2.extensions import register_adapter, AsIs\n",
    "psycopg2.extensions.register_adapter(np.int64, psycopg2._psycopg.AsIs)\n",
    "\n",
    "#downloads the sales & delivery data for all stores\n",
    "store_list = [  \n",
    "                'acme',\n",
    "                'brookshire',\n",
    "                'fresh_encounter', \n",
    "                'intermountain', \n",
    "                'jewel',\n",
    "                'kroger_central', \n",
    "                'kroger_columbus',\n",
    "                'kroger_dallas', \n",
    "                'kroger_delta', \n",
    "                'kroger_michigan',\n",
    "                'kvat', \n",
    "                'safeway_denver', \n",
    "                'texas_division']\n",
    "\n",
    "i= 0\n",
    "num_of_store = len(store_list)\n",
    "\n",
    "date = datetime.date.today()\n",
    "date = date.strftime(\"%b-%d-%Y\")\n",
    "\n",
    "\n",
    "\n",
    "while i < num_of_store:\n",
    "\n",
    "    store = store_list[i]\n",
    "    connection = psycopg2.connect(database=f\"{store}\", user=\"postgres\", password=\"winwin\", host=\"localhost\")\n",
    "\n",
    "    num = psql.read_sql(f\"select * from delivery\", connection)\n",
    "\n",
    "    num.to_excel(f'{store}_deliverydata_backup_{date}.xlsx', index = False)\n",
    "    i+=1\n",
    "\n",
    "i= 0\n",
    "num_of_store = len(store_list)\n",
    "\n",
    "while i < num_of_store:\n",
    "\n",
    "    store = store_list[i]\n",
    "    connection = psycopg2.connect(database=f\"{store}\", user=\"postgres\", password=\"winwin\", host=\"localhost\")\n",
    "\n",
    "    num = psql.read_sql(f\"select * from sales\", connection)\n",
    "\n",
    "    \n",
    "    num.to_excel(f'{store}_salesdata_backup_{date}.xlsx', index = False)\n",
    "    i+=1\n",
    "    \n",
    "    \n",
    "    \n",
    "    \n",
    "\n"
   ]
  },
  {
   "cell_type": "code",
   "execution_count": 2,
   "id": "2f224c69",
   "metadata": {},
   "outputs": [],
   "source": []
  },
  {
   "cell_type": "code",
   "execution_count": 7,
   "id": "81f23ed6",
   "metadata": {},
   "outputs": [
    {
     "name": "stdout",
     "output_type": "stream",
     "text": [
      "\n",
      "Sales Data Imported\n",
      "\n",
      "Delivery Data Updated\n",
      "Updated: 31 Records\n",
      "Inserted: 4 Records\n",
      "\n",
      "Sales Report Generated\n"
     ]
    }
   ],
   "source": [
    "# Mid-Atlantic\n",
    "\n",
    "acme = Replenishment(store_type_input='acme',\n",
    "                     transition_date_range='2022SS', \n",
    "                     current_year = year , \n",
    "                     current_week= week)\n",
    "\n",
    "acme.sales_import('acme_salesdata')\n",
    "acme.delivery_update(file='acme')\n",
    "acme.sales_report()\n",
    "\n",
    "        \n"
   ]
  },
  {
   "cell_type": "code",
   "execution_count": 2,
   "id": "a9f69153",
   "metadata": {},
   "outputs": [
    {
     "name": "stdout",
     "output_type": "stream",
     "text": [
      "\n",
      "Sales Data Imported\n",
      "\n",
      "Delivery Data Updated\n",
      "Updated: 12 Records\n",
      "Inserted: 9 Records\n",
      "\n",
      "Sales Report Generated\n"
     ]
    }
   ],
   "source": [
    "# Texas Division\n",
    "\n",
    "texas_division = Replenishment(store_type_input='texas_division',\n",
    "                               transition_date_range='2022SS', \n",
    "                               current_year = year , \n",
    "                               current_week= week)\n",
    "\n",
    "# texas_division.sales_update(file='')\n",
    "texas_division.sales_import('texas_division_salesdata')\n",
    "texas_division.delivery_update(file='texas')\n",
    "texas_division.sales_report()\n",
    "\n",
    "        "
   ]
  },
  {
   "cell_type": "code",
   "execution_count": null,
   "id": "3347f407",
   "metadata": {},
   "outputs": [],
   "source": [
    "# brookshire\n",
    "\n",
    "brookshire = Replenishment(store_type_input='brookshire',\n",
    "                               transition_date_range='2022SS', \n",
    "                               current_year = year , \n",
    "                               current_week= week)\n",
    "brookshire.sales_update(file='')\n",
    "brookshire.delivery_update(file='brookshire')\n",
    "brookshire.sales_report()\n"
   ]
  },
  {
   "cell_type": "code",
   "execution_count": 8,
   "id": "ef4bf278",
   "metadata": {},
   "outputs": [
    {
     "name": "stdout",
     "output_type": "stream",
     "text": [
      "\n",
      "Sales Data Imported\n",
      "\n",
      "Delivery Data Updated\n",
      "Updated: 250 Records\n",
      "Inserted: 6 Records\n",
      "\n",
      "Sales Report Generated\n"
     ]
    }
   ],
   "source": [
    "# fresh Encounter\n",
    "\n",
    "fresh_encounter = Replenishment(store_type_input='fresh_encounter',\n",
    "                               transition_date_range='2022SS', \n",
    "                               current_year = year , \n",
    "                               current_week= 1)\n",
    "\n",
    "fresh_encounter.sales_import(file='fresh_encounter_salesdata')\n",
    "fresh_encounter.delivery_update(file='fresh_encounter')\n",
    "fresh_encounter.sales_report()"
   ]
  },
  {
   "cell_type": "code",
   "execution_count": 5,
   "id": "930a2b87",
   "metadata": {},
   "outputs": [
    {
     "name": "stdout",
     "output_type": "stream",
     "text": [
      "\n",
      "Sales Data Imported\n",
      "\n",
      "Delivery Data Updated\n",
      "Updated: 17 Records\n",
      "Inserted: 30 Records\n",
      "\n",
      "Sales Report Generated\n"
     ]
    }
   ],
   "source": [
    "# Intermountain \n",
    "\n",
    "intermountain = Replenishment(store_type_input='intermountain',\n",
    "                               transition_date_range='2022SS', \n",
    "                               current_year = year , \n",
    "                               current_week= week)\n",
    "\n",
    "# intermountain.sales_update(file='')\n",
    "intermountain.sales_import('intermountain_salesdata')\n",
    "intermountain.delivery_update(file='intermountain')\n",
    "intermountain.sales_report()"
   ]
  },
  {
   "cell_type": "code",
   "execution_count": 7,
   "id": "1b14fb31",
   "metadata": {},
   "outputs": [
    {
     "name": "stdout",
     "output_type": "stream",
     "text": [
      "\n",
      "Sales Report Generated\n"
     ]
    }
   ],
   "source": [
    "# jewel\n",
    "\n",
    "jewel = Replenishment(store_type_input='jewel',\n",
    "                               transition_date_range='2022SS', \n",
    "                               current_year = year , \n",
    "                               current_week= week)\n",
    "\n",
    "# jewel.sales_update(file='2022 Winwin Sales Data')\n",
    "# jewel.sales_import('jewel_salesdata')\n",
    "# jewel.delivery_update(file='jewel')\n",
    "jewel.sales_report()"
   ]
  },
  {
   "cell_type": "code",
   "execution_count": null,
   "id": "2628b1d3",
   "metadata": {},
   "outputs": [],
   "source": [
    "# atlanta\n",
    "\n",
    "atlanta = Replenishment(store_type_input='kroger_atlanta',\n",
    "                               transition_date_range='2022SS', \n",
    "                               current_year = year , \n",
    "                               current_week= week)\n",
    "\n",
    "atlanta.sales_update(file='')\n",
    "atlanta.delivery_update(file='')\n",
    "atlanta.sales_report()"
   ]
  },
  {
   "cell_type": "code",
   "execution_count": 2,
   "id": "68debb9c",
   "metadata": {},
   "outputs": [
    {
     "name": "stderr",
     "output_type": "stream",
     "text": [
      "C:\\Users\\User1\\anaconda3\\lib\\site-packages\\pandas\\core\\frame.py:3641: SettingWithCopyWarning: \n",
      "A value is trying to be set on a copy of a slice from a DataFrame.\n",
      "Try using .loc[row_indexer,col_indexer] = value instead\n",
      "\n",
      "See the caveats in the documentation: https://pandas.pydata.org/pandas-docs/stable/user_guide/indexing.html#returning-a-view-versus-a-copy\n",
      "  self[k1] = value[k2]\n",
      "C:\\Users\\User1\\OneDrive\\WinWin Staff Folders\\Michael\\Replenishment program\\Replenishment\\Update\\Transform_Sales_Data\\transform.py:48: FutureWarning: The default value of regex will change from True to False in a future version.\n",
      "  new['RPT_SHORT_DESC'] = new.RPT_SHORT_DESC.str.replace('[^a-zA-Z]', '')\n",
      "C:\\Users\\User1\\OneDrive\\WinWin Staff Folders\\Michael\\Replenishment program\\Replenishment\\Update\\Transform_Sales_Data\\transform.py:96: SettingWithCopyWarning: \n",
      "A value is trying to be set on a copy of a slice from a DataFrame.\n",
      "Try using .loc[row_indexer,col_indexer] = value instead\n",
      "\n",
      "See the caveats in the documentation: https://pandas.pydata.org/pandas-docs/stable/user_guide/indexing.html#returning-a-view-versus-a-copy\n",
      "  filter_df['store_type'] = store_list[divisions[i]]\n"
     ]
    },
    {
     "name": "stdout",
     "output_type": "stream",
     "text": [
      "\n",
      "Sales Data Updated\n",
      "Updated: 90 Records\n",
      "Inserted: 144 Records\n",
      "\n",
      "Delivery Data Updated\n",
      "Updated: 42 Records\n",
      "Inserted: 13 Records\n",
      "\n",
      "Sales Report Generated\n"
     ]
    }
   ],
   "source": [
    "# central\n",
    "\n",
    "central = Replenishment(store_type_input='kroger_central',\n",
    "                               transition_date_range='2022SS', \n",
    "                               current_year = year , \n",
    "                               current_week= week)\n",
    "\n",
    "central.sales_update(file='Sherlock Store Matrix')\n",
    "central.delivery_update(file='central')\n",
    "central.sales_report()"
   ]
  },
  {
   "cell_type": "code",
   "execution_count": 3,
   "id": "b125d768",
   "metadata": {},
   "outputs": [
    {
     "name": "stdout",
     "output_type": "stream",
     "text": [
      "\n",
      "Sales Data Updated\n",
      "Updated: 187 Records\n",
      "Inserted: 236 Records\n",
      "\n",
      "Delivery Data Updated\n",
      "Updated: 132 Records\n",
      "Inserted: 39 Records\n",
      "\n",
      "Sales Report Generated\n"
     ]
    }
   ],
   "source": [
    "# columubus\n",
    "\n",
    "columbus = Replenishment(store_type_input='kroger_columbus',\n",
    "                               transition_date_range='2022SS', \n",
    "                               current_year = year , \n",
    "                               current_week= week)\n",
    "\n",
    "columbus.sales_update(file='Sherlock Store Matrix')\n",
    "columbus.delivery_update(file='columbus')\n",
    "columbus.sales_report()"
   ]
  },
  {
   "cell_type": "code",
   "execution_count": 4,
   "id": "4bd39071",
   "metadata": {},
   "outputs": [
    {
     "name": "stdout",
     "output_type": "stream",
     "text": [
      "\n",
      "Sales Data Updated\n",
      "Updated: 46 Records\n",
      "Inserted: 56 Records\n",
      "\n",
      "Delivery Data Updated\n",
      "Updated: 7 Records\n",
      "Inserted: 1 Records\n",
      "\n",
      "Sales Report Generated\n"
     ]
    }
   ],
   "source": [
    "# dallas\n",
    "\n",
    "dallas = Replenishment(store_type_input='kroger_dallas',\n",
    "                               transition_date_range='2022SS', \n",
    "                               current_year = year , \n",
    "                               current_week= week)\n",
    "\n",
    "dallas.sales_update(file='Sherlock Store Matrix')\n",
    "dallas.delivery_update(file='dallas')\n",
    "dallas.sales_report()"
   ]
  },
  {
   "cell_type": "code",
   "execution_count": null,
   "id": "93579b28",
   "metadata": {},
   "outputs": [],
   "source": [
    "# delta\n",
    "\n",
    "delta = Replenishment(store_type_input='',\n",
    "                               transition_date_range='2022SS', \n",
    "                               current_year = year , \n",
    "                               current_week= week)\n",
    "\n",
    "delta.sales_update(file='')\n",
    "delta.delivery_update(file='')\n",
    "delta.sales_report()"
   ]
  },
  {
   "cell_type": "code",
   "execution_count": null,
   "id": "4b6df5d5",
   "metadata": {},
   "outputs": [],
   "source": [
    "# dillons\n",
    "\n",
    "dillons = Replenishment(store_type_input='',\n",
    "                               transition_date_range='2022SS', \n",
    "                               current_year = year , \n",
    "                               current_week= week)\n",
    "dillons.sales_update(file='')\n",
    "dillons.delivery_update(file='')\n",
    "dillons.sales_report()"
   ]
  },
  {
   "cell_type": "code",
   "execution_count": null,
   "id": "881ba544",
   "metadata": {},
   "outputs": [],
   "source": [
    "# king sooper\n",
    "\n",
    " king_sooper= Replenishment(store_type_input='',\n",
    "                               transition_date_range='2022SS', \n",
    "                               current_year = year , \n",
    "                               current_week= week)\n",
    "    \n",
    "king_sooper.sales_update(file='')\n",
    "king_sooper.delivery_update(file='')\n",
    "king_sooper.sales_report()"
   ]
  },
  {
   "cell_type": "code",
   "execution_count": null,
   "id": "1efb8bb5",
   "metadata": {},
   "outputs": [],
   "source": [
    "# louisville\n",
    "\n",
    "louisville = Replenishment(store_type_input='',\n",
    "                               transition_date_range='2022SS', \n",
    "                               current_year = year , \n",
    "                               current_week= week)\n",
    "\n",
    "louisville.sales_update(file='')\n",
    "louisville.delivery_update(file='')\n",
    "louisville.sales_report()"
   ]
  },
  {
   "cell_type": "code",
   "execution_count": 5,
   "id": "05d85060",
   "metadata": {},
   "outputs": [
    {
     "name": "stdout",
     "output_type": "stream",
     "text": [
      "\n",
      "Sales Data Updated\n",
      "Updated: 27 Records\n",
      "Inserted: 53 Records\n",
      "\n",
      "Delivery Data Updated\n",
      "Updated: 48 Records\n",
      "Inserted: 12 Records\n",
      "\n",
      "Sales Report Generated\n"
     ]
    }
   ],
   "source": [
    "# michigan\n",
    "\n",
    "michigan = Replenishment(store_type_input='kroger_michigan',\n",
    "                               transition_date_range='2022SS', \n",
    "                               current_year = year , \n",
    "                               current_week= week)\n",
    "\n",
    "michigan.sales_update(file='Sherlock Store Matrix')\n",
    "michigan.delivery_update(file='michigan')\n",
    "michigan.sales_report()"
   ]
  },
  {
   "cell_type": "code",
   "execution_count": null,
   "id": "04a8d7cc",
   "metadata": {},
   "outputs": [],
   "source": [
    "# nashville\n",
    "\n",
    "nashville = Replenishment(store_type_input='',\n",
    "                               transition_date_range='2022SS', \n",
    "                               current_year = year , \n",
    "                               current_week= week)\n",
    "\n",
    "nashville.sales_update(file='')\n",
    "nashville.delivery_update(file='')\n",
    "nashville.sales_report()"
   ]
  },
  {
   "cell_type": "code",
   "execution_count": 7,
   "id": "9d2cb4fe",
   "metadata": {},
   "outputs": [
    {
     "name": "stdout",
     "output_type": "stream",
     "text": [
      "\n",
      "Sales Data Updated\n",
      "Updated: 304 Records\n",
      "Inserted: 0 Records\n",
      "\n",
      "Delivery Data Updated\n",
      "Updated: 135 Records\n",
      "Inserted: 0 Records\n",
      "\n",
      "Sales Report Generated\n"
     ]
    }
   ],
   "source": [
    "# kvat \n",
    "\n",
    "kvat = Replenishment(store_type_input='kvat',\n",
    "                               transition_date_range='2022SS', \n",
    "                               current_year = year , \n",
    "                               current_week= week)\n",
    "\n",
    "kvat.sales_update(file='kvat_sales.xlsx')\n",
    "kvat.delivery_update(file='kvat')\n",
    "kvat.sales_report()"
   ]
  },
  {
   "cell_type": "code",
   "execution_count": 2,
   "id": "6ab69390",
   "metadata": {},
   "outputs": [
    {
     "name": "stdout",
     "output_type": "stream",
     "text": [
      "\n",
      "Sales Data Updated\n",
      "Updated: 0 Records\n",
      "Inserted: 172 Records\n",
      "\n",
      "Delivery Data Updated\n",
      "Updated: 33 Records\n",
      "Inserted: 6 Records\n",
      "\n",
      "Sales Report Generated\n"
     ]
    }
   ],
   "source": [
    "# safeway denver\n",
    "\n",
    "safeway_denver= Replenishment(store_type_input='safeway_denver',\n",
    "                               transition_date_range='2022SS', \n",
    "                               current_year = year , \n",
    "                               current_week= week)\n",
    "\n",
    "safeway_denver.sales_update(file='safeway_sales.xlsx')\n",
    "safeway_denver.delivery_update(file='denver')\n",
    "safeway_denver.sales_report()"
   ]
  },
  {
   "cell_type": "code",
   "execution_count": null,
   "id": "138ab00e",
   "metadata": {},
   "outputs": [],
   "source": []
  }
 ],
 "metadata": {
  "interpreter": {
   "hash": "eb4e0a0fd1d19bb9a06c4c3c2c2cf016517ec825f23f225e84b2f7e81a104fe7"
  },
  "kernelspec": {
   "display_name": "Python 3 (ipykernel)",
   "language": "python",
   "name": "python3"
  },
  "language_info": {
   "codemirror_mode": {
    "name": "ipython",
    "version": 3
   },
   "file_extension": ".py",
   "mimetype": "text/x-python",
   "name": "python",
   "nbconvert_exporter": "python",
   "pygments_lexer": "ipython3",
   "version": "3.9.7"
  }
 },
 "nbformat": 4,
 "nbformat_minor": 5
}
