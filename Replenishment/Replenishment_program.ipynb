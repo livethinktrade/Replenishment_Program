{
 "cells": [
  {
   "cell_type": "code",
   "execution_count": 1,
   "id": "e6208782",
   "metadata": {},
   "outputs": [
    {
     "name": "stdout",
     "output_type": "stream",
     "text": [
      "\n",
      "Support Sheet Imported\n",
      "Updated: 377\n",
      "Inserted: 0\n",
      "\n",
      "Inventory list imported\n",
      "Updated: 477 Records\n",
      "Inserted: 0 Records\n"
     ]
    }
   ],
   "source": [
    "from src.store_info import DbUpdater\n",
    "from src.Sales_Report.Reports.reports import Reports\n",
    "import os\n",
    "\n",
    "store = DbUpdater(store_type_input='midwest')\n",
    "sales_data_file_path = os.getcwd() + r'\\support document\\sales'\n",
    "delivery_data_file_path = os.getcwd() + r'\\support document\\deliveries'\n",
    "\n",
    "store.support_import(os.getcwd() + '\\support document\\support_sheet.xlsx')\n",
    "store.inventory_import(os.getcwd() + '\\support document\\inventory\\inventory.csv')\n"
   ]
  },
  {
   "cell_type": "markdown",
   "id": "addbd8bb",
   "metadata": {},
   "source": [
    "# <span style=\"color:red\">Instructions to update store planograms </span>\n",
    "\n",
    "#### 1) Go into the the store settings file and add or de-activate programs that you want to change  \n",
    "#### 2) In the next cell below, Change the string to the store_type_input below to the desired store\n",
    "#### 3) Run program. "
   ]
  },
  {
   "cell_type": "code",
   "execution_count": 11,
   "id": "4f2ccd4f",
   "metadata": {},
   "outputs": [
    {
     "name": "stdout",
     "output_type": "stream",
     "text": [
      "Type in Store Name: \n",
      "kroger_columbus\n",
      "\n",
      "Master Planogram list imported\n",
      "Updated: 34 Records\n",
      "Inserted: 0 Records\n",
      "\n",
      "Store Program Data Imported\n",
      "Updated: 62 Records\n",
      "Inserted: 1 Records\n",
      "Program History Insert: 1 Records\n",
      "\n",
      " Store Data Imported\n",
      "Updated: 63 Records\n",
      "Inserted: 0 Records\n"
     ]
    }
   ],
   "source": [
    "store_type_input = input('Type in Store Name: \\n')\n",
    "store = DbUpdater(store_type_input=f'{store_type_input}')\n",
    "\n",
    "\n",
    "\n",
    "# updates the master planogram\n",
    "store.master_planogram_import()\n",
    "\n",
    "# updates the planogram for each store based on the values set in the store setting.\n",
    "store.store_pog_import()\n",
    "\n",
    "# update notes\n",
    "store.store_notes_import()\n",
    "\n",
    "# store.store_approval_import('delta_approval.csv')\n"
   ]
  },
  {
   "cell_type": "code",
   "execution_count": 10,
   "id": "81f23ed6",
   "metadata": {
    "scrolled": true
   },
   "outputs": [
    {
     "name": "stdout",
     "output_type": "stream",
     "text": [
      "Please input the name of the sales file for the \"Current Sales Week\"\n",
      "11-17-22 acme.xlsx\n",
      "Please input the name of the sales file for the \"Previous Sales Week\"\n",
      "10-27-22 acme.xlsx\n"
     ]
    },
    {
     "name": "stderr",
     "output_type": "stream",
     "text": [
      "C:\\Users\\User1\\OneDrive\\WinWin Staff Folders\\Michael\\Replenishment program\\Replenishment\\src\\etl\\transform\\transform.py:1228: UserWarning: \n",
      "\n",
      "                  The 2 files from the sales data is showing that it is 3 weeks\n",
      "                  apart.\n",
      "\n",
      "                  Ideally the sales data imported should be from week to week. However if more than a weeks of sales data\n",
      "                  was missed being sent, it is still ok to import the sales data.\n",
      "\n",
      "                  If this is the case, enter 'VERIFIED' if not enter 'CANCEL'\n",
      "  warnings.warn(f\"\"\"\n"
     ]
    },
    {
     "name": "stdout",
     "output_type": "stream",
     "text": [
      "\n",
      "\n",
      "\n",
      "READ STATEMENT ABOVE:\tverified\n",
      "\n",
      " acme Sales Data Updated\n",
      "Updated: 0 Records\n",
      "Inserted: 356 Records\n",
      "\n",
      " acme Delivery Data Updated\n",
      "Updated: 90 Records\n",
      "Inserted: 13 Records\n",
      "Bandaids: 0 Records\n",
      "No Programs have been established for these stores listed:\n",
      "\n",
      " [996]\n"
     ]
    },
    {
     "name": "stderr",
     "output_type": "stream",
     "text": [
      "C:\\Users\\User1\\anaconda3\\lib\\site-packages\\pandas\\core\\indexing.py:1684: SettingWithCopyWarning: \n",
      "A value is trying to be set on a copy of a slice from a DataFrame.\n",
      "Try using .loc[row_indexer,col_indexer] = value instead\n",
      "\n",
      "See the caveats in the documentation: https://pandas.pydata.org/pandas-docs/stable/user_guide/indexing.html#returning-a-view-versus-a-copy\n",
      "  self.obj[key] = infer_fill_value(value)\n",
      "C:\\Users\\User1\\anaconda3\\lib\\site-packages\\pandas\\core\\indexing.py:1817: SettingWithCopyWarning: \n",
      "A value is trying to be set on a copy of a slice from a DataFrame.\n",
      "Try using .loc[row_indexer,col_indexer] = value instead\n",
      "\n",
      "See the caveats in the documentation: https://pandas.pydata.org/pandas-docs/stable/user_guide/indexing.html#returning-a-view-versus-a-copy\n",
      "  self._setitem_single_column(loc, value, pi)\n"
     ]
    },
    {
     "name": "stdout",
     "output_type": "stream",
     "text": [
      "C:\\Users\\User1\\OneDrive\\WinWin Staff Folders\\Michael\\Replenishment program\\Replenishment\\Reports Output\\acme_external_sales_report_Nov-18-2022.xlsx\n",
      "\n",
      "Sales Report Generated\n"
     ]
    }
   ],
   "source": [
    "# Mid-Atlantic\n",
    "from src.store_info import DbUpdater\n",
    "from src.Sales_Report.Reports.reports import Reports\n",
    "\n",
    "acme = DbUpdater(store_type_input='acme')\n",
    "report = Reports(acme.store_type_input, acme.store_setting)\n",
    "\n",
    "\n",
    "current_week = input('Please input the name of the sales file for the \"Current Sales Week\"\\n')\n",
    "previous_week = input('Please input the name of the sales file for the \"Previous Sales Week\"\\n')\n",
    "\n",
    "acme.sales_update(sales_data_file_path + rf'\\Albertsons Sales Data\\Acme\\{current_week}', sales_data_file_path + rf'\\Albertsons Sales Data\\Acme\\{previous_week}' )\n",
    "acme.delivery_update(delivery_data_file_path + r'\\acme.csv')\n",
    "\n",
    "report.generate_grocery_reports()"
   ]
  },
  {
   "cell_type": "code",
   "execution_count": 4,
   "id": "a9f69153",
   "metadata": {},
   "outputs": [
    {
     "name": "stdout",
     "output_type": "stream",
     "text": [
      "Please input the name of the sales file for the \"Current Sales Week\"\n",
      "10.22.22 texas.xlsm\n",
      "Please input the name of the sales file for the \"Previous Sales Week\"\n",
      "10.15.22 texas.xlsm\n"
     ]
    },
    {
     "name": "stderr",
     "output_type": "stream",
     "text": [
      "C:\\Users\\User1\\OneDrive\\WinWin Staff Folders\\Michael\\Replenishment program\\Replenishment\\Update\\Transform_Sales_Data\\transform.py:507: SettingWithCopyWarning: \n",
      "A value is trying to be set on a copy of a slice from a DataFrame.\n",
      "Try using .loc[row_indexer,col_indexer] = value instead\n",
      "\n",
      "See the caveats in the documentation: https://pandas.pydata.org/pandas-docs/stable/user_guide/indexing.html#returning-a-view-versus-a-copy\n",
      "  df['store_year'] = store_year\n",
      "C:\\Users\\User1\\OneDrive\\WinWin Staff Folders\\Michael\\Replenishment program\\Replenishment\\Update\\Transform_Sales_Data\\transform.py:508: SettingWithCopyWarning: \n",
      "A value is trying to be set on a copy of a slice from a DataFrame.\n",
      "Try using .loc[row_indexer,col_indexer] = value instead\n",
      "\n",
      "See the caveats in the documentation: https://pandas.pydata.org/pandas-docs/stable/user_guide/indexing.html#returning-a-view-versus-a-copy\n",
      "  df['store_week'] = store_week\n",
      "C:\\Users\\User1\\OneDrive\\WinWin Staff Folders\\Michael\\Replenishment program\\Replenishment\\Update\\Transform_Sales_Data\\transform.py:510: SettingWithCopyWarning: \n",
      "A value is trying to be set on a copy of a slice from a DataFrame.\n",
      "Try using .loc[row_indexer,col_indexer] = value instead\n",
      "\n",
      "See the caveats in the documentation: https://pandas.pydata.org/pandas-docs/stable/user_guide/indexing.html#returning-a-view-versus-a-copy\n",
      "  df['date'] = date\n",
      "C:\\Users\\User1\\OneDrive\\WinWin Staff Folders\\Michael\\Replenishment program\\Replenishment\\Update\\Transform_Sales_Data\\transform.py:1106: UserWarning: \n",
      "    \n",
      "                The 2 files from the sales data is showing that it is 2 weeks\n",
      "                apart.\n",
      "    \n",
      "                Ideally the sales data imported should be from week to week. However if more than a weeks of sales data\n",
      "                was missed being sent, it is still ok to import the sales data.\n",
      "    \n",
      "                If this is the case, enter 'VERIFIED' if not enter 'CANCEL'\n",
      "  warnings.warn(f\"\"\"\n"
     ]
    },
    {
     "name": "stdout",
     "output_type": "stream",
     "text": [
      "\n",
      "\n",
      "\n",
      "READ STATEMENT ABOVE:\tverified\n",
      "Found code for Sales table in support sheet instead of delivery table store 4176 upc: 81031202229\n",
      "Found code for Sales table in support sheet instead of delivery table store 4176 upc: 81031202230\n",
      "Found code for Sales table in support sheet instead of delivery table store 4272 upc: 81031202337\n",
      "Found code for Sales table in support sheet instead of delivery table store 4279 upc: 81031202278\n",
      "Found code for Sales table in support sheet instead of delivery table store 1262 upc: 81031202155\n",
      "Found code for Sales table in support sheet instead of delivery table store 3621 upc: 81031202337\n",
      "Found code for Sales table in support sheet instead of delivery table store 4191 upc: 81031202337\n",
      "Found code for Sales table in support sheet instead of delivery table store 4267 upc: 81031202337\n",
      "Found code for Sales table in support sheet instead of delivery table store 4267 upc: 81031202144\n",
      "Found code for Sales table in support sheet instead of delivery table store 1783 upc: 81031202163\n",
      "Found code for Sales table in support sheet instead of delivery table store 1783 upc: 81031202257\n",
      "Found code for Sales table in support sheet instead of delivery table store 4112 upc: 81031202229\n",
      "Found code for Sales table in support sheet instead of delivery table store 4234 upc: 81031202163\n",
      "Found code for Sales table in support sheet instead of delivery table store 2477 upc: 81031202155\n",
      "Found code for Sales table in support sheet instead of delivery table store 1041 upc: 81031202278\n",
      "Found code for Sales table in support sheet instead of delivery table store 714 upc: 81031202337\n",
      "\n",
      " texas_division Sales Data Updated\n",
      "Updated: 0 Records\n",
      "Inserted: 112 Records\n",
      "\n",
      " texas_division Delivery Data Updated\n",
      "Updated: 74 Records\n",
      "Inserted: 6 Records\n",
      "No Programs have been established for these stores listed:\n",
      "\n",
      " [1057, 1776, 1786, 1972, 2481, 2544, 2673, 3054, 3312, 3522, 4062]\n"
     ]
    },
    {
     "name": "stderr",
     "output_type": "stream",
     "text": [
      "C:\\Users\\User1\\anaconda3\\lib\\site-packages\\pandas\\core\\indexing.py:1684: SettingWithCopyWarning: \n",
      "A value is trying to be set on a copy of a slice from a DataFrame.\n",
      "Try using .loc[row_indexer,col_indexer] = value instead\n",
      "\n",
      "See the caveats in the documentation: https://pandas.pydata.org/pandas-docs/stable/user_guide/indexing.html#returning-a-view-versus-a-copy\n",
      "  self.obj[key] = infer_fill_value(value)\n",
      "C:\\Users\\User1\\anaconda3\\lib\\site-packages\\pandas\\core\\indexing.py:1817: SettingWithCopyWarning: \n",
      "A value is trying to be set on a copy of a slice from a DataFrame.\n",
      "Try using .loc[row_indexer,col_indexer] = value instead\n",
      "\n",
      "See the caveats in the documentation: https://pandas.pydata.org/pandas-docs/stable/user_guide/indexing.html#returning-a-view-versus-a-copy\n",
      "  self._setitem_single_column(loc, value, pi)\n"
     ]
    },
    {
     "name": "stdout",
     "output_type": "stream",
     "text": [
      "texas_division_external_sales_report_Oct-28-2022.xlsx\n",
      "\n",
      "Sales Report Generated\n"
     ]
    }
   ],
   "source": [
    "# Texas Division\n",
    "from src.store_info import DbUpdater\n",
    "from src.Sales_Report.Reports.reports import Reports\n",
    "\n",
    "texas_division = DbUpdater(store_type_input='texas_division')\n",
    "report = Reports(texas_division.store_type_input, texas_division.store_setting)\n",
    "\n",
    "current_week = input('Please input the name of the sales file for the \"Current Sales Week\"\\n')\n",
    "previous_week = input('Please input the name of the sales file for the \"Previous Sales Week\"\\n')\n",
    "\n",
    "texas_division.sales_update(sales_data_file_path + rf'\\texas\\{current_week}', sales_data_file_path + rf'\\texas\\{previous_week}' )\n",
    "texas_division.delivery_update(delivery_data_file_path + r'\\texas.csv')\n",
    "\n",
    "report.generate_grocery_reports()\n"
   ]
  },
  {
   "cell_type": "code",
   "execution_count": 8,
   "id": "ef4bf278",
   "metadata": {},
   "outputs": [
    {
     "name": "stdout",
     "output_type": "stream",
     "text": [
      "\n",
      " midwest Sales Data Updated\n",
      "Updated: 133 Records\n",
      "Inserted: 0 Records\n",
      "\n",
      " midwest Delivery Data Updated\n",
      "Updated: 41 Records\n",
      "Inserted: 0 Records\n",
      "Bandaids: 0 Records\n",
      "No Programs have been established for these stores listed:\n",
      "\n",
      " [930]\n",
      "C:\\Users\\User1\\OneDrive\\WinWin Staff Folders\\Michael\\Replenishment program\\Replenishment\\Reports Output\\midwest_external_sales_report_Nov-16-2022.xlsx\n",
      "\n",
      "Sales Report Generated\n"
     ]
    }
   ],
   "source": [
    "# fresh Encounter midwest\n",
    "from src.store_info import DbUpdater\n",
    "from src.Sales_Report.Reports.reports import Reports\n",
    "\n",
    "fresh_encounter = DbUpdater(store_type_input='midwest')\n",
    "report = Reports(fresh_encounter.store_type_input, fresh_encounter.store_setting)\n",
    "\n",
    "\n",
    "fresh_encounter.sales_update(sales_data_file_path + r'\\fresh_sales.csv')\n",
    "fresh_encounter.delivery_update(delivery_data_file_path + r'\\fresh_encounter.csv')\n",
    "\n",
    "report.generate_grocery_reports()"
   ]
  },
  {
   "cell_type": "code",
   "execution_count": 7,
   "id": "10c15ae6",
   "metadata": {},
   "outputs": [
    {
     "name": "stdout",
     "output_type": "stream",
     "text": [
      "\n",
      " sal Sales Data Updated\n",
      "Updated: 150 Records\n",
      "Inserted: 0 Records\n",
      "\n",
      " sal Delivery Data Updated\n",
      "Updated: 106 Records\n",
      "Inserted: 0 Records\n",
      "Bandaids: 0 Records\n",
      "No Programs have been established for these stores listed:\n",
      "\n",
      " [431, 438, 458, 468]\n"
     ]
    },
    {
     "name": "stderr",
     "output_type": "stream",
     "text": [
      "C:\\Users\\User1\\anaconda3\\lib\\site-packages\\pandas\\core\\indexing.py:1684: SettingWithCopyWarning: \n",
      "A value is trying to be set on a copy of a slice from a DataFrame.\n",
      "Try using .loc[row_indexer,col_indexer] = value instead\n",
      "\n",
      "See the caveats in the documentation: https://pandas.pydata.org/pandas-docs/stable/user_guide/indexing.html#returning-a-view-versus-a-copy\n",
      "  self.obj[key] = infer_fill_value(value)\n",
      "C:\\Users\\User1\\anaconda3\\lib\\site-packages\\pandas\\core\\indexing.py:1817: SettingWithCopyWarning: \n",
      "A value is trying to be set on a copy of a slice from a DataFrame.\n",
      "Try using .loc[row_indexer,col_indexer] = value instead\n",
      "\n",
      "See the caveats in the documentation: https://pandas.pydata.org/pandas-docs/stable/user_guide/indexing.html#returning-a-view-versus-a-copy\n",
      "  self._setitem_single_column(loc, value, pi)\n"
     ]
    },
    {
     "name": "stdout",
     "output_type": "stream",
     "text": [
      "C:\\Users\\User1\\OneDrive\\WinWin Staff Folders\\Michael\\Replenishment program\\Replenishment\\Reports Output\\sal_external_sales_report_Nov-16-2022.xlsx\n",
      "\n",
      "Sales Report Generated\n"
     ]
    }
   ],
   "source": [
    "# fresh encounter SAL\n",
    "\n",
    "from src.store_info import DbUpdater\n",
    "from src.Sales_Report.Reports.reports import Reports\n",
    "\n",
    "fresh_encounter = DbUpdater(store_type_input='sal')\n",
    "report = Reports(fresh_encounter.store_type_input, fresh_encounter.store_setting)\n",
    "\n",
    "\n",
    "fresh_encounter.sales_update(sales_data_file_path + r'\\fresh_sales.csv')\n",
    "fresh_encounter.delivery_update(delivery_data_file_path + r'\\fresh_encounter.csv')\n",
    "\n",
    "report.generate_grocery_reports()"
   ]
  },
  {
   "cell_type": "code",
   "execution_count": 8,
   "id": "930a2b87",
   "metadata": {},
   "outputs": [
    {
     "name": "stdout",
     "output_type": "stream",
     "text": [
      "\n",
      " intermountain Delivery Data Updated\n",
      "Updated: 212 Records\n",
      "Inserted: 91 Records\n",
      "No Programs have been established for these stores listed:\n",
      "\n",
      " [15, 155, 3004, 3337]\n",
      "intermountain_external_sales_report_Oct-28-2022.xlsx\n",
      "\n",
      "Sales Report Generated\n"
     ]
    }
   ],
   "source": [
    "# Intermountain \n",
    "from src.store_info import DbUpdater\n",
    "from src.Sales_Report.Reports.reports import Reports\n",
    "\n",
    "intermountain = DbUpdater(store_type_input='intermountain')\n",
    "report = Reports(intermountain.store_type_input, intermountain.store_setting)\n",
    "\n",
    "# current_week = input('Please input the name of the sales file for the \"Current Sales Week\"\\n')\n",
    "# previous_week = input('Please input the name of the sales file for the \"Previous Sales Week\"\\n')\n",
    "\n",
    "# intermountain.sales_update(sales_data_file_path + rf'\\intermountain\\{current_week}', sales_data_file_path + rf'\\intermountain\\{previous_week}' )\n",
    "intermountain.delivery_update(delivery_data_file_path + r'\\intermountain.csv')\n",
    "\n",
    "report.generate_grocery_reports()"
   ]
  },
  {
   "cell_type": "code",
   "execution_count": 4,
   "id": "e8105cda",
   "metadata": {},
   "outputs": [
    {
     "name": "stdout",
     "output_type": "stream",
     "text": [
      "\n",
      " follett Sales Data Imported\n",
      "No Programs have been established for these stores listed:\n",
      "\n",
      " []\n",
      "152\n",
      "0\n",
      "1\n",
      "2\n",
      "3\n",
      "4\n",
      "5\n",
      "6\n",
      "7\n",
      "8\n",
      "9\n",
      "10\n",
      "11\n",
      "12\n",
      "13\n",
      "14\n",
      "15\n",
      "16\n",
      "17\n",
      "18\n",
      "19\n",
      "20\n",
      "21\n",
      "22\n",
      "23\n",
      "24\n",
      "25\n",
      "26\n",
      "27\n",
      "28\n",
      "29\n",
      "30\n",
      "31\n",
      "32\n",
      "33\n",
      "34\n",
      "35\n",
      "36\n",
      "37\n",
      "38\n",
      "39\n",
      "40\n",
      "41\n",
      "42\n",
      "43\n",
      "44\n",
      "45\n",
      "46\n",
      "47\n",
      "48\n",
      "49\n",
      "50\n",
      "51\n",
      "52\n",
      "53\n",
      "54"
     ]
    },
    {
     "name": "stderr",
     "output_type": "stream",
     "text": [
      "C:\\Users\\User1\\anaconda3\\lib\\site-packages\\pandas\\core\\indexing.py:1684: SettingWithCopyWarning: \n",
      "A value is trying to be set on a copy of a slice from a DataFrame.\n",
      "Try using .loc[row_indexer,col_indexer] = value instead\n",
      "\n",
      "See the caveats in the documentation: https://pandas.pydata.org/pandas-docs/stable/user_guide/indexing.html#returning-a-view-versus-a-copy\n",
      "  self.obj[key] = infer_fill_value(value)\n",
      "C:\\Users\\User1\\anaconda3\\lib\\site-packages\\pandas\\core\\indexing.py:1817: SettingWithCopyWarning: \n",
      "A value is trying to be set on a copy of a slice from a DataFrame.\n",
      "Try using .loc[row_indexer,col_indexer] = value instead\n",
      "\n",
      "See the caveats in the documentation: https://pandas.pydata.org/pandas-docs/stable/user_guide/indexing.html#returning-a-view-versus-a-copy\n",
      "  self._setitem_single_column(loc, value, pi)\n"
     ]
    },
    {
     "name": "stdout",
     "output_type": "stream",
     "text": [
      "\n",
      "55\n",
      "56\n",
      "57\n",
      "58\n",
      "59\n",
      "60\n",
      "61\n",
      "62\n",
      "63\n",
      "64\n",
      "65\n",
      "66\n",
      "67\n",
      "68\n",
      "69\n",
      "70\n",
      "71\n",
      "72\n",
      "73\n",
      "74\n",
      "75\n",
      "76\n",
      "77\n",
      "78\n",
      "79\n",
      "80\n",
      "81\n",
      "82\n",
      "83\n",
      "84\n",
      "85\n",
      "86\n",
      "87\n",
      "88\n",
      "89\n",
      "90\n",
      "91\n",
      "92\n",
      "93\n",
      "94\n",
      "95\n",
      "96\n",
      "97\n",
      "98\n",
      "99\n",
      "100\n",
      "101\n",
      "102\n",
      "103\n",
      "104\n",
      "105\n",
      "106\n",
      "107\n",
      "108\n",
      "109\n",
      "110\n",
      "111\n",
      "112\n",
      "113\n",
      "114\n",
      "115\n",
      "116\n",
      "117\n",
      "118\n",
      "119\n",
      "120\n",
      "121\n",
      "122\n",
      "123\n",
      "124\n",
      "125\n",
      "126\n",
      "127\n",
      "128\n",
      "129\n",
      "130\n",
      "131\n",
      "132\n",
      "133\n",
      "134\n",
      "135\n",
      "136\n",
      "137\n",
      "138\n",
      "139\n",
      "140\n",
      "141\n",
      "142\n",
      "143\n",
      "144\n",
      "145\n",
      "146\n",
      "147\n",
      "148\n",
      "149\n",
      "150\n",
      "151\n",
      "follett_external_sales_report_Sep-30-2022.xlsx\n",
      "\n",
      "Sales Report Generated\n"
     ]
    }
   ],
   "source": [
    "# follett\n",
    "\n",
    "from src.store_info import DbUpdater\n",
    "from src.Sales_Report.Reports.reports import Reports\n",
    "\n",
    "follett = Replenishment(store_type_input='follett')\n",
    "report = Reports(follett.store_type_input, follett.store_setting)\n",
    "\n",
    "current_week = input('Please input the name of the sales file for the \"Current Sales Week\"\\n')\n",
    "previous_week = input('Please input the name of the sales file for the \"Previous Sales Week\"\\n')\n",
    "\n",
    "# update delivery if there are only deliveries. If none then just comment out the code. \n",
    "follett.delivery_update(delivery_data_file_path + r'\\follett.csv')\n",
    "\n",
    "follett.sales_update(previous_weeks_sales=sales_data_file_path + rf'\\{previous_week}',\n",
    "                     current_weeks_sales=sales_data_file_path + rf'\\{current_week}',\n",
    "                     general_template='ytd')\n",
    "\n",
    "report.generate_grocery_reports()"
   ]
  },
  {
   "cell_type": "code",
   "execution_count": 6,
   "id": "1b14fb31",
   "metadata": {},
   "outputs": [
    {
     "name": "stderr",
     "output_type": "stream",
     "text": [
      "C:\\Users\\User1\\OneDrive\\WinWin Staff Folders\\Michael\\Replenishment program\\Replenishment\\src\\etl\\transform\\transform.py:320: FutureWarning: The default value of regex will change from True to False in a future version.\n",
      "  old['store_type'] = old.store_type.str.replace('[^a-zA-Z]', '')\n"
     ]
    },
    {
     "name": "stdout",
     "output_type": "stream",
     "text": [
      "\n",
      " jewel Sales Data Updated\n",
      "Updated: 50 Records\n",
      "Inserted: 458 Records\n",
      "\n",
      " jewel Delivery Data Updated\n",
      "Updated: 229 Records\n",
      "Inserted: 16 Records\n",
      "Bandaids: 0 Records\n"
     ]
    }
   ],
   "source": [
    "# jewel\n",
    "\n",
    "from src.store_info import DbUpdater\n",
    "from src.Sales_Report.Reports.reports import Reports\n",
    "\n",
    "jewel = DbUpdater(store_type_input='jewel')\n",
    "report = Reports(jewel.store_type_input, jewel.store_setting)\n",
    "\n",
    "jewel.sales_update(sales_data_file_path + r'\\jewel_sales.xlsx')\n",
    "jewel.delivery_update(delivery_data_file_path + r'\\jewel.csv')\n",
    "\n",
    "report.generate_grocery_reports()"
   ]
  },
  {
   "cell_type": "code",
   "execution_count": 4,
   "id": "2628b1d3",
   "metadata": {},
   "outputs": [
    {
     "name": "stdout",
     "output_type": "stream",
     "text": [
      "No Programs have been established for these stores listed:\n",
      "\n",
      " []\n"
     ]
    },
    {
     "name": "stderr",
     "output_type": "stream",
     "text": [
      "C:\\Users\\User1\\anaconda3\\lib\\site-packages\\pandas\\core\\indexing.py:1684: SettingWithCopyWarning: \n",
      "A value is trying to be set on a copy of a slice from a DataFrame.\n",
      "Try using .loc[row_indexer,col_indexer] = value instead\n",
      "\n",
      "See the caveats in the documentation: https://pandas.pydata.org/pandas-docs/stable/user_guide/indexing.html#returning-a-view-versus-a-copy\n",
      "  self.obj[key] = infer_fill_value(value)\n",
      "C:\\Users\\User1\\anaconda3\\lib\\site-packages\\pandas\\core\\indexing.py:1817: SettingWithCopyWarning: \n",
      "A value is trying to be set on a copy of a slice from a DataFrame.\n",
      "Try using .loc[row_indexer,col_indexer] = value instead\n",
      "\n",
      "See the caveats in the documentation: https://pandas.pydata.org/pandas-docs/stable/user_guide/indexing.html#returning-a-view-versus-a-copy\n",
      "  self._setitem_single_column(loc, value, pi)\n",
      "C:\\Users\\User1\\anaconda3\\lib\\site-packages\\pandas\\core\\frame.py:3641: SettingWithCopyWarning: \n",
      "A value is trying to be set on a copy of a slice from a DataFrame.\n",
      "Try using .loc[row_indexer,col_indexer] = value instead\n",
      "\n",
      "See the caveats in the documentation: https://pandas.pydata.org/pandas-docs/stable/user_guide/indexing.html#returning-a-view-versus-a-copy\n",
      "  self[k1] = value[k2]\n",
      "C:\\Users\\User1\\OneDrive\\WinWin Staff Folders\\Michael\\Replenishment program\\Replenishment\\src\\etl\\transform\\transform.py:70: FutureWarning: The default value of regex will change from True to False in a future version.\n",
      "  new['RPT_SHORT_DESC'] = new.RPT_SHORT_DESC.str.replace('[^a-zA-Z]', '')\n"
     ]
    },
    {
     "name": "stdout",
     "output_type": "stream",
     "text": [
      "\n",
      " kroger_atlanta Sales Data Updated\n",
      "Updated: 487 Records\n",
      "Inserted: 0 Records\n",
      "\n",
      " kroger_atlanta Delivery Data Updated\n",
      "Updated: 264 Records\n",
      "Inserted: 0 Records\n",
      "Bandaids: 0 Records\n",
      "C:\\Users\\User1\\OneDrive\\WinWin Staff Folders\\Michael\\Replenishment program\\Replenishment\\Reports Output\\kroger_atlanta_external_sales_report_Nov-21-2022.xlsx\n",
      "\n",
      "Sales Report Generated\n"
     ]
    }
   ],
   "source": [
    "# atlanta\n",
    "\n",
    "from src.store_info import DbUpdater\n",
    "from src.Sales_Report.Reports.reports import Reports\n",
    "\n",
    "atlanta = DbUpdater(store_type_input='kroger_atlanta')\n",
    "report = Reports(atlanta.store_type_input, atlanta.store_setting)\n",
    "\n",
    "atlanta.sales_update(sales_data_file_path + r'\\Sherlock Store Matrix.csv')\n",
    "atlanta.delivery_update(delivery_data_file_path + r'\\atlanta.csv')\n",
    "\n",
    "report.generate_grocery_reports()"
   ]
  },
  {
   "cell_type": "code",
   "execution_count": 7,
   "id": "68debb9c",
   "metadata": {},
   "outputs": [
    {
     "name": "stdout",
     "output_type": "stream",
     "text": [
      "No Programs have been established for these stores listed:\n",
      "\n",
      " [1, 889]\n"
     ]
    },
    {
     "name": "stderr",
     "output_type": "stream",
     "text": [
      "C:\\Users\\User1\\anaconda3\\lib\\site-packages\\pandas\\core\\indexing.py:1684: SettingWithCopyWarning: \n",
      "A value is trying to be set on a copy of a slice from a DataFrame.\n",
      "Try using .loc[row_indexer,col_indexer] = value instead\n",
      "\n",
      "See the caveats in the documentation: https://pandas.pydata.org/pandas-docs/stable/user_guide/indexing.html#returning-a-view-versus-a-copy\n",
      "  self.obj[key] = infer_fill_value(value)\n",
      "C:\\Users\\User1\\anaconda3\\lib\\site-packages\\pandas\\core\\indexing.py:1817: SettingWithCopyWarning: \n",
      "A value is trying to be set on a copy of a slice from a DataFrame.\n",
      "Try using .loc[row_indexer,col_indexer] = value instead\n",
      "\n",
      "See the caveats in the documentation: https://pandas.pydata.org/pandas-docs/stable/user_guide/indexing.html#returning-a-view-versus-a-copy\n",
      "  self._setitem_single_column(loc, value, pi)\n",
      "C:\\Users\\User1\\anaconda3\\lib\\site-packages\\pandas\\core\\frame.py:3641: SettingWithCopyWarning: \n",
      "A value is trying to be set on a copy of a slice from a DataFrame.\n",
      "Try using .loc[row_indexer,col_indexer] = value instead\n",
      "\n",
      "See the caveats in the documentation: https://pandas.pydata.org/pandas-docs/stable/user_guide/indexing.html#returning-a-view-versus-a-copy\n",
      "  self[k1] = value[k2]\n",
      "C:\\Users\\User1\\OneDrive\\WinWin Staff Folders\\Michael\\Replenishment program\\Replenishment\\src\\etl\\transform\\transform.py:70: FutureWarning: The default value of regex will change from True to False in a future version.\n",
      "  new['RPT_SHORT_DESC'] = new.RPT_SHORT_DESC.str.replace('[^a-zA-Z]', '')\n"
     ]
    },
    {
     "name": "stdout",
     "output_type": "stream",
     "text": [
      "\n",
      " kroger_central Sales Data Updated\n",
      "Updated: 169 Records\n",
      "Inserted: 0 Records\n",
      "\n",
      " kroger_central Delivery Data Updated\n",
      "Updated: 75 Records\n",
      "Inserted: 0 Records\n",
      "Bandaids: 0 Records\n",
      "C:\\Users\\User1\\OneDrive\\WinWin Staff Folders\\Michael\\Replenishment program\\Replenishment\\Reports Output\\kroger_central_external_sales_report_Nov-21-2022.xlsx\n",
      "\n",
      "Sales Report Generated\n"
     ]
    }
   ],
   "source": [
    "# central\n",
    "\n",
    "from src.store_info import DbUpdater\n",
    "from src.Sales_Report.Reports.reports import Reports\n",
    "\n",
    "central = DbUpdater(store_type_input='kroger_central')\n",
    "report = Reports(central.store_type_input, central.store_setting)\n",
    "\n",
    "\n",
    "central.sales_update( sales_data_file_path + r'\\Sherlock Store Matrix.csv')\n",
    "central.delivery_update(delivery_data_file_path + r'\\central.csv')\n",
    "\n",
    "report.generate_grocery_reports()"
   ]
  },
  {
   "cell_type": "code",
   "execution_count": 12,
   "id": "b125d768",
   "metadata": {},
   "outputs": [
    {
     "name": "stdout",
     "output_type": "stream",
     "text": [
      "No Programs have been established for these stores listed:\n",
      "\n",
      " []\n",
      "\n",
      " kroger_columbus Sales Data Updated\n",
      "Updated: 347 Records\n",
      "Inserted: 0 Records\n",
      "\n",
      " kroger_columbus Delivery Data Updated\n",
      "Updated: 204 Records\n",
      "Inserted: 21 Records\n",
      "Bandaids: 0 Records\n",
      "C:\\Users\\User1\\OneDrive\\WinWin Staff Folders\\Michael\\Replenishment program\\Replenishment\\Reports Output\\kroger_columbus_external_sales_report_Nov-21-2022.xlsx\n",
      "\n",
      "Sales Report Generated\n"
     ]
    }
   ],
   "source": [
    "# columubus\n",
    "from src.store_info import DbUpdater\n",
    "from src.Sales_Report.Reports.reports import Reports\n",
    "\n",
    "columbus = DbUpdater(store_type_input='kroger_columbus')\n",
    "report = Reports(columbus.store_type_input, columbus.store_setting)\n",
    "\n",
    "columbus.sales_update(sales_data_file_path + r'\\Sherlock Store Matrix.csv')\n",
    "columbus.delivery_update(delivery_data_file_path + r'\\columbus.csv')\n",
    "\n",
    "report.generate_grocery_reports()"
   ]
  },
  {
   "cell_type": "code",
   "execution_count": 13,
   "id": "4bd39071",
   "metadata": {},
   "outputs": [
    {
     "name": "stdout",
     "output_type": "stream",
     "text": [
      "No Programs have been established for these stores listed:\n",
      "\n",
      " []\n",
      "\n",
      " kroger_dallas Sales Data Updated\n",
      "Updated: 128 Records\n",
      "Inserted: 0 Records\n",
      "\n",
      " kroger_dallas Delivery Data Updated\n",
      "Updated: 51 Records\n",
      "Inserted: 0 Records\n",
      "Bandaids: 0 Records\n",
      "C:\\Users\\User1\\OneDrive\\WinWin Staff Folders\\Michael\\Replenishment program\\Replenishment\\Reports Output\\kroger_dallas_external_sales_report_Nov-21-2022.xlsx\n",
      "\n",
      "Sales Report Generated\n"
     ]
    }
   ],
   "source": [
    "# dallas\n",
    "# from store_info import Replenishment\n",
    "\n",
    "from src.store_info import DbUpdater\n",
    "from src.Sales_Report.Reports.reports import Reports\n",
    "\n",
    "dallas = DbUpdater(store_type_input='kroger_dallas')\n",
    "report = Reports(dallas.store_type_input, dallas.store_setting)\n",
    "\n",
    "\n",
    "dallas.sales_update(sales_data_file_path + r'\\Sherlock Store Matrix.csv')\n",
    "dallas.delivery_update(delivery_data_file_path + r'\\dallas.csv')\n",
    "\n",
    "report.generate_grocery_reports()"
   ]
  },
  {
   "cell_type": "code",
   "execution_count": 14,
   "id": "4b6df5d5",
   "metadata": {},
   "outputs": [
    {
     "name": "stdout",
     "output_type": "stream",
     "text": [
      "No Programs have been established for these stores listed:\n",
      "\n",
      " []\n",
      "\n",
      " kroger_dillons Sales Data Updated\n",
      "Updated: 234 Records\n",
      "Inserted: 0 Records\n",
      "\n",
      " kroger_dillons Delivery Data Updated\n",
      "Updated: 33 Records\n",
      "Inserted: 0 Records\n",
      "Bandaids: 0 Records\n",
      "C:\\Users\\User1\\OneDrive\\WinWin Staff Folders\\Michael\\Replenishment program\\Replenishment\\Reports Output\\kroger_dillons_external_sales_report_Nov-21-2022.xlsx\n",
      "\n",
      "Sales Report Generated\n"
     ]
    }
   ],
   "source": [
    "# dillons\n",
    "\n",
    "from src.store_info import DbUpdater\n",
    "from src.Sales_Report.Reports.reports import Reports\n",
    "\n",
    "dillons = DbUpdater(store_type_input='kroger_dillons')\n",
    "report = Reports(dillons.store_type_input, dillons.store_setting)\n",
    "\n",
    "dillons.sales_update(sales_data_file_path + r'\\Sherlock Store Matrix.csv')\n",
    "dillons.delivery_update(delivery_data_file_path + r'\\dillons.csv')\n",
    "\n",
    "report.generate_grocery_reports()"
   ]
  },
  {
   "cell_type": "code",
   "execution_count": 15,
   "id": "881ba544",
   "metadata": {},
   "outputs": [
    {
     "name": "stdout",
     "output_type": "stream",
     "text": [
      "No Programs have been established for these stores listed:\n",
      "\n",
      " []\n",
      "\n",
      " kroger_king_soopers Sales Data Updated\n",
      "Updated: 121 Records\n",
      "Inserted: 0 Records\n",
      "\n",
      " kroger_king_soopers Delivery Data Updated\n",
      "Updated: 57 Records\n",
      "Inserted: 0 Records\n",
      "Bandaids: 0 Records\n",
      "C:\\Users\\User1\\OneDrive\\WinWin Staff Folders\\Michael\\Replenishment program\\Replenishment\\Reports Output\\kroger_king_soopers_external_sales_report_Nov-21-2022.xlsx\n",
      "\n",
      "Sales Report Generated\n"
     ]
    }
   ],
   "source": [
    "# king sooper\n",
    "\n",
    "from src.store_info import DbUpdater\n",
    "from src.Sales_Report.Reports.reports import Reports\n",
    "\n",
    "king_soopers = DbUpdater(store_type_input='kroger_king_soopers')\n",
    "report = Reports(king_soopers.store_type_input, king_soopers.store_setting)\n",
    "\n",
    "king_soopers.sales_update(sales_data_file_path + r'\\Sherlock Store Matrix.csv')\n",
    "king_soopers.delivery_update(delivery_data_file_path + r'\\king.csv')\n",
    "\n",
    "report.generate_grocery_reports()"
   ]
  },
  {
   "cell_type": "code",
   "execution_count": 16,
   "id": "1efb8bb5",
   "metadata": {},
   "outputs": [
    {
     "name": "stdout",
     "output_type": "stream",
     "text": [
      "No Programs have been established for these stores listed:\n",
      "\n",
      " []\n",
      "\n",
      " kroger_louisville Sales Data Updated\n",
      "Updated: 218 Records\n",
      "Inserted: 0 Records\n",
      "\n",
      " kroger_louisville Delivery Data Updated\n",
      "Updated: 135 Records\n",
      "Inserted: 0 Records\n",
      "Bandaids: 0 Records\n",
      "C:\\Users\\User1\\OneDrive\\WinWin Staff Folders\\Michael\\Replenishment program\\Replenishment\\Reports Output\\kroger_louisville_external_sales_report_Nov-21-2022.xlsx\n",
      "\n",
      "Sales Report Generated\n"
     ]
    }
   ],
   "source": [
    "# louisville\n",
    "\n",
    "from src.store_info import DbUpdater\n",
    "from src.Sales_Report.Reports.reports import Reports\n",
    "\n",
    "louisville = DbUpdater(store_type_input='kroger_louisville')\n",
    "report = Reports(louisville.store_type_input, louisville.store_setting)\n",
    "\n",
    "louisville.sales_update(sales_data_file_path + r'\\Sherlock Store Matrix.csv')\n",
    "louisville.delivery_update(delivery_data_file_path + r'\\louisville.csv')\n",
    "\n",
    "report.generate_grocery_reports()"
   ]
  },
  {
   "cell_type": "code",
   "execution_count": 17,
   "id": "05d85060",
   "metadata": {},
   "outputs": [
    {
     "name": "stdout",
     "output_type": "stream",
     "text": [
      "No Programs have been established for these stores listed:\n",
      "\n",
      " [115]\n",
      "\n",
      " kroger_michigan Sales Data Updated\n",
      "Updated: 82 Records\n",
      "Inserted: 0 Records\n",
      "\n",
      " kroger_michigan Delivery Data Updated\n",
      "Updated: 38 Records\n",
      "Inserted: 0 Records\n",
      "Bandaids: 0 Records\n",
      "C:\\Users\\User1\\OneDrive\\WinWin Staff Folders\\Michael\\Replenishment program\\Replenishment\\Reports Output\\kroger_michigan_external_sales_report_Nov-21-2022.xlsx\n",
      "\n",
      "Sales Report Generated\n"
     ]
    }
   ],
   "source": [
    "# michigan\n",
    "\n",
    "from src.store_info import DbUpdater\n",
    "from src.Sales_Report.Reports.reports import Reports\n",
    "\n",
    "michigan = DbUpdater(store_type_input='kroger_michigan')\n",
    "report = Reports(michigan.store_type_input, michigan.store_setting)\n",
    "\n",
    "michigan.sales_update(sales_data_file_path + r'\\Sherlock Store Matrix.csv')\n",
    "michigan.delivery_update(delivery_data_file_path + r'\\michigan.csv')\n",
    "\n",
    "report.generate_grocery_reports()"
   ]
  },
  {
   "cell_type": "code",
   "execution_count": 18,
   "id": "04a8d7cc",
   "metadata": {},
   "outputs": [
    {
     "name": "stdout",
     "output_type": "stream",
     "text": [
      "No Programs have been established for these stores listed:\n",
      "\n",
      " []\n",
      "\n",
      " kroger_nashville Sales Data Updated\n",
      "Updated: 276 Records\n",
      "Inserted: 0 Records\n",
      "\n",
      " kroger_nashville Delivery Data Updated\n",
      "Updated: 129 Records\n",
      "Inserted: 0 Records\n",
      "Bandaids: 0 Records\n",
      "C:\\Users\\User1\\OneDrive\\WinWin Staff Folders\\Michael\\Replenishment program\\Replenishment\\Reports Output\\kroger_nashville_external_sales_report_Nov-21-2022.xlsx\n",
      "\n",
      "Sales Report Generated\n"
     ]
    }
   ],
   "source": [
    "# nashville\n",
    "\n",
    "from src.store_info import DbUpdater\n",
    "from src.Sales_Report.Reports.reports import Reports\n",
    "\n",
    "nashville = DbUpdater(store_type_input='kroger_nashville')\n",
    "report = Reports(nashville.store_type_input, nashville.store_setting)\n",
    "\n",
    "nashville.sales_update(sales_data_file_path + r'\\Sherlock Store Matrix.csv')\n",
    "nashville.delivery_update(delivery_data_file_path + r'\\nashville.csv')\n",
    "\n",
    "report.generate_grocery_reports()"
   ]
  },
  {
   "cell_type": "code",
   "execution_count": 19,
   "id": "9d2cb4fe",
   "metadata": {},
   "outputs": [
    {
     "name": "stdout",
     "output_type": "stream",
     "text": [
      "No Programs have been established for these stores listed:\n",
      "\n",
      " [206, 614, 626, 678, 694, 735, 735, 848, 2803]\n"
     ]
    },
    {
     "name": "stderr",
     "output_type": "stream",
     "text": [
      "C:\\Users\\User1\\OneDrive\\WinWin Staff Folders\\Michael\\Replenishment program\\Replenishment\\src\\etl\\transform\\transform.py:1568: SettingWithCopyWarning: \n",
      "A value is trying to be set on a copy of a slice from a DataFrame.\n",
      "Try using .loc[row_indexer,col_indexer] = value instead\n",
      "\n",
      "See the caveats in the documentation: https://pandas.pydata.org/pandas-docs/stable/user_guide/indexing.html#returning-a-view-versus-a-copy\n",
      "  sales_data['current_week'] = sales_data['current_week'].astype('int64')\n",
      "C:\\Users\\User1\\OneDrive\\WinWin Staff Folders\\Michael\\Replenishment program\\Replenishment\\src\\etl\\transform\\transform.py:1569: SettingWithCopyWarning: \n",
      "A value is trying to be set on a copy of a slice from a DataFrame.\n",
      "Try using .loc[row_indexer,col_indexer] = value instead\n",
      "\n",
      "See the caveats in the documentation: https://pandas.pydata.org/pandas-docs/stable/user_guide/indexing.html#returning-a-view-versus-a-copy\n",
      "  sales_data['store_week'] = sales_data['store_week'].astype('int64')\n",
      "C:\\Users\\User1\\OneDrive\\WinWin Staff Folders\\Michael\\Replenishment program\\Replenishment\\src\\etl\\transform\\transform.py:1570: SettingWithCopyWarning: \n",
      "A value is trying to be set on a copy of a slice from a DataFrame.\n",
      "Try using .loc[row_indexer,col_indexer] = value instead\n",
      "\n",
      "See the caveats in the documentation: https://pandas.pydata.org/pandas-docs/stable/user_guide/indexing.html#returning-a-view-versus-a-copy\n",
      "  sales_data['store_year'] = sales_data['store_year'].astype('int64')\n",
      "C:\\Users\\User1\\OneDrive\\WinWin Staff Folders\\Michael\\Replenishment program\\Replenishment\\src\\etl\\transform\\transform.py:1571: SettingWithCopyWarning: \n",
      "A value is trying to be set on a copy of a slice from a DataFrame.\n",
      "Try using .loc[row_indexer,col_indexer] = value instead\n",
      "\n",
      "See the caveats in the documentation: https://pandas.pydata.org/pandas-docs/stable/user_guide/indexing.html#returning-a-view-versus-a-copy\n",
      "  sales_data['current_year'] = sales_data['current_year'].astype('int64')\n"
     ]
    },
    {
     "name": "stdout",
     "output_type": "stream",
     "text": [
      "\n",
      " kvat Sales Data Updated\n",
      "Updated: 355 Records\n",
      "Inserted: 0 Records\n",
      "\n",
      " kvat Delivery Data Updated\n",
      "Updated: 308 Records\n",
      "Inserted: 0 Records\n",
      "Bandaids: 0 Records\n",
      "C:\\Users\\User1\\OneDrive\\WinWin Staff Folders\\Michael\\Replenishment program\\Replenishment\\Reports Output\\kvat_external_sales_report_Nov-21-2022.xlsx\n",
      "\n",
      "Sales Report Generated\n"
     ]
    }
   ],
   "source": [
    "# kvat \n",
    "\n",
    "from src.store_info import DbUpdater\n",
    "from src.Sales_Report.Reports.reports import Reports\n",
    "\n",
    "kvat = DbUpdater(store_type_input='kvat')\n",
    "report = Reports(kvat.store_type_input, kvat.store_setting)\n",
    "\n",
    "kvat.sales_update(sales_data_file_path + r'\\kvat_sales.xlsx')\n",
    "kvat.delivery_update(delivery_data_file_path + r'\\kvat.csv')\n",
    "\n",
    "report.generate_grocery_reports()"
   ]
  },
  {
   "cell_type": "code",
   "execution_count": null,
   "id": "6ab69390",
   "metadata": {},
   "outputs": [
    {
     "name": "stdout",
     "output_type": "stream",
     "text": [
      "No Programs have been established for these stores listed:\n",
      "\n",
      " [27, 64, 824, 1548, 2520, 2911, 3399]\n",
      "\n",
      " safeway_denver Sales Data Updated\n",
      "Updated: 178 Records\n",
      "Inserted: 0 Records\n",
      "\n",
      " safeway_denver Delivery Data Updated\n",
      "Updated: 78 Records\n",
      "Inserted: 0 Records\n",
      "Bandaids: 0 Records\n",
      "C:\\Users\\User1\\OneDrive\\WinWin Staff Folders\\Michael\\Replenishment program\\Replenishment\\Reports Output\\safeway_denver_external_sales_report_Nov-21-2022.xlsx\n"
     ]
    }
   ],
   "source": [
    "# safeway denver\n",
    "\n",
    "from src.store_info import DbUpdater\n",
    "from src.Sales_Report.Reports.reports import Reports\n",
    "\n",
    "safeway_denver= DbUpdater(store_type_input='safeway_denver')\n",
    "report = Reports(safeway_denver.store_type_input, safeway_denver.store_setting)\n",
    "\n",
    "safeway_denver.sales_update(sales_data_file_path + r'\\denver_sales.xlsx')\n",
    "safeway_denver.delivery_update(delivery_data_file_path + r'\\denver.csv')\n",
    "\n",
    "report.generate_grocery_reports()"
   ]
  },
  {
   "cell_type": "code",
   "execution_count": null,
   "id": "c0c83341",
   "metadata": {},
   "outputs": [],
   "source": [
    "# cincinatti\n",
    "\n",
    "from src.store_info import DbUpdater\n",
    "from src.Sales_Report.Reports.reports import Reports\n",
    "\n",
    "atlanta = DbUpdater(store_type_input='kroger_cincinatti')\n",
    "report = Reports(atlanta.store_type_input, atlanta.store_setting)\n",
    "\n",
    "atlanta.sales_update(sales_data_file_path + r'\\Sherlock Store Matrix.csv')\n",
    "atlanta.delivery_update(delivery_data_file_path + r'\\cincinatti.csv')\n",
    "\n",
    "report.generate_grocery_reports()"
   ]
  },
  {
   "cell_type": "code",
   "execution_count": null,
   "id": "60c9a54b",
   "metadata": {},
   "outputs": [],
   "source": [
    "from src.store_info import DbUpdater\n",
    "from src.Sales_Report.Reports.reports import Reports\n",
    "\n",
    "delta = DbUpdater(store_type_input='kroger_delta')\n",
    "\n",
    "delta.sales_update(sales_data_file_path + r'\\Sherlock Store Matrix.csv')\n",
    "# delta.delivery_update(file=r'C:\\Users\\User1\\OneDrive\\WinWin Staff Folders\\Michael\\Replenishment program\\Replenishment\\support document\\deliveries\\delta.csv')\n",
    "# delta.sales_report()"
   ]
  },
  {
   "cell_type": "code",
   "execution_count": null,
   "id": "a930968f",
   "metadata": {},
   "outputs": [],
   "source": [
    "# Be sure to update all sales tables for all stores in the Kroger Division. \n",
    "# Kroger Corporate Report\n",
    "\n",
    "from src.store_info import DbUpdater\n",
    "from src.Sales_Report.Reports.reports import Reports\n",
    "\n",
    "kroger_corporate = DbUpdater(store_type_input='kroger_dallas')\n",
    "report = Reports(kroger_corporate.store_type_input, kroger_corporate.store_setting)\n",
    "\n",
    "report.kroger_corporate_report()\n",
    "\n"
   ]
  },
  {
   "cell_type": "code",
   "execution_count": null,
   "id": "05cfb0a3",
   "metadata": {},
   "outputs": [],
   "source": []
  }
 ],
 "metadata": {
  "interpreter": {
   "hash": "eb4e0a0fd1d19bb9a06c4c3c2c2cf016517ec825f23f225e84b2f7e81a104fe7"
  },
  "kernelspec": {
   "display_name": "Python 3 (ipykernel)",
   "language": "python",
   "name": "python3"
  },
  "language_info": {
   "codemirror_mode": {
    "name": "ipython",
    "version": 3
   },
   "file_extension": ".py",
   "mimetype": "text/x-python",
   "name": "python",
   "nbconvert_exporter": "python",
   "pygments_lexer": "ipython3",
   "version": "3.9.7"
  }
 },
 "nbformat": 4,
 "nbformat_minor": 5
}
