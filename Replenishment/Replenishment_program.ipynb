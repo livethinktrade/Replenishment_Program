{
 "cells": [
  {
   "cell_type": "code",
   "execution_count": 5,
   "id": "e6208782",
   "metadata": {},
   "outputs": [
    {
     "name": "stdout",
     "output_type": "stream",
     "text": [
      "\n",
      "Enter the Current Year\n",
      "\n",
      "Enter the Current Week\n"
     ]
    }
   ],
   "source": [
    "from store_info import Replenishment\n",
    "# from Sales_Report.Reports.reports import *\n",
    "\n",
    "print('\\nEnter the Current Year')\n",
    "# year = int(input())\n",
    "\n",
    "print('\\nEnter the Current Week')\n",
    "# week = int(input())\n",
    "\n",
    "\n"
   ]
  },
  {
   "cell_type": "code",
   "execution_count": 3,
   "id": "4f2ccd4f",
   "metadata": {},
   "outputs": [
    {
     "name": "stdout",
     "output_type": "stream",
     "text": [
      "\n",
      " Store Data Imported\n",
      "Updated: 152 Records\n",
      "Inserted: 0 Records\n",
      "\n",
      " Store Program Data Imported\n",
      "Updated: 152 Records\n",
      "Inserted: 0 Records\n"
     ]
    },
    {
     "ename": "FileNotFoundError",
     "evalue": "[Errno 2] No such file or directory: 'follett_approval.csv'",
     "output_type": "error",
     "traceback": [
      "\u001b[1;31m---------------------------------------------------------------------------\u001b[0m",
      "\u001b[1;31mFileNotFoundError\u001b[0m                         Traceback (most recent call last)",
      "\u001b[1;32m~\\AppData\\Local\\Temp/ipykernel_30476/2035403874.py\u001b[0m in \u001b[0;36m<module>\u001b[1;34m\u001b[0m\n\u001b[0;32m     10\u001b[0m \u001b[1;31m# kvat.master_planogram_import()\u001b[0m\u001b[1;33m\u001b[0m\u001b[1;33m\u001b[0m\u001b[0m\n\u001b[0;32m     11\u001b[0m \u001b[0mkvat\u001b[0m\u001b[1;33m.\u001b[0m\u001b[0mstore_program_import\u001b[0m\u001b[1;33m(\u001b[0m\u001b[1;33m)\u001b[0m\u001b[1;33m\u001b[0m\u001b[1;33m\u001b[0m\u001b[0m\n\u001b[1;32m---> 12\u001b[1;33m \u001b[0mkvat\u001b[0m\u001b[1;33m.\u001b[0m\u001b[0mstore_approval_import\u001b[0m\u001b[1;33m(\u001b[0m\u001b[1;34m'follett_approval.csv'\u001b[0m\u001b[1;33m)\u001b[0m\u001b[1;33m\u001b[0m\u001b[1;33m\u001b[0m\u001b[0m\n\u001b[0m\u001b[0;32m     13\u001b[0m \u001b[1;31m# kvat.support_import('support_sheet')\u001b[0m\u001b[1;33m\u001b[0m\u001b[1;33m\u001b[0m\u001b[0m\n\u001b[0;32m     14\u001b[0m \u001b[1;31m# kvat.inventory_import('inventory.csv')\u001b[0m\u001b[1;33m\u001b[0m\u001b[1;33m\u001b[0m\u001b[0m\n",
      "\u001b[1;32m~\\OneDrive\\WinWin Staff Folders\\Michael\\Replenishment program\\Replenishment\\store_info.py\u001b[0m in \u001b[0;36mstore_approval_import\u001b[1;34m(self, file)\u001b[0m\n\u001b[0;32m    723\u001b[0m     \u001b[1;32mdef\u001b[0m \u001b[0mstore_approval_import\u001b[0m\u001b[1;33m(\u001b[0m\u001b[0mself\u001b[0m\u001b[1;33m,\u001b[0m \u001b[0mfile\u001b[0m\u001b[1;33m)\u001b[0m\u001b[1;33m:\u001b[0m\u001b[1;33m\u001b[0m\u001b[1;33m\u001b[0m\u001b[0m\n\u001b[0;32m    724\u001b[0m \u001b[1;33m\u001b[0m\u001b[0m\n\u001b[1;32m--> 725\u001b[1;33m         \u001b[0mstore_approval_df\u001b[0m \u001b[1;33m=\u001b[0m \u001b[0mapproval_transform\u001b[0m\u001b[1;33m(\u001b[0m\u001b[0mself\u001b[0m\u001b[1;33m.\u001b[0m\u001b[0mstore_type_input\u001b[0m\u001b[1;33m,\u001b[0m \u001b[0mfile\u001b[0m\u001b[1;33m)\u001b[0m\u001b[1;33m\u001b[0m\u001b[1;33m\u001b[0m\u001b[0m\n\u001b[0m\u001b[0;32m    726\u001b[0m \u001b[1;33m\u001b[0m\u001b[0m\n\u001b[0;32m    727\u001b[0m         \u001b[0mstore_approval_df_len\u001b[0m \u001b[1;33m=\u001b[0m \u001b[0mlen\u001b[0m\u001b[1;33m(\u001b[0m\u001b[0mstore_approval_df\u001b[0m\u001b[1;33m)\u001b[0m\u001b[1;33m\u001b[0m\u001b[1;33m\u001b[0m\u001b[0m\n",
      "\u001b[1;32m~\\OneDrive\\WinWin Staff Folders\\Michael\\Replenishment program\\Replenishment\\Update\\Transform_Sales_Data\\transform.py\u001b[0m in \u001b[0;36mapproval_transform\u001b[1;34m(store_type_input, file)\u001b[0m\n\u001b[0;32m    344\u001b[0m \u001b[1;32mdef\u001b[0m \u001b[0mapproval_transform\u001b[0m\u001b[1;33m(\u001b[0m\u001b[0mstore_type_input\u001b[0m\u001b[1;33m,\u001b[0m \u001b[0mfile\u001b[0m\u001b[1;33m)\u001b[0m\u001b[1;33m:\u001b[0m\u001b[1;33m\u001b[0m\u001b[1;33m\u001b[0m\u001b[0m\n\u001b[0;32m    345\u001b[0m \u001b[1;33m\u001b[0m\u001b[0m\n\u001b[1;32m--> 346\u001b[1;33m     \u001b[0mapproval\u001b[0m \u001b[1;33m=\u001b[0m \u001b[0mpd\u001b[0m\u001b[1;33m.\u001b[0m\u001b[0mread_csv\u001b[0m\u001b[1;33m(\u001b[0m\u001b[1;34mf'{file}'\u001b[0m\u001b[1;33m)\u001b[0m\u001b[1;33m\u001b[0m\u001b[1;33m\u001b[0m\u001b[0m\n\u001b[0m\u001b[0;32m    347\u001b[0m \u001b[1;33m\u001b[0m\u001b[0m\n\u001b[0;32m    348\u001b[0m     store_price_column_name = {\n",
      "\u001b[1;32m~\\anaconda3\\lib\\site-packages\\pandas\\util\\_decorators.py\u001b[0m in \u001b[0;36mwrapper\u001b[1;34m(*args, **kwargs)\u001b[0m\n\u001b[0;32m    309\u001b[0m                     \u001b[0mstacklevel\u001b[0m\u001b[1;33m=\u001b[0m\u001b[0mstacklevel\u001b[0m\u001b[1;33m,\u001b[0m\u001b[1;33m\u001b[0m\u001b[1;33m\u001b[0m\u001b[0m\n\u001b[0;32m    310\u001b[0m                 )\n\u001b[1;32m--> 311\u001b[1;33m             \u001b[1;32mreturn\u001b[0m \u001b[0mfunc\u001b[0m\u001b[1;33m(\u001b[0m\u001b[1;33m*\u001b[0m\u001b[0margs\u001b[0m\u001b[1;33m,\u001b[0m \u001b[1;33m**\u001b[0m\u001b[0mkwargs\u001b[0m\u001b[1;33m)\u001b[0m\u001b[1;33m\u001b[0m\u001b[1;33m\u001b[0m\u001b[0m\n\u001b[0m\u001b[0;32m    312\u001b[0m \u001b[1;33m\u001b[0m\u001b[0m\n\u001b[0;32m    313\u001b[0m         \u001b[1;32mreturn\u001b[0m \u001b[0mwrapper\u001b[0m\u001b[1;33m\u001b[0m\u001b[1;33m\u001b[0m\u001b[0m\n",
      "\u001b[1;32m~\\anaconda3\\lib\\site-packages\\pandas\\io\\parsers\\readers.py\u001b[0m in \u001b[0;36mread_csv\u001b[1;34m(filepath_or_buffer, sep, delimiter, header, names, index_col, usecols, squeeze, prefix, mangle_dupe_cols, dtype, engine, converters, true_values, false_values, skipinitialspace, skiprows, skipfooter, nrows, na_values, keep_default_na, na_filter, verbose, skip_blank_lines, parse_dates, infer_datetime_format, keep_date_col, date_parser, dayfirst, cache_dates, iterator, chunksize, compression, thousands, decimal, lineterminator, quotechar, quoting, doublequote, escapechar, comment, encoding, encoding_errors, dialect, error_bad_lines, warn_bad_lines, on_bad_lines, delim_whitespace, low_memory, memory_map, float_precision, storage_options)\u001b[0m\n\u001b[0;32m    584\u001b[0m     \u001b[0mkwds\u001b[0m\u001b[1;33m.\u001b[0m\u001b[0mupdate\u001b[0m\u001b[1;33m(\u001b[0m\u001b[0mkwds_defaults\u001b[0m\u001b[1;33m)\u001b[0m\u001b[1;33m\u001b[0m\u001b[1;33m\u001b[0m\u001b[0m\n\u001b[0;32m    585\u001b[0m \u001b[1;33m\u001b[0m\u001b[0m\n\u001b[1;32m--> 586\u001b[1;33m     \u001b[1;32mreturn\u001b[0m \u001b[0m_read\u001b[0m\u001b[1;33m(\u001b[0m\u001b[0mfilepath_or_buffer\u001b[0m\u001b[1;33m,\u001b[0m \u001b[0mkwds\u001b[0m\u001b[1;33m)\u001b[0m\u001b[1;33m\u001b[0m\u001b[1;33m\u001b[0m\u001b[0m\n\u001b[0m\u001b[0;32m    587\u001b[0m \u001b[1;33m\u001b[0m\u001b[0m\n\u001b[0;32m    588\u001b[0m \u001b[1;33m\u001b[0m\u001b[0m\n",
      "\u001b[1;32m~\\anaconda3\\lib\\site-packages\\pandas\\io\\parsers\\readers.py\u001b[0m in \u001b[0;36m_read\u001b[1;34m(filepath_or_buffer, kwds)\u001b[0m\n\u001b[0;32m    480\u001b[0m \u001b[1;33m\u001b[0m\u001b[0m\n\u001b[0;32m    481\u001b[0m     \u001b[1;31m# Create the parser.\u001b[0m\u001b[1;33m\u001b[0m\u001b[1;33m\u001b[0m\u001b[0m\n\u001b[1;32m--> 482\u001b[1;33m     \u001b[0mparser\u001b[0m \u001b[1;33m=\u001b[0m \u001b[0mTextFileReader\u001b[0m\u001b[1;33m(\u001b[0m\u001b[0mfilepath_or_buffer\u001b[0m\u001b[1;33m,\u001b[0m \u001b[1;33m**\u001b[0m\u001b[0mkwds\u001b[0m\u001b[1;33m)\u001b[0m\u001b[1;33m\u001b[0m\u001b[1;33m\u001b[0m\u001b[0m\n\u001b[0m\u001b[0;32m    483\u001b[0m \u001b[1;33m\u001b[0m\u001b[0m\n\u001b[0;32m    484\u001b[0m     \u001b[1;32mif\u001b[0m \u001b[0mchunksize\u001b[0m \u001b[1;32mor\u001b[0m \u001b[0miterator\u001b[0m\u001b[1;33m:\u001b[0m\u001b[1;33m\u001b[0m\u001b[1;33m\u001b[0m\u001b[0m\n",
      "\u001b[1;32m~\\anaconda3\\lib\\site-packages\\pandas\\io\\parsers\\readers.py\u001b[0m in \u001b[0;36m__init__\u001b[1;34m(self, f, engine, **kwds)\u001b[0m\n\u001b[0;32m    809\u001b[0m             \u001b[0mself\u001b[0m\u001b[1;33m.\u001b[0m\u001b[0moptions\u001b[0m\u001b[1;33m[\u001b[0m\u001b[1;34m\"has_index_names\"\u001b[0m\u001b[1;33m]\u001b[0m \u001b[1;33m=\u001b[0m \u001b[0mkwds\u001b[0m\u001b[1;33m[\u001b[0m\u001b[1;34m\"has_index_names\"\u001b[0m\u001b[1;33m]\u001b[0m\u001b[1;33m\u001b[0m\u001b[1;33m\u001b[0m\u001b[0m\n\u001b[0;32m    810\u001b[0m \u001b[1;33m\u001b[0m\u001b[0m\n\u001b[1;32m--> 811\u001b[1;33m         \u001b[0mself\u001b[0m\u001b[1;33m.\u001b[0m\u001b[0m_engine\u001b[0m \u001b[1;33m=\u001b[0m \u001b[0mself\u001b[0m\u001b[1;33m.\u001b[0m\u001b[0m_make_engine\u001b[0m\u001b[1;33m(\u001b[0m\u001b[0mself\u001b[0m\u001b[1;33m.\u001b[0m\u001b[0mengine\u001b[0m\u001b[1;33m)\u001b[0m\u001b[1;33m\u001b[0m\u001b[1;33m\u001b[0m\u001b[0m\n\u001b[0m\u001b[0;32m    812\u001b[0m \u001b[1;33m\u001b[0m\u001b[0m\n\u001b[0;32m    813\u001b[0m     \u001b[1;32mdef\u001b[0m \u001b[0mclose\u001b[0m\u001b[1;33m(\u001b[0m\u001b[0mself\u001b[0m\u001b[1;33m)\u001b[0m\u001b[1;33m:\u001b[0m\u001b[1;33m\u001b[0m\u001b[1;33m\u001b[0m\u001b[0m\n",
      "\u001b[1;32m~\\anaconda3\\lib\\site-packages\\pandas\\io\\parsers\\readers.py\u001b[0m in \u001b[0;36m_make_engine\u001b[1;34m(self, engine)\u001b[0m\n\u001b[0;32m   1038\u001b[0m             )\n\u001b[0;32m   1039\u001b[0m         \u001b[1;31m# error: Too many arguments for \"ParserBase\"\u001b[0m\u001b[1;33m\u001b[0m\u001b[1;33m\u001b[0m\u001b[0m\n\u001b[1;32m-> 1040\u001b[1;33m         \u001b[1;32mreturn\u001b[0m \u001b[0mmapping\u001b[0m\u001b[1;33m[\u001b[0m\u001b[0mengine\u001b[0m\u001b[1;33m]\u001b[0m\u001b[1;33m(\u001b[0m\u001b[0mself\u001b[0m\u001b[1;33m.\u001b[0m\u001b[0mf\u001b[0m\u001b[1;33m,\u001b[0m \u001b[1;33m**\u001b[0m\u001b[0mself\u001b[0m\u001b[1;33m.\u001b[0m\u001b[0moptions\u001b[0m\u001b[1;33m)\u001b[0m  \u001b[1;31m# type: ignore[call-arg]\u001b[0m\u001b[1;33m\u001b[0m\u001b[1;33m\u001b[0m\u001b[0m\n\u001b[0m\u001b[0;32m   1041\u001b[0m \u001b[1;33m\u001b[0m\u001b[0m\n\u001b[0;32m   1042\u001b[0m     \u001b[1;32mdef\u001b[0m \u001b[0m_failover_to_python\u001b[0m\u001b[1;33m(\u001b[0m\u001b[0mself\u001b[0m\u001b[1;33m)\u001b[0m\u001b[1;33m:\u001b[0m\u001b[1;33m\u001b[0m\u001b[1;33m\u001b[0m\u001b[0m\n",
      "\u001b[1;32m~\\anaconda3\\lib\\site-packages\\pandas\\io\\parsers\\c_parser_wrapper.py\u001b[0m in \u001b[0;36m__init__\u001b[1;34m(self, src, **kwds)\u001b[0m\n\u001b[0;32m     49\u001b[0m \u001b[1;33m\u001b[0m\u001b[0m\n\u001b[0;32m     50\u001b[0m         \u001b[1;31m# open handles\u001b[0m\u001b[1;33m\u001b[0m\u001b[1;33m\u001b[0m\u001b[0m\n\u001b[1;32m---> 51\u001b[1;33m         \u001b[0mself\u001b[0m\u001b[1;33m.\u001b[0m\u001b[0m_open_handles\u001b[0m\u001b[1;33m(\u001b[0m\u001b[0msrc\u001b[0m\u001b[1;33m,\u001b[0m \u001b[0mkwds\u001b[0m\u001b[1;33m)\u001b[0m\u001b[1;33m\u001b[0m\u001b[1;33m\u001b[0m\u001b[0m\n\u001b[0m\u001b[0;32m     52\u001b[0m         \u001b[1;32massert\u001b[0m \u001b[0mself\u001b[0m\u001b[1;33m.\u001b[0m\u001b[0mhandles\u001b[0m \u001b[1;32mis\u001b[0m \u001b[1;32mnot\u001b[0m \u001b[1;32mNone\u001b[0m\u001b[1;33m\u001b[0m\u001b[1;33m\u001b[0m\u001b[0m\n\u001b[0;32m     53\u001b[0m \u001b[1;33m\u001b[0m\u001b[0m\n",
      "\u001b[1;32m~\\anaconda3\\lib\\site-packages\\pandas\\io\\parsers\\base_parser.py\u001b[0m in \u001b[0;36m_open_handles\u001b[1;34m(self, src, kwds)\u001b[0m\n\u001b[0;32m    220\u001b[0m         \u001b[0mLet\u001b[0m \u001b[0mthe\u001b[0m \u001b[0mreaders\u001b[0m \u001b[0mopen\u001b[0m \u001b[0mIOHandles\u001b[0m \u001b[0mafter\u001b[0m \u001b[0mthey\u001b[0m \u001b[0mare\u001b[0m \u001b[0mdone\u001b[0m \u001b[1;32mwith\u001b[0m \u001b[0mtheir\u001b[0m \u001b[0mpotential\u001b[0m \u001b[0mraises\u001b[0m\u001b[1;33m.\u001b[0m\u001b[1;33m\u001b[0m\u001b[1;33m\u001b[0m\u001b[0m\n\u001b[0;32m    221\u001b[0m         \"\"\"\n\u001b[1;32m--> 222\u001b[1;33m         self.handles = get_handle(\n\u001b[0m\u001b[0;32m    223\u001b[0m             \u001b[0msrc\u001b[0m\u001b[1;33m,\u001b[0m\u001b[1;33m\u001b[0m\u001b[1;33m\u001b[0m\u001b[0m\n\u001b[0;32m    224\u001b[0m             \u001b[1;34m\"r\"\u001b[0m\u001b[1;33m,\u001b[0m\u001b[1;33m\u001b[0m\u001b[1;33m\u001b[0m\u001b[0m\n",
      "\u001b[1;32m~\\anaconda3\\lib\\site-packages\\pandas\\io\\common.py\u001b[0m in \u001b[0;36mget_handle\u001b[1;34m(path_or_buf, mode, encoding, compression, memory_map, is_text, errors, storage_options)\u001b[0m\n\u001b[0;32m    700\u001b[0m         \u001b[1;32mif\u001b[0m \u001b[0mioargs\u001b[0m\u001b[1;33m.\u001b[0m\u001b[0mencoding\u001b[0m \u001b[1;32mand\u001b[0m \u001b[1;34m\"b\"\u001b[0m \u001b[1;32mnot\u001b[0m \u001b[1;32min\u001b[0m \u001b[0mioargs\u001b[0m\u001b[1;33m.\u001b[0m\u001b[0mmode\u001b[0m\u001b[1;33m:\u001b[0m\u001b[1;33m\u001b[0m\u001b[1;33m\u001b[0m\u001b[0m\n\u001b[0;32m    701\u001b[0m             \u001b[1;31m# Encoding\u001b[0m\u001b[1;33m\u001b[0m\u001b[1;33m\u001b[0m\u001b[0m\n\u001b[1;32m--> 702\u001b[1;33m             handle = open(\n\u001b[0m\u001b[0;32m    703\u001b[0m                 \u001b[0mhandle\u001b[0m\u001b[1;33m,\u001b[0m\u001b[1;33m\u001b[0m\u001b[1;33m\u001b[0m\u001b[0m\n\u001b[0;32m    704\u001b[0m                 \u001b[0mioargs\u001b[0m\u001b[1;33m.\u001b[0m\u001b[0mmode\u001b[0m\u001b[1;33m,\u001b[0m\u001b[1;33m\u001b[0m\u001b[1;33m\u001b[0m\u001b[0m\n",
      "\u001b[1;31mFileNotFoundError\u001b[0m: [Errno 2] No such file or directory: 'follett_approval.csv'"
     ]
    }
   ],
   "source": [
    "# kvat \n",
    "\n",
    "kvat = Replenishment(store_type_input='follett', \n",
    "                               current_year = year , \n",
    "                               current_week= week)\n",
    "\n",
    "# kvat.sales_import(\"jewel_salesdata_backup_Jul-08-2022.xlsx\")\n",
    "# kvat.delivery_import(\"jewel_deliverydata_backup_Jul-08-2022.xlsx\")\n",
    "kvat.store_import()\n",
    "# kvat.master_planogram_import()\n",
    "kvat.store_program_import()\n",
    "# kvat.store_approval_import('follett_approval.csv')\n",
    "# kvat.support_import('support_sheet')\n",
    "# kvat.inventory_import('inventory.csv')\n",
    "# kvat.sales_update(file='Sherlock Store Matrix.csv')\n",
    "# kvat.delivery_update(file='kvat.csv')\n",
    "# kvat.sales_report()\n",
    "# kvat.size_table_update('size_table')"
   ]
  },
  {
   "cell_type": "code",
   "execution_count": 16,
   "id": "047c9933",
   "metadata": {},
   "outputs": [
    {
     "name": "stdout",
     "output_type": "stream",
     "text": [
      "kroger_dillons_dummy_sales.xlsx\n"
     ]
    }
   ],
   "source": [
    "store_type_input = 'kroger_dillons'\n",
    "store_setting= pd.read_excel(rf'C:\\Users\\User1\\OneDrive\\WinWin Staff Folders\\Michael\\Groccery Store Program\\{store_type_input}\\{store_type_input}_store_setting.xlsm',\n",
    "                                            sheet_name='Sheet2',\n",
    "                                            header=None,\n",
    "                                            index_col=0,\n",
    "                                            names=('setting', 'values'))\n",
    "\n",
    "atlanta = Reports(store_type_input, store_setting)\n",
    "atlanta.external_report(f'{store_type_input}_dummy_sales.xlsx')"
   ]
  },
  {
   "cell_type": "code",
   "execution_count": 13,
   "id": "1e308657",
   "metadata": {},
   "outputs": [],
   "source": [
    "import datetime\n",
    "import re\n",
    "import pandas as pd\n",
    "import datetime as dt\n",
    "import psycopg2\n",
    "\n",
    "import pandas.io.sql as psql\n",
    "\n",
    "import numpy as np\n",
    "from psycopg2.extensions import register_adapter, AsIs\n",
    "psycopg2.extensions.register_adapter(np.int64, psycopg2._psycopg.AsIs)\n",
    "\n",
    "#downloads the sales & delivery data for all stores\n",
    "store_list = [\n",
    "    \n",
    "    'acme',\n",
    "    'follett',\n",
    "    'fresh_encounter',\n",
    "    'intermountain',\n",
    "    'jewel',\n",
    "    'kroger_atlanta',\n",
    "    'kroger_central',\n",
    "    'kroger_cincinatti',\n",
    "    'kroger_columbus',\n",
    "    'kroger_dallas',\n",
    "    'kroger_delta',\n",
    "    'kroger_dillons',\n",
    "    'kroger_king_soopers',\n",
    "    'kroger_louisville',\n",
    "    'kroger_michigan',\n",
    "    'kroger_nashville',\n",
    "    'kvat',\n",
    "    'safeway_denver',\n",
    "    'texas_division'\n",
    "]\n",
    "\n",
    "\n",
    "i= 0\n",
    "num_of_store = len(store_list)\n",
    "\n",
    "date = datetime.date.today()\n",
    "date = date.strftime(\"%b-%d-%Y\")\n",
    "\n",
    "\n",
    "\n",
    "while i < num_of_store:\n",
    "\n",
    "    store = store_list[i]\n",
    "    \n",
    "    connection = psycopg2.connect(database=f\"Grocery\", user=\"postgres\", password=\"winwin\", host=\"localhost\")\n",
    "\n",
    "    num = psql.read_sql(f\"select * from {store}.delivery2\", connection)\n",
    "\n",
    "    num.to_excel(f'{store}_deliverydata_backup_{date}.xlsx', index = False)\n",
    "    \n",
    "    num = psql.read_sql(f\"select * from {store}.sales2\", connection)\n",
    " \n",
    "    num.to_excel(f'{store}_salesdata_backup_{date}.xlsx', index = False)\n",
    "    \n",
    "    i+=1\n",
    "\n",
    "i= 0\n",
    "# num_of_store = len(store_list)\n",
    "\n",
    "# while i < num_of_store:\n",
    "\n",
    "#     store = store_list[i]\n",
    "#     connection = psycopg2.connect(database=f\"Grocery\", user=\"postgres\", password=\"winwin\", host=\"localhost\")\n",
    "\n",
    "#     num = psql.read_sql(f\"select * from {store}.sales2\", connection)\n",
    "\n",
    "    \n",
    "#     num.to_excel(f'{store}_salesdata_backup_{date}.xlsx', index = False)\n",
    "#     i+=1\n",
    "    \n",
    "    \n",
    "    \n",
    "    \n",
    "\n"
   ]
  },
  {
   "cell_type": "code",
   "execution_count": 2,
   "id": "2f224c69",
   "metadata": {},
   "outputs": [],
   "source": []
  },
  {
   "cell_type": "code",
   "execution_count": 9,
   "id": "81f23ed6",
   "metadata": {},
   "outputs": [
    {
     "name": "stdout",
     "output_type": "stream",
     "text": [
      "\n",
      "Delivery Data Updated\n",
      "Updated: 91 Records\n",
      "Inserted: 0 Records\n",
      "No Programs have been established for these stores listed:\n",
      "\n",
      " [996]\n",
      "No Programs have been established for these stores listed:\n",
      "\n",
      " [996]\n",
      "acme_external_sales_report_Jul-01-2022.xlsx\n",
      "acme_internal_sales_report_Jul-01-2022.xlsx\n",
      "\n",
      "Sales Report Generated\n"
     ]
    }
   ],
   "source": [
    "# Mid-Atlantic\n",
    "from store_info import Replenishment\n",
    "\n",
    "acme = Replenishment(store_type_input='acme',\n",
    "                     current_year = year , \n",
    "                     current_week= week)\n",
    "\n",
    "# acme.sales_import('acme_salesdata_fixed.xlsx')\n",
    "acme.delivery_update(file='acme_new.csv')\n",
    "acme.sales_report()\n",
    "# acme.size_table_update('size_table')"
   ]
  },
  {
   "cell_type": "code",
   "execution_count": 9,
   "id": "a9f69153",
   "metadata": {},
   "outputs": [
    {
     "name": "stdout",
     "output_type": "stream",
     "text": [
      "\n",
      "Delivery Data Updated\n",
      "Updated: 12 Records\n",
      "Inserted: 0 Records\n",
      "No Programs have been established for these stores listed:\n",
      "\n",
      " [1057, 1776, 1786, 1972, 2481, 2544, 2673, 3054, 3312, 3522, 4062]\n",
      "No Programs have been established for these stores listed:\n",
      "\n",
      " [1057, 1776, 1786, 1972, 2481, 2544, 2673, 3054, 3312, 3522, 4062]\n",
      "texas_division_external_sales_report_Jun-17-2022.xlsx\n",
      "texas_division_internal_sales_report_Jun-17-2022.xlsx\n",
      "\n",
      "Sales Report Generated\n"
     ]
    }
   ],
   "source": [
    "# Texas Division\n",
    "from store_info import Replenishment\n",
    "\n",
    "texas_division = Replenishment(store_type_input='texas_division',\n",
    "                               current_year = year , \n",
    "                               current_week= week)\n",
    "\n",
    "# texas_division.sales_update(file='')\n",
    "# texas_division.sales_import('texas_division_salesdata')\n",
    "texas_division.delivery_update(file='texas.csv')\n",
    "texas_division.sales_report()\n",
    "\n",
    "        "
   ]
  },
  {
   "cell_type": "code",
   "execution_count": null,
   "id": "3347f407",
   "metadata": {},
   "outputs": [],
   "source": [
    "# brookshire\n",
    "from store_info import Replenishment\n",
    "\n",
    "brookshire = Replenishment(store_type_input='brookshire',\n",
    "                               transition_date_range='2022SS', \n",
    "                               current_year = year , \n",
    "                               current_week= week)\n",
    "brookshire.sales_update(file='')\n",
    "brookshire.delivery_update(file='brookshire')\n",
    "brookshire.sales_report()\n"
   ]
  },
  {
   "cell_type": "code",
   "execution_count": 4,
   "id": "ef4bf278",
   "metadata": {},
   "outputs": [
    {
     "name": "stdout",
     "output_type": "stream",
     "text": [
      "No Programs have been established for these stores listed:\n",
      "\n",
      " [431, 438, 458, 468, 930, 930, 930]\n",
      "No Programs have been established for these stores listed:\n",
      "\n",
      " [431, 438, 458, 468, 930, 930, 930]\n",
      "look into store 116 something is off that needs to be fixed\n",
      "look into store 116 something is off that needs to be fixed\n",
      "look into store 116 something is off that needs to be fixed\n",
      "fresh_encounter_external_sales_report_Aug-15-2022.xlsx\n",
      "fresh_encounter_internal_sales_report_Aug-15-2022.xlsx\n",
      "\n",
      "Sales Report Generated\n"
     ]
    }
   ],
   "source": [
    "# fresh Encounter\n",
    "from store_info import Replenishment\n",
    "\n",
    "fresh_encounter = Replenishment(store_type_input='fresh_encounter')\n",
    "\n",
    "\n",
    "# fresh_encounter.sales_import(file='fresh_encounter_salesdata_fixed.xlsx')\n",
    "# fresh_encounter.delivery_update(file='fresh_encounter.csv')\n",
    "fresh_encounter.sales_report()"
   ]
  },
  {
   "cell_type": "code",
   "execution_count": 15,
   "id": "930a2b87",
   "metadata": {},
   "outputs": [
    {
     "name": "stdout",
     "output_type": "stream",
     "text": [
      "\n",
      "Sales Data Imported\n",
      "\n",
      "Delivery Data Updated\n",
      "Updated: 179 Records\n",
      "Inserted: 0 Records\n",
      "No Programs have been established for these stores listed:\n",
      "\n",
      " [15, 3004]\n",
      "No Programs have been established for these stores listed:\n",
      "\n",
      " [15, 3004]\n",
      "intermountain_external_sales_report_Jul-01-2022.xlsx\n",
      "intermountain_internal_sales_report_Jul-01-2022.xlsx\n",
      "\n",
      "Sales Report Generated\n"
     ]
    }
   ],
   "source": [
    "# Intermountain \n",
    "from store_info import Replenishment\n",
    "\n",
    "intermountain = Replenishment(store_type_input='intermountain',\n",
    "                               current_year = year , \n",
    "                               current_week= week)\n",
    "\n",
    "intermountain.sales_import('intermountain_salesdata_fixed.xlsx')\n",
    "intermountain.delivery_update(file='intermountain.csv')\n",
    "intermountain.sales_report()"
   ]
  },
  {
   "cell_type": "code",
   "execution_count": 3,
   "id": "e8105cda",
   "metadata": {},
   "outputs": [
    {
     "name": "stdout",
     "output_type": "stream",
     "text": [
      "\n",
      "Sales Data Imported\n",
      "No Programs have been established for these stores listed:\n",
      "\n",
      " []\n",
      "No Programs have been established for these stores listed:\n",
      "\n",
      " []\n",
      "follett_external_sales_report_Aug-10-2022.xlsx\n",
      "follett_internal_sales_report_Aug-10-2022.xlsx\n",
      "\n",
      "Sales Report Generated\n"
     ]
    }
   ],
   "source": [
    "# follett\n",
    "from store_info import Replenishment\n",
    "\n",
    "follett = Replenishment(store_type_input='follett',\n",
    "                               current_year = year , \n",
    "                               current_week= week)\n",
    "\n",
    "follett.sales_import(file='follett_salesdata_fixed.xlsx')\n",
    "# follett.delivery_update(file='follett.csv')\n",
    "follett.sales_report()                                         "
   ]
  },
  {
   "cell_type": "code",
   "execution_count": 2,
   "id": "1b14fb31",
   "metadata": {},
   "outputs": [
    {
     "name": "stderr",
     "output_type": "stream",
     "text": [
      "C:\\Users\\User1\\OneDrive\\WinWin Staff Folders\\Michael\\Replenishment program\\Replenishment\\Update\\Transform_Sales_Data\\transform.py:378: FutureWarning: The default value of regex will change from True to False in a future version.\n",
      "  old['store_type'] = old.store_type.str.replace('[^a-zA-Z]', '')\n"
     ]
    },
    {
     "name": "stdout",
     "output_type": "stream",
     "text": [
      "Found code for Sales table in support sheet instead of delivery table store 4013 upc: 81031202155\n",
      "Found code for Sales table in support sheet instead of delivery table store 3421 upc: 81031202155\n",
      "Found code for Sales table in support sheet instead of delivery table store 4516 upc: 81031202335\n",
      "Found code for Sales table in support sheet instead of delivery table store 1156 upc: 81031202335\n",
      "Found code for Sales table in support sheet instead of delivery table store 3096 upc: 81031202235\n",
      "Found code for Sales table in support sheet instead of delivery table store 3442 upc: 81031202045\n",
      "Found code for Sales table in support sheet instead of delivery table store 3474 upc: 81031202373\n",
      "Found code for Sales table in support sheet instead of delivery table store 2265 upc: 81031202373\n",
      "Found code for Sales table in support sheet instead of delivery table store 260 upc: 81031202155\n",
      "Found code for Sales table in support sheet instead of delivery table store 3425 upc: 81031202373\n",
      "\n",
      " jewel Sales Data Updated\n",
      "Updated: 117 Records\n",
      "Inserted: 0 Records\n",
      "\n",
      " jewel Delivery Data Updated\n",
      "Updated: 42 Records\n",
      "Inserted: 0 Records\n",
      "No Programs have been established for these stores listed:\n",
      "\n",
      " [157, 1282, 3053, 3220, 3349, 3421, 3425, 3429, 3443, 3443, 3443, 3446, 3455, 3461, 3473, 3477, 3481, 3491, 3514, 3720, 3721, 3775, 3775, 3775, 4060]\n",
      "No Programs have been established for these stores listed:\n",
      "\n",
      " [157, 1282, 3053, 3220, 3349, 3421, 3425, 3429, 3443, 3443, 3443, 3446, 3455, 3461, 3473, 3477, 3481, 3491, 3514, 3720, 3721, 3775, 3775, 3775, 4060]\n",
      "jewel_external_sales_report_Aug-15-2022.xlsx\n",
      "jewel_internal_sales_report_Aug-15-2022.xlsx\n",
      "\n",
      "Sales Report Generated\n"
     ]
    }
   ],
   "source": [
    "# jewel\n",
    "from store_info import Replenishment\n",
    "\n",
    "jewel = Replenishment(store_type_input='jewel')\n",
    "\n",
    "jewel.sales_update(file='jewel_sales.xlsx')\n",
    "jewel.delivery_update(file='jewel.csv')\n",
    "\n",
    "\n",
    "jewel.sales_report()"
   ]
  },
  {
   "cell_type": "code",
   "execution_count": 2,
   "id": "2628b1d3",
   "metadata": {},
   "outputs": [
    {
     "name": "stderr",
     "output_type": "stream",
     "text": [
      "C:\\Users\\User1\\anaconda3\\lib\\site-packages\\pandas\\core\\frame.py:3641: SettingWithCopyWarning: \n",
      "A value is trying to be set on a copy of a slice from a DataFrame.\n",
      "Try using .loc[row_indexer,col_indexer] = value instead\n",
      "\n",
      "See the caveats in the documentation: https://pandas.pydata.org/pandas-docs/stable/user_guide/indexing.html#returning-a-view-versus-a-copy\n",
      "  self[k1] = value[k2]\n",
      "C:\\Users\\User1\\OneDrive\\WinWin Staff Folders\\Michael\\Replenishment program\\Replenishment\\Update\\Transform_Sales_Data\\transform.py:84: FutureWarning: The default value of regex will change from True to False in a future version.\n",
      "  new['RPT_SHORT_DESC'] = new.RPT_SHORT_DESC.str.replace('[^a-zA-Z]', '')\n"
     ]
    },
    {
     "name": "stdout",
     "output_type": "stream",
     "text": [
      "\n",
      " kroger_atlanta Sales Data Updated\n",
      "Updated: 452 Records\n",
      "Inserted: 0 Records\n",
      "\n",
      " kroger_atlanta Delivery Data Updated\n",
      "Updated: 81 Records\n",
      "Inserted: 0 Records\n",
      "No Programs have been established for these stores listed:\n",
      "\n",
      " []\n",
      "No Programs have been established for these stores listed:\n",
      "\n",
      " []\n",
      "look into store 685 something is off that needs to be fixed\n",
      "look into store 685 something is off that needs to be fixed\n",
      "look into store 685 something is off that needs to be fixed\n",
      "kroger_atlanta_external_sales_report_Aug-15-2022.xlsx\n",
      "kroger_atlanta_internal_sales_report_Aug-15-2022.xlsx\n",
      "\n",
      "Sales Report Generated\n"
     ]
    }
   ],
   "source": [
    "# atlanta\n",
    "from store_info import Replenishment\n",
    "\n",
    "atlanta = Replenishment(store_type_input='kroger_atlanta')\n",
    "\n",
    "atlanta.sales_update(file='Sherlock Store Matrix.csv')\n",
    "atlanta.delivery_update(file='atlanta.csv')\n",
    "atlanta.sales_report()"
   ]
  },
  {
   "cell_type": "code",
   "execution_count": 3,
   "id": "68debb9c",
   "metadata": {},
   "outputs": [
    {
     "name": "stdout",
     "output_type": "stream",
     "text": [
      "Found code for Sales table in support sheet instead of delivery table store 965 upc: 81031202045\n",
      "Found code for Sales table in support sheet instead of delivery table store 837 upc: 81031202045\n",
      "Found code for Sales table in support sheet instead of delivery table store 989 upc: 81031202235\n",
      "Found code for Sales table in support sheet instead of delivery table store 822 upc: 81031202045\n",
      "Found code for Sales table in support sheet instead of delivery table store 993 upc: 81031202235\n",
      "Found code for Sales table in support sheet instead of delivery table store 909 upc: 81031202155\n",
      "Found code for Sales table in support sheet instead of delivery table store 894 upc: 81031202372\n",
      "Found code for Sales table in support sheet instead of delivery table store 965 upc: 81031202045\n",
      "Found code for Sales table in support sheet instead of delivery table store 895 upc: 81031202234\n",
      "Found code for Sales table in support sheet instead of delivery table store 989 upc: 81031202237\n",
      "Found code for Sales table in support sheet instead of delivery table store 995 upc: 81031202230\n",
      "Found code for Sales table in support sheet instead of delivery table store 989 upc: 81031202235\n",
      "Found code for Sales table in support sheet instead of delivery table store 928 upc: 81031202373\n",
      "Found code for Sales table in support sheet instead of delivery table store 989 upc: 81031202155\n",
      "\n",
      " kroger_central Sales Data Updated\n",
      "Updated: 80 Records\n",
      "Inserted: 104 Records\n",
      "\n",
      " kroger_central Delivery Data Updated\n",
      "Updated: 6 Records\n",
      "Inserted: 6 Records\n",
      "No Programs have been established for these stores listed:\n",
      "\n",
      " [1, 889]\n",
      "No Programs have been established for these stores listed:\n",
      "\n",
      " [1, 889]\n",
      "kroger_central_external_sales_report_Aug-15-2022.xlsx\n",
      "kroger_central_internal_sales_report_Aug-15-2022.xlsx\n",
      "\n",
      "Sales Report Generated\n"
     ]
    }
   ],
   "source": [
    "# central\n",
    "from store_info import Replenishment\n",
    "\n",
    "central = Replenishment(store_type_input='kroger_central')\n",
    "\n",
    "\n",
    "central.sales_update(file='Sherlock Store Matrix.csv')\n",
    "central.delivery_update(file='central.csv')\n",
    "central.sales_report()"
   ]
  },
  {
   "cell_type": "code",
   "execution_count": 4,
   "id": "b125d768",
   "metadata": {},
   "outputs": [
    {
     "name": "stdout",
     "output_type": "stream",
     "text": [
      "Found code for Sales table in support sheet instead of delivery table store 569 upc: 81031202367\n",
      "\n",
      " kroger_columbus Sales Data Updated\n",
      "Updated: 194 Records\n",
      "Inserted: 192 Records\n",
      "\n",
      " kroger_columbus Delivery Data Updated\n",
      "Updated: 36 Records\n",
      "Inserted: 36 Records\n",
      "No Programs have been established for these stores listed:\n",
      "\n",
      " []\n",
      "No Programs have been established for these stores listed:\n",
      "\n",
      " []\n",
      "kroger_columbus_external_sales_report_Aug-15-2022.xlsx\n",
      "kroger_columbus_internal_sales_report_Aug-15-2022.xlsx\n",
      "\n",
      "Sales Report Generated\n"
     ]
    }
   ],
   "source": [
    "# columubus\n",
    "from store_info import Replenishment\n",
    "\n",
    "columbus = Replenishment(store_type_input='kroger_columbus')\n",
    "\n",
    "\n",
    "columbus.sales_update(file='Sherlock Store Matrix.csv')\n",
    "columbus.delivery_update(file='columbus.csv')\n",
    "columbus.sales_report()"
   ]
  },
  {
   "cell_type": "code",
   "execution_count": 7,
   "id": "4bd39071",
   "metadata": {},
   "outputs": [
    {
     "name": "stdout",
     "output_type": "stream",
     "text": [
      "Found code for Sales table in support sheet instead of delivery table store 579 upc: 81031202255\n",
      "Found code for Sales table in support sheet instead of delivery table store 592 upc: 81031202305\n",
      "Found code for Sales table in support sheet instead of delivery table store 572 upc: 81031202373\n",
      "Found code for Sales table in support sheet instead of delivery table store 561 upc: 81031202381\n",
      "Found code for Sales table in support sheet instead of delivery table store 573 upc: 81031202372\n",
      "Found code for Sales table in support sheet instead of delivery table store 596 upc: 81031202373\n",
      "Found code for Sales table in support sheet instead of delivery table store 573 upc: 81031202373\n",
      "Found code for Sales table in support sheet instead of delivery table store 591 upc: 81031202373\n",
      "Found code for Sales table in support sheet instead of delivery table store 579 upc: 81031202355\n",
      "Found code for Sales table in support sheet instead of delivery table store 596 upc: 81031202155\n",
      "Found code for Sales table in support sheet instead of delivery table store 579 upc: 81031202155\n",
      "Found code for Sales table in support sheet instead of delivery table store 533 upc: 81031202155\n",
      "Found code for Sales table in support sheet instead of delivery table store 572 upc: 81031202155\n",
      "Found code for Sales table in support sheet instead of delivery table store 561 upc: 81031202155\n",
      "Found code for Sales table in support sheet instead of delivery table store 592 upc: 81031202372\n",
      "Found code for Sales table in support sheet instead of delivery table store 573 upc: 81031202269\n",
      "Found code for Sales table in support sheet instead of delivery table store 596 upc: 81031202256\n",
      "Found code for Sales table in support sheet instead of delivery table store 589 upc: 81031202255\n",
      "Found code for Sales table in support sheet instead of delivery table store 594 upc: 81031202256\n",
      "Found code for Sales table in support sheet instead of delivery table store 599 upc: 81031202255\n",
      "Found code for Sales table in support sheet instead of delivery table store 573 upc: 81031202164\n",
      "Found code for Sales table in support sheet instead of delivery table store 591 upc: 81031202164\n",
      "Found code for Sales table in support sheet instead of delivery table store 542 upc: 81031202164\n",
      "Found code for Sales table in support sheet instead of delivery table store 591 upc: 81031202373\n",
      "Found code for Sales table in support sheet instead of delivery table store 542 upc: 81031202373\n",
      "Found code for Sales table in support sheet instead of delivery table store 596 upc: 81031202155\n",
      "Found code for Sales table in support sheet instead of delivery table store 533 upc: 81031202155\n",
      "Found code for Sales table in support sheet instead of delivery table store 572 upc: 81031202381\n",
      "\n",
      " kroger_dallas Sales Data Updated\n",
      "Updated: 126 Records\n",
      "Inserted: 0 Records\n",
      "\n",
      " kroger_dallas Delivery Data Updated\n",
      "Updated: 126 Records\n",
      "Inserted: 0 Records\n",
      "No Programs have been established for these stores listed:\n",
      "\n",
      " []\n",
      "No Programs have been established for these stores listed:\n",
      "\n",
      " []\n",
      "kroger_dallas_external_sales_report_Aug-15-2022.xlsx\n",
      "kroger_dallas_internal_sales_report_Aug-15-2022.xlsx\n"
     ]
    },
    {
     "ename": "ValueError",
     "evalue": "No objects to concatenate",
     "output_type": "error",
     "traceback": [
      "\u001b[1;31m---------------------------------------------------------------------------\u001b[0m",
      "\u001b[1;31mValueError\u001b[0m                                Traceback (most recent call last)",
      "\u001b[1;32m~\\AppData\\Local\\Temp/ipykernel_4108/543233511.py\u001b[0m in \u001b[0;36m<module>\u001b[1;34m\u001b[0m\n\u001b[0;32m      8\u001b[0m \u001b[0mdallas\u001b[0m\u001b[1;33m.\u001b[0m\u001b[0msales_update\u001b[0m\u001b[1;33m(\u001b[0m\u001b[0mfile\u001b[0m\u001b[1;33m=\u001b[0m\u001b[1;34m'Sherlock Store Matrix.csv'\u001b[0m\u001b[1;33m)\u001b[0m\u001b[1;33m\u001b[0m\u001b[1;33m\u001b[0m\u001b[0m\n\u001b[0;32m      9\u001b[0m \u001b[0mdallas\u001b[0m\u001b[1;33m.\u001b[0m\u001b[0mdelivery_update\u001b[0m\u001b[1;33m(\u001b[0m\u001b[0mfile\u001b[0m\u001b[1;33m=\u001b[0m\u001b[1;34m'dallas.csv'\u001b[0m\u001b[1;33m)\u001b[0m\u001b[1;33m\u001b[0m\u001b[1;33m\u001b[0m\u001b[0m\n\u001b[1;32m---> 10\u001b[1;33m \u001b[0mdallas\u001b[0m\u001b[1;33m.\u001b[0m\u001b[0msales_report\u001b[0m\u001b[1;33m(\u001b[0m\u001b[1;33m)\u001b[0m\u001b[1;33m\u001b[0m\u001b[1;33m\u001b[0m\u001b[0m\n\u001b[0m",
      "\u001b[1;32m~\\OneDrive\\WinWin Staff Folders\\Michael\\Replenishment program\\Replenishment\\store_info.py\u001b[0m in \u001b[0;36msales_report\u001b[1;34m(self)\u001b[0m\n\u001b[0;32m    598\u001b[0m \u001b[1;33m\u001b[0m\u001b[0m\n\u001b[0;32m    599\u001b[0m         \u001b[0mfilename\u001b[0m \u001b[1;33m=\u001b[0m \u001b[1;34mf'{self.store_type_input}_internal_sales_report_{date}.xlsx'\u001b[0m\u001b[1;33m\u001b[0m\u001b[1;33m\u001b[0m\u001b[0m\n\u001b[1;32m--> 600\u001b[1;33m         \u001b[0mreports\u001b[0m\u001b[1;33m.\u001b[0m\u001b[0minternal_report\u001b[0m\u001b[1;33m(\u001b[0m\u001b[0mfilename\u001b[0m\u001b[1;33m)\u001b[0m\u001b[1;33m\u001b[0m\u001b[1;33m\u001b[0m\u001b[0m\n\u001b[0m\u001b[0;32m    601\u001b[0m \u001b[1;33m\u001b[0m\u001b[0m\n\u001b[0;32m    602\u001b[0m \u001b[1;33m\u001b[0m\u001b[0m\n",
      "\u001b[1;32m~\\OneDrive\\WinWin Staff Folders\\Michael\\Replenishment program\\Replenishment\\Sales_Report\\Reports\\reports.py\u001b[0m in \u001b[0;36minternal_report\u001b[1;34m(self, filename)\u001b[0m\n\u001b[0;32m     60\u001b[0m \u001b[1;33m\u001b[0m\u001b[0m\n\u001b[0;32m     61\u001b[0m             \u001b[1;32mif\u001b[0m \u001b[0mself\u001b[0m\u001b[1;33m.\u001b[0m\u001b[0mreplenishment_len\u001b[0m \u001b[1;33m>\u001b[0m \u001b[1;36m0\u001b[0m\u001b[1;33m:\u001b[0m\u001b[1;33m\u001b[0m\u001b[1;33m\u001b[0m\u001b[0m\n\u001b[1;32m---> 62\u001b[1;33m                 replen_pivot = pd.pivot_table(self.replenishment_report,\n\u001b[0m\u001b[0;32m     63\u001b[0m                                               \u001b[0mvalues\u001b[0m\u001b[1;33m=\u001b[0m\u001b[1;34m'case'\u001b[0m\u001b[1;33m,\u001b[0m\u001b[1;33m\u001b[0m\u001b[1;33m\u001b[0m\u001b[0m\n\u001b[0;32m     64\u001b[0m                                               \u001b[0mindex\u001b[0m\u001b[1;33m=\u001b[0m\u001b[1;33m[\u001b[0m\u001b[1;34m'initial'\u001b[0m\u001b[1;33m,\u001b[0m \u001b[1;34m'store'\u001b[0m\u001b[1;33m]\u001b[0m\u001b[1;33m,\u001b[0m\u001b[1;33m\u001b[0m\u001b[1;33m\u001b[0m\u001b[0m\n",
      "\u001b[1;32m~\\anaconda3\\lib\\site-packages\\pandas\\core\\reshape\\pivot.py\u001b[0m in \u001b[0;36mpivot_table\u001b[1;34m(data, values, index, columns, aggfunc, fill_value, margins, dropna, margins_name, observed, sort)\u001b[0m\n\u001b[0;32m     93\u001b[0m         \u001b[1;32mreturn\u001b[0m \u001b[0mtable\u001b[0m\u001b[1;33m.\u001b[0m\u001b[0m__finalize__\u001b[0m\u001b[1;33m(\u001b[0m\u001b[0mdata\u001b[0m\u001b[1;33m,\u001b[0m \u001b[0mmethod\u001b[0m\u001b[1;33m=\u001b[0m\u001b[1;34m\"pivot_table\"\u001b[0m\u001b[1;33m)\u001b[0m\u001b[1;33m\u001b[0m\u001b[1;33m\u001b[0m\u001b[0m\n\u001b[0;32m     94\u001b[0m \u001b[1;33m\u001b[0m\u001b[0m\n\u001b[1;32m---> 95\u001b[1;33m     table = __internal_pivot_table(\n\u001b[0m\u001b[0;32m     96\u001b[0m         \u001b[0mdata\u001b[0m\u001b[1;33m,\u001b[0m\u001b[1;33m\u001b[0m\u001b[1;33m\u001b[0m\u001b[0m\n\u001b[0;32m     97\u001b[0m         \u001b[0mvalues\u001b[0m\u001b[1;33m,\u001b[0m\u001b[1;33m\u001b[0m\u001b[1;33m\u001b[0m\u001b[0m\n",
      "\u001b[1;32m~\\anaconda3\\lib\\site-packages\\pandas\\core\\reshape\\pivot.py\u001b[0m in \u001b[0;36m__internal_pivot_table\u001b[1;34m(data, values, index, columns, aggfunc, fill_value, margins, dropna, margins_name, observed, sort)\u001b[0m\n\u001b[0;32m    229\u001b[0m         \u001b[1;32mif\u001b[0m \u001b[0mdropna\u001b[0m\u001b[1;33m:\u001b[0m\u001b[1;33m\u001b[0m\u001b[1;33m\u001b[0m\u001b[0m\n\u001b[0;32m    230\u001b[0m             \u001b[0mdata\u001b[0m \u001b[1;33m=\u001b[0m \u001b[0mdata\u001b[0m\u001b[1;33m[\u001b[0m\u001b[0mdata\u001b[0m\u001b[1;33m.\u001b[0m\u001b[0mnotna\u001b[0m\u001b[1;33m(\u001b[0m\u001b[1;33m)\u001b[0m\u001b[1;33m.\u001b[0m\u001b[0mall\u001b[0m\u001b[1;33m(\u001b[0m\u001b[0maxis\u001b[0m\u001b[1;33m=\u001b[0m\u001b[1;36m1\u001b[0m\u001b[1;33m)\u001b[0m\u001b[1;33m]\u001b[0m\u001b[1;33m\u001b[0m\u001b[1;33m\u001b[0m\u001b[0m\n\u001b[1;32m--> 231\u001b[1;33m         table = _add_margins(\n\u001b[0m\u001b[0;32m    232\u001b[0m             \u001b[0mtable\u001b[0m\u001b[1;33m,\u001b[0m\u001b[1;33m\u001b[0m\u001b[1;33m\u001b[0m\u001b[0m\n\u001b[0;32m    233\u001b[0m             \u001b[0mdata\u001b[0m\u001b[1;33m,\u001b[0m\u001b[1;33m\u001b[0m\u001b[1;33m\u001b[0m\u001b[0m\n",
      "\u001b[1;32m~\\anaconda3\\lib\\site-packages\\pandas\\core\\reshape\\pivot.py\u001b[0m in \u001b[0;36m_add_margins\u001b[1;34m(table, data, values, rows, cols, aggfunc, observed, margins_name, fill_value)\u001b[0m\n\u001b[0;32m    293\u001b[0m \u001b[1;33m\u001b[0m\u001b[0m\n\u001b[0;32m    294\u001b[0m     \u001b[1;32melif\u001b[0m \u001b[0mvalues\u001b[0m\u001b[1;33m:\u001b[0m\u001b[1;33m\u001b[0m\u001b[1;33m\u001b[0m\u001b[0m\n\u001b[1;32m--> 295\u001b[1;33m         marginal_result_set = _generate_marginal_results(\n\u001b[0m\u001b[0;32m    296\u001b[0m             \u001b[0mtable\u001b[0m\u001b[1;33m,\u001b[0m \u001b[0mdata\u001b[0m\u001b[1;33m,\u001b[0m \u001b[0mvalues\u001b[0m\u001b[1;33m,\u001b[0m \u001b[0mrows\u001b[0m\u001b[1;33m,\u001b[0m \u001b[0mcols\u001b[0m\u001b[1;33m,\u001b[0m \u001b[0maggfunc\u001b[0m\u001b[1;33m,\u001b[0m \u001b[0mobserved\u001b[0m\u001b[1;33m,\u001b[0m \u001b[0mmargins_name\u001b[0m\u001b[1;33m\u001b[0m\u001b[1;33m\u001b[0m\u001b[0m\n\u001b[0;32m    297\u001b[0m         )\n",
      "\u001b[1;32m~\\anaconda3\\lib\\site-packages\\pandas\\core\\reshape\\pivot.py\u001b[0m in \u001b[0;36m_generate_marginal_results\u001b[1;34m(table, data, values, rows, cols, aggfunc, observed, margins_name)\u001b[0m\n\u001b[0;32m    399\u001b[0m                 \u001b[0mmargin_keys\u001b[0m\u001b[1;33m.\u001b[0m\u001b[0mappend\u001b[0m\u001b[1;33m(\u001b[0m\u001b[0mall_key\u001b[0m\u001b[1;33m)\u001b[0m\u001b[1;33m\u001b[0m\u001b[1;33m\u001b[0m\u001b[0m\n\u001b[0;32m    400\u001b[0m \u001b[1;33m\u001b[0m\u001b[0m\n\u001b[1;32m--> 401\u001b[1;33m         \u001b[0mresult\u001b[0m \u001b[1;33m=\u001b[0m \u001b[0mconcat\u001b[0m\u001b[1;33m(\u001b[0m\u001b[0mtable_pieces\u001b[0m\u001b[1;33m,\u001b[0m \u001b[0maxis\u001b[0m\u001b[1;33m=\u001b[0m\u001b[0mcat_axis\u001b[0m\u001b[1;33m)\u001b[0m\u001b[1;33m\u001b[0m\u001b[1;33m\u001b[0m\u001b[0m\n\u001b[0m\u001b[0;32m    402\u001b[0m \u001b[1;33m\u001b[0m\u001b[0m\n\u001b[0;32m    403\u001b[0m         \u001b[1;32mif\u001b[0m \u001b[0mlen\u001b[0m\u001b[1;33m(\u001b[0m\u001b[0mrows\u001b[0m\u001b[1;33m)\u001b[0m \u001b[1;33m==\u001b[0m \u001b[1;36m0\u001b[0m\u001b[1;33m:\u001b[0m\u001b[1;33m\u001b[0m\u001b[1;33m\u001b[0m\u001b[0m\n",
      "\u001b[1;32m~\\anaconda3\\lib\\site-packages\\pandas\\util\\_decorators.py\u001b[0m in \u001b[0;36mwrapper\u001b[1;34m(*args, **kwargs)\u001b[0m\n\u001b[0;32m    309\u001b[0m                     \u001b[0mstacklevel\u001b[0m\u001b[1;33m=\u001b[0m\u001b[0mstacklevel\u001b[0m\u001b[1;33m,\u001b[0m\u001b[1;33m\u001b[0m\u001b[1;33m\u001b[0m\u001b[0m\n\u001b[0;32m    310\u001b[0m                 )\n\u001b[1;32m--> 311\u001b[1;33m             \u001b[1;32mreturn\u001b[0m \u001b[0mfunc\u001b[0m\u001b[1;33m(\u001b[0m\u001b[1;33m*\u001b[0m\u001b[0margs\u001b[0m\u001b[1;33m,\u001b[0m \u001b[1;33m**\u001b[0m\u001b[0mkwargs\u001b[0m\u001b[1;33m)\u001b[0m\u001b[1;33m\u001b[0m\u001b[1;33m\u001b[0m\u001b[0m\n\u001b[0m\u001b[0;32m    312\u001b[0m \u001b[1;33m\u001b[0m\u001b[0m\n\u001b[0;32m    313\u001b[0m         \u001b[1;32mreturn\u001b[0m \u001b[0mwrapper\u001b[0m\u001b[1;33m\u001b[0m\u001b[1;33m\u001b[0m\u001b[0m\n",
      "\u001b[1;32m~\\anaconda3\\lib\\site-packages\\pandas\\core\\reshape\\concat.py\u001b[0m in \u001b[0;36mconcat\u001b[1;34m(objs, axis, join, ignore_index, keys, levels, names, verify_integrity, sort, copy)\u001b[0m\n\u001b[0;32m    292\u001b[0m     \u001b[0mValueError\u001b[0m\u001b[1;33m:\u001b[0m \u001b[0mIndexes\u001b[0m \u001b[0mhave\u001b[0m \u001b[0moverlapping\u001b[0m \u001b[0mvalues\u001b[0m\u001b[1;33m:\u001b[0m \u001b[1;33m[\u001b[0m\u001b[1;34m'a'\u001b[0m\u001b[1;33m]\u001b[0m\u001b[1;33m\u001b[0m\u001b[1;33m\u001b[0m\u001b[0m\n\u001b[0;32m    293\u001b[0m     \"\"\"\n\u001b[1;32m--> 294\u001b[1;33m     op = _Concatenator(\n\u001b[0m\u001b[0;32m    295\u001b[0m         \u001b[0mobjs\u001b[0m\u001b[1;33m,\u001b[0m\u001b[1;33m\u001b[0m\u001b[1;33m\u001b[0m\u001b[0m\n\u001b[0;32m    296\u001b[0m         \u001b[0maxis\u001b[0m\u001b[1;33m=\u001b[0m\u001b[0maxis\u001b[0m\u001b[1;33m,\u001b[0m\u001b[1;33m\u001b[0m\u001b[1;33m\u001b[0m\u001b[0m\n",
      "\u001b[1;32m~\\anaconda3\\lib\\site-packages\\pandas\\core\\reshape\\concat.py\u001b[0m in \u001b[0;36m__init__\u001b[1;34m(self, objs, axis, join, keys, levels, names, ignore_index, verify_integrity, copy, sort)\u001b[0m\n\u001b[0;32m    349\u001b[0m \u001b[1;33m\u001b[0m\u001b[0m\n\u001b[0;32m    350\u001b[0m         \u001b[1;32mif\u001b[0m \u001b[0mlen\u001b[0m\u001b[1;33m(\u001b[0m\u001b[0mobjs\u001b[0m\u001b[1;33m)\u001b[0m \u001b[1;33m==\u001b[0m \u001b[1;36m0\u001b[0m\u001b[1;33m:\u001b[0m\u001b[1;33m\u001b[0m\u001b[1;33m\u001b[0m\u001b[0m\n\u001b[1;32m--> 351\u001b[1;33m             \u001b[1;32mraise\u001b[0m \u001b[0mValueError\u001b[0m\u001b[1;33m(\u001b[0m\u001b[1;34m\"No objects to concatenate\"\u001b[0m\u001b[1;33m)\u001b[0m\u001b[1;33m\u001b[0m\u001b[1;33m\u001b[0m\u001b[0m\n\u001b[0m\u001b[0;32m    352\u001b[0m \u001b[1;33m\u001b[0m\u001b[0m\n\u001b[0;32m    353\u001b[0m         \u001b[1;32mif\u001b[0m \u001b[0mkeys\u001b[0m \u001b[1;32mis\u001b[0m \u001b[1;32mNone\u001b[0m\u001b[1;33m:\u001b[0m\u001b[1;33m\u001b[0m\u001b[1;33m\u001b[0m\u001b[0m\n",
      "\u001b[1;31mValueError\u001b[0m: No objects to concatenate"
     ]
    }
   ],
   "source": [
    "# dallas\n",
    "from store_info import Replenishment\n",
    "\n",
    "dallas = Replenishment(store_type_input='kroger_dallas')\n",
    "\n",
    "\n",
    "\n",
    "dallas.sales_update(file='Sherlock Store Matrix.csv')\n",
    "dallas.delivery_update(file='dallas.csv')\n",
    "dallas.sales_report()"
   ]
  },
  {
   "cell_type": "code",
   "execution_count": 3,
   "id": "4b6df5d5",
   "metadata": {},
   "outputs": [
    {
     "name": "stdout",
     "output_type": "stream",
     "text": [
      "\n",
      " kroger_dillons Sales Data Updated\n",
      "Updated: 197 Records\n",
      "Inserted: 0 Records\n",
      "\n",
      " kroger_dillons Delivery Data Updated\n",
      "Updated: 36 Records\n",
      "Inserted: 0 Records\n",
      "No Programs have been established for these stores listed:\n",
      "\n",
      " []\n",
      "No Programs have been established for these stores listed:\n",
      "\n",
      " []\n",
      "kroger_dillons_external_sales_report_Aug-15-2022.xlsx\n",
      "kroger_dillons_internal_sales_report_Aug-15-2022.xlsx\n",
      "\n",
      "Sales Report Generated\n"
     ]
    }
   ],
   "source": [
    "# dillons\n",
    "from store_info import Replenishment\n",
    "\n",
    "dillons = Replenishment(store_type_input='kroger_dillons')\n",
    "\n",
    "dillons.sales_update(file='Sherlock Store Matrix.csv')\n",
    "dillons.delivery_update(file='dillons.csv')\n",
    "dillons.sales_report()"
   ]
  },
  {
   "cell_type": "code",
   "execution_count": 5,
   "id": "881ba544",
   "metadata": {},
   "outputs": [
    {
     "name": "stdout",
     "output_type": "stream",
     "text": [
      "\n",
      " kroger_king_soopers Sales Data Updated\n",
      "Updated: 133 Records\n",
      "Inserted: 0 Records\n",
      "\n",
      " kroger_king_soopers Delivery Data Updated\n",
      "Updated: 0 Records\n",
      "Inserted: 90 Records\n",
      "No Programs have been established for these stores listed:\n",
      "\n",
      " []\n",
      "No Programs have been established for these stores listed:\n",
      "\n",
      " []\n",
      "kroger_king_soopers_external_sales_report_Aug-15-2022.xlsx\n",
      "kroger_king_soopers_internal_sales_report_Aug-15-2022.xlsx\n",
      "\n",
      "Sales Report Generated\n"
     ]
    }
   ],
   "source": [
    "# king sooper\n",
    "from store_info import Replenishment\n",
    "\n",
    "king_soopers = Replenishment(store_type_input='kroger_king_soopers')\n",
    "\n",
    "\n",
    "king_soopers.sales_update(file='Sherlock Store Matrix.csv')\n",
    "king_soopers.delivery_update(file='king.csv')\n",
    "king_soopers.sales_report()"
   ]
  },
  {
   "cell_type": "code",
   "execution_count": 6,
   "id": "1efb8bb5",
   "metadata": {},
   "outputs": [
    {
     "name": "stdout",
     "output_type": "stream",
     "text": [
      "\n",
      " kroger_louisville Sales Data Updated\n",
      "Updated: 84 Records\n",
      "Inserted: 85 Records\n",
      "\n",
      " kroger_louisville Delivery Data Updated\n",
      "Updated: 26 Records\n",
      "Inserted: 15 Records\n",
      "No Programs have been established for these stores listed:\n",
      "\n",
      " []\n",
      "No Programs have been established for these stores listed:\n",
      "\n",
      " []\n",
      "kroger_louisville_external_sales_report_Aug-15-2022.xlsx\n",
      "kroger_louisville_internal_sales_report_Aug-15-2022.xlsx\n",
      "\n",
      "Sales Report Generated\n"
     ]
    }
   ],
   "source": [
    "# louisville\n",
    "from store_info import Replenishment\n",
    "\n",
    "louisville = Replenishment(store_type_input='kroger_louisville')\n",
    "\n",
    "louisville.sales_update(file='Sherlock Store Matrix.csv')\n",
    "louisville.delivery_update(file='louisville.csv')\n",
    "louisville.sales_report()"
   ]
  },
  {
   "cell_type": "code",
   "execution_count": 7,
   "id": "05d85060",
   "metadata": {},
   "outputs": [
    {
     "name": "stdout",
     "output_type": "stream",
     "text": [
      "Found code for Sales table in support sheet instead of delivery table store 776 upc: 81031202046\n",
      "Found code for Sales table in support sheet instead of delivery table store 637 upc: 81031202046\n",
      "Found code for Sales table in support sheet instead of delivery table store 637 upc: 81031202046\n",
      "Found code for Sales table in support sheet instead of delivery table store 637 upc: 81031202367\n",
      "Found code for Sales table in support sheet instead of delivery table store 637 upc: 81031202368\n",
      "\n",
      " kroger_michigan Sales Data Updated\n",
      "Updated: 96 Records\n",
      "Inserted: 0 Records\n",
      "\n",
      " kroger_michigan Delivery Data Updated\n",
      "Updated: 15 Records\n",
      "Inserted: 0 Records\n",
      "No Programs have been established for these stores listed:\n",
      "\n",
      " [115]\n",
      "No Programs have been established for these stores listed:\n",
      "\n",
      " [115]\n",
      "look into store 749 something is off that needs to be fixed\n",
      "look into store 749 something is off that needs to be fixed\n",
      "look into store 749 something is off that needs to be fixed\n",
      "kroger_michigan_external_sales_report_Aug-15-2022.xlsx\n",
      "kroger_michigan_internal_sales_report_Aug-15-2022.xlsx\n",
      "\n",
      "Sales Report Generated\n"
     ]
    }
   ],
   "source": [
    "# michigan\n",
    "from store_info import Replenishment\n",
    "\n",
    "michigan = Replenishment(store_type_input='kroger_michigan')\n",
    "\n",
    "michigan.sales_update(file='Sherlock Store Matrix.csv')\n",
    "michigan.delivery_update(file='michigan.csv')\n",
    "michigan.sales_report()"
   ]
  },
  {
   "cell_type": "code",
   "execution_count": 8,
   "id": "04a8d7cc",
   "metadata": {},
   "outputs": [
    {
     "name": "stdout",
     "output_type": "stream",
     "text": [
      "\n",
      " kroger_nashville Sales Data Updated\n",
      "Updated: 246 Records\n",
      "Inserted: 0 Records\n",
      "\n",
      " kroger_nashville Delivery Data Updated\n",
      "Updated: 51 Records\n",
      "Inserted: 0 Records\n",
      "No Programs have been established for these stores listed:\n",
      "\n",
      " []\n",
      "No Programs have been established for these stores listed:\n",
      "\n",
      " []\n",
      "kroger_nashville_external_sales_report_Aug-15-2022.xlsx\n",
      "kroger_nashville_internal_sales_report_Aug-15-2022.xlsx\n",
      "\n",
      "Sales Report Generated\n"
     ]
    }
   ],
   "source": [
    "# nashville\n",
    "from store_info import Replenishment\n",
    "\n",
    "nashville = Replenishment(store_type_input='kroger_nashville')\n",
    "\n",
    "\n",
    "nashville.sales_update(file='Sherlock Store Matrix.csv')\n",
    "nashville.delivery_update(file='nashville.csv')\n",
    "nashville.sales_report()"
   ]
  },
  {
   "cell_type": "code",
   "execution_count": 9,
   "id": "9d2cb4fe",
   "metadata": {},
   "outputs": [
    {
     "name": "stdout",
     "output_type": "stream",
     "text": [
      "Found code for Sales table in support sheet instead of delivery table store 211 upc: 81031202172\n",
      "Found code for Sales table in support sheet instead of delivery table store 424 upc: 81031202229\n",
      "Found code for Sales table in support sheet instead of delivery table store 424 upc: 81031202127\n",
      "Found code for Sales table in support sheet instead of delivery table store 428 upc: 81031202373\n",
      "Found code for Sales table in support sheet instead of delivery table store 428 upc: 81031202374\n",
      "Found code for Sales table in support sheet instead of delivery table store 437 upc: 81031202373\n",
      "Found code for Sales table in support sheet instead of delivery table store 606 upc: 81031202272\n",
      "Found code for Sales table in support sheet instead of delivery table store 610 upc: 81031202118\n",
      "Found code for Sales table in support sheet instead of delivery table store 610 upc: 81031202232\n",
      "Found code for Sales table in support sheet instead of delivery table store 632 upc: 81031202229\n",
      "Found code for Sales table in support sheet instead of delivery table store 634 upc: 81031202045\n",
      "Found code for Sales table in support sheet instead of delivery table store 641 upc: 81031202324\n",
      "Found code for Sales table in support sheet instead of delivery table store 657 upc: 81031202324\n",
      "Found code for Sales table in support sheet instead of delivery table store 668 upc: 81031202258\n",
      "Found code for Sales table in support sheet instead of delivery table store 687 upc: 81031202134\n",
      "Found code for Sales table in support sheet instead of delivery table store 687 upc: 81031202229\n",
      "Found code for Sales table in support sheet instead of delivery table store 712 upc: 81031202230\n",
      "Found code for Sales table in support sheet instead of delivery table store 715 upc: 81031202373\n",
      "Found code for Sales table in support sheet instead of delivery table store 726 upc: 81031202170\n",
      "Found code for Sales table in support sheet instead of delivery table store 865 upc: 81031202045\n",
      "Found code for Sales table in support sheet instead of delivery table store 865 upc: 81031202230\n",
      "Found code for Sales table in support sheet instead of delivery table store 2446 upc: 81031202258\n",
      "\n",
      " kvat Sales Data Updated\n",
      "Updated: 0 Records\n",
      "Inserted: 286 Records\n",
      "\n",
      " kvat Delivery Data Updated\n",
      "Updated: 16 Records\n",
      "Inserted: 0 Records\n",
      "No Programs have been established for these stores listed:\n",
      "\n",
      " [206, 614, 626, 678, 694, 735, 735, 848, 2803]\n",
      "No Programs have been established for these stores listed:\n",
      "\n",
      " [206, 614, 626, 678, 694, 735, 735, 848, 2803]\n",
      "kvat_external_sales_report_Aug-15-2022.xlsx\n",
      "kvat_internal_sales_report_Aug-15-2022.xlsx\n",
      "\n",
      "Sales Report Generated\n"
     ]
    }
   ],
   "source": [
    "# kvat \n",
    "from store_info import Replenishment\n",
    "\n",
    "kvat = Replenishment(store_type_input='kvat')\n",
    "\n",
    "\n",
    "kvat.sales_update(file='kvat_sales.xlsx')\n",
    "kvat.delivery_update(file='kvat.csv')\n",
    "kvat.sales_report()"
   ]
  },
  {
   "cell_type": "code",
   "execution_count": 10,
   "id": "6ab69390",
   "metadata": {},
   "outputs": [
    {
     "name": "stdout",
     "output_type": "stream",
     "text": [
      "Found code for Sales table in support sheet instead of delivery table store 244 upc: 81031202155\n",
      "Found code for Sales table in support sheet instead of delivery table store 1267 upc: 81031202155\n",
      "Found code for Sales table in support sheet instead of delivery table store 1998 upc: 81031202045\n",
      "Found code for Sales table in support sheet instead of delivery table store 10 upc: 81031202155\n",
      "Found code for Sales table in support sheet instead of delivery table store 137 upc: 81031202373\n",
      "Found code for Sales table in support sheet instead of delivery table store 841 upc: 81031202217\n",
      "Found code for Sales table in support sheet instead of delivery table store 899 upc: 81031202373\n",
      "Found code for Sales table in support sheet instead of delivery table store 1568 upc: 81031202155\n",
      "Found code for Sales table in support sheet instead of delivery table store 1568 upc: 81031202373\n",
      "Found code for Sales table in support sheet instead of delivery table store 2791 upc: 81031202217\n",
      "Found code for Sales table in support sheet instead of delivery table store 2792 upc: 81031202155\n",
      "Found code for Sales table in support sheet instead of delivery table store 64 upc: 81031202373\n",
      "Found code for Sales table in support sheet instead of delivery table store 65 upc: 81031202372\n",
      "Found code for Sales table in support sheet instead of delivery table store 66 upc: 81031202373\n",
      "Found code for Sales table in support sheet instead of delivery table store 67 upc: 81031202217\n",
      "Found code for Sales table in support sheet instead of delivery table store 467 upc: 81031202217\n",
      "Found code for Sales table in support sheet instead of delivery table store 549 upc: 81031202155\n",
      "Found code for Sales table in support sheet instead of delivery table store 581 upc: 81031202373\n",
      "Found code for Sales table in support sheet instead of delivery table store 876 upc: 81031202373\n",
      "Found code for Sales table in support sheet instead of delivery table store 2913 upc: 81031202155\n",
      "Found code for Sales table in support sheet instead of delivery table store 920 upc: 81031202217\n",
      "Found code for Sales table in support sheet instead of delivery table store 1116 upc: 81031202155\n",
      "Found code for Sales table in support sheet instead of delivery table store 1656 upc: 81031202155\n",
      "Found code for Sales table in support sheet instead of delivery table store 2341 upc: 81031202155\n",
      "Found code for Sales table in support sheet instead of delivery table store 2666 upc: 81031202155\n",
      "Found code for Sales table in support sheet instead of delivery table store 2666 upc: 81031202217\n",
      "Found code for Sales table in support sheet instead of delivery table store 2919 upc: 81031202217\n",
      "Found code for Sales table in support sheet instead of delivery table store 835 upc: 81031202217\n",
      "Found code for Sales table in support sheet instead of delivery table store 1286 upc: 81031202217\n",
      "Found code for Sales table in support sheet instead of delivery table store 1286 upc: 81031202373\n",
      "Found code for Sales table in support sheet instead of delivery table store 1440 upc: 81031202045\n",
      "Found code for Sales table in support sheet instead of delivery table store 1440 upc: 81031202069\n",
      "Found code for Sales table in support sheet instead of delivery table store 1499 upc: 81031202045\n",
      "Found code for Sales table in support sheet instead of delivery table store 1532 upc: 81031202217\n",
      "Found code for Sales table in support sheet instead of delivery table store 1644 upc: 81031202045\n",
      "Found code for Sales table in support sheet instead of delivery table store 1975 upc: 81031202217\n",
      "Found code for Sales table in support sheet instead of delivery table store 617 upc: 81031202155\n",
      "Found code for Sales table in support sheet instead of delivery table store 617 upc: 81031202217\n",
      "Found code for Sales table in support sheet instead of delivery table store 801 upc: 81031202155\n",
      "Found code for Sales table in support sheet instead of delivery table store 1681 upc: 81031202155\n",
      "Found code for Sales table in support sheet instead of delivery table store 1721 upc: 81031202155\n",
      "Found code for Sales table in support sheet instead of delivery table store 1760 upc: 81031202155\n",
      "Found code for Sales table in support sheet instead of delivery table store 2004 upc: 81031202155\n",
      "Found code for Sales table in support sheet instead of delivery table store 3723 upc: 81031202155\n",
      "Found code for Sales table in support sheet instead of delivery table store 3727 upc: 81031202045\n",
      "Found code for Sales table in support sheet instead of delivery table store 3727 upc: 81031202155\n",
      "Found code for Sales table in support sheet instead of delivery table store 3728 upc: 81031202155\n",
      "Found code for Sales table in support sheet instead of delivery table store 3729 upc: 81031202217\n",
      "\n",
      " safeway_denver Sales Data Updated\n",
      "Updated: 0 Records\n",
      "Inserted: 179 Records\n",
      "\n",
      " safeway_denver Delivery Data Updated\n",
      "Updated: 0 Records\n",
      "Inserted: 6 Records\n",
      "No Programs have been established for these stores listed:\n",
      "\n",
      " [27, 64, 824, 1548, 2520, 2911]\n",
      "No Programs have been established for these stores listed:\n",
      "\n",
      " [27, 64, 824, 1548, 2520, 2911]\n",
      "look into store 2915 something is off that needs to be fixed\n",
      "look into store 2915 something is off that needs to be fixed\n",
      "look into store 2915 something is off that needs to be fixed\n",
      "safeway_denver_external_sales_report_Aug-15-2022.xlsx\n",
      "safeway_denver_internal_sales_report_Aug-15-2022.xlsx\n",
      "\n",
      "Sales Report Generated\n"
     ]
    }
   ],
   "source": [
    "# safeway denver\n",
    "from store_info import Replenishment\n",
    "\n",
    "safeway_denver= Replenishment(store_type_input='safeway_denver')\n",
    "\n",
    "safeway_denver.sales_update(file='denver_sales.xlsx')\n",
    "safeway_denver.delivery_update(file='denver.csv')\n",
    "safeway_denver.sales_report()"
   ]
  },
  {
   "cell_type": "code",
   "execution_count": 11,
   "id": "c0c83341",
   "metadata": {},
   "outputs": [
    {
     "name": "stdout",
     "output_type": "stream",
     "text": [
      "\n",
      " kroger_cincinatti Sales Data Updated\n",
      "Updated: 108 Records\n",
      "Inserted: 135 Records\n",
      "\n",
      " kroger_cincinatti Delivery Data Updated\n",
      "Updated: 12 Records\n",
      "Inserted: 15 Records\n",
      "No Programs have been established for these stores listed:\n",
      "\n",
      " []\n",
      "No Programs have been established for these stores listed:\n",
      "\n",
      " []\n",
      "kroger_cincinatti_external_sales_report_Aug-15-2022.xlsx\n",
      "kroger_cincinatti_internal_sales_report_Aug-15-2022.xlsx\n",
      "\n",
      "Sales Report Generated\n"
     ]
    }
   ],
   "source": [
    "# cincinatti\n",
    "from store_info import Replenishment\n",
    "\n",
    "atlanta = Replenishment(store_type_input='kroger_cincinatti')\n",
    "\n",
    "atlanta.sales_update(file='Sherlock Store Matrix.csv')\n",
    "atlanta.delivery_update(file='cincinatti.csv')\n",
    "atlanta.sales_report()"
   ]
  },
  {
   "cell_type": "code",
   "execution_count": null,
   "id": "60c9a54b",
   "metadata": {},
   "outputs": [],
   "source": []
  }
 ],
 "metadata": {
  "interpreter": {
   "hash": "eb4e0a0fd1d19bb9a06c4c3c2c2cf016517ec825f23f225e84b2f7e81a104fe7"
  },
  "kernelspec": {
   "display_name": "Python 3 (ipykernel)",
   "language": "python",
   "name": "python3"
  },
  "language_info": {
   "codemirror_mode": {
    "name": "ipython",
    "version": 3
   },
   "file_extension": ".py",
   "mimetype": "text/x-python",
   "name": "python",
   "nbconvert_exporter": "python",
   "pygments_lexer": "ipython3",
   "version": "3.9.7"
  }
 },
 "nbformat": 4,
 "nbformat_minor": 5
}
