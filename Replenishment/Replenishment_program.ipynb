{
 "cells": [
  {
   "cell_type": "code",
   "execution_count": 1,
   "id": "e6208782",
   "metadata": {},
   "outputs": [
    {
     "name": "stdout",
     "output_type": "stream",
     "text": [
      "\n",
      "Enter the Current Year\n",
      "\n",
      "Enter the Current Week\n"
     ]
    }
   ],
   "source": [
    "from store_info import Replenishment\n",
    "# from Sales_Report.Reports.reports import *\n",
    "\n",
    "print('\\nEnter the Current Year')\n",
    "# year = int(input())\n",
    "\n",
    "print('\\nEnter the Current Week')\n",
    "# week = int(input())\n",
    "\n",
    "year = 2022\n",
    "week = 30\n"
   ]
  },
  {
   "cell_type": "code",
   "execution_count": 6,
   "id": "4f2ccd4f",
   "metadata": {},
   "outputs": [
    {
     "name": "stdout",
     "output_type": "stream",
     "text": [
      "\n",
      " Store Data Imported\n",
      "Updated: 151 Records\n",
      "Inserted: 1 Records\n",
      "\n",
      " Store Program Data Imported\n",
      "Updated: 151 Records\n",
      "Inserted: 1 Records\n",
      "\n",
      "\n",
      "Item Approval List Imported\n",
      "Updated: 499 Records\n",
      "Inserted: 0 Records\n"
     ]
    }
   ],
   "source": [
    "# kvat \n",
    "\n",
    "kvat = Replenishment(store_type_input='follett', \n",
    "                               current_year = year , \n",
    "                               current_week= week)\n",
    "\n",
    "# kvat.sales_import(\"jewel_salesdata_backup_Jul-08-2022.xlsx\")\n",
    "# kvat.delivery_import(\"jewel_deliverydata_backup_Jul-08-2022.xlsx\")\n",
    "kvat.store_import()\n",
    "# kvat.master_planogram_import()\n",
    "kvat.store_program_import()\n",
    "kvat.store_approval_import('follett_approval.csv')\n",
    "# kvat.support_import('support_sheet')\n",
    "# kvat.inventory_import('inventory.csv')\n",
    "# kvat.sales_update(file='Sherlock Store Matrix.csv')\n",
    "# kvat.delivery_update(file='kvat.csv')\n",
    "# kvat.sales_report()\n",
    "# kvat.size_table_update('size_table')"
   ]
  },
  {
   "cell_type": "code",
   "execution_count": 16,
   "id": "047c9933",
   "metadata": {},
   "outputs": [
    {
     "name": "stdout",
     "output_type": "stream",
     "text": [
      "kroger_dillons_dummy_sales.xlsx\n"
     ]
    }
   ],
   "source": [
    "store_type_input = 'kroger_dillons'\n",
    "store_setting= pd.read_excel(rf'C:\\Users\\User1\\OneDrive\\WinWin Staff Folders\\Michael\\Groccery Store Program\\{store_type_input}\\{store_type_input}_store_setting.xlsm',\n",
    "                                            sheet_name='Sheet2',\n",
    "                                            header=None,\n",
    "                                            index_col=0,\n",
    "                                            names=('setting', 'values'))\n",
    "\n",
    "atlanta = Reports(store_type_input, store_setting)\n",
    "atlanta.external_report(f'{store_type_input}_dummy_sales.xlsx')"
   ]
  },
  {
   "cell_type": "code",
   "execution_count": 3,
   "id": "1e308657",
   "metadata": {},
   "outputs": [],
   "source": [
    "import datetime\n",
    "import re\n",
    "import pandas as pd\n",
    "import datetime as dt\n",
    "import psycopg2\n",
    "\n",
    "import pandas.io.sql as psql\n",
    "\n",
    "import numpy as np\n",
    "from psycopg2.extensions import register_adapter, AsIs\n",
    "psycopg2.extensions.register_adapter(np.int64, psycopg2._psycopg.AsIs)\n",
    "\n",
    "#downloads the sales & delivery data for all stores\n",
    "store_list = [\n",
    "    \n",
    "    'acme',\n",
    "    'follett',\n",
    "    'fresh_encounter',\n",
    "    'intermountain',\n",
    "    'jewel',\n",
    "    'kroger_atlanta',\n",
    "    'kroger_central',\n",
    "    'kroger_cincinatti',\n",
    "    'kroger_columbus',\n",
    "    'kroger_dallas',\n",
    "    'kroger_delta',\n",
    "    'kroger_dillons',\n",
    "    'kroger_king_soopers',\n",
    "    'kroger_louisville',\n",
    "    'kroger_michigan',\n",
    "    'kroger_nashville',\n",
    "    'kvat',\n",
    "    'safeway_denver',\n",
    "    'texas_division'\n",
    "]\n",
    "\n",
    "\n",
    "i= 0\n",
    "num_of_store = len(store_list)\n",
    "\n",
    "date = datetime.date.today()\n",
    "date = date.strftime(\"%b-%d-%Y\")\n",
    "\n",
    "\n",
    "\n",
    "while i < num_of_store:\n",
    "\n",
    "    store = store_list[i]\n",
    "    \n",
    "    connection = psycopg2.connect(database=f\"Grocery\", user=\"postgres\", password=\"winwin\", host=\"localhost\")\n",
    "\n",
    "    num = psql.read_sql(f\"select * from {store}.delivery2\", connection)\n",
    "\n",
    "    num.to_excel(f'{store}_deliverydata_backup_{date}.xlsx', index = False)\n",
    "    \n",
    "    num = psql.read_sql(f\"select * from {store}.sales2\", connection)\n",
    " \n",
    "    num.to_excel(f'{store}_salesdata_backup_{date}.xlsx', index = False)\n",
    "    \n",
    "    i+=1\n",
    "\n",
    "i= 0\n",
    "# num_of_store = len(store_list)\n",
    "\n",
    "# while i < num_of_store:\n",
    "\n",
    "#     store = store_list[i]\n",
    "#     connection = psycopg2.connect(database=f\"Grocery\", user=\"postgres\", password=\"winwin\", host=\"localhost\")\n",
    "\n",
    "#     num = psql.read_sql(f\"select * from {store}.sales2\", connection)\n",
    "\n",
    "    \n",
    "#     num.to_excel(f'{store}_salesdata_backup_{date}.xlsx', index = False)\n",
    "#     i+=1\n",
    "    \n",
    "    \n",
    "    \n",
    "    \n",
    "\n"
   ]
  },
  {
   "cell_type": "code",
   "execution_count": 2,
   "id": "2f224c69",
   "metadata": {},
   "outputs": [],
   "source": []
  },
  {
   "cell_type": "code",
   "execution_count": 9,
   "id": "81f23ed6",
   "metadata": {},
   "outputs": [
    {
     "name": "stdout",
     "output_type": "stream",
     "text": [
      "\n",
      "Delivery Data Updated\n",
      "Updated: 91 Records\n",
      "Inserted: 0 Records\n",
      "No Programs have been established for these stores listed:\n",
      "\n",
      " [996]\n",
      "No Programs have been established for these stores listed:\n",
      "\n",
      " [996]\n",
      "acme_external_sales_report_Jul-01-2022.xlsx\n",
      "acme_internal_sales_report_Jul-01-2022.xlsx\n",
      "\n",
      "Sales Report Generated\n"
     ]
    }
   ],
   "source": [
    "# Mid-Atlantic\n",
    "from store_info import Replenishment\n",
    "\n",
    "acme = Replenishment(store_type_input='acme',\n",
    "                     current_year = year , \n",
    "                     current_week= week)\n",
    "\n",
    "# acme.sales_import('acme_salesdata_fixed.xlsx')\n",
    "acme.delivery_update(file='acme_new.csv')\n",
    "acme.sales_report()\n",
    "# acme.size_table_update('size_table')"
   ]
  },
  {
   "cell_type": "code",
   "execution_count": 9,
   "id": "a9f69153",
   "metadata": {},
   "outputs": [
    {
     "name": "stdout",
     "output_type": "stream",
     "text": [
      "\n",
      "Delivery Data Updated\n",
      "Updated: 12 Records\n",
      "Inserted: 0 Records\n",
      "No Programs have been established for these stores listed:\n",
      "\n",
      " [1057, 1776, 1786, 1972, 2481, 2544, 2673, 3054, 3312, 3522, 4062]\n",
      "No Programs have been established for these stores listed:\n",
      "\n",
      " [1057, 1776, 1786, 1972, 2481, 2544, 2673, 3054, 3312, 3522, 4062]\n",
      "texas_division_external_sales_report_Jun-17-2022.xlsx\n",
      "texas_division_internal_sales_report_Jun-17-2022.xlsx\n",
      "\n",
      "Sales Report Generated\n"
     ]
    }
   ],
   "source": [
    "# Texas Division\n",
    "from store_info import Replenishment\n",
    "\n",
    "texas_division = Replenishment(store_type_input='texas_division',\n",
    "                               current_year = year , \n",
    "                               current_week= week)\n",
    "\n",
    "# texas_division.sales_update(file='')\n",
    "# texas_division.sales_import('texas_division_salesdata')\n",
    "texas_division.delivery_update(file='texas.csv')\n",
    "texas_division.sales_report()\n",
    "\n",
    "        "
   ]
  },
  {
   "cell_type": "code",
   "execution_count": null,
   "id": "3347f407",
   "metadata": {},
   "outputs": [],
   "source": [
    "# brookshire\n",
    "from store_info import Replenishment\n",
    "\n",
    "brookshire = Replenishment(store_type_input='brookshire',\n",
    "                               transition_date_range='2022SS', \n",
    "                               current_year = year , \n",
    "                               current_week= week)\n",
    "brookshire.sales_update(file='')\n",
    "brookshire.delivery_update(file='brookshire')\n",
    "brookshire.sales_report()\n"
   ]
  },
  {
   "cell_type": "code",
   "execution_count": 7,
   "id": "ef4bf278",
   "metadata": {},
   "outputs": [
    {
     "name": "stdout",
     "output_type": "stream",
     "text": [
      "Updated: 372\n",
      "Inserted: 0\n",
      "\n",
      "Support Sheet Imported\n",
      "\n",
      "Inventory list imported\n",
      "Updated: 455 Records\n",
      "Inserted: 2 Records\n",
      "\n",
      "Sales Data Imported\n",
      "\n",
      "Delivery Data Updated\n",
      "Updated: 306 Records\n",
      "Inserted: 33 Records\n",
      "No Programs have been established for these stores listed:\n",
      "\n",
      " [431, 438, 458, 468, 930, 930, 930]\n",
      "No Programs have been established for these stores listed:\n",
      "\n",
      " [431, 438, 458, 468, 930, 930, 930]\n",
      "look into store 116 something is off that needs to be fixed\n",
      "look into store 116 something is off that needs to be fixed\n",
      "look into store 116 something is off that needs to be fixed\n",
      "fresh_encounter_external_sales_report_Jul-18-2022.xlsx\n",
      "fresh_encounter_internal_sales_report_Jul-18-2022.xlsx\n",
      "\n",
      "Sales Report Generated\n"
     ]
    }
   ],
   "source": [
    "# fresh Encounter\n",
    "from store_info import Replenishment\n",
    "\n",
    "fresh_encounter = Replenishment(store_type_input='fresh_encounter',\n",
    "                               current_year = year , \n",
    "                               current_week= 1)\n",
    "\n",
    "fresh_encounter.support_import('support_sheet')\n",
    "fresh_encounter.inventory_import('inventory.csv')\n",
    "fresh_encounter.sales_import(file='fresh_encounter_salesdata_fixed.xlsx')\n",
    "fresh_encounter.delivery_update(file='fresh_encounter.csv')\n",
    "fresh_encounter.sales_report()"
   ]
  },
  {
   "cell_type": "code",
   "execution_count": 15,
   "id": "930a2b87",
   "metadata": {},
   "outputs": [
    {
     "name": "stdout",
     "output_type": "stream",
     "text": [
      "\n",
      "Sales Data Imported\n",
      "\n",
      "Delivery Data Updated\n",
      "Updated: 179 Records\n",
      "Inserted: 0 Records\n",
      "No Programs have been established for these stores listed:\n",
      "\n",
      " [15, 3004]\n",
      "No Programs have been established for these stores listed:\n",
      "\n",
      " [15, 3004]\n",
      "intermountain_external_sales_report_Jul-01-2022.xlsx\n",
      "intermountain_internal_sales_report_Jul-01-2022.xlsx\n",
      "\n",
      "Sales Report Generated\n"
     ]
    }
   ],
   "source": [
    "# Intermountain \n",
    "from store_info import Replenishment\n",
    "\n",
    "intermountain = Replenishment(store_type_input='intermountain',\n",
    "                               current_year = year , \n",
    "                               current_week= week)\n",
    "\n",
    "intermountain.sales_import('intermountain_salesdata_fixed.xlsx')\n",
    "intermountain.delivery_update(file='intermountain.csv')\n",
    "intermountain.sales_report()"
   ]
  },
  {
   "cell_type": "code",
   "execution_count": 2,
   "id": "e8105cda",
   "metadata": {},
   "outputs": [
    {
     "ename": "PermissionError",
     "evalue": "[Errno 13] Permission denied: 'C:\\\\Users\\\\User1\\\\OneDrive - winwinproducts.com\\\\Groccery Store Program\\\\MASTER PLANOGRAM.xlsx'",
     "output_type": "error",
     "traceback": [
      "\u001b[1;31m---------------------------------------------------------------------------\u001b[0m",
      "\u001b[1;31mPermissionError\u001b[0m                           Traceback (most recent call last)",
      "\u001b[1;32m~\\AppData\\Local\\Temp/ipykernel_11080/1453222631.py\u001b[0m in \u001b[0;36m<module>\u001b[1;34m\u001b[0m\n\u001b[0;32m      2\u001b[0m \u001b[1;32mfrom\u001b[0m \u001b[0mstore_info\u001b[0m \u001b[1;32mimport\u001b[0m \u001b[0mReplenishment\u001b[0m\u001b[1;33m\u001b[0m\u001b[1;33m\u001b[0m\u001b[0m\n\u001b[0;32m      3\u001b[0m \u001b[1;33m\u001b[0m\u001b[0m\n\u001b[1;32m----> 4\u001b[1;33m follett = Replenishment(store_type_input='follett',\n\u001b[0m\u001b[0;32m      5\u001b[0m                                \u001b[0mcurrent_year\u001b[0m \u001b[1;33m=\u001b[0m \u001b[0myear\u001b[0m \u001b[1;33m,\u001b[0m\u001b[1;33m\u001b[0m\u001b[1;33m\u001b[0m\u001b[0m\n\u001b[0;32m      6\u001b[0m                                current_week= week)\n",
      "\u001b[1;32m~\\OneDrive\\WinWin Staff Folders\\Michael\\Replenishment program\\Replenishment\\store_info.py\u001b[0m in \u001b[0;36m__init__\u001b[1;34m(self, store_type_input, current_year, current_week)\u001b[0m\n\u001b[0;32m     51\u001b[0m                                          sheet_name='Store Notes')\n\u001b[0;32m     52\u001b[0m \u001b[1;33m\u001b[0m\u001b[0m\n\u001b[1;32m---> 53\u001b[1;33m         self.master_planogram = pd.read_excel(rf'C:\\Users\\User1\\OneDrive - winwinproducts.com\\Groccery Store Program\\MASTER PLANOGRAM.xlsx',\n\u001b[0m\u001b[0;32m     54\u001b[0m                                          sheet_name='MASTER PLANOGRAM')\n\u001b[0;32m     55\u001b[0m \u001b[1;33m\u001b[0m\u001b[0m\n",
      "\u001b[1;32m~\\anaconda3\\lib\\site-packages\\pandas\\util\\_decorators.py\u001b[0m in \u001b[0;36mwrapper\u001b[1;34m(*args, **kwargs)\u001b[0m\n\u001b[0;32m    309\u001b[0m                     \u001b[0mstacklevel\u001b[0m\u001b[1;33m=\u001b[0m\u001b[0mstacklevel\u001b[0m\u001b[1;33m,\u001b[0m\u001b[1;33m\u001b[0m\u001b[1;33m\u001b[0m\u001b[0m\n\u001b[0;32m    310\u001b[0m                 )\n\u001b[1;32m--> 311\u001b[1;33m             \u001b[1;32mreturn\u001b[0m \u001b[0mfunc\u001b[0m\u001b[1;33m(\u001b[0m\u001b[1;33m*\u001b[0m\u001b[0margs\u001b[0m\u001b[1;33m,\u001b[0m \u001b[1;33m**\u001b[0m\u001b[0mkwargs\u001b[0m\u001b[1;33m)\u001b[0m\u001b[1;33m\u001b[0m\u001b[1;33m\u001b[0m\u001b[0m\n\u001b[0m\u001b[0;32m    312\u001b[0m \u001b[1;33m\u001b[0m\u001b[0m\n\u001b[0;32m    313\u001b[0m         \u001b[1;32mreturn\u001b[0m \u001b[0mwrapper\u001b[0m\u001b[1;33m\u001b[0m\u001b[1;33m\u001b[0m\u001b[0m\n",
      "\u001b[1;32m~\\anaconda3\\lib\\site-packages\\pandas\\io\\excel\\_base.py\u001b[0m in \u001b[0;36mread_excel\u001b[1;34m(io, sheet_name, header, names, index_col, usecols, squeeze, dtype, engine, converters, true_values, false_values, skiprows, nrows, na_values, keep_default_na, na_filter, verbose, parse_dates, date_parser, thousands, comment, skipfooter, convert_float, mangle_dupe_cols, storage_options)\u001b[0m\n\u001b[0;32m    362\u001b[0m     \u001b[1;32mif\u001b[0m \u001b[1;32mnot\u001b[0m \u001b[0misinstance\u001b[0m\u001b[1;33m(\u001b[0m\u001b[0mio\u001b[0m\u001b[1;33m,\u001b[0m \u001b[0mExcelFile\u001b[0m\u001b[1;33m)\u001b[0m\u001b[1;33m:\u001b[0m\u001b[1;33m\u001b[0m\u001b[1;33m\u001b[0m\u001b[0m\n\u001b[0;32m    363\u001b[0m         \u001b[0mshould_close\u001b[0m \u001b[1;33m=\u001b[0m \u001b[1;32mTrue\u001b[0m\u001b[1;33m\u001b[0m\u001b[1;33m\u001b[0m\u001b[0m\n\u001b[1;32m--> 364\u001b[1;33m         \u001b[0mio\u001b[0m \u001b[1;33m=\u001b[0m \u001b[0mExcelFile\u001b[0m\u001b[1;33m(\u001b[0m\u001b[0mio\u001b[0m\u001b[1;33m,\u001b[0m \u001b[0mstorage_options\u001b[0m\u001b[1;33m=\u001b[0m\u001b[0mstorage_options\u001b[0m\u001b[1;33m,\u001b[0m \u001b[0mengine\u001b[0m\u001b[1;33m=\u001b[0m\u001b[0mengine\u001b[0m\u001b[1;33m)\u001b[0m\u001b[1;33m\u001b[0m\u001b[1;33m\u001b[0m\u001b[0m\n\u001b[0m\u001b[0;32m    365\u001b[0m     \u001b[1;32melif\u001b[0m \u001b[0mengine\u001b[0m \u001b[1;32mand\u001b[0m \u001b[0mengine\u001b[0m \u001b[1;33m!=\u001b[0m \u001b[0mio\u001b[0m\u001b[1;33m.\u001b[0m\u001b[0mengine\u001b[0m\u001b[1;33m:\u001b[0m\u001b[1;33m\u001b[0m\u001b[1;33m\u001b[0m\u001b[0m\n\u001b[0;32m    366\u001b[0m         raise ValueError(\n",
      "\u001b[1;32m~\\anaconda3\\lib\\site-packages\\pandas\\io\\excel\\_base.py\u001b[0m in \u001b[0;36m__init__\u001b[1;34m(self, path_or_buffer, engine, storage_options)\u001b[0m\n\u001b[0;32m   1189\u001b[0m                 \u001b[0mext\u001b[0m \u001b[1;33m=\u001b[0m \u001b[1;34m\"xls\"\u001b[0m\u001b[1;33m\u001b[0m\u001b[1;33m\u001b[0m\u001b[0m\n\u001b[0;32m   1190\u001b[0m             \u001b[1;32melse\u001b[0m\u001b[1;33m:\u001b[0m\u001b[1;33m\u001b[0m\u001b[1;33m\u001b[0m\u001b[0m\n\u001b[1;32m-> 1191\u001b[1;33m                 ext = inspect_excel_format(\n\u001b[0m\u001b[0;32m   1192\u001b[0m                     \u001b[0mcontent_or_path\u001b[0m\u001b[1;33m=\u001b[0m\u001b[0mpath_or_buffer\u001b[0m\u001b[1;33m,\u001b[0m \u001b[0mstorage_options\u001b[0m\u001b[1;33m=\u001b[0m\u001b[0mstorage_options\u001b[0m\u001b[1;33m\u001b[0m\u001b[1;33m\u001b[0m\u001b[0m\n\u001b[0;32m   1193\u001b[0m                 )\n",
      "\u001b[1;32m~\\anaconda3\\lib\\site-packages\\pandas\\io\\excel\\_base.py\u001b[0m in \u001b[0;36minspect_excel_format\u001b[1;34m(content_or_path, storage_options)\u001b[0m\n\u001b[0;32m   1068\u001b[0m         \u001b[0mcontent_or_path\u001b[0m \u001b[1;33m=\u001b[0m \u001b[0mBytesIO\u001b[0m\u001b[1;33m(\u001b[0m\u001b[0mcontent_or_path\u001b[0m\u001b[1;33m)\u001b[0m\u001b[1;33m\u001b[0m\u001b[1;33m\u001b[0m\u001b[0m\n\u001b[0;32m   1069\u001b[0m \u001b[1;33m\u001b[0m\u001b[0m\n\u001b[1;32m-> 1070\u001b[1;33m     with get_handle(\n\u001b[0m\u001b[0;32m   1071\u001b[0m         \u001b[0mcontent_or_path\u001b[0m\u001b[1;33m,\u001b[0m \u001b[1;34m\"rb\"\u001b[0m\u001b[1;33m,\u001b[0m \u001b[0mstorage_options\u001b[0m\u001b[1;33m=\u001b[0m\u001b[0mstorage_options\u001b[0m\u001b[1;33m,\u001b[0m \u001b[0mis_text\u001b[0m\u001b[1;33m=\u001b[0m\u001b[1;32mFalse\u001b[0m\u001b[1;33m\u001b[0m\u001b[1;33m\u001b[0m\u001b[0m\n\u001b[0;32m   1072\u001b[0m     ) as handle:\n",
      "\u001b[1;32m~\\anaconda3\\lib\\site-packages\\pandas\\io\\common.py\u001b[0m in \u001b[0;36mget_handle\u001b[1;34m(path_or_buf, mode, encoding, compression, memory_map, is_text, errors, storage_options)\u001b[0m\n\u001b[0;32m    709\u001b[0m         \u001b[1;32melse\u001b[0m\u001b[1;33m:\u001b[0m\u001b[1;33m\u001b[0m\u001b[1;33m\u001b[0m\u001b[0m\n\u001b[0;32m    710\u001b[0m             \u001b[1;31m# Binary mode\u001b[0m\u001b[1;33m\u001b[0m\u001b[1;33m\u001b[0m\u001b[0m\n\u001b[1;32m--> 711\u001b[1;33m             \u001b[0mhandle\u001b[0m \u001b[1;33m=\u001b[0m \u001b[0mopen\u001b[0m\u001b[1;33m(\u001b[0m\u001b[0mhandle\u001b[0m\u001b[1;33m,\u001b[0m \u001b[0mioargs\u001b[0m\u001b[1;33m.\u001b[0m\u001b[0mmode\u001b[0m\u001b[1;33m)\u001b[0m\u001b[1;33m\u001b[0m\u001b[1;33m\u001b[0m\u001b[0m\n\u001b[0m\u001b[0;32m    712\u001b[0m         \u001b[0mhandles\u001b[0m\u001b[1;33m.\u001b[0m\u001b[0mappend\u001b[0m\u001b[1;33m(\u001b[0m\u001b[0mhandle\u001b[0m\u001b[1;33m)\u001b[0m\u001b[1;33m\u001b[0m\u001b[1;33m\u001b[0m\u001b[0m\n\u001b[0;32m    713\u001b[0m \u001b[1;33m\u001b[0m\u001b[0m\n",
      "\u001b[1;31mPermissionError\u001b[0m: [Errno 13] Permission denied: 'C:\\\\Users\\\\User1\\\\OneDrive - winwinproducts.com\\\\Groccery Store Program\\\\MASTER PLANOGRAM.xlsx'"
     ]
    }
   ],
   "source": [
    "# follett\n",
    "from store_info import Replenishment\n",
    "\n",
    "follett = Replenishment(store_type_input='follett',\n",
    "                               current_year = year , \n",
    "                               current_week= week)\n",
    "\n",
    "follett.sales_import(file='follett_salesdata_fixed.xlsx')\n",
    "follett.delivery_update(file='follett.csv')\n",
    "follett.sales_report()                                         "
   ]
  },
  {
   "cell_type": "code",
   "execution_count": 3,
   "id": "1b14fb31",
   "metadata": {},
   "outputs": [
    {
     "name": "stdout",
     "output_type": "stream",
     "text": [
      "No Programs have been established for these stores listed:\n",
      "\n",
      " [157, 1282, 3053, 3220, 3349, 3421, 3425, 3429, 3443, 3443, 3443, 3446, 3455, 3461, 3473, 3477, 3481, 3491, 3514, 3720, 3721, 3775, 3775, 3775, 4060]\n",
      "No Programs have been established for these stores listed:\n",
      "\n",
      " [157, 1282, 3053, 3220, 3349, 3421, 3425, 3429, 3443, 3443, 3443, 3446, 3455, 3461, 3473, 3477, 3481, 3491, 3514, 3720, 3721, 3775, 3775, 3775, 4060]\n",
      "jewel_external_sales_report_Jul-19-2022.xlsx\n",
      "jewel_internal_sales_report_Jul-19-2022.xlsx\n",
      "\n",
      "Sales Report Generated\n"
     ]
    }
   ],
   "source": [
    "# jewel\n",
    "from store_info import Replenishment\n",
    "\n",
    "jewel = Replenishment(store_type_input='jewel',\n",
    "                               current_year = year , \n",
    "                               current_week= week)\n",
    "\n",
    "jewel.sales_update(file='jewel_sales.xlsx')\n",
    "jewel.delivery_update(file='jewel.csv')\n",
    "\n",
    "\n",
    "jewel.sales_report()"
   ]
  },
  {
   "cell_type": "code",
   "execution_count": 17,
   "id": "2628b1d3",
   "metadata": {},
   "outputs": [
    {
     "name": "stdout",
     "output_type": "stream",
     "text": [
      "Updated: 372\n",
      "Inserted: 0\n",
      "\n",
      "Support Sheet Imported\n",
      "\n",
      "Inventory list imported\n",
      "Updated: 457 Records\n",
      "Inserted: 0 Records\n",
      "\n",
      "Sales Data Updated\n",
      "Updated: 168 Records\n",
      "Inserted: 0 Records\n",
      "\n",
      "Delivery Data Updated\n",
      "Updated: 794 Records\n",
      "Inserted: 0 Records\n",
      "No Programs have been established for these stores listed:\n",
      "\n",
      " []\n",
      "No Programs have been established for these stores listed:\n",
      "\n",
      " []\n",
      "look into store 685 something is off that needs to be fixed\n",
      "look into store 685 something is off that needs to be fixed\n",
      "look into store 685 something is off that needs to be fixed\n",
      "kroger_atlanta_external_sales_report_Jul-18-2022.xlsx\n",
      "kroger_atlanta_internal_sales_report_Jul-18-2022.xlsx\n"
     ]
    },
    {
     "ename": "PermissionError",
     "evalue": "[Errno 13] Permission denied: 'kroger_atlanta_internal_sales_report_Jul-18-2022.xlsx'",
     "output_type": "error",
     "traceback": [
      "\u001b[1;31m---------------------------------------------------------------------------\u001b[0m",
      "\u001b[1;31mPermissionError\u001b[0m                           Traceback (most recent call last)",
      "\u001b[1;32m~\\AppData\\Local\\Temp/ipykernel_9428/930937147.py\u001b[0m in \u001b[0;36m<module>\u001b[1;34m\u001b[0m\n\u001b[0;32m     10\u001b[0m \u001b[0matlanta\u001b[0m\u001b[1;33m.\u001b[0m\u001b[0msales_update\u001b[0m\u001b[1;33m(\u001b[0m\u001b[0mfile\u001b[0m\u001b[1;33m=\u001b[0m\u001b[1;34m'Sherlock Store Matrix.csv'\u001b[0m\u001b[1;33m)\u001b[0m\u001b[1;33m\u001b[0m\u001b[1;33m\u001b[0m\u001b[0m\n\u001b[0;32m     11\u001b[0m \u001b[0matlanta\u001b[0m\u001b[1;33m.\u001b[0m\u001b[0mdelivery_update\u001b[0m\u001b[1;33m(\u001b[0m\u001b[0mfile\u001b[0m\u001b[1;33m=\u001b[0m\u001b[1;34m'atlanta.csv'\u001b[0m\u001b[1;33m)\u001b[0m\u001b[1;33m\u001b[0m\u001b[1;33m\u001b[0m\u001b[0m\n\u001b[1;32m---> 12\u001b[1;33m \u001b[0matlanta\u001b[0m\u001b[1;33m.\u001b[0m\u001b[0msales_report\u001b[0m\u001b[1;33m(\u001b[0m\u001b[1;33m)\u001b[0m\u001b[1;33m\u001b[0m\u001b[1;33m\u001b[0m\u001b[0m\n\u001b[0m",
      "\u001b[1;32m~\\OneDrive\\WinWin Staff Folders\\Michael\\Replenishment program\\Replenishment\\store_info.py\u001b[0m in \u001b[0;36msales_report\u001b[1;34m(self)\u001b[0m\n\u001b[0;32m    538\u001b[0m \u001b[1;33m\u001b[0m\u001b[0m\n\u001b[0;32m    539\u001b[0m         \u001b[0mfilename\u001b[0m \u001b[1;33m=\u001b[0m \u001b[1;34mf'{self.store_type_input}_internal_sales_report_{date}.xlsx'\u001b[0m\u001b[1;33m\u001b[0m\u001b[1;33m\u001b[0m\u001b[0m\n\u001b[1;32m--> 540\u001b[1;33m         \u001b[0mreports\u001b[0m\u001b[1;33m.\u001b[0m\u001b[0minternal_report\u001b[0m\u001b[1;33m(\u001b[0m\u001b[0mfilename\u001b[0m\u001b[1;33m)\u001b[0m\u001b[1;33m\u001b[0m\u001b[1;33m\u001b[0m\u001b[0m\n\u001b[0m\u001b[0;32m    541\u001b[0m \u001b[1;33m\u001b[0m\u001b[0m\n\u001b[0;32m    542\u001b[0m         \u001b[1;31m# sales_data_fequency = {\u001b[0m\u001b[1;33m\u001b[0m\u001b[1;33m\u001b[0m\u001b[0m\n",
      "\u001b[1;32m~\\OneDrive\\WinWin Staff Folders\\Michael\\Replenishment program\\Replenishment\\Sales_Report\\Reports\\reports.py\u001b[0m in \u001b[0;36minternal_report\u001b[1;34m(self, filename)\u001b[0m\n\u001b[0;32m    114\u001b[0m         \u001b[0mformat\u001b[0m \u001b[1;33m=\u001b[0m \u001b[0mReportFormat\u001b[0m\u001b[1;33m(\u001b[0m\u001b[0mfilename\u001b[0m\u001b[1;33m,\u001b[0m \u001b[1;36m1\u001b[0m\u001b[1;33m,\u001b[0m\u001b[1;36m1\u001b[0m\u001b[1;33m,\u001b[0m\u001b[0mstore_sales_rank_len\u001b[0m\u001b[1;33m,\u001b[0m \u001b[0mself\u001b[0m\u001b[1;33m.\u001b[0m\u001b[0mstore_setting\u001b[0m\u001b[1;33m)\u001b[0m\u001b[1;33m\u001b[0m\u001b[1;33m\u001b[0m\u001b[0m\n\u001b[0;32m    115\u001b[0m \u001b[1;33m\u001b[0m\u001b[0m\n\u001b[1;32m--> 116\u001b[1;33m         \u001b[0mformat\u001b[0m\u001b[1;33m.\u001b[0m\u001b[0minternal_report\u001b[0m\u001b[1;33m(\u001b[0m\u001b[1;33m)\u001b[0m\u001b[1;33m\u001b[0m\u001b[1;33m\u001b[0m\u001b[0m\n\u001b[0m\u001b[0;32m    117\u001b[0m \u001b[1;33m\u001b[0m\u001b[0m\n\u001b[0;32m    118\u001b[0m \u001b[1;33m\u001b[0m\u001b[0m\n",
      "\u001b[1;32m~\\OneDrive\\WinWin Staff Folders\\Michael\\Replenishment program\\Replenishment\\Sales_Report\\Report_Format\\weekly_sales_report_format.py\u001b[0m in \u001b[0;36minternal_report\u001b[1;34m(self)\u001b[0m\n\u001b[0;32m    799\u001b[0m \u001b[1;33m\u001b[0m\u001b[0m\n\u001b[0;32m    800\u001b[0m         \u001b[1;32mif\u001b[0m \u001b[0mself\u001b[0m\u001b[1;33m.\u001b[0m\u001b[0mitem_approval\u001b[0m \u001b[1;33m==\u001b[0m\u001b[1;36m1\u001b[0m\u001b[1;33m:\u001b[0m\u001b[1;33m\u001b[0m\u001b[1;33m\u001b[0m\u001b[0m\n\u001b[1;32m--> 801\u001b[1;33m             \u001b[0mself\u001b[0m\u001b[1;33m.\u001b[0m\u001b[0mitems_approved\u001b[0m\u001b[1;33m(\u001b[0m\u001b[1;33m)\u001b[0m\u001b[1;33m\u001b[0m\u001b[1;33m\u001b[0m\u001b[0m\n\u001b[0m\u001b[0;32m    802\u001b[0m \u001b[1;33m\u001b[0m\u001b[0m\n\u001b[0;32m    803\u001b[0m         \u001b[1;32mif\u001b[0m \u001b[0mself\u001b[0m\u001b[1;33m.\u001b[0m\u001b[0mstore_program\u001b[0m \u001b[1;33m==\u001b[0m\u001b[1;36m1\u001b[0m\u001b[1;33m:\u001b[0m\u001b[1;33m\u001b[0m\u001b[1;33m\u001b[0m\u001b[0m\n",
      "\u001b[1;32m~\\OneDrive\\WinWin Staff Folders\\Michael\\Replenishment program\\Replenishment\\Sales_Report\\Report_Format\\weekly_sales_report_format.py\u001b[0m in \u001b[0;36mitems_approved\u001b[1;34m(self)\u001b[0m\n\u001b[0;32m    738\u001b[0m         \u001b[0mws\u001b[0m\u001b[1;33m.\u001b[0m\u001b[0mauto_filter\u001b[0m\u001b[1;33m.\u001b[0m\u001b[0mref\u001b[0m \u001b[1;33m=\u001b[0m \u001b[1;34mf\"A1:H10000\"\u001b[0m\u001b[1;33m\u001b[0m\u001b[1;33m\u001b[0m\u001b[0m\n\u001b[0;32m    739\u001b[0m \u001b[1;33m\u001b[0m\u001b[0m\n\u001b[1;32m--> 740\u001b[1;33m         \u001b[0mself\u001b[0m\u001b[1;33m.\u001b[0m\u001b[0mwb\u001b[0m\u001b[1;33m.\u001b[0m\u001b[0msave\u001b[0m\u001b[1;33m(\u001b[0m\u001b[0mself\u001b[0m\u001b[1;33m.\u001b[0m\u001b[0mfilename\u001b[0m\u001b[1;33m)\u001b[0m\u001b[1;33m\u001b[0m\u001b[1;33m\u001b[0m\u001b[0m\n\u001b[0m\u001b[0;32m    741\u001b[0m \u001b[1;33m\u001b[0m\u001b[0m\n\u001b[0;32m    742\u001b[0m     \u001b[1;32mdef\u001b[0m \u001b[0mstore_programs\u001b[0m\u001b[1;33m(\u001b[0m\u001b[0mself\u001b[0m\u001b[1;33m)\u001b[0m\u001b[1;33m:\u001b[0m\u001b[1;33m\u001b[0m\u001b[1;33m\u001b[0m\u001b[0m\n",
      "\u001b[1;32m~\\anaconda3\\lib\\site-packages\\openpyxl\\workbook\\workbook.py\u001b[0m in \u001b[0;36msave\u001b[1;34m(self, filename)\u001b[0m\n\u001b[0;32m    405\u001b[0m         \u001b[1;32mif\u001b[0m \u001b[0mself\u001b[0m\u001b[1;33m.\u001b[0m\u001b[0mwrite_only\u001b[0m \u001b[1;32mand\u001b[0m \u001b[1;32mnot\u001b[0m \u001b[0mself\u001b[0m\u001b[1;33m.\u001b[0m\u001b[0mworksheets\u001b[0m\u001b[1;33m:\u001b[0m\u001b[1;33m\u001b[0m\u001b[1;33m\u001b[0m\u001b[0m\n\u001b[0;32m    406\u001b[0m             \u001b[0mself\u001b[0m\u001b[1;33m.\u001b[0m\u001b[0mcreate_sheet\u001b[0m\u001b[1;33m(\u001b[0m\u001b[1;33m)\u001b[0m\u001b[1;33m\u001b[0m\u001b[1;33m\u001b[0m\u001b[0m\n\u001b[1;32m--> 407\u001b[1;33m         \u001b[0msave_workbook\u001b[0m\u001b[1;33m(\u001b[0m\u001b[0mself\u001b[0m\u001b[1;33m,\u001b[0m \u001b[0mfilename\u001b[0m\u001b[1;33m)\u001b[0m\u001b[1;33m\u001b[0m\u001b[1;33m\u001b[0m\u001b[0m\n\u001b[0m\u001b[0;32m    408\u001b[0m \u001b[1;33m\u001b[0m\u001b[0m\n\u001b[0;32m    409\u001b[0m \u001b[1;33m\u001b[0m\u001b[0m\n",
      "\u001b[1;32m~\\anaconda3\\lib\\site-packages\\openpyxl\\writer\\excel.py\u001b[0m in \u001b[0;36msave_workbook\u001b[1;34m(workbook, filename)\u001b[0m\n\u001b[0;32m    289\u001b[0m \u001b[1;33m\u001b[0m\u001b[0m\n\u001b[0;32m    290\u001b[0m     \"\"\"\n\u001b[1;32m--> 291\u001b[1;33m     \u001b[0marchive\u001b[0m \u001b[1;33m=\u001b[0m \u001b[0mZipFile\u001b[0m\u001b[1;33m(\u001b[0m\u001b[0mfilename\u001b[0m\u001b[1;33m,\u001b[0m \u001b[1;34m'w'\u001b[0m\u001b[1;33m,\u001b[0m \u001b[0mZIP_DEFLATED\u001b[0m\u001b[1;33m,\u001b[0m \u001b[0mallowZip64\u001b[0m\u001b[1;33m=\u001b[0m\u001b[1;32mTrue\u001b[0m\u001b[1;33m)\u001b[0m\u001b[1;33m\u001b[0m\u001b[1;33m\u001b[0m\u001b[0m\n\u001b[0m\u001b[0;32m    292\u001b[0m     \u001b[0mwriter\u001b[0m \u001b[1;33m=\u001b[0m \u001b[0mExcelWriter\u001b[0m\u001b[1;33m(\u001b[0m\u001b[0mworkbook\u001b[0m\u001b[1;33m,\u001b[0m \u001b[0marchive\u001b[0m\u001b[1;33m)\u001b[0m\u001b[1;33m\u001b[0m\u001b[1;33m\u001b[0m\u001b[0m\n\u001b[0;32m    293\u001b[0m     \u001b[0mwriter\u001b[0m\u001b[1;33m.\u001b[0m\u001b[0msave\u001b[0m\u001b[1;33m(\u001b[0m\u001b[1;33m)\u001b[0m\u001b[1;33m\u001b[0m\u001b[1;33m\u001b[0m\u001b[0m\n",
      "\u001b[1;32m~\\anaconda3\\lib\\zipfile.py\u001b[0m in \u001b[0;36m__init__\u001b[1;34m(self, file, mode, compression, allowZip64, compresslevel, strict_timestamps)\u001b[0m\n\u001b[0;32m   1237\u001b[0m             \u001b[1;32mwhile\u001b[0m \u001b[1;32mTrue\u001b[0m\u001b[1;33m:\u001b[0m\u001b[1;33m\u001b[0m\u001b[1;33m\u001b[0m\u001b[0m\n\u001b[0;32m   1238\u001b[0m                 \u001b[1;32mtry\u001b[0m\u001b[1;33m:\u001b[0m\u001b[1;33m\u001b[0m\u001b[1;33m\u001b[0m\u001b[0m\n\u001b[1;32m-> 1239\u001b[1;33m                     \u001b[0mself\u001b[0m\u001b[1;33m.\u001b[0m\u001b[0mfp\u001b[0m \u001b[1;33m=\u001b[0m \u001b[0mio\u001b[0m\u001b[1;33m.\u001b[0m\u001b[0mopen\u001b[0m\u001b[1;33m(\u001b[0m\u001b[0mfile\u001b[0m\u001b[1;33m,\u001b[0m \u001b[0mfilemode\u001b[0m\u001b[1;33m)\u001b[0m\u001b[1;33m\u001b[0m\u001b[1;33m\u001b[0m\u001b[0m\n\u001b[0m\u001b[0;32m   1240\u001b[0m                 \u001b[1;32mexcept\u001b[0m \u001b[0mOSError\u001b[0m\u001b[1;33m:\u001b[0m\u001b[1;33m\u001b[0m\u001b[1;33m\u001b[0m\u001b[0m\n\u001b[0;32m   1241\u001b[0m                     \u001b[1;32mif\u001b[0m \u001b[0mfilemode\u001b[0m \u001b[1;32min\u001b[0m \u001b[0mmodeDict\u001b[0m\u001b[1;33m:\u001b[0m\u001b[1;33m\u001b[0m\u001b[1;33m\u001b[0m\u001b[0m\n",
      "\u001b[1;31mPermissionError\u001b[0m: [Errno 13] Permission denied: 'kroger_atlanta_internal_sales_report_Jul-18-2022.xlsx'"
     ]
    }
   ],
   "source": [
    "# atlanta\n",
    "from store_info import Replenishment\n",
    "\n",
    "atlanta = Replenishment(store_type_input='kroger_atlanta',\n",
    "                               current_year = year , \n",
    "                               current_week= week)\n",
    "\n",
    "atlanta.sales_update(file='Sherlock Store Matrix.csv')\n",
    "atlanta.delivery_update(file='atlanta.csv')\n",
    "atlanta.sales_report()"
   ]
  },
  {
   "cell_type": "code",
   "execution_count": 6,
   "id": "68debb9c",
   "metadata": {},
   "outputs": [
    {
     "name": "stdout",
     "output_type": "stream",
     "text": [
      "Updated: 372\n",
      "Inserted: 0\n",
      "\n",
      "Support Sheet Imported\n",
      "\n",
      "Inventory list imported\n",
      "Updated: 455 Records\n",
      "Inserted: 2 Records\n",
      "\n",
      "Sales Data Updated\n",
      "Updated: 55 Records\n",
      "Inserted: 114 Records\n",
      "\n",
      "Delivery Data Updated\n",
      "Updated: 53 Records\n",
      "Inserted: 3 Records\n",
      "No Programs have been established for these stores listed:\n",
      "\n",
      " [1, 889]\n",
      "No Programs have been established for these stores listed:\n",
      "\n",
      " [1, 889]\n",
      "kroger_central_external_sales_report_Jul-18-2022.xlsx\n",
      "kroger_central_internal_sales_report_Jul-18-2022.xlsx\n",
      "\n",
      "Sales Report Generated\n"
     ]
    }
   ],
   "source": [
    "# central\n",
    "from store_info import Replenishment\n",
    "\n",
    "central = Replenishment(store_type_input='kroger_central',\n",
    "                               current_year = year , \n",
    "                               current_week= week)\n",
    "\n",
    "\n",
    "central.sales_update(file='Sherlock Store Matrix.csv')\n",
    "central.delivery_update(file='central.csv')\n",
    "central.sales_report()"
   ]
  },
  {
   "cell_type": "code",
   "execution_count": 5,
   "id": "b125d768",
   "metadata": {},
   "outputs": [
    {
     "name": "stdout",
     "output_type": "stream",
     "text": [
      "Updated: 372\n",
      "Inserted: 0\n",
      "\n",
      "Support Sheet Imported\n",
      "\n",
      "Inventory list imported\n",
      "Updated: 455 Records\n",
      "Inserted: 2 Records\n",
      "\n",
      "Sales Data Updated\n",
      "Updated: 164 Records\n",
      "Inserted: 195 Records\n",
      "\n",
      "Delivery Data Updated\n",
      "Updated: 83 Records\n",
      "Inserted: 16 Records\n",
      "No Programs have been established for these stores listed:\n",
      "\n",
      " []\n",
      "No Programs have been established for these stores listed:\n",
      "\n",
      " []\n",
      "kroger_columbus_external_sales_report_Jul-18-2022.xlsx\n",
      "kroger_columbus_internal_sales_report_Jul-18-2022.xlsx\n",
      "\n",
      "Sales Report Generated\n"
     ]
    }
   ],
   "source": [
    "# columubus\n",
    "from store_info import Replenishment\n",
    "\n",
    "columbus = Replenishment(store_type_input='kroger_columbus',\n",
    "                               current_year = year , \n",
    "                               current_week= week)\n",
    "\n",
    "\n",
    "columbus.sales_update(file='Sherlock Store Matrix.csv')\n",
    "columbus.delivery_update(file='columbus.csv')\n",
    "columbus.sales_report()"
   ]
  },
  {
   "cell_type": "code",
   "execution_count": 4,
   "id": "4bd39071",
   "metadata": {},
   "outputs": [
    {
     "name": "stdout",
     "output_type": "stream",
     "text": [
      "Updated: 372\n",
      "Inserted: 0\n",
      "\n",
      "Support Sheet Imported\n",
      "\n",
      "Inventory list imported\n",
      "Updated: 455 Records\n",
      "Inserted: 2 Records\n",
      "\n",
      "Sales Data Updated\n",
      "Updated: 44 Records\n",
      "Inserted: 51 Records\n",
      "\n",
      "Delivery Data Updated\n",
      "Updated: 26 Records\n",
      "Inserted: 2 Records\n",
      "No Programs have been established for these stores listed:\n",
      "\n",
      " []\n",
      "No Programs have been established for these stores listed:\n",
      "\n",
      " []\n",
      "kroger_dallas_external_sales_report_Jul-18-2022.xlsx\n",
      "kroger_dallas_internal_sales_report_Jul-18-2022.xlsx\n",
      "\n",
      "Sales Report Generated\n"
     ]
    }
   ],
   "source": [
    "# dallas\n",
    "from store_info import Replenishment\n",
    "\n",
    "dallas = Replenishment(store_type_input='kroger_dallas',\n",
    "                               current_year = year , \n",
    "                               current_week= week)\n",
    "\n",
    "\n",
    "\n",
    "dallas.sales_update(file='Sherlock Store Matrix.csv')\n",
    "dallas.delivery_update(file='dallas.csv')\n",
    "dallas.sales_report()"
   ]
  },
  {
   "cell_type": "code",
   "execution_count": null,
   "id": "93579b28",
   "metadata": {},
   "outputs": [],
   "source": [
    "# delta\n",
    "from store_info import Replenishment\n",
    "\n",
    "delta = Replenishment(store_type_input='',\n",
    "                               transition_date_range='2022SS', \n",
    "                               current_year = year , \n",
    "                               current_week= week)\n",
    "\n",
    "delta.sales_update(file='')\n",
    "delta.delivery_update(file='')\n",
    "delta.sales_report()"
   ]
  },
  {
   "cell_type": "code",
   "execution_count": 16,
   "id": "4b6df5d5",
   "metadata": {},
   "outputs": [
    {
     "name": "stdout",
     "output_type": "stream",
     "text": [
      "Updated: 372\n",
      "Inserted: 0\n",
      "\n",
      "Support Sheet Imported\n",
      "\n",
      "Inventory list imported\n",
      "Updated: 457 Records\n",
      "Inserted: 0 Records\n",
      "\n",
      "Sales Data Updated\n",
      "Updated: 88 Records\n",
      "Inserted: 0 Records\n",
      "\n",
      "Delivery Data Updated\n",
      "Updated: 494 Records\n",
      "Inserted: 0 Records\n",
      "No Programs have been established for these stores listed:\n",
      "\n",
      " []\n",
      "No Programs have been established for these stores listed:\n",
      "\n",
      " []\n",
      "kroger_dillons_external_sales_report_Jul-18-2022.xlsx\n",
      "kroger_dillons_internal_sales_report_Jul-18-2022.xlsx\n",
      "\n",
      "Sales Report Generated\n"
     ]
    }
   ],
   "source": [
    "# dillons\n",
    "from store_info import Replenishment\n",
    "\n",
    "dillons = Replenishment(store_type_input='kroger_dillons',\n",
    "                               current_year = year , \n",
    "                               current_week= week)\n",
    "\n",
    "dillons.sales_update(file='Sherlock Store Matrix.csv')\n",
    "dillons.delivery_update(file='dillons.csv')\n",
    "dillons.sales_report()"
   ]
  },
  {
   "cell_type": "code",
   "execution_count": 9,
   "id": "881ba544",
   "metadata": {},
   "outputs": [
    {
     "name": "stdout",
     "output_type": "stream",
     "text": [
      "Updated: 372\n",
      "Inserted: 0\n",
      "\n",
      "Support Sheet Imported\n",
      "\n",
      "Inventory list imported\n",
      "Updated: 457 Records\n",
      "Inserted: 0 Records\n",
      "\n",
      "Sales Data Updated\n",
      "Updated: 106 Records\n",
      "Inserted: 0 Records\n",
      "\n",
      "Delivery Data Updated\n",
      "Updated: 156 Records\n",
      "Inserted: 0 Records\n",
      "No Programs have been established for these stores listed:\n",
      "\n",
      " []\n",
      "No Programs have been established for these stores listed:\n",
      "\n",
      " []\n",
      "kroger_king_soopers_external_sales_report_Jul-18-2022.xlsx\n",
      "kroger_king_soopers_internal_sales_report_Jul-18-2022.xlsx\n",
      "\n",
      "Sales Report Generated\n"
     ]
    }
   ],
   "source": [
    "# king sooper\n",
    "from store_info import Replenishment\n",
    "\n",
    "king_soopers = Replenishment(store_type_input='kroger_king_soopers',\n",
    "                               current_year = year , \n",
    "                               current_week= week)\n",
    "\n",
    "\n",
    "king_soopers.sales_update(file='Sherlock Store Matrix.csv')\n",
    "king_soopers.delivery_update(file='king_soopers.csv')\n",
    "king_soopers.sales_report()"
   ]
  },
  {
   "cell_type": "code",
   "execution_count": null,
   "id": "1efb8bb5",
   "metadata": {},
   "outputs": [],
   "source": [
    "# louisville\n",
    "from store_info import Replenishment\n",
    "\n",
    "louisville = Replenishment(store_type_input='louisville',\n",
    "                               current_year = year , \n",
    "                               current_week= week)\n",
    "\n",
    "louisville.sales_update(file='Sherlock Store Matrix.csv')\n",
    "louisville.delivery_update(file='louisville.csv')\n",
    "louisville.sales_report()"
   ]
  },
  {
   "cell_type": "code",
   "execution_count": 3,
   "id": "05d85060",
   "metadata": {},
   "outputs": [
    {
     "name": "stdout",
     "output_type": "stream",
     "text": [
      "Updated: 372\n",
      "Inserted: 0\n",
      "\n",
      "Support Sheet Imported\n",
      "\n",
      "Inventory list imported\n",
      "Updated: 455 Records\n",
      "Inserted: 2 Records\n",
      "\n",
      "Sales Data Updated\n",
      "Updated: 28 Records\n",
      "Inserted: 47 Records\n",
      "\n",
      "Delivery Data Updated\n",
      "Updated: 103 Records\n",
      "Inserted: 0 Records\n",
      "No Programs have been established for these stores listed:\n",
      "\n",
      " [115]\n",
      "No Programs have been established for these stores listed:\n",
      "\n",
      " [115]\n",
      "look into store 749 something is off that needs to be fixed\n",
      "look into store 749 something is off that needs to be fixed\n",
      "look into store 749 something is off that needs to be fixed\n",
      "kroger_michigan_external_sales_report_Jul-18-2022.xlsx\n",
      "kroger_michigan_internal_sales_report_Jul-18-2022.xlsx\n",
      "\n",
      "Sales Report Generated\n"
     ]
    }
   ],
   "source": [
    "# michigan\n",
    "from store_info import Replenishment\n",
    "\n",
    "michigan = Replenishment(store_type_input='kroger_michigan',\n",
    "                               current_year = year , \n",
    "                               current_week= week)\n",
    "\n",
    "michigan.sales_update(file='Sherlock Store Matrix.csv')\n",
    "michigan.delivery_update(file='michigan.csv')\n",
    "michigan.sales_report()"
   ]
  },
  {
   "cell_type": "code",
   "execution_count": 15,
   "id": "04a8d7cc",
   "metadata": {},
   "outputs": [
    {
     "name": "stdout",
     "output_type": "stream",
     "text": [
      "Updated: 372\n",
      "Inserted: 0\n",
      "\n",
      "Support Sheet Imported\n",
      "\n",
      "Inventory list imported\n",
      "Updated: 457 Records\n",
      "Inserted: 0 Records\n",
      "\n",
      "Sales Data Updated\n",
      "Updated: 69 Records\n",
      "Inserted: 0 Records\n",
      "\n",
      "Delivery Data Updated\n",
      "Updated: 482 Records\n",
      "Inserted: 0 Records\n",
      "No Programs have been established for these stores listed:\n",
      "\n",
      " []\n",
      "No Programs have been established for these stores listed:\n",
      "\n",
      " []\n",
      "kroger_nashville_external_sales_report_Jul-18-2022.xlsx\n",
      "kroger_nashville_internal_sales_report_Jul-18-2022.xlsx\n",
      "\n",
      "Sales Report Generated\n"
     ]
    }
   ],
   "source": [
    "# nashville\n",
    "from store_info import Replenishment\n",
    "\n",
    "nashville = Replenishment(store_type_input='kroger_nashville',\n",
    "                               current_year = year , \n",
    "                               current_week= week)\n",
    "\n",
    "nashville.support_import('support_sheet')\n",
    "nashville.inventory_import('inventory.csv')\n",
    "nashville.sales_update(file='Sherlock Store Matrix.csv')\n",
    "nashville.delivery_update(file='nashville.csv')\n",
    "nashville.sales_report()"
   ]
  },
  {
   "cell_type": "code",
   "execution_count": 21,
   "id": "9d2cb4fe",
   "metadata": {},
   "outputs": [
    {
     "name": "stdout",
     "output_type": "stream",
     "text": [
      "\n",
      "Inventory list imported\n",
      "Updated: 455 Records\n",
      "Inserted: 2 Records\n",
      "\n",
      "Sales Data Updated\n",
      "Updated: 0 Records\n",
      "Inserted: 316 Records\n",
      "\n",
      "Delivery Data Updated\n",
      "Updated: 558 Records\n",
      "Inserted: 10 Records\n",
      "No Programs have been established for these stores listed:\n",
      "\n",
      " [206, 614, 626, 678, 694, 735, 735, 848, 2803]\n",
      "No Programs have been established for these stores listed:\n",
      "\n",
      " [206, 614, 626, 678, 694, 735, 735, 848, 2803]\n",
      "kvat_external_sales_report_Jul-19-2022.xlsx\n",
      "kvat_internal_sales_report_Jul-19-2022.xlsx\n",
      "\n",
      "Sales Report Generated\n"
     ]
    }
   ],
   "source": [
    "# kvat \n",
    "from store_info import Replenishment\n",
    "\n",
    "kvat = Replenishment(store_type_input='kvat',\n",
    "                               current_year = year , \n",
    "                               current_week= week)\n",
    "# kvat.store_program_import()\n",
    "kvat.inventory_import('inventory.csv')\n",
    "kvat.sales_update(file='kvat_sales.xlsx')\n",
    "kvat.delivery_update(file='kvat.csv')\n",
    "kvat.sales_report()"
   ]
  },
  {
   "cell_type": "code",
   "execution_count": 2,
   "id": "6ab69390",
   "metadata": {},
   "outputs": [
    {
     "name": "stdout",
     "output_type": "stream",
     "text": [
      "Updated: 372\n",
      "Inserted: 0\n",
      "\n",
      "Support Sheet Imported\n",
      "\n",
      "Inventory list imported\n",
      "Updated: 457 Records\n",
      "Inserted: 0 Records\n",
      "\n",
      "Sales Data Updated\n",
      "Updated: 185 Records\n",
      "Inserted: 0 Records\n",
      "\n",
      "Delivery Data Updated\n",
      "Updated: 15 Records\n",
      "Inserted: 0 Records\n",
      "No Programs have been established for these stores listed:\n",
      "\n",
      " [27, 64, 824, 1548, 2520, 2911]\n",
      "No Programs have been established for these stores listed:\n",
      "\n",
      " [27, 64, 824, 1548, 2520, 2911]\n",
      "look into store 2915 something is off that needs to be fixed\n",
      "look into store 2915 something is off that needs to be fixed\n",
      "look into store 2915 something is off that needs to be fixed\n",
      "safeway_denver_external_sales_report_Jul-18-2022.xlsx\n",
      "safeway_denver_internal_sales_report_Jul-18-2022.xlsx\n",
      "\n",
      "Sales Report Generated\n"
     ]
    }
   ],
   "source": [
    "# safeway denver\n",
    "from store_info import Replenishment\n",
    "\n",
    "safeway_denver= Replenishment(store_type_input='safeway_denver',\n",
    "                               current_year = year , \n",
    "                               current_week= week)\n",
    "safeway_denver.support_import('support_sheet')\n",
    "safeway_denver.inventory_import('inventory.csv')\n",
    "safeway_denver.sales_update(file='denver_sales.xlsx')\n",
    "safeway_denver.delivery_update(file='denver.csv')\n",
    "safeway_denver.sales_report()"
   ]
  },
  {
   "cell_type": "code",
   "execution_count": 6,
   "id": "c0c83341",
   "metadata": {},
   "outputs": [
    {
     "name": "stdout",
     "output_type": "stream",
     "text": [
      "Updated: 372\n",
      "Inserted: 0\n",
      "\n",
      "Support Sheet Imported\n",
      "\n",
      "Inventory list imported\n",
      "Updated: 457 Records\n",
      "Inserted: 0 Records\n",
      "\n",
      "Sales Data Updated\n",
      "Updated: 79 Records\n",
      "Inserted: 0 Records\n",
      "\n",
      "Delivery Data Updated\n",
      "Updated: 662 Records\n",
      "Inserted: 0 Records\n",
      "No Programs have been established for these stores listed:\n",
      "\n",
      " []\n",
      "No Programs have been established for these stores listed:\n",
      "\n",
      " []\n",
      "look into store 925 something is off that needs to be fixed\n",
      "look into store 925 something is off that needs to be fixed\n",
      "look into store 925 something is off that needs to be fixed\n",
      "kroger_cincinatti_external_sales_report_Jul-18-2022.xlsx\n",
      "kroger_cincinatti_internal_sales_report_Jul-18-2022.xlsx\n",
      "\n",
      "Sales Report Generated\n"
     ]
    }
   ],
   "source": [
    "# cincinatti\n",
    "from store_info import Replenishment\n",
    "\n",
    "atlanta = Replenishment(store_type_input='kroger_cincinatti',\n",
    "                               current_year = year , \n",
    "                               current_week= week)\n",
    "\n",
    "atlanta.support_import('support_sheet')\n",
    "atlanta.inventory_import('inventory.csv')\n",
    "atlanta.sales_update(file='Sherlock Store Matrix.csv')\n",
    "atlanta.delivery_update(file='cincinatti.csv')\n",
    "atlanta.sales_report()"
   ]
  },
  {
   "cell_type": "code",
   "execution_count": null,
   "id": "60c9a54b",
   "metadata": {},
   "outputs": [],
   "source": []
  }
 ],
 "metadata": {
  "interpreter": {
   "hash": "eb4e0a0fd1d19bb9a06c4c3c2c2cf016517ec825f23f225e84b2f7e81a104fe7"
  },
  "kernelspec": {
   "display_name": "Python 3 (ipykernel)",
   "language": "python",
   "name": "python3"
  },
  "language_info": {
   "codemirror_mode": {
    "name": "ipython",
    "version": 3
   },
   "file_extension": ".py",
   "mimetype": "text/x-python",
   "name": "python",
   "nbconvert_exporter": "python",
   "pygments_lexer": "ipython3",
   "version": "3.9.7"
  }
 },
 "nbformat": 4,
 "nbformat_minor": 5
}
