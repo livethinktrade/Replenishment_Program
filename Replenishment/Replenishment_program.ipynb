{
 "cells": [
  {
   "cell_type": "code",
   "execution_count": 1,
   "id": "e6208782",
   "metadata": {},
   "outputs": [
    {
     "name": "stdout",
     "output_type": "stream",
     "text": [
      "\n",
      "Support Sheet Imported\n",
      "Updated: 377\n",
      "Inserted: 0\n",
      "\n",
      "Inventory list imported\n",
      "Updated: 467 Records\n",
      "Inserted: 0 Records\n"
     ]
    }
   ],
   "source": [
    "from store_info import Replenishment\n",
    "import os\n",
    "# from Sales_Report.Reports.reports import *\n",
    "store = Replenishment(store_type_input='midwest')\n",
    "sales_data_file_path = os.getcwd() + r'\\support document\\sales'\n",
    "delivery_data_file_path = os.getcwd() + r'\\support document\\deliveries'\n",
    "\n",
    "store.support_import(r'C:\\Users\\User1\\OneDrive\\WinWin Staff Folders\\Michael\\Replenishment program\\Replenishment\\support document\\support_sheet.xlsx')\n",
    "store.inventory_import(r'C:\\Users\\User1\\OneDrive\\WinWin Staff Folders\\Michael\\Replenishment program\\Replenishment\\support document\\inventory\\inventory.csv')\n"
   ]
  },
  {
   "cell_type": "code",
   "execution_count": 3,
   "id": "4f2ccd4f",
   "metadata": {},
   "outputs": [
    {
     "name": "stdout",
     "output_type": "stream",
     "text": [
      "\n",
      " Store Data Imported\n",
      "Updated: 0 Records\n",
      "Inserted: 49 Records\n",
      "\n",
      "Store Program Data Imported\n",
      "Updated: 0 Records\n",
      "Inserted: 34 Records\n",
      "Program History Insert: 34 Records\n"
     ]
    }
   ],
   "source": [
    "store = Replenishment(store_type_input='midwest')\n",
    "\n",
    "# store.sales_import(\"jewel_salesdata_backup_Jul-08-2022.xlsx\")\n",
    "# store.delivery_import(\"jewel_deliverydata_backup_Jul-08-2022.xlsx\")\n",
    "# store.store_import()\n",
    "# store.master_planogram_import()\n",
    "# store.store_program_import()\n",
    "# store.store_approval_import('delta_approval.csv')\n",
    "store.support_import(r'C:\\Users\\User1\\OneDrive\\WinWin Staff Folders\\Michael\\Replenishment program\\Replenishment\\support document\\support_sheet.xlsx')\n",
    "store.inventory_import(r'C:\\Users\\User1\\OneDrive\\WinWin Staff Folders\\Michael\\Replenishment program\\Replenishment\\support document\\inventory\\inventory.csv')\n",
    "# store.sales_update(file='Sherlock Store Matrix.csv')\n",
    "# store.delivery_update(file='kvat.csv')\n",
    "# store.sales_report()\n",
    "# store.size_table_update('size_table')"
   ]
  },
  {
   "cell_type": "code",
   "execution_count": 7,
   "id": "81f23ed6",
   "metadata": {},
   "outputs": [
    {
     "name": "stdout",
     "output_type": "stream",
     "text": [
      "\n",
      " acme Delivery Data Updated\n",
      "Updated: 7 Records\n",
      "Inserted: 0 Records\n",
      "No Programs have been established for these stores listed:\n",
      "\n",
      " [996]\n",
      "acme_external_sales_report_Sep-12-2022.xlsx\n",
      "\n",
      "Sales Report Generated\n"
     ]
    }
   ],
   "source": [
    "# Mid-Atlantic\n",
    "\n",
    "from store_info import Replenishment\n",
    "\n",
    "acme = Replenishment(store_type_input='acme')\n",
    "\n",
    "\n",
    "current_week = input('Please input the name of the sales file for the \"Current Sales Week\"\\n')\n",
    "previous_week = input('Please input the name of the sales file for the \"Previous Sales Week\"\\n')\n",
    "\n",
    "acme.sales_update(sales_data_file_path + rf'{current_week}', sales_data_file_path + rf'{previous_week}' )\n",
    "acme.delivery_update(delivery_data_file_path + r'\\acme.csv')\n",
    "acme.sales_report()\n"
   ]
  },
  {
   "cell_type": "code",
   "execution_count": 4,
   "id": "a9f69153",
   "metadata": {},
   "outputs": [],
   "source": [
    "# Texas Division\n",
    "from store_info import Replenishment\n",
    "\n",
    "texas_division = Replenishment(store_type_input='texas_division')\n",
    "\n",
    "\n",
    "current_week = input('Please input the name of the sales file for the \"Current Sales Week\"\\n')\n",
    "previous_week = input('Please input the name of the sales file for the \"Previous Sales Week\"\\n')\n",
    "\n",
    "texas_division.sales_update(sales_data_file_path + rf'\\{current_week}', sales_data_file_path + rf'\\{previous_week}' )\n",
    "texas_division.delivery_update(delivery_data_file_path + r'\\texas.csv')\n",
    "texas_division.sales_report()\n",
    "\n"
   ]
  },
  {
   "cell_type": "code",
   "execution_count": 3,
   "id": "ef4bf278",
   "metadata": {},
   "outputs": [
    {
     "name": "stdout",
     "output_type": "stream",
     "text": [
      "No Programs have been established for these stores listed:\n",
      "\n",
      " [930]\n",
      "midwest_external_sales_report_Sep-28-2022.xlsx\n",
      "Error: No objects to concatenate\n",
      "\n",
      "Sales Report Generated\n"
     ]
    }
   ],
   "source": [
    "# fresh Encounter midwest\n",
    "from store_info import Replenishment\n",
    "\n",
    "fresh_encounter = Replenishment(store_type_input='midwest')\n",
    "\n",
    "fresh_encounter.sales_update(sales_data_file_path + r'\\fresh_encounter.csv')\n",
    "# fresh_encounter.delivery_update(delivery_data_file_path + r'\\fresh_encounter.csv')\n",
    "fresh_encounter.sales_report()"
   ]
  },
  {
   "cell_type": "code",
   "execution_count": 2,
   "id": "10c15ae6",
   "metadata": {},
   "outputs": [
    {
     "name": "stdout",
     "output_type": "stream",
     "text": [
      "No Programs have been established for these stores listed:\n",
      "\n",
      " [431, 438, 458, 468]\n"
     ]
    },
    {
     "name": "stderr",
     "output_type": "stream",
     "text": [
      "C:\\Users\\User1\\anaconda3\\lib\\site-packages\\pandas\\core\\indexing.py:1684: SettingWithCopyWarning: \n",
      "A value is trying to be set on a copy of a slice from a DataFrame.\n",
      "Try using .loc[row_indexer,col_indexer] = value instead\n",
      "\n",
      "See the caveats in the documentation: https://pandas.pydata.org/pandas-docs/stable/user_guide/indexing.html#returning-a-view-versus-a-copy\n",
      "  self.obj[key] = infer_fill_value(value)\n",
      "C:\\Users\\User1\\anaconda3\\lib\\site-packages\\pandas\\core\\indexing.py:1817: SettingWithCopyWarning: \n",
      "A value is trying to be set on a copy of a slice from a DataFrame.\n",
      "Try using .loc[row_indexer,col_indexer] = value instead\n",
      "\n",
      "See the caveats in the documentation: https://pandas.pydata.org/pandas-docs/stable/user_guide/indexing.html#returning-a-view-versus-a-copy\n",
      "  self._setitem_single_column(loc, value, pi)\n"
     ]
    },
    {
     "name": "stdout",
     "output_type": "stream",
     "text": [
      "sal_external_sales_report_Sep-28-2022.xlsx\n",
      "\n",
      "Sales Report Generated\n"
     ]
    }
   ],
   "source": [
    "# fresh encounter SAL\n",
    "from store_info import Replenishment\n",
    "\n",
    "fresh_encounter = Replenishment(store_type_input='sal')\n",
    "\n",
    "fresh_encounter.sales_update(sales_data_file_path + r'\\fresh_encounter.csv')\n",
    "# fresh_encounter.delivery_update(delivery_data_file_path + r'\\fresh_encounter.csv')\n",
    "fresh_encounter.sales_report()"
   ]
  },
  {
   "cell_type": "code",
   "execution_count": 3,
   "id": "930a2b87",
   "metadata": {},
   "outputs": [
    {
     "name": "stdout",
     "output_type": "stream",
     "text": [
      "Please input the name of the sales file for the \"Current Sales Week\"\n",
      "09-21-22.1 intermountain.xlsx\n",
      "Please input the name of the sales file for the \"Previous Sales Week\"\n",
      "09-07-22.1 intermountain.xlsx\n"
     ]
    },
    {
     "ename": "ValueError",
     "evalue": "unconverted data remains:  ",
     "output_type": "error",
     "traceback": [
      "\u001b[1;31m---------------------------------------------------------------------------\u001b[0m",
      "\u001b[1;31mValueError\u001b[0m                                Traceback (most recent call last)",
      "\u001b[1;32m~\\AppData\\Local\\Temp/ipykernel_40768/1386937230.py\u001b[0m in \u001b[0;36m<module>\u001b[1;34m\u001b[0m\n\u001b[0;32m      7\u001b[0m \u001b[0mprevious_week\u001b[0m \u001b[1;33m=\u001b[0m \u001b[0minput\u001b[0m\u001b[1;33m(\u001b[0m\u001b[1;34m'Please input the name of the sales file for the \"Previous Sales Week\"\\n'\u001b[0m\u001b[1;33m)\u001b[0m\u001b[1;33m\u001b[0m\u001b[1;33m\u001b[0m\u001b[0m\n\u001b[0;32m      8\u001b[0m \u001b[1;33m\u001b[0m\u001b[0m\n\u001b[1;32m----> 9\u001b[1;33m \u001b[0mintermountain\u001b[0m\u001b[1;33m.\u001b[0m\u001b[0msales_update\u001b[0m\u001b[1;33m(\u001b[0m\u001b[0msales_data_file_path\u001b[0m \u001b[1;33m+\u001b[0m \u001b[1;34mrf'\\{current_week}'\u001b[0m\u001b[1;33m,\u001b[0m \u001b[0msales_data_file_path\u001b[0m \u001b[1;33m+\u001b[0m \u001b[1;34mrf'\\{previous_week}'\u001b[0m \u001b[1;33m)\u001b[0m\u001b[1;33m\u001b[0m\u001b[1;33m\u001b[0m\u001b[0m\n\u001b[0m\u001b[0;32m     10\u001b[0m \u001b[1;31m# intermountain.delivery_update(delivery_data_file_path + r'\\intermountain.csv')\u001b[0m\u001b[1;33m\u001b[0m\u001b[1;33m\u001b[0m\u001b[0m\n\u001b[0;32m     11\u001b[0m \u001b[1;31m# intermountain.sales_report()\u001b[0m\u001b[1;33m\u001b[0m\u001b[1;33m\u001b[0m\u001b[0m\n",
      "\u001b[1;32m~\\OneDrive\\WinWin Staff Folders\\Michael\\Replenishment program\\Replenishment\\store_info.py\u001b[0m in \u001b[0;36msales_update\u001b[1;34m(self, current_weeks_sales, previous_weeks_sales)\u001b[0m\n\u001b[0;32m    409\u001b[0m         \u001b[1;32melif\u001b[0m \u001b[0mself\u001b[0m\u001b[1;33m.\u001b[0m\u001b[0mstore_type_input\u001b[0m \u001b[1;32min\u001b[0m \u001b[0malbertson_division\u001b[0m\u001b[1;33m:\u001b[0m\u001b[1;33m\u001b[0m\u001b[1;33m\u001b[0m\u001b[0m\n\u001b[0;32m    410\u001b[0m \u001b[1;33m\u001b[0m\u001b[0m\n\u001b[1;32m--> 411\u001b[1;33m             \u001b[0msales_data\u001b[0m \u001b[1;33m=\u001b[0m \u001b[0mtransform\u001b[0m\u001b[1;33m.\u001b[0m\u001b[0mytd_transform\u001b[0m\u001b[1;33m(\u001b[0m\u001b[0mcurrent_weeks_sales\u001b[0m\u001b[1;33m,\u001b[0m \u001b[0mprevious_weeks_sales\u001b[0m\u001b[1;33m)\u001b[0m\u001b[1;33m\u001b[0m\u001b[1;33m\u001b[0m\u001b[0m\n\u001b[0m\u001b[0;32m    412\u001b[0m \u001b[1;33m\u001b[0m\u001b[0m\n\u001b[0;32m    413\u001b[0m         \u001b[1;32melif\u001b[0m \u001b[0mself\u001b[0m\u001b[1;33m.\u001b[0m\u001b[0mstore_type_input\u001b[0m \u001b[1;32min\u001b[0m \u001b[0mfresh_encounter\u001b[0m\u001b[1;33m:\u001b[0m\u001b[1;33m\u001b[0m\u001b[1;33m\u001b[0m\u001b[0m\n",
      "\u001b[1;32m~\\OneDrive\\WinWin Staff Folders\\Michael\\Replenishment program\\Replenishment\\Update\\Transform_Sales_Data\\transform.py\u001b[0m in \u001b[0;36mytd_transform\u001b[1;34m(self, current_week_sales_data, previous_week_sales_data)\u001b[0m\n\u001b[0;32m   1057\u001b[0m             \u001b[0mdate_list\u001b[0m \u001b[1;33m=\u001b[0m \u001b[0mget_date_from_sheet\u001b[0m\u001b[1;33m(\u001b[0m\u001b[0mcurrent_week_sales_data\u001b[0m\u001b[1;33m)\u001b[0m\u001b[1;33m\u001b[0m\u001b[1;33m\u001b[0m\u001b[0m\n\u001b[0;32m   1058\u001b[0m \u001b[1;33m\u001b[0m\u001b[0m\n\u001b[1;32m-> 1059\u001b[1;33m             \u001b[0mcurrent_week_sales_data\u001b[0m \u001b[1;33m=\u001b[0m \u001b[0mself\u001b[0m\u001b[1;33m.\u001b[0m\u001b[0mintermountain_transform\u001b[0m\u001b[1;33m(\u001b[0m\u001b[0mcurrent_week\u001b[0m\u001b[1;33m,\u001b[0m \u001b[0mdate_list\u001b[0m\u001b[1;33m)\u001b[0m\u001b[1;33m\u001b[0m\u001b[1;33m\u001b[0m\u001b[0m\n\u001b[0m\u001b[0;32m   1060\u001b[0m \u001b[1;33m\u001b[0m\u001b[0m\n\u001b[0;32m   1061\u001b[0m             \u001b[0mdate_list\u001b[0m \u001b[1;33m=\u001b[0m \u001b[0mget_date_from_sheet\u001b[0m\u001b[1;33m(\u001b[0m\u001b[0mprevious_week_sales_data\u001b[0m\u001b[1;33m)\u001b[0m\u001b[1;33m\u001b[0m\u001b[1;33m\u001b[0m\u001b[0m\n",
      "\u001b[1;32m~\\OneDrive\\WinWin Staff Folders\\Michael\\Replenishment program\\Replenishment\\Update\\Transform_Sales_Data\\transform.py\u001b[0m in \u001b[0;36mintermountain_transform\u001b[1;34m(self, df, date_list)\u001b[0m\n\u001b[0;32m    549\u001b[0m \u001b[1;33m\u001b[0m\u001b[0m\n\u001b[0;32m    550\u001b[0m         \u001b[0mstart_date\u001b[0m \u001b[1;33m=\u001b[0m \u001b[0mdatetime\u001b[0m\u001b[1;33m.\u001b[0m\u001b[0mstrptime\u001b[0m\u001b[1;33m(\u001b[0m\u001b[0mdate_list\u001b[0m\u001b[1;33m[\u001b[0m\u001b[1;36m0\u001b[0m\u001b[1;33m]\u001b[0m\u001b[1;33m,\u001b[0m \u001b[1;34m'%m.%d.%y'\u001b[0m\u001b[1;33m)\u001b[0m\u001b[1;33m\u001b[0m\u001b[1;33m\u001b[0m\u001b[0m\n\u001b[1;32m--> 551\u001b[1;33m         \u001b[0mend_date\u001b[0m \u001b[1;33m=\u001b[0m \u001b[0mdatetime\u001b[0m\u001b[1;33m.\u001b[0m\u001b[0mstrptime\u001b[0m\u001b[1;33m(\u001b[0m\u001b[0mdate_list\u001b[0m\u001b[1;33m[\u001b[0m\u001b[1;36m1\u001b[0m\u001b[1;33m]\u001b[0m\u001b[1;33m,\u001b[0m \u001b[1;34m'%m.%d.%y'\u001b[0m\u001b[1;33m)\u001b[0m\u001b[1;33m\u001b[0m\u001b[1;33m\u001b[0m\u001b[0m\n\u001b[0m\u001b[0;32m    552\u001b[0m \u001b[1;33m\u001b[0m\u001b[0m\n\u001b[0;32m    553\u001b[0m         \u001b[0mraw_data\u001b[0m \u001b[1;33m=\u001b[0m \u001b[0mdf\u001b[0m\u001b[1;33m\u001b[0m\u001b[1;33m\u001b[0m\u001b[0m\n",
      "\u001b[1;32m~\\anaconda3\\lib\\_strptime.py\u001b[0m in \u001b[0;36m_strptime_datetime\u001b[1;34m(cls, data_string, format)\u001b[0m\n\u001b[0;32m    566\u001b[0m     \"\"\"Return a class cls instance based on the input string and the\n\u001b[0;32m    567\u001b[0m     format string.\"\"\"\n\u001b[1;32m--> 568\u001b[1;33m     \u001b[0mtt\u001b[0m\u001b[1;33m,\u001b[0m \u001b[0mfraction\u001b[0m\u001b[1;33m,\u001b[0m \u001b[0mgmtoff_fraction\u001b[0m \u001b[1;33m=\u001b[0m \u001b[0m_strptime\u001b[0m\u001b[1;33m(\u001b[0m\u001b[0mdata_string\u001b[0m\u001b[1;33m,\u001b[0m \u001b[0mformat\u001b[0m\u001b[1;33m)\u001b[0m\u001b[1;33m\u001b[0m\u001b[1;33m\u001b[0m\u001b[0m\n\u001b[0m\u001b[0;32m    569\u001b[0m     \u001b[0mtzname\u001b[0m\u001b[1;33m,\u001b[0m \u001b[0mgmtoff\u001b[0m \u001b[1;33m=\u001b[0m \u001b[0mtt\u001b[0m\u001b[1;33m[\u001b[0m\u001b[1;33m-\u001b[0m\u001b[1;36m2\u001b[0m\u001b[1;33m:\u001b[0m\u001b[1;33m]\u001b[0m\u001b[1;33m\u001b[0m\u001b[1;33m\u001b[0m\u001b[0m\n\u001b[0;32m    570\u001b[0m     \u001b[0margs\u001b[0m \u001b[1;33m=\u001b[0m \u001b[0mtt\u001b[0m\u001b[1;33m[\u001b[0m\u001b[1;33m:\u001b[0m\u001b[1;36m6\u001b[0m\u001b[1;33m]\u001b[0m \u001b[1;33m+\u001b[0m \u001b[1;33m(\u001b[0m\u001b[0mfraction\u001b[0m\u001b[1;33m,\u001b[0m\u001b[1;33m)\u001b[0m\u001b[1;33m\u001b[0m\u001b[1;33m\u001b[0m\u001b[0m\n",
      "\u001b[1;32m~\\anaconda3\\lib\\_strptime.py\u001b[0m in \u001b[0;36m_strptime\u001b[1;34m(data_string, format)\u001b[0m\n\u001b[0;32m    350\u001b[0m                          (data_string, format))\n\u001b[0;32m    351\u001b[0m     \u001b[1;32mif\u001b[0m \u001b[0mlen\u001b[0m\u001b[1;33m(\u001b[0m\u001b[0mdata_string\u001b[0m\u001b[1;33m)\u001b[0m \u001b[1;33m!=\u001b[0m \u001b[0mfound\u001b[0m\u001b[1;33m.\u001b[0m\u001b[0mend\u001b[0m\u001b[1;33m(\u001b[0m\u001b[1;33m)\u001b[0m\u001b[1;33m:\u001b[0m\u001b[1;33m\u001b[0m\u001b[1;33m\u001b[0m\u001b[0m\n\u001b[1;32m--> 352\u001b[1;33m         raise ValueError(\"unconverted data remains: %s\" %\n\u001b[0m\u001b[0;32m    353\u001b[0m                           data_string[found.end():])\n\u001b[0;32m    354\u001b[0m \u001b[1;33m\u001b[0m\u001b[0m\n",
      "\u001b[1;31mValueError\u001b[0m: unconverted data remains:  "
     ]
    }
   ],
   "source": [
    "# Intermountain \n",
    "from store_info import Replenishment\n",
    "\n",
    "intermountain = Replenishment(store_type_input='intermountain')\n",
    "\n",
    "current_week = input('Please input the name of the sales file for the \"Current Sales Week\"\\n')\n",
    "previous_week = input('Please input the name of the sales file for the \"Previous Sales Week\"\\n')\n",
    "\n",
    "intermountain.sales_update(sales_data_file_path + rf'\\{current_week}', sales_data_file_path + rf'\\{previous_week}' )\n",
    "# intermountain.delivery_update(delivery_data_file_path + r'\\intermountain.csv')\n",
    "# intermountain.sales_report()"
   ]
  },
  {
   "cell_type": "code",
   "execution_count": 4,
   "id": "e8105cda",
   "metadata": {},
   "outputs": [
    {
     "name": "stdout",
     "output_type": "stream",
     "text": [
      "No Programs have been established for these stores listed:\n",
      "\n",
      " []\n",
      "follett_external_sales_report_Sep-28-2022.xlsx\n",
      "\n",
      "Sales Report Generated\n"
     ]
    }
   ],
   "source": [
    "# follett\n",
    "from store_info import Replenishment\n",
    "\n",
    "follett = Replenishment(store_type_input='follett')\n",
    "\n",
    "# follett.sales_import(file=r'C:\\Users\\User1\\OneDrive\\WinWin Staff Folders\\Michael\\Replenishment program\\Replenishment\\support document\\sales\\follett_salesdata_fixed.xlsx')\n",
    "follett.delivery_update(delivery_data_file_path + r'\\follett.csv')\n",
    "follett.sales_report()                                         "
   ]
  },
  {
   "cell_type": "code",
   "execution_count": 9,
   "id": "1b14fb31",
   "metadata": {},
   "outputs": [
    {
     "name": "stderr",
     "output_type": "stream",
     "text": [
      "C:\\Users\\User1\\OneDrive\\WinWin Staff Folders\\Michael\\Replenishment program\\Replenishment\\Update\\Transform_Sales_Data\\transform.py:380: FutureWarning: The default value of regex will change from True to False in a future version.\n",
      "  old['store_type'] = old.store_type.str.replace('[^a-zA-Z]', '')\n"
     ]
    },
    {
     "name": "stdout",
     "output_type": "stream",
     "text": [
      "Found code for Sales table in support sheet instead of delivery table store 3741 upc: 81031202300\n",
      "Found code for Sales table in support sheet instead of delivery table store 3278 upc: 81031202155\n",
      "Found code for Sales table in support sheet instead of delivery table store 3178 upc: 81031202045\n",
      "Found code for Sales table in support sheet instead of delivery table store 3464 upc: 81031202373\n",
      "Found code for Sales table in support sheet instead of delivery table store 3546 upc: 81031202045\n",
      "Found code for Sales table in support sheet instead of delivery table store 3465 upc: 81031202045\n",
      "Found code for Sales table in support sheet instead of delivery table store 4516 upc: 81031202335\n",
      "Found code for Sales table in support sheet instead of delivery table store 3491 upc: 81031202230\n",
      "Found code for Sales table in support sheet instead of delivery table store 3464 upc: 81031202372\n",
      "Found code for Sales table in support sheet instead of delivery table store 3219 upc: 81031202045\n",
      "Found code for Sales table in support sheet instead of delivery table store 3182 upc: 81031202229\n",
      "Found code for Sales table in support sheet instead of delivery table store 4268 upc: 81031202155\n",
      "Found code for Sales table in support sheet instead of delivery table store 81 upc: 81031202372\n",
      "Found code for Sales table in support sheet instead of delivery table store 2363 upc: 81031202373\n",
      "Found code for Sales table in support sheet instead of delivery table store 3188 upc: 81031202384\n",
      "Found code for Sales table in support sheet instead of delivery table store 3192 upc: 81031202045\n",
      "Found code for Sales table in support sheet instead of delivery table store 3464 upc: 81031202373\n",
      "Found code for Sales table in support sheet instead of delivery table store 3442 upc: 81031202045\n",
      "Found code for Sales table in support sheet instead of delivery table store 81 upc: 81031202335\n",
      "Found code for Sales table in support sheet instead of delivery table store 3465 upc: 81031202045\n",
      "Found code for Sales table in support sheet instead of delivery table store 3770 upc: 81031202236\n",
      "Found code for Sales table in support sheet instead of delivery table store 1296 upc: 81031202230\n",
      "Found code for Sales table in support sheet instead of delivery table store 3464 upc: 81031202372\n",
      "Found code for Sales table in support sheet instead of delivery table store 3465 upc: 81031202045\n",
      "Found code for Sales table in support sheet instead of delivery table store 2160 upc: 81031202305\n",
      "Found code for Sales table in support sheet instead of delivery table store 754 upc: 81031202230\n",
      "Found code for Sales table in support sheet instead of delivery table store 3451 upc: 81031202155\n",
      "Found code for Sales table in support sheet instead of delivery table store 3446 upc: 81031202367\n",
      "Found code for Sales table in support sheet instead of delivery table store 3348 upc: 81031202374\n",
      "Found code for Sales table in support sheet instead of delivery table store 3464 upc: 81031202155\n",
      "Found code for Sales table in support sheet instead of delivery table store 3459 upc: 81031202155\n",
      "Found code for Sales table in support sheet instead of delivery table store 3464 upc: 81031202372\n",
      "Found code for Sales table in support sheet instead of delivery table store 122 upc: 81031202155\n",
      "Found code for Sales table in support sheet instead of delivery table store 1296 upc: 81031202045\n",
      "Found code for Sales table in support sheet instead of delivery table store 3474 upc: 81031202155\n",
      "Found code for Sales table in support sheet instead of delivery table store 3496 upc: 81031202155\n",
      "Found code for Sales table in support sheet instead of delivery table store 202 upc: 81031202045\n",
      "Found code for Sales table in support sheet instead of delivery table store 3474 upc: 81031202372\n",
      "Found code for Sales table in support sheet instead of delivery table store 3192 upc: 81031202045\n",
      "Found code for Sales table in support sheet instead of delivery table store 185 upc: 81031202045\n",
      "Found code for Sales table in support sheet instead of delivery table store 1189 upc: 81031202045\n",
      "Found code for Sales table in support sheet instead of delivery table store 3741 upc: 81031202335\n",
      "Found code for Sales table in support sheet instead of delivery table store 2219 upc: 81031202141\n",
      "Found code for Sales table in support sheet instead of delivery table store 3053 upc: 81031202420\n",
      "Found code for Sales table in support sheet instead of delivery table store 4268 upc: 81031202234\n",
      "Found code for Sales table in support sheet instead of delivery table store 3464 upc: 81031202373\n",
      "\n",
      " jewel Sales Data Updated\n",
      "Updated: 83 Records\n",
      "Inserted: 630 Records\n",
      "\n",
      " jewel Delivery Data Updated\n",
      "Updated: 57 Records\n",
      "Inserted: 38 Records\n",
      "No Programs have been established for these stores listed:\n",
      "\n",
      " [157, 1282, 3053, 3220, 3349, 3421, 3425, 3429, 3443, 3446, 3455, 3461, 3473, 3477, 3481, 3491, 3514, 3720, 3721, 3775, 4060]\n"
     ]
    },
    {
     "name": "stderr",
     "output_type": "stream",
     "text": [
      "C:\\Users\\User1\\anaconda3\\lib\\site-packages\\pandas\\core\\indexing.py:1684: SettingWithCopyWarning: \n",
      "A value is trying to be set on a copy of a slice from a DataFrame.\n",
      "Try using .loc[row_indexer,col_indexer] = value instead\n",
      "\n",
      "See the caveats in the documentation: https://pandas.pydata.org/pandas-docs/stable/user_guide/indexing.html#returning-a-view-versus-a-copy\n",
      "  self.obj[key] = infer_fill_value(value)\n",
      "C:\\Users\\User1\\anaconda3\\lib\\site-packages\\pandas\\core\\indexing.py:1817: SettingWithCopyWarning: \n",
      "A value is trying to be set on a copy of a slice from a DataFrame.\n",
      "Try using .loc[row_indexer,col_indexer] = value instead\n",
      "\n",
      "See the caveats in the documentation: https://pandas.pydata.org/pandas-docs/stable/user_guide/indexing.html#returning-a-view-versus-a-copy\n",
      "  self._setitem_single_column(loc, value, pi)\n"
     ]
    },
    {
     "name": "stdout",
     "output_type": "stream",
     "text": [
      "jewel_external_sales_report_Sep-28-2022.xlsx\n",
      "\n",
      "Sales Report Generated\n"
     ]
    }
   ],
   "source": [
    "# jewel\n",
    "from store_info import Replenishment\n",
    "\n",
    "jewel = Replenishment(store_type_input='jewel')\n",
    "\n",
    "jewel.sales_update(sales_data_file_path + r'\\jewel_sales.xlsx')\n",
    "jewel.delivery_update(delivery_data_file_path + r'\\jewel.csv')\n",
    "\n",
    "\n",
    "jewel.sales_report()"
   ]
  },
  {
   "cell_type": "code",
   "execution_count": 4,
   "id": "2628b1d3",
   "metadata": {},
   "outputs": [
    {
     "name": "stderr",
     "output_type": "stream",
     "text": [
      "C:\\Users\\User1\\anaconda3\\lib\\site-packages\\pandas\\core\\frame.py:3641: SettingWithCopyWarning: \n",
      "A value is trying to be set on a copy of a slice from a DataFrame.\n",
      "Try using .loc[row_indexer,col_indexer] = value instead\n",
      "\n",
      "See the caveats in the documentation: https://pandas.pydata.org/pandas-docs/stable/user_guide/indexing.html#returning-a-view-versus-a-copy\n",
      "  self[k1] = value[k2]\n",
      "C:\\Users\\User1\\OneDrive\\WinWin Staff Folders\\Michael\\Replenishment program\\Replenishment\\Update\\Transform_Sales_Data\\transform.py:86: FutureWarning: The default value of regex will change from True to False in a future version.\n",
      "  new['RPT_SHORT_DESC'] = new.RPT_SHORT_DESC.str.replace('[^a-zA-Z]', '')\n"
     ]
    },
    {
     "name": "stdout",
     "output_type": "stream",
     "text": [
      "Found code for Sales table in support sheet instead of delivery table store 394 upc: 81031202373\n",
      "Found code for Sales table in support sheet instead of delivery table store 493 upc: 81031202373\n",
      "\n",
      " kroger_atlanta Sales Data Updated\n",
      "Updated: 200 Records\n",
      "Inserted: 260 Records\n",
      "\n",
      " kroger_atlanta Delivery Data Updated\n",
      "Updated: 76 Records\n",
      "Inserted: 46 Records\n",
      "No Programs have been established for these stores listed:\n",
      "\n",
      " []\n"
     ]
    },
    {
     "name": "stderr",
     "output_type": "stream",
     "text": [
      "C:\\Users\\User1\\anaconda3\\lib\\site-packages\\pandas\\core\\indexing.py:1684: SettingWithCopyWarning: \n",
      "A value is trying to be set on a copy of a slice from a DataFrame.\n",
      "Try using .loc[row_indexer,col_indexer] = value instead\n",
      "\n",
      "See the caveats in the documentation: https://pandas.pydata.org/pandas-docs/stable/user_guide/indexing.html#returning-a-view-versus-a-copy\n",
      "  self.obj[key] = infer_fill_value(value)\n",
      "C:\\Users\\User1\\anaconda3\\lib\\site-packages\\pandas\\core\\indexing.py:1817: SettingWithCopyWarning: \n",
      "A value is trying to be set on a copy of a slice from a DataFrame.\n",
      "Try using .loc[row_indexer,col_indexer] = value instead\n",
      "\n",
      "See the caveats in the documentation: https://pandas.pydata.org/pandas-docs/stable/user_guide/indexing.html#returning-a-view-versus-a-copy\n",
      "  self._setitem_single_column(loc, value, pi)\n"
     ]
    },
    {
     "name": "stdout",
     "output_type": "stream",
     "text": [
      "kroger_atlanta_external_sales_report_Sep-26-2022.xlsx\n",
      "\n",
      "Sales Report Generated\n"
     ]
    }
   ],
   "source": [
    "# atlanta\n",
    "from store_info import Replenishment\n",
    "\n",
    "atlanta = Replenishment(store_type_input='kroger_atlanta')\n",
    "\n",
    "atlanta.sales_update(sales_data_file_path + r'\\Sherlock Store Matrix.csv')\n",
    "atlanta.delivery_update(delivery_data_file_path + r'\\atlanta.csv')\n",
    "atlanta.sales_report()"
   ]
  },
  {
   "cell_type": "code",
   "execution_count": 8,
   "id": "68debb9c",
   "metadata": {},
   "outputs": [
    {
     "name": "stderr",
     "output_type": "stream",
     "text": [
      "C:\\Users\\User1\\anaconda3\\lib\\site-packages\\pandas\\core\\frame.py:3641: SettingWithCopyWarning: \n",
      "A value is trying to be set on a copy of a slice from a DataFrame.\n",
      "Try using .loc[row_indexer,col_indexer] = value instead\n",
      "\n",
      "See the caveats in the documentation: https://pandas.pydata.org/pandas-docs/stable/user_guide/indexing.html#returning-a-view-versus-a-copy\n",
      "  self[k1] = value[k2]\n",
      "C:\\Users\\User1\\OneDrive\\WinWin Staff Folders\\Michael\\Replenishment program\\Replenishment\\Update\\Transform_Sales_Data\\transform.py:86: FutureWarning: The default value of regex will change from True to False in a future version.\n",
      "  new['RPT_SHORT_DESC'] = new.RPT_SHORT_DESC.str.replace('[^a-zA-Z]', '')\n"
     ]
    },
    {
     "name": "stdout",
     "output_type": "stream",
     "text": [
      "Found code for Sales table in support sheet instead of delivery table store 923 upc: 81031202305\n",
      "Found code for Sales table in support sheet instead of delivery table store 995 upc: 81031202229\n",
      "Found code for Sales table in support sheet instead of delivery table store 989 upc: 81031202236\n",
      "Found code for Sales table in support sheet instead of delivery table store 86 upc: 81031202045\n",
      "Found code for Sales table in support sheet instead of delivery table store 965 upc: 81031202045\n",
      "Found code for Sales table in support sheet instead of delivery table store 735 upc: 81031202155\n",
      "Found code for Sales table in support sheet instead of delivery table store 869 upc: 81031202155\n",
      "Found code for Sales table in support sheet instead of delivery table store 946 upc: 81031202045\n",
      "Found code for Sales table in support sheet instead of delivery table store 86 upc: 81031202045\n",
      "Found code for Sales table in support sheet instead of delivery table store 965 upc: 81031202045\n",
      "Found code for Sales table in support sheet instead of delivery table store 900 upc: 81031202045\n",
      "Found code for Sales table in support sheet instead of delivery table store 979 upc: 81031202045\n",
      "Found code for Sales table in support sheet instead of delivery table store 985 upc: 81031202155\n",
      "Found code for Sales table in support sheet instead of delivery table store 918 upc: 81031202373\n",
      "\n",
      " kroger_central Sales Data Updated\n",
      "Updated: 183 Records\n",
      "Inserted: 0 Records\n",
      "\n",
      " kroger_central Delivery Data Updated\n",
      "Updated: 15 Records\n",
      "Inserted: 0 Records\n",
      "No Programs have been established for these stores listed:\n",
      "\n",
      " [1, 889]\n",
      "kroger_central_external_sales_report_Sep-28-2022.xlsx\n"
     ]
    },
    {
     "name": "stderr",
     "output_type": "stream",
     "text": [
      "C:\\Users\\User1\\anaconda3\\lib\\site-packages\\pandas\\core\\indexing.py:1684: SettingWithCopyWarning: \n",
      "A value is trying to be set on a copy of a slice from a DataFrame.\n",
      "Try using .loc[row_indexer,col_indexer] = value instead\n",
      "\n",
      "See the caveats in the documentation: https://pandas.pydata.org/pandas-docs/stable/user_guide/indexing.html#returning-a-view-versus-a-copy\n",
      "  self.obj[key] = infer_fill_value(value)\n",
      "C:\\Users\\User1\\anaconda3\\lib\\site-packages\\pandas\\core\\indexing.py:1817: SettingWithCopyWarning: \n",
      "A value is trying to be set on a copy of a slice from a DataFrame.\n",
      "Try using .loc[row_indexer,col_indexer] = value instead\n",
      "\n",
      "See the caveats in the documentation: https://pandas.pydata.org/pandas-docs/stable/user_guide/indexing.html#returning-a-view-versus-a-copy\n",
      "  self._setitem_single_column(loc, value, pi)\n"
     ]
    },
    {
     "name": "stdout",
     "output_type": "stream",
     "text": [
      "\n",
      "Sales Report Generated\n"
     ]
    }
   ],
   "source": [
    "# central\n",
    "from store_info import Replenishment\n",
    "\n",
    "central = Replenishment(store_type_input='kroger_central')\n",
    "\n",
    "\n",
    "central.sales_update( sales_data_file_path + r'\\Sherlock Store Matrix.csv')\n",
    "central.delivery_update(delivery_data_file_path + r'\\central.csv')\n",
    "central.sales_report()"
   ]
  },
  {
   "cell_type": "code",
   "execution_count": 6,
   "id": "b125d768",
   "metadata": {},
   "outputs": [
    {
     "name": "stdout",
     "output_type": "stream",
     "text": [
      "\n",
      " kroger_columbus Sales Data Updated\n",
      "Updated: 160 Records\n",
      "Inserted: 181 Records\n",
      "\n",
      " kroger_columbus Delivery Data Updated\n",
      "Updated: 66 Records\n",
      "Inserted: 27 Records\n",
      "No Programs have been established for these stores listed:\n",
      "\n",
      " []\n",
      "kroger_columbus_external_sales_report_Sep-26-2022.xlsx\n",
      "\n",
      "Sales Report Generated\n"
     ]
    }
   ],
   "source": [
    "# columubus\n",
    "from store_info import Replenishment\n",
    "\n",
    "columbus = Replenishment(store_type_input='kroger_columbus')\n",
    "\n",
    "\n",
    "columbus.sales_update(sales_data_file_path + r'\\Sherlock Store Matrix.csv')\n",
    "columbus.delivery_update(delivery_data_file_path + r'\\columbus.csv')\n",
    "columbus.sales_report()"
   ]
  },
  {
   "cell_type": "code",
   "execution_count": 19,
   "id": "4bd39071",
   "metadata": {},
   "outputs": [
    {
     "name": "stdout",
     "output_type": "stream",
     "text": [
      "Found code for Sales table in support sheet instead of delivery table store 596 upc: 81031202256\n",
      "Found code for Sales table in support sheet instead of delivery table store 542 upc: 81031202256\n",
      "Found code for Sales table in support sheet instead of delivery table store 591 upc: 81031202256\n",
      "Found code for Sales table in support sheet instead of delivery table store 596 upc: 81031202269\n",
      "Found code for Sales table in support sheet instead of delivery table store 589 upc: 81031202381\n",
      "Found code for Sales table in support sheet instead of delivery table store 596 upc: 81031202155\n",
      "Found code for Sales table in support sheet instead of delivery table store 579 upc: 81031202355\n",
      "Found code for Sales table in support sheet instead of delivery table store 596 upc: 81031202255\n",
      "Found code for Sales table in support sheet instead of delivery table store 542 upc: 81031202256\n",
      "Found code for Sales table in support sheet instead of delivery table store 592 upc: 81031202255\n",
      "Found code for Sales table in support sheet instead of delivery table store 533 upc: 81031202256\n",
      "Found code for Sales table in support sheet instead of delivery table store 596 upc: 81031202373\n",
      "Found code for Sales table in support sheet instead of delivery table store 596 upc: 81031202348\n",
      "\n",
      " kroger_dallas Sales Data Updated\n",
      "Updated: 123 Records\n",
      "Inserted: 0 Records\n",
      "No Programs have been established for these stores listed:\n",
      "\n",
      " []\n",
      "kroger_dallas_external_sales_report_Sep-26-2022.xlsx\n",
      "\n",
      "Sales Report Generated\n"
     ]
    }
   ],
   "source": [
    "# dallas\n",
    "from store_info import Replenishment\n",
    "\n",
    "dallas = Replenishment(store_type_input='kroger_dallas')\n",
    "\n",
    "\n",
    "\n",
    "dallas.sales_update(sales_data_file_path + r'\\Sherlock Store Matrix.csv')\n",
    "dallas.delivery_update(delivery_data_file_path + r'\\dallas.csv')\n",
    "dallas.sales_report()"
   ]
  },
  {
   "cell_type": "code",
   "execution_count": 8,
   "id": "4b6df5d5",
   "metadata": {},
   "outputs": [
    {
     "name": "stdout",
     "output_type": "stream",
     "text": [
      "\n",
      " kroger_dillons Sales Data Updated\n",
      "Updated: 109 Records\n",
      "Inserted: 139 Records\n",
      "\n",
      " kroger_dillons Delivery Data Updated\n",
      "Updated: 18 Records\n",
      "Inserted: 39 Records\n",
      "No Programs have been established for these stores listed:\n",
      "\n",
      " []\n",
      "kroger_dillons_external_sales_report_Sep-26-2022.xlsx\n",
      "\n",
      "Sales Report Generated\n"
     ]
    }
   ],
   "source": [
    "# dillons\n",
    "from store_info import Replenishment\n",
    "\n",
    "dillons = Replenishment(store_type_input='kroger_dillons')\n",
    "\n",
    "dillons.sales_update(sales_data_file_path + r'\\Sherlock Store Matrix.csv')\n",
    "dillons.delivery_update(delivery_data_file_path + r'\\dillons.csv')\n",
    "dillons.sales_report()"
   ]
  },
  {
   "cell_type": "code",
   "execution_count": 9,
   "id": "881ba544",
   "metadata": {},
   "outputs": [
    {
     "name": "stdout",
     "output_type": "stream",
     "text": [
      "\n",
      " kroger_king_soopers Sales Data Updated\n",
      "Updated: 57 Records\n",
      "Inserted: 60 Records\n",
      "\n",
      " kroger_king_soopers Delivery Data Updated\n",
      "Updated: 18 Records\n",
      "Inserted: 3 Records\n",
      "No Programs have been established for these stores listed:\n",
      "\n",
      " []\n",
      "kroger_king_soopers_external_sales_report_Sep-26-2022.xlsx\n",
      "\n",
      "Sales Report Generated\n"
     ]
    }
   ],
   "source": [
    "# king sooper\n",
    "from store_info import Replenishment\n",
    "\n",
    "king_soopers = Replenishment(store_type_input='kroger_king_soopers')\n",
    "\n",
    "\n",
    "king_soopers.sales_update(sales_data_file_path + r'\\Sherlock Store Matrix.csv')\n",
    "king_soopers.delivery_update(delivery_data_file_path + r'\\king.csv')\n",
    "king_soopers.sales_report()"
   ]
  },
  {
   "cell_type": "code",
   "execution_count": 12,
   "id": "1efb8bb5",
   "metadata": {},
   "outputs": [
    {
     "name": "stdout",
     "output_type": "stream",
     "text": [
      "Found code for Sales table in support sheet instead of delivery table store 387 upc: 81031202384\n",
      "\n",
      " kroger_louisville Sales Data Updated\n",
      "Updated: 221 Records\n",
      "Inserted: 0 Records\n",
      "\n",
      " kroger_louisville Delivery Data Updated\n",
      "Updated: 63 Records\n",
      "Inserted: 0 Records\n",
      "No Programs have been established for these stores listed:\n",
      "\n",
      " []\n",
      "kroger_louisville_external_sales_report_Sep-26-2022.xlsx\n",
      "\n",
      "Sales Report Generated\n"
     ]
    }
   ],
   "source": [
    "# louisville\n",
    "from store_info import Replenishment\n",
    "\n",
    "louisville = Replenishment(store_type_input='kroger_louisville')\n",
    "\n",
    "louisville.sales_update(sales_data_file_path + r'\\Sherlock Store Matrix.csv')\n",
    "louisville.delivery_update(delivery_data_file_path + r'\\louisville.csv')\n",
    "louisville.sales_report()"
   ]
  },
  {
   "cell_type": "code",
   "execution_count": 13,
   "id": "05d85060",
   "metadata": {},
   "outputs": [
    {
     "name": "stdout",
     "output_type": "stream",
     "text": [
      "Found code for Sales table in support sheet instead of delivery table store 638 upc: 81031202045\n",
      "Found code for Sales table in support sheet instead of delivery table store 638 upc: 81031202045\n",
      "\n",
      " kroger_michigan Sales Data Updated\n",
      "Updated: 107 Records\n",
      "Inserted: 0 Records\n",
      "\n",
      " kroger_michigan Delivery Data Updated\n",
      "Updated: 10 Records\n",
      "Inserted: 0 Records\n",
      "No Programs have been established for these stores listed:\n",
      "\n",
      " [115]\n",
      "kroger_michigan_external_sales_report_Sep-26-2022.xlsx\n",
      "\n",
      "Sales Report Generated\n"
     ]
    }
   ],
   "source": [
    "# michigan\n",
    "from store_info import Replenishment\n",
    "\n",
    "michigan = Replenishment(store_type_input='kroger_michigan')\n",
    "\n",
    "michigan.sales_update(sales_data_file_path + r'\\Sherlock Store Matrix.csv')\n",
    "michigan.delivery_update(delivery_data_file_path + r'\\michigan.csv')\n",
    "michigan.sales_report()"
   ]
  },
  {
   "cell_type": "code",
   "execution_count": 15,
   "id": "04a8d7cc",
   "metadata": {},
   "outputs": [
    {
     "name": "stdout",
     "output_type": "stream",
     "text": [
      "\n",
      " kroger_nashville Sales Data Updated\n",
      "Updated: 242 Records\n",
      "Inserted: 0 Records\n",
      "\n",
      " kroger_nashville Delivery Data Updated\n",
      "Updated: 54 Records\n",
      "Inserted: 0 Records\n",
      "No Programs have been established for these stores listed:\n",
      "\n",
      " []\n",
      "kroger_nashville_external_sales_report_Sep-26-2022.xlsx\n",
      "\n",
      "Sales Report Generated\n"
     ]
    }
   ],
   "source": [
    "# nashville\n",
    "from store_info import Replenishment\n",
    "\n",
    "nashville = Replenishment(store_type_input='kroger_nashville')\n",
    "\n",
    "\n",
    "nashville.sales_update(sales_data_file_path + r'\\Sherlock Store Matrix.csv')\n",
    "nashville.delivery_update(delivery_data_file_path + r'\\nashville.csv')\n",
    "nashville.sales_report()"
   ]
  },
  {
   "cell_type": "code",
   "execution_count": 16,
   "id": "9d2cb4fe",
   "metadata": {},
   "outputs": [
    {
     "name": "stdout",
     "output_type": "stream",
     "text": [
      "Found code for Sales table in support sheet instead of delivery table store 211 upc: 81031202069\n",
      "Found code for Sales table in support sheet instead of delivery table store 217 upc: 81031202045\n",
      "Found code for Sales table in support sheet instead of delivery table store 249 upc: 81031202229\n",
      "Found code for Sales table in support sheet instead of delivery table store 436 upc: 81031202229\n",
      "Found code for Sales table in support sheet instead of delivery table store 438 upc: 81031202373\n",
      "Found code for Sales table in support sheet instead of delivery table store 608 upc: 81031202300\n",
      "Found code for Sales table in support sheet instead of delivery table store 610 upc: 81031202172\n",
      "Found code for Sales table in support sheet instead of delivery table store 610 upc: 81031202230\n",
      "Found code for Sales table in support sheet instead of delivery table store 610 upc: 81031202373\n",
      "Found code for Sales table in support sheet instead of delivery table store 620 upc: 81031202324\n",
      "Found code for Sales table in support sheet instead of delivery table store 620 upc: 81031202300\n",
      "Found code for Sales table in support sheet instead of delivery table store 634 upc: 81031202045\n",
      "Found code for Sales table in support sheet instead of delivery table store 641 upc: 81031202324\n",
      "Found code for Sales table in support sheet instead of delivery table store 655 upc: 81031202335\n",
      "Found code for Sales table in support sheet instead of delivery table store 665 upc: 81031202047\n",
      "Found code for Sales table in support sheet instead of delivery table store 667 upc: 81031202325\n",
      "Found code for Sales table in support sheet instead of delivery table store 667 upc: 81031202324\n",
      "Found code for Sales table in support sheet instead of delivery table store 687 upc: 81031202324\n",
      "Found code for Sales table in support sheet instead of delivery table store 713 upc: 81031202300\n",
      "Found code for Sales table in support sheet instead of delivery table store 727 upc: 81031202324\n",
      "Found code for Sales table in support sheet instead of delivery table store 865 upc: 81031202045\n",
      "Found code for Sales table in support sheet instead of delivery table store 897 upc: 81031202325\n",
      "\n",
      " kvat Sales Data Updated\n",
      "Updated: 0 Records\n",
      "Inserted: 379 Records\n",
      "\n",
      " kvat Delivery Data Updated\n",
      "Updated: 345 Records\n",
      "Inserted: 8 Records\n",
      "No Programs have been established for these stores listed:\n",
      "\n",
      " [206, 614, 626, 678, 694, 735, 735, 848, 2803]\n",
      "kvat_external_sales_report_Sep-26-2022.xlsx\n",
      "\n",
      "Sales Report Generated\n"
     ]
    }
   ],
   "source": [
    "# kvat \n",
    "from store_info import Replenishment\n",
    "\n",
    "kvat = Replenishment(store_type_input='kvat')\n",
    "\n",
    "\n",
    "kvat.sales_update(sales_data_file_path + r'\\kvat_sales.xlsx')\n",
    "kvat.delivery_update(delivery_data_file_path + r'\\kvat.csv')\n",
    "kvat.sales_report()"
   ]
  },
  {
   "cell_type": "code",
   "execution_count": 20,
   "id": "6ab69390",
   "metadata": {},
   "outputs": [
    {
     "name": "stdout",
     "output_type": "stream",
     "text": [
      "Found code for Sales table in support sheet instead of delivery table store 1038 upc: 81031202155\n",
      "Found code for Sales table in support sheet instead of delivery table store 1267 upc: 81031202155\n",
      "Found code for Sales table in support sheet instead of delivery table store 1463 upc: 81031202217\n",
      "Found code for Sales table in support sheet instead of delivery table store 2342 upc: 81031202217\n",
      "Found code for Sales table in support sheet instead of delivery table store 2624 upc: 81031202217\n",
      "Found code for Sales table in support sheet instead of delivery table store 27 upc: 81031202372\n",
      "Found code for Sales table in support sheet instead of delivery table store 841 upc: 81031202217\n",
      "Found code for Sales table in support sheet instead of delivery table store 2824 upc: 81031202372\n",
      "Found code for Sales table in support sheet instead of delivery table store 2824 upc: 81031202373\n",
      "Found code for Sales table in support sheet instead of delivery table store 2824 upc: 81031202374\n",
      "Found code for Sales table in support sheet instead of delivery table store 60 upc: 81031202217\n",
      "Found code for Sales table in support sheet instead of delivery table store 65 upc: 81031202045\n",
      "Found code for Sales table in support sheet instead of delivery table store 66 upc: 81031202372\n",
      "Found code for Sales table in support sheet instead of delivery table store 67 upc: 81031202069\n",
      "Found code for Sales table in support sheet instead of delivery table store 467 upc: 81031202155\n",
      "Found code for Sales table in support sheet instead of delivery table store 549 upc: 81031202069\n",
      "Found code for Sales table in support sheet instead of delivery table store 549 upc: 81031202155\n",
      "Found code for Sales table in support sheet instead of delivery table store 549 upc: 81031202217\n",
      "Found code for Sales table in support sheet instead of delivery table store 583 upc: 81031202373\n",
      "Found code for Sales table in support sheet instead of delivery table store 1552 upc: 81031202155\n",
      "Found code for Sales table in support sheet instead of delivery table store 1552 upc: 81031202217\n",
      "Found code for Sales table in support sheet instead of delivery table store 557 upc: 81031202069\n",
      "Found code for Sales table in support sheet instead of delivery table store 920 upc: 81031202155\n",
      "Found code for Sales table in support sheet instead of delivery table store 1116 upc: 81031202155\n",
      "Found code for Sales table in support sheet instead of delivery table store 1615 upc: 81031202045\n",
      "Found code for Sales table in support sheet instead of delivery table store 1828 upc: 81031202155\n",
      "Found code for Sales table in support sheet instead of delivery table store 2341 upc: 81031202217\n",
      "Found code for Sales table in support sheet instead of delivery table store 2812 upc: 81031202217\n",
      "Found code for Sales table in support sheet instead of delivery table store 2915 upc: 81031202374\n",
      "Found code for Sales table in support sheet instead of delivery table store 2917 upc: 81031202217\n",
      "Found code for Sales table in support sheet instead of delivery table store 803 upc: 81031202045\n",
      "Found code for Sales table in support sheet instead of delivery table store 803 upc: 81031202373\n",
      "Found code for Sales table in support sheet instead of delivery table store 879 upc: 81031202372\n",
      "Found code for Sales table in support sheet instead of delivery table store 879 upc: 81031202373\n",
      "Found code for Sales table in support sheet instead of delivery table store 1286 upc: 81031202373\n",
      "Found code for Sales table in support sheet instead of delivery table store 1440 upc: 81031202069\n",
      "Found code for Sales table in support sheet instead of delivery table store 1440 upc: 81031202155\n",
      "Found code for Sales table in support sheet instead of delivery table store 1446 upc: 81031202069\n",
      "Found code for Sales table in support sheet instead of delivery table store 1577 upc: 81031202045\n",
      "Found code for Sales table in support sheet instead of delivery table store 1578 upc: 81031202372\n",
      "Found code for Sales table in support sheet instead of delivery table store 1578 upc: 81031202373\n",
      "Found code for Sales table in support sheet instead of delivery table store 1644 upc: 81031202045\n",
      "Found code for Sales table in support sheet instead of delivery table store 1877 upc: 81031202374\n",
      "Found code for Sales table in support sheet instead of delivery table store 617 upc: 81031202045\n",
      "Found code for Sales table in support sheet instead of delivery table store 617 upc: 81031202155\n",
      "Found code for Sales table in support sheet instead of delivery table store 617 upc: 81031202217\n",
      "Found code for Sales table in support sheet instead of delivery table store 1681 upc: 81031202217\n",
      "Found code for Sales table in support sheet instead of delivery table store 1721 upc: 81031202155\n",
      "Found code for Sales table in support sheet instead of delivery table store 1760 upc: 81031202155\n",
      "Found code for Sales table in support sheet instead of delivery table store 2810 upc: 81031202155\n",
      "Found code for Sales table in support sheet instead of delivery table store 3727 upc: 81031202155\n",
      "\n",
      " safeway_denver Sales Data Updated\n",
      "Updated: 0 Records\n",
      "Inserted: 190 Records\n",
      "\n",
      " safeway_denver Delivery Data Updated\n",
      "Updated: 90 Records\n",
      "Inserted: 0 Records\n",
      "No Programs have been established for these stores listed:\n",
      "\n",
      " [27, 64, 824, 1548, 2520, 2911]\n",
      "safeway_denver_external_sales_report_Sep-26-2022.xlsx\n",
      "\n",
      "Sales Report Generated\n"
     ]
    }
   ],
   "source": [
    "# safeway denver\n",
    "from store_info import Replenishment\n",
    "\n",
    "safeway_denver= Replenishment(store_type_input='safeway_denver')\n",
    "\n",
    "safeway_denver.sales_update(sales_data_file_path + r'\\denver_sales.xlsx')\n",
    "safeway_denver.delivery_update(delivery_data_file_path + r'\\denver.csv')\n",
    "safeway_denver.sales_report()"
   ]
  },
  {
   "cell_type": "code",
   "execution_count": 17,
   "id": "c0c83341",
   "metadata": {},
   "outputs": [
    {
     "name": "stdout",
     "output_type": "stream",
     "text": [
      "Found code for Sales table in support sheet instead of delivery table store 454 upc: 81031202369\n",
      "Found code for Sales table in support sheet instead of delivery table store 454 upc: 81031202370\n",
      "Found code for Sales table in support sheet instead of delivery table store 335 upc: 81031202369\n",
      "Found code for Sales table in support sheet instead of delivery table store 335 upc: 81031202370\n",
      "\n",
      " kroger_cincinatti Sales Data Updated\n",
      "Updated: 134 Records\n",
      "Inserted: 169 Records\n",
      "\n",
      " kroger_cincinatti Delivery Data Updated\n",
      "Updated: 36 Records\n",
      "Inserted: 30 Records\n",
      "No Programs have been established for these stores listed:\n",
      "\n",
      " []\n",
      "kroger_cincinatti_external_sales_report_Sep-26-2022.xlsx\n",
      "\n",
      "Sales Report Generated\n"
     ]
    }
   ],
   "source": [
    "# cincinatti\n",
    "from store_info import Replenishment\n",
    "\n",
    "atlanta = Replenishment(store_type_input='kroger_cincinatti')\n",
    "\n",
    "atlanta.sales_update(sales_data_file_path + r'\\Sherlock Store Matrix.csv')\n",
    "atlanta.delivery_update(delivery_data_file_path + r'\\cincinatti.csv')\n",
    "atlanta.sales_report()"
   ]
  },
  {
   "cell_type": "code",
   "execution_count": 18,
   "id": "60c9a54b",
   "metadata": {},
   "outputs": [
    {
     "name": "stdout",
     "output_type": "stream",
     "text": [
      "Found code for Sales table in support sheet instead of delivery table store 625 upc: 81031202273\n",
      "Found code for Sales table in support sheet instead of delivery table store 625 upc: 81031202272\n",
      "Found code for Sales table in support sheet instead of delivery table store 409 upc: 81031202272\n",
      "Found code for Sales table in support sheet instead of delivery table store 623 upc: 81031202069\n",
      "Found code for Sales table in support sheet instead of delivery table store 622 upc: 81031202069\n",
      "Found code for Sales table in support sheet instead of delivery table store 622 upc: 81031202059\n",
      "Found code for Sales table in support sheet instead of delivery table store 625 upc: 81031202059\n",
      "\n",
      " kroger_delta Sales Data Updated\n",
      "Updated: 17 Records\n",
      "Inserted: 12 Records\n"
     ]
    }
   ],
   "source": [
    "\n",
    "delta = Replenishment(store_type_input='kroger_delta')\n",
    "\n",
    "delta.sales_update(sales_data_file_path + r'\\Sherlock Store Matrix.csv')\n",
    "# delta.delivery_update(file=r'C:\\Users\\User1\\OneDrive\\WinWin Staff Folders\\Michael\\Replenishment program\\Replenishment\\support document\\deliveries\\delta.csv')\n",
    "# delta.sales_report()"
   ]
  },
  {
   "cell_type": "code",
   "execution_count": 6,
   "id": "a930968f",
   "metadata": {},
   "outputs": [
    {
     "name": "stdout",
     "output_type": "stream",
     "text": [
      "No Programs have been established for these stores listed:\n",
      "\n",
      " []\n",
      "Kroger Corporate Report Generated\n"
     ]
    }
   ],
   "source": [
    "# Be sure to update all sales tables for all stores in the Kroger Division. \n",
    "# Kroger Corporate Report\n",
    "\n",
    "kroger_corporate = Replenishment(store_type_input='kroger_dallas')\n",
    "\n",
    "kroger_corporate.kroger_corporate_report()\n",
    "\n"
   ]
  },
  {
   "cell_type": "code",
   "execution_count": null,
   "id": "05cfb0a3",
   "metadata": {},
   "outputs": [],
   "source": []
  }
 ],
 "metadata": {
  "interpreter": {
   "hash": "eb4e0a0fd1d19bb9a06c4c3c2c2cf016517ec825f23f225e84b2f7e81a104fe7"
  },
  "kernelspec": {
   "display_name": "Python 3 (ipykernel)",
   "language": "python",
   "name": "python3"
  },
  "language_info": {
   "codemirror_mode": {
    "name": "ipython",
    "version": 3
   },
   "file_extension": ".py",
   "mimetype": "text/x-python",
   "name": "python",
   "nbconvert_exporter": "python",
   "pygments_lexer": "ipython3",
   "version": "3.9.7"
  }
 },
 "nbformat": 4,
 "nbformat_minor": 5
}
