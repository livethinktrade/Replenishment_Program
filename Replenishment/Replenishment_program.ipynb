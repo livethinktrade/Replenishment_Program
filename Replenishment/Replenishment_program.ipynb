{
 "cells": [
  {
   "cell_type": "code",
   "execution_count": 1,
   "id": "e6208782",
   "metadata": {},
   "outputs": [
    {
     "name": "stdout",
     "output_type": "stream",
     "text": [
      "\n",
      "Enter the Current Year\n",
      "\n",
      "Enter the Current Week\n",
      "\n",
      "Support Sheet Imported\n",
      "Updated: 373\n",
      "Inserted: 0\n",
      "\n",
      "Inventory list imported\n",
      "Updated: 460 Records\n",
      "Inserted: 0 Records\n"
     ]
    }
   ],
   "source": [
    "from store_info import Replenishment\n",
    "# from Sales_Report.Reports.reports import *\n",
    "\n",
    "print('\\nEnter the Current Year')\n",
    "# year = int(input())\n",
    "\n",
    "print('\\nEnter the Current Week')\n",
    "# week = int(input())\n",
    "\n",
    "year = 2022\n",
    "week = 30\n",
    "\n",
    "store = Replenishment(store_type_input='fresh_encounter',\n",
    "                               current_year = year , \n",
    "                               current_week= 1)\n",
    "\n",
    "store.support_import('support_sheet')\n",
    "store.inventory_import('inventory.csv')\n"
   ]
  },
  {
   "cell_type": "code",
   "execution_count": 2,
   "id": "4f2ccd4f",
   "metadata": {},
   "outputs": [
    {
     "name": "stdout",
     "output_type": "stream",
     "text": [
      "\n",
      " Store Data Imported\n",
      "Updated: 0 Records\n",
      "Inserted: 150 Records\n",
      "\n",
      " Store Program Data Imported\n",
      "Updated: 0 Records\n",
      "Inserted: 150 Records\n"
     ]
    }
   ],
   "source": [
    "# kvat \n",
    "\n",
    "kvat = Replenishment(store_type_input='follet', \n",
    "                               current_year = year , \n",
    "                               current_week= week)\n",
    "\n",
    "# kvat.sales_import(\"kroger_columbus_salesdata_backup_Jul-08-2022.xlsx\")\n",
    "# kvat.delivery_import(\"kroger_columbus_deliverydata_backup_Jul-08-2022.xlsx\")\n",
    "kvat.store_import()\n",
    "# kvat.master_planogram_import()\n",
    "kvat.store_program_import()\n",
    "# kvat.store_approval_import('louisville_approval.csv')\n",
    "# kvat.support_import('support_sheet')\n",
    "# kvat.inventory_import('inventory.csv')\n",
    "# kvat.sales_update(file='Sherlock Store Matrix.csv')\n",
    "# kvat.delivery_update(file='kvat.csv')\n",
    "# kvat.sales_report()\n",
    "# kvat.size_table_update('size_table')"
   ]
  },
  {
   "cell_type": "code",
   "execution_count": 16,
   "id": "047c9933",
   "metadata": {},
   "outputs": [
    {
     "name": "stdout",
     "output_type": "stream",
     "text": [
      "kroger_dillons_dummy_sales.xlsx\n"
     ]
    }
   ],
   "source": []
  },
  {
   "cell_type": "code",
   "execution_count": 10,
   "id": "e334c275",
   "metadata": {},
   "outputs": [
    {
     "name": "stdout",
     "output_type": "stream",
     "text": [
      "texas_division\n",
      "('pass', 'pass')\n"
     ]
    }
   ],
   "source": []
  },
  {
   "cell_type": "code",
   "execution_count": 12,
   "id": "20733ea8",
   "metadata": {},
   "outputs": [],
   "source": []
  },
  {
   "cell_type": "code",
   "execution_count": null,
   "id": "33c189c2",
   "metadata": {},
   "outputs": [],
   "source": [
    "# this code is to delete create or whatever you want to do with tablesw and views for all store databasesS\n",
    "\n",
    "sql_code = \"\"\"\n",
    "select * from sales\n",
    "\n",
    "\n",
    "\"\"\"\n",
    "\n",
    "sql_setup(sql_code)"
   ]
  },
  {
   "cell_type": "code",
   "execution_count": 1,
   "id": "1e308657",
   "metadata": {},
   "outputs": [],
   "source": [
    "import datetime\n",
    "import re\n",
    "import pandas as pd\n",
    "import datetime as dt\n",
    "import psycopg2\n",
    "\n",
    "import pandas.io.sql as psql\n",
    "\n",
    "import numpy as np\n",
    "from psycopg2.extensions import register_adapter, AsIs\n",
    "psycopg2.extensions.register_adapter(np.int64, psycopg2._psycopg.AsIs)\n",
    "\n",
    "#downloads the sales & delivery data for all stores\n",
    "store_list = [  \n",
    "                'acme',\n",
    "#                 'brookshire',\n",
    "                'fresh_encounter', \n",
    "                'intermountain', \n",
    "                'jewel',\n",
    "                'kroger_central', \n",
    "                'kroger_columbus',\n",
    "                'kroger_dallas', \n",
    "#                 'kroger_delta', \n",
    "                'kroger_michigan',\n",
    "                'kvat', \n",
    "                'safeway_denver', \n",
    "                'texas_division']\n",
    "\n",
    "i= 0\n",
    "num_of_store = len(store_list)\n",
    "\n",
    "date = datetime.date.today()\n",
    "date = date.strftime(\"%b-%d-%Y\")\n",
    "\n",
    "\n",
    "\n",
    "while i < num_of_store:\n",
    "\n",
    "    store = store_list[i]\n",
    "    connection = psycopg2.connect(database=f\"{store}\", user=\"postgres\", password=\"winwin\", host=\"localhost\")\n",
    "\n",
    "    num = psql.read_sql(f\"select * from delivery2\", connection)\n",
    "\n",
    "    num.to_excel(f'{store}_deliverydata_backup_{date}.xlsx', index = False)\n",
    "    i+=1\n",
    "\n",
    "i= 0\n",
    "num_of_store = len(store_list)\n",
    "\n",
    "while i < num_of_store:\n",
    "\n",
    "    store = store_list[i]\n",
    "    connection = psycopg2.connect(database=f\"{store}\", user=\"postgres\", password=\"winwin\", host=\"localhost\")\n",
    "\n",
    "    num = psql.read_sql(f\"select * from sales2\", connection)\n",
    "\n",
    "    \n",
    "    num.to_excel(f'{store}_salesdata_backup_{date}.xlsx', index = False)\n",
    "    i+=1\n",
    "    \n",
    "    \n",
    "    \n",
    "    \n",
    "\n"
   ]
  },
  {
   "cell_type": "code",
   "execution_count": 2,
   "id": "2f224c69",
   "metadata": {},
   "outputs": [],
   "source": []
  },
  {
   "cell_type": "code",
   "execution_count": 17,
   "id": "81f23ed6",
   "metadata": {},
   "outputs": [
    {
     "name": "stdout",
     "output_type": "stream",
     "text": [
      "\n",
      "Sales Data Imported\n",
      "\n",
      "Delivery Data Updated\n",
      "Updated: 15 Records\n",
      "Inserted: 0 Records\n",
      "No Programs have been established for these stores listed:\n",
      "\n",
      " [996]\n",
      "No Programs have been established for these stores listed:\n",
      "\n",
      " [996]\n",
      "acme_external_sales_report_Aug-01-2022.xlsx\n",
      "acme_internal_sales_report_Aug-01-2022.xlsx\n",
      "\n",
      "Sales Report Generated\n"
     ]
    }
   ],
   "source": [
    "# Mid-Atlantic\n",
    "from store_info import Replenishment\n",
    "\n",
    "acme = Replenishment(store_type_input='acme',\n",
    "                     current_year = year , \n",
    "                     current_week= week)\n",
    "\n",
    "\n",
    "acme.sales_import('acme_salesdata_fixed.xlsx')\n",
    "acme.delivery_update(file='acme.csv')\n",
    "acme.sales_report()\n"
   ]
  },
  {
   "cell_type": "code",
   "execution_count": 18,
   "id": "a9f69153",
   "metadata": {},
   "outputs": [
    {
     "name": "stdout",
     "output_type": "stream",
     "text": [
      "\n",
      "Sales Data Imported\n",
      "\n",
      "Delivery Data Updated\n",
      "Updated: 8 Records\n",
      "Inserted: 11 Records\n",
      "No Programs have been established for these stores listed:\n",
      "\n",
      " [1057, 1776, 1786, 1972, 2481, 2544, 2673, 3054, 3312, 3522, 4062]\n",
      "No Programs have been established for these stores listed:\n",
      "\n",
      " [1057, 1776, 1786, 1972, 2481, 2544, 2673, 3054, 3312, 3522, 4062]\n",
      "texas_division_external_sales_report_Aug-01-2022.xlsx\n",
      "texas_division_internal_sales_report_Aug-01-2022.xlsx\n",
      "\n",
      "Sales Report Generated\n"
     ]
    }
   ],
   "source": [
    "# Texas Division\n",
    "from store_info import Replenishment\n",
    "\n",
    "texas_division = Replenishment(store_type_input='texas_division',\n",
    "                               current_year = year , \n",
    "                               current_week= week)\n",
    "\n",
    "texas_division.sales_import('texas_division_salesdata_fixed.xlsx')\n",
    "texas_division.delivery_update(file='texas.csv')\n",
    "texas_division.sales_report()\n",
    "\n",
    "        "
   ]
  },
  {
   "cell_type": "code",
   "execution_count": null,
   "id": "3347f407",
   "metadata": {},
   "outputs": [],
   "source": [
    "# brookshire\n",
    "from store_info import Replenishment\n",
    "\n",
    "brookshire = Replenishment(store_type_input='brookshire',\n",
    "                               transition_date_range='2022SS', \n",
    "                               current_year = year , \n",
    "                               current_week= week)\n",
    "brookshire.sales_update(file='')\n",
    "brookshire.delivery_update(file='brookshire')\n",
    "brookshire.sales_report()\n"
   ]
  },
  {
   "cell_type": "code",
   "execution_count": 16,
   "id": "ef4bf278",
   "metadata": {},
   "outputs": [
    {
     "name": "stdout",
     "output_type": "stream",
     "text": [
      "\n",
      "Sales Data Imported\n",
      "\n",
      "Delivery Data Updated\n",
      "Updated: 45 Records\n",
      "Inserted: 14 Records\n",
      "No Programs have been established for these stores listed:\n",
      "\n",
      " [431, 438, 458, 468, 930, 930, 930]\n",
      "No Programs have been established for these stores listed:\n",
      "\n",
      " [431, 438, 458, 468, 930, 930, 930]\n",
      "look into store 116 something is off that needs to be fixed\n",
      "look into store 116 something is off that needs to be fixed\n",
      "look into store 116 something is off that needs to be fixed\n",
      "fresh_encounter_external_sales_report_Aug-01-2022.xlsx\n",
      "fresh_encounter_internal_sales_report_Aug-01-2022.xlsx\n",
      "\n",
      "Sales Report Generated\n"
     ]
    }
   ],
   "source": [
    "# fresh Encounter\n",
    "from store_info import Replenishment\n",
    "\n",
    "fresh_encounter = Replenishment(store_type_input='fresh_encounter',\n",
    "                               current_year = year , \n",
    "                               current_week= 1)\n",
    "\n",
    "\n",
    "\n",
    "fresh_encounter.sales_import(file='fresh_encounter_salesdata_fixed.xlsx')\n",
    "fresh_encounter.delivery_update(file='fresh_encounter.csv')\n",
    "fresh_encounter.sales_report()"
   ]
  },
  {
   "cell_type": "code",
   "execution_count": 19,
   "id": "930a2b87",
   "metadata": {},
   "outputs": [
    {
     "name": "stdout",
     "output_type": "stream",
     "text": [
      "\n",
      "Sales Data Imported\n",
      "\n",
      "Delivery Data Updated\n",
      "Updated: 34 Records\n",
      "Inserted: 44 Records\n",
      "No Programs have been established for these stores listed:\n",
      "\n",
      " [15, 3004]\n",
      "No Programs have been established for these stores listed:\n",
      "\n",
      " [15, 3004]\n",
      "intermountain_external_sales_report_Aug-01-2022.xlsx\n",
      "intermountain_internal_sales_report_Aug-01-2022.xlsx\n",
      "\n",
      "Sales Report Generated\n"
     ]
    }
   ],
   "source": [
    "# Intermountain \n",
    "from store_info import Replenishment\n",
    "\n",
    "intermountain = Replenishment(store_type_input='intermountain',\n",
    "                               current_year = year , \n",
    "                               current_week= week)\n",
    "\n",
    "# intermountain.sales_update(file='')\n",
    "intermountain.sales_import('intermountain_salesdata_fixed.xlsx')\n",
    "intermountain.delivery_update(file='intermountain.csv')\n",
    "intermountain.sales_report()"
   ]
  },
  {
   "cell_type": "code",
   "execution_count": 5,
   "id": "8b32403c",
   "metadata": {},
   "outputs": [
    {
     "ename": "ValueError",
     "evalue": "Columns must be same length as key",
     "output_type": "error",
     "traceback": [
      "\u001b[1;31m---------------------------------------------------------------------------\u001b[0m",
      "\u001b[1;31mValueError\u001b[0m                                Traceback (most recent call last)",
      "\u001b[1;32m~\\AppData\\Local\\Temp/ipykernel_33976/3140816061.py\u001b[0m in \u001b[0;36m<module>\u001b[1;34m\u001b[0m\n\u001b[0;32m      7\u001b[0m \u001b[1;33m\u001b[0m\u001b[0m\n\u001b[0;32m      8\u001b[0m \u001b[1;31m# follet.sales_import(file='follett_salesdata_fixed.xlsx')\u001b[0m\u001b[1;33m\u001b[0m\u001b[1;33m\u001b[0m\u001b[0m\n\u001b[1;32m----> 9\u001b[1;33m \u001b[0mfollet\u001b[0m\u001b[1;33m.\u001b[0m\u001b[0mdelivery_update\u001b[0m\u001b[1;33m(\u001b[0m\u001b[0mfile\u001b[0m\u001b[1;33m=\u001b[0m\u001b[1;34m'follett.csv'\u001b[0m\u001b[1;33m)\u001b[0m\u001b[1;33m\u001b[0m\u001b[1;33m\u001b[0m\u001b[0m\n\u001b[0m\u001b[0;32m     10\u001b[0m \u001b[0mfollet\u001b[0m\u001b[1;33m.\u001b[0m\u001b[0msales_report\u001b[0m\u001b[1;33m(\u001b[0m\u001b[1;33m)\u001b[0m\u001b[1;33m\u001b[0m\u001b[1;33m\u001b[0m\u001b[0m\n",
      "\u001b[1;32m~\\OneDrive\\WinWin Staff Folders\\Michael\\Replenishment program\\Replenishment\\store_info.py\u001b[0m in \u001b[0;36mdelivery_update\u001b[1;34m(self, file)\u001b[0m\n\u001b[0;32m    160\u001b[0m         \u001b[1;32melse\u001b[0m\u001b[1;33m:\u001b[0m\u001b[1;33m\u001b[0m\u001b[1;33m\u001b[0m\u001b[0m\n\u001b[0;32m    161\u001b[0m \u001b[1;33m\u001b[0m\u001b[0m\n\u001b[1;32m--> 162\u001b[1;33m             \u001b[0mdf\u001b[0m\u001b[1;33m[\u001b[0m\u001b[1;33m[\u001b[0m\u001b[1;34m'letter'\u001b[0m\u001b[1;33m,\u001b[0m \u001b[1;34m'store_type'\u001b[0m\u001b[1;33m,\u001b[0m \u001b[1;34m'letter1'\u001b[0m\u001b[1;33m]\u001b[0m\u001b[1;33m]\u001b[0m \u001b[1;33m=\u001b[0m \u001b[0mdf\u001b[0m\u001b[1;33m.\u001b[0m\u001b[0mName\u001b[0m\u001b[1;33m.\u001b[0m\u001b[0mstr\u001b[0m\u001b[1;33m.\u001b[0m\u001b[0msplit\u001b[0m\u001b[1;33m(\u001b[0m\u001b[1;34m':'\u001b[0m\u001b[1;33m,\u001b[0m \u001b[0mn\u001b[0m\u001b[1;33m=\u001b[0m\u001b[1;36m2\u001b[0m\u001b[1;33m,\u001b[0m \u001b[0mexpand\u001b[0m\u001b[1;33m=\u001b[0m\u001b[1;32mTrue\u001b[0m\u001b[1;33m)\u001b[0m\u001b[1;33m\u001b[0m\u001b[1;33m\u001b[0m\u001b[0m\n\u001b[0m\u001b[0;32m    163\u001b[0m             \u001b[0mdf\u001b[0m\u001b[1;33m.\u001b[0m\u001b[0mpop\u001b[0m\u001b[1;33m(\u001b[0m\u001b[1;34m'letter1'\u001b[0m\u001b[1;33m)\u001b[0m\u001b[1;33m\u001b[0m\u001b[1;33m\u001b[0m\u001b[0m\n\u001b[0;32m    164\u001b[0m             \u001b[0mdf\u001b[0m\u001b[1;33m.\u001b[0m\u001b[0mpop\u001b[0m\u001b[1;33m(\u001b[0m\u001b[1;34m'letter'\u001b[0m\u001b[1;33m)\u001b[0m\u001b[1;33m\u001b[0m\u001b[1;33m\u001b[0m\u001b[0m\n",
      "\u001b[1;32m~\\anaconda3\\lib\\site-packages\\pandas\\core\\frame.py\u001b[0m in \u001b[0;36m__setitem__\u001b[1;34m(self, key, value)\u001b[0m\n\u001b[0;32m   3598\u001b[0m             \u001b[0mself\u001b[0m\u001b[1;33m.\u001b[0m\u001b[0m_setitem_frame\u001b[0m\u001b[1;33m(\u001b[0m\u001b[0mkey\u001b[0m\u001b[1;33m,\u001b[0m \u001b[0mvalue\u001b[0m\u001b[1;33m)\u001b[0m\u001b[1;33m\u001b[0m\u001b[1;33m\u001b[0m\u001b[0m\n\u001b[0;32m   3599\u001b[0m         \u001b[1;32melif\u001b[0m \u001b[0misinstance\u001b[0m\u001b[1;33m(\u001b[0m\u001b[0mkey\u001b[0m\u001b[1;33m,\u001b[0m \u001b[1;33m(\u001b[0m\u001b[0mSeries\u001b[0m\u001b[1;33m,\u001b[0m \u001b[0mnp\u001b[0m\u001b[1;33m.\u001b[0m\u001b[0mndarray\u001b[0m\u001b[1;33m,\u001b[0m \u001b[0mlist\u001b[0m\u001b[1;33m,\u001b[0m \u001b[0mIndex\u001b[0m\u001b[1;33m)\u001b[0m\u001b[1;33m)\u001b[0m\u001b[1;33m:\u001b[0m\u001b[1;33m\u001b[0m\u001b[1;33m\u001b[0m\u001b[0m\n\u001b[1;32m-> 3600\u001b[1;33m             \u001b[0mself\u001b[0m\u001b[1;33m.\u001b[0m\u001b[0m_setitem_array\u001b[0m\u001b[1;33m(\u001b[0m\u001b[0mkey\u001b[0m\u001b[1;33m,\u001b[0m \u001b[0mvalue\u001b[0m\u001b[1;33m)\u001b[0m\u001b[1;33m\u001b[0m\u001b[1;33m\u001b[0m\u001b[0m\n\u001b[0m\u001b[0;32m   3601\u001b[0m         \u001b[1;32melif\u001b[0m \u001b[0misinstance\u001b[0m\u001b[1;33m(\u001b[0m\u001b[0mvalue\u001b[0m\u001b[1;33m,\u001b[0m \u001b[0mDataFrame\u001b[0m\u001b[1;33m)\u001b[0m\u001b[1;33m:\u001b[0m\u001b[1;33m\u001b[0m\u001b[1;33m\u001b[0m\u001b[0m\n\u001b[0;32m   3602\u001b[0m             \u001b[0mself\u001b[0m\u001b[1;33m.\u001b[0m\u001b[0m_set_item_frame_value\u001b[0m\u001b[1;33m(\u001b[0m\u001b[0mkey\u001b[0m\u001b[1;33m,\u001b[0m \u001b[0mvalue\u001b[0m\u001b[1;33m)\u001b[0m\u001b[1;33m\u001b[0m\u001b[1;33m\u001b[0m\u001b[0m\n",
      "\u001b[1;32m~\\anaconda3\\lib\\site-packages\\pandas\\core\\frame.py\u001b[0m in \u001b[0;36m_setitem_array\u001b[1;34m(self, key, value)\u001b[0m\n\u001b[0;32m   3637\u001b[0m         \u001b[1;32melse\u001b[0m\u001b[1;33m:\u001b[0m\u001b[1;33m\u001b[0m\u001b[1;33m\u001b[0m\u001b[0m\n\u001b[0;32m   3638\u001b[0m             \u001b[1;32mif\u001b[0m \u001b[0misinstance\u001b[0m\u001b[1;33m(\u001b[0m\u001b[0mvalue\u001b[0m\u001b[1;33m,\u001b[0m \u001b[0mDataFrame\u001b[0m\u001b[1;33m)\u001b[0m\u001b[1;33m:\u001b[0m\u001b[1;33m\u001b[0m\u001b[1;33m\u001b[0m\u001b[0m\n\u001b[1;32m-> 3639\u001b[1;33m                 \u001b[0mcheck_key_length\u001b[0m\u001b[1;33m(\u001b[0m\u001b[0mself\u001b[0m\u001b[1;33m.\u001b[0m\u001b[0mcolumns\u001b[0m\u001b[1;33m,\u001b[0m \u001b[0mkey\u001b[0m\u001b[1;33m,\u001b[0m \u001b[0mvalue\u001b[0m\u001b[1;33m)\u001b[0m\u001b[1;33m\u001b[0m\u001b[1;33m\u001b[0m\u001b[0m\n\u001b[0m\u001b[0;32m   3640\u001b[0m                 \u001b[1;32mfor\u001b[0m \u001b[0mk1\u001b[0m\u001b[1;33m,\u001b[0m \u001b[0mk2\u001b[0m \u001b[1;32min\u001b[0m \u001b[0mzip\u001b[0m\u001b[1;33m(\u001b[0m\u001b[0mkey\u001b[0m\u001b[1;33m,\u001b[0m \u001b[0mvalue\u001b[0m\u001b[1;33m.\u001b[0m\u001b[0mcolumns\u001b[0m\u001b[1;33m)\u001b[0m\u001b[1;33m:\u001b[0m\u001b[1;33m\u001b[0m\u001b[1;33m\u001b[0m\u001b[0m\n\u001b[0;32m   3641\u001b[0m                     \u001b[0mself\u001b[0m\u001b[1;33m[\u001b[0m\u001b[0mk1\u001b[0m\u001b[1;33m]\u001b[0m \u001b[1;33m=\u001b[0m \u001b[0mvalue\u001b[0m\u001b[1;33m[\u001b[0m\u001b[0mk2\u001b[0m\u001b[1;33m]\u001b[0m\u001b[1;33m\u001b[0m\u001b[1;33m\u001b[0m\u001b[0m\n",
      "\u001b[1;32m~\\anaconda3\\lib\\site-packages\\pandas\\core\\indexers.py\u001b[0m in \u001b[0;36mcheck_key_length\u001b[1;34m(columns, key, value)\u001b[0m\n\u001b[0;32m    426\u001b[0m     \u001b[1;32mif\u001b[0m \u001b[0mcolumns\u001b[0m\u001b[1;33m.\u001b[0m\u001b[0mis_unique\u001b[0m\u001b[1;33m:\u001b[0m\u001b[1;33m\u001b[0m\u001b[1;33m\u001b[0m\u001b[0m\n\u001b[0;32m    427\u001b[0m         \u001b[1;32mif\u001b[0m \u001b[0mlen\u001b[0m\u001b[1;33m(\u001b[0m\u001b[0mvalue\u001b[0m\u001b[1;33m.\u001b[0m\u001b[0mcolumns\u001b[0m\u001b[1;33m)\u001b[0m \u001b[1;33m!=\u001b[0m \u001b[0mlen\u001b[0m\u001b[1;33m(\u001b[0m\u001b[0mkey\u001b[0m\u001b[1;33m)\u001b[0m\u001b[1;33m:\u001b[0m\u001b[1;33m\u001b[0m\u001b[1;33m\u001b[0m\u001b[0m\n\u001b[1;32m--> 428\u001b[1;33m             \u001b[1;32mraise\u001b[0m \u001b[0mValueError\u001b[0m\u001b[1;33m(\u001b[0m\u001b[1;34m\"Columns must be same length as key\"\u001b[0m\u001b[1;33m)\u001b[0m\u001b[1;33m\u001b[0m\u001b[1;33m\u001b[0m\u001b[0m\n\u001b[0m\u001b[0;32m    429\u001b[0m     \u001b[1;32melse\u001b[0m\u001b[1;33m:\u001b[0m\u001b[1;33m\u001b[0m\u001b[1;33m\u001b[0m\u001b[0m\n\u001b[0;32m    430\u001b[0m         \u001b[1;31m# Missing keys in columns are represented as -1\u001b[0m\u001b[1;33m\u001b[0m\u001b[1;33m\u001b[0m\u001b[0m\n",
      "\u001b[1;31mValueError\u001b[0m: Columns must be same length as key"
     ]
    }
   ],
   "source": [
    "#Follet\n",
    "from store_info import Replenishment\n",
    "\n",
    "follet = Replenishment(store_type_input='follett',\n",
    "                               current_year = year , \n",
    "                               current_week= week)\n",
    "\n",
    "# follet.sales_import(file='follett_salesdata_fixed.xlsx')\n",
    "follet.delivery_update(file='follett.csv')\n",
    "follet.sales_report()"
   ]
  },
  {
   "cell_type": "code",
   "execution_count": 21,
   "id": "1b14fb31",
   "metadata": {},
   "outputs": [
    {
     "name": "stderr",
     "output_type": "stream",
     "text": [
      "C:\\Users\\User1\\OneDrive\\WinWin Staff Folders\\Michael\\Replenishment program\\Replenishment\\Update\\Transform_Sales_Data\\transform.py:300: FutureWarning: The default value of regex will change from True to False in a future version.\n",
      "  old['store_type'] = old.store_type.str.replace('[^a-zA-Z]', '')\n"
     ]
    },
    {
     "name": "stdout",
     "output_type": "stream",
     "text": [
      "\n",
      "Sales Data Updated\n",
      "Updated: 161 Records\n",
      "Inserted: 1104 Records\n",
      "\n",
      "Delivery Data Updated\n",
      "Updated: 152 Records\n",
      "Inserted: 15 Records\n",
      "No Programs have been established for these stores listed:\n",
      "\n",
      " [157, 1282, 3053, 3220, 3349, 3421, 3425, 3429, 3443, 3443, 3443, 3446, 3455, 3461, 3473, 3477, 3481, 3491, 3514, 3720, 3721, 3775, 3775, 3775, 4060]\n",
      "No Programs have been established for these stores listed:\n",
      "\n",
      " [157, 1282, 3053, 3220, 3349, 3421, 3425, 3429, 3443, 3443, 3443, 3446, 3455, 3461, 3473, 3477, 3481, 3491, 3514, 3720, 3721, 3775, 3775, 3775, 4060]\n",
      "jewel_external_sales_report_Aug-01-2022.xlsx\n",
      "jewel_internal_sales_report_Aug-01-2022.xlsx\n",
      "\n",
      "Sales Report Generated\n"
     ]
    }
   ],
   "source": [
    "# jewel\n",
    "from store_info import Replenishment\n",
    "\n",
    "jewel = Replenishment(store_type_input='jewel',\n",
    "                               current_year = year , \n",
    "                               current_week= week)\n",
    "\n",
    "jewel.sales_update(file='jewel_sales.xlsx')\n",
    "jewel.delivery_update(file='jewel.csv')\n",
    "\n",
    "\n",
    "jewel.sales_report()"
   ]
  },
  {
   "cell_type": "code",
   "execution_count": 3,
   "id": "2628b1d3",
   "metadata": {},
   "outputs": [
    {
     "name": "stderr",
     "output_type": "stream",
     "text": [
      "C:\\Users\\User1\\anaconda3\\lib\\site-packages\\pandas\\core\\frame.py:3641: SettingWithCopyWarning: \n",
      "A value is trying to be set on a copy of a slice from a DataFrame.\n",
      "Try using .loc[row_indexer,col_indexer] = value instead\n",
      "\n",
      "See the caveats in the documentation: https://pandas.pydata.org/pandas-docs/stable/user_guide/indexing.html#returning-a-view-versus-a-copy\n",
      "  self[k1] = value[k2]\n",
      "C:\\Users\\User1\\OneDrive\\WinWin Staff Folders\\Michael\\Replenishment program\\Replenishment\\Update\\Transform_Sales_Data\\transform.py:50: FutureWarning: The default value of regex will change from True to False in a future version.\n",
      "  new['RPT_SHORT_DESC'] = new.RPT_SHORT_DESC.str.replace('[^a-zA-Z]', '')\n"
     ]
    },
    {
     "name": "stdout",
     "output_type": "stream",
     "text": [
      "\n",
      "Sales Data Updated\n",
      "Updated: 104 Records\n",
      "Inserted: 235 Records\n",
      "\n",
      "Delivery Data Updated\n",
      "Updated: 18 Records\n",
      "Inserted: 9 Records\n",
      "No Programs have been established for these stores listed:\n",
      "\n",
      " []\n",
      "No Programs have been established for these stores listed:\n",
      "\n",
      " []\n",
      "look into store 685 something is off that needs to be fixed\n",
      "look into store 685 something is off that needs to be fixed\n",
      "look into store 685 something is off that needs to be fixed\n",
      "kroger_atlanta_external_sales_report_Aug-01-2022.xlsx\n",
      "kroger_atlanta_internal_sales_report_Aug-01-2022.xlsx\n",
      "\n",
      "Sales Report Generated\n"
     ]
    }
   ],
   "source": [
    "# atlanta\n",
    "from store_info import Replenishment\n",
    "\n",
    "atlanta = Replenishment(store_type_input='kroger_atlanta',\n",
    "                               current_year = year , \n",
    "                               current_week= week)\n",
    "\n",
    "# atlanta.support_import('support_sheet')\n",
    "atlanta.sales_update(file='Sherlock Store Matrix.csv')\n",
    "atlanta.delivery_update(file='atlanta.csv')\n",
    "atlanta.sales_report()"
   ]
  },
  {
   "cell_type": "code",
   "execution_count": 4,
   "id": "68debb9c",
   "metadata": {},
   "outputs": [
    {
     "name": "stdout",
     "output_type": "stream",
     "text": [
      "\n",
      "Sales Data Updated\n",
      "Updated: 43 Records\n",
      "Inserted: 110 Records\n",
      "\n",
      "Delivery Data Updated\n",
      "Updated: 9 Records\n",
      "Inserted: 9 Records\n",
      "No Programs have been established for these stores listed:\n",
      "\n",
      " [1, 889]\n",
      "No Programs have been established for these stores listed:\n",
      "\n",
      " [1, 889]\n",
      "kroger_central_external_sales_report_Aug-01-2022.xlsx\n",
      "kroger_central_internal_sales_report_Aug-01-2022.xlsx\n",
      "\n",
      "Sales Report Generated\n"
     ]
    }
   ],
   "source": [
    "# central\n",
    "from store_info import Replenishment\n",
    "\n",
    "central = Replenishment(store_type_input='kroger_central',\n",
    "                               current_year = year , \n",
    "                               current_week= week)\n",
    "\n",
    "central.sales_update(file='Sherlock Store Matrix.csv')\n",
    "central.delivery_update(file='central.csv')\n",
    "central.sales_report()"
   ]
  },
  {
   "cell_type": "code",
   "execution_count": 5,
   "id": "b125d768",
   "metadata": {},
   "outputs": [
    {
     "name": "stdout",
     "output_type": "stream",
     "text": [
      "\n",
      "Sales Data Updated\n",
      "Updated: 104 Records\n",
      "Inserted: 253 Records\n",
      "\n",
      "Delivery Data Updated\n",
      "Updated: 49 Records\n",
      "Inserted: 0 Records\n",
      "No Programs have been established for these stores listed:\n",
      "\n",
      " []\n",
      "No Programs have been established for these stores listed:\n",
      "\n",
      " []\n",
      "kroger_columbus_external_sales_report_Aug-01-2022.xlsx\n",
      "kroger_columbus_internal_sales_report_Aug-01-2022.xlsx\n",
      "\n",
      "Sales Report Generated\n"
     ]
    }
   ],
   "source": [
    "# columubus\n",
    "from store_info import Replenishment\n",
    "\n",
    "columbus = Replenishment(store_type_input='kroger_columbus',\n",
    "                               current_year = year , \n",
    "                               current_week= week)\n",
    "\n",
    "\n",
    "columbus.sales_update(file='Sherlock Store Matrix.csv')\n",
    "columbus.delivery_update(file='columbus.csv')\n",
    "columbus.sales_report()"
   ]
  },
  {
   "cell_type": "code",
   "execution_count": 7,
   "id": "4bd39071",
   "metadata": {},
   "outputs": [
    {
     "name": "stdout",
     "output_type": "stream",
     "text": [
      "\n",
      "Sales Data Updated\n",
      "Updated: 40 Records\n",
      "Inserted: 64 Records\n",
      "\n",
      "Delivery Data Updated\n",
      "Updated: 21 Records\n",
      "Inserted: 0 Records\n",
      "No Programs have been established for these stores listed:\n",
      "\n",
      " []\n",
      "No Programs have been established for these stores listed:\n",
      "\n",
      " []\n",
      "kroger_dallas_external_sales_report_Aug-01-2022.xlsx\n",
      "kroger_dallas_internal_sales_report_Aug-01-2022.xlsx\n",
      "\n",
      "Sales Report Generated\n"
     ]
    }
   ],
   "source": [
    "# dallas\n",
    "from store_info import Replenishment\n",
    "\n",
    "dallas = Replenishment(store_type_input='kroger_dallas',\n",
    "                               current_year = year , \n",
    "                               current_week= week)\n",
    "\n",
    "\n",
    "\n",
    "dallas.sales_update(file='Sherlock Store Matrix.csv')\n",
    "dallas.delivery_update(file='dallas.csv')\n",
    "dallas.sales_report()"
   ]
  },
  {
   "cell_type": "code",
   "execution_count": 8,
   "id": "4b6df5d5",
   "metadata": {},
   "outputs": [
    {
     "name": "stdout",
     "output_type": "stream",
     "text": [
      "\n",
      "Sales Data Updated\n",
      "Updated: 30 Records\n",
      "Inserted: 103 Records\n",
      "\n",
      "Delivery Data Updated\n",
      "Updated: 3 Records\n",
      "Inserted: 0 Records\n",
      "No Programs have been established for these stores listed:\n",
      "\n",
      " []\n",
      "No Programs have been established for these stores listed:\n",
      "\n",
      " []\n",
      "kroger_dillons_external_sales_report_Aug-01-2022.xlsx\n",
      "kroger_dillons_internal_sales_report_Aug-01-2022.xlsx\n",
      "\n",
      "Sales Report Generated\n"
     ]
    }
   ],
   "source": [
    "# dillons\n",
    "from store_info import Replenishment\n",
    "\n",
    "dillons = Replenishment(store_type_input='kroger_dillons',\n",
    "                               current_year = year , \n",
    "                               current_week= week)\n",
    "\n",
    "\n",
    "dillons.sales_update(file='Sherlock Store Matrix.csv')\n",
    "dillons.delivery_update(file='dillons.csv')\n",
    "dillons.sales_report()"
   ]
  },
  {
   "cell_type": "code",
   "execution_count": 9,
   "id": "881ba544",
   "metadata": {},
   "outputs": [
    {
     "name": "stdout",
     "output_type": "stream",
     "text": [
      "\n",
      "Sales Data Updated\n",
      "Updated: 50 Records\n",
      "Inserted: 79 Records\n",
      "\n",
      "Delivery Data Updated\n",
      "Updated: 156 Records\n",
      "Inserted: 0 Records\n",
      "No Programs have been established for these stores listed:\n",
      "\n",
      " []\n",
      "No Programs have been established for these stores listed:\n",
      "\n",
      " []\n",
      "kroger_king_soopers_external_sales_report_Aug-01-2022.xlsx\n",
      "kroger_king_soopers_internal_sales_report_Aug-01-2022.xlsx\n",
      "\n",
      "Sales Report Generated\n"
     ]
    }
   ],
   "source": [
    "# king sooper\n",
    "from store_info import Replenishment\n",
    "\n",
    "king_soopers = Replenishment(store_type_input='kroger_king_soopers',\n",
    "                               current_year = year , \n",
    "                               current_week= week)\n",
    "\n",
    "\n",
    "king_soopers.sales_update(file='Sherlock Store Matrix.csv')\n",
    "king_soopers.delivery_update(file='king_soopers.csv')\n",
    "king_soopers.sales_report()"
   ]
  },
  {
   "cell_type": "code",
   "execution_count": 10,
   "id": "1efb8bb5",
   "metadata": {},
   "outputs": [
    {
     "name": "stdout",
     "output_type": "stream",
     "text": [
      "\n",
      "Sales Data Updated\n",
      "Updated: 45 Records\n",
      "Inserted: 102 Records\n",
      "\n",
      "Delivery Data Updated\n",
      "Updated: 215 Records\n",
      "Inserted: 85 Records\n",
      "No Programs have been established for these stores listed:\n",
      "\n",
      " []\n",
      "No Programs have been established for these stores listed:\n",
      "\n",
      " []\n",
      "kroger_louisville_external_sales_report_Aug-01-2022.xlsx\n",
      "kroger_louisville_internal_sales_report_Aug-01-2022.xlsx\n",
      "\n",
      "Sales Report Generated\n"
     ]
    }
   ],
   "source": [
    "# louisville\n",
    "from store_info import Replenishment\n",
    "\n",
    "louisville = Replenishment(store_type_input='kroger_louisville',\n",
    "                               current_year = year , \n",
    "                               current_week= week)\n",
    "\n",
    "\n",
    "louisville.sales_update(file='Sherlock Store Matrix.csv')\n",
    "louisville.delivery_update(file='louisville.csv')\n",
    "louisville.sales_report()"
   ]
  },
  {
   "cell_type": "code",
   "execution_count": 11,
   "id": "05d85060",
   "metadata": {},
   "outputs": [
    {
     "name": "stdout",
     "output_type": "stream",
     "text": [
      "\n",
      "Sales Data Updated\n",
      "Updated: 34 Records\n",
      "Inserted: 56 Records\n",
      "\n",
      "Delivery Data Updated\n",
      "Updated: 6 Records\n",
      "Inserted: 0 Records\n",
      "No Programs have been established for these stores listed:\n",
      "\n",
      " [115]\n",
      "No Programs have been established for these stores listed:\n",
      "\n",
      " [115]\n",
      "look into store 749 something is off that needs to be fixed\n",
      "look into store 749 something is off that needs to be fixed\n",
      "look into store 749 something is off that needs to be fixed\n",
      "kroger_michigan_external_sales_report_Aug-01-2022.xlsx\n",
      "kroger_michigan_internal_sales_report_Aug-01-2022.xlsx\n",
      "\n",
      "Sales Report Generated\n"
     ]
    }
   ],
   "source": [
    "# michigan\n",
    "from store_info import Replenishment\n",
    "\n",
    "michigan = Replenishment(store_type_input='kroger_michigan',\n",
    "                               current_year = year , \n",
    "                               current_week= week)\n",
    "\n",
    "\n",
    "michigan.sales_update(file='Sherlock Store Matrix.csv')\n",
    "michigan.delivery_update(file='michigan.csv')\n",
    "michigan.sales_report()"
   ]
  },
  {
   "cell_type": "code",
   "execution_count": 12,
   "id": "04a8d7cc",
   "metadata": {},
   "outputs": [
    {
     "name": "stdout",
     "output_type": "stream",
     "text": [
      "\n",
      "Sales Data Updated\n",
      "Updated: 72 Records\n",
      "Inserted: 146 Records\n",
      "\n",
      "Delivery Data Updated\n",
      "Updated: 1 Records\n",
      "Inserted: 9 Records\n",
      "No Programs have been established for these stores listed:\n",
      "\n",
      " []\n",
      "No Programs have been established for these stores listed:\n",
      "\n",
      " []\n",
      "kroger_nashville_external_sales_report_Aug-01-2022.xlsx\n",
      "kroger_nashville_internal_sales_report_Aug-01-2022.xlsx\n",
      "\n",
      "Sales Report Generated\n"
     ]
    }
   ],
   "source": [
    "# nashville\n",
    "from store_info import Replenishment\n",
    "\n",
    "nashville = Replenishment(store_type_input='kroger_nashville',\n",
    "                               current_year = year , \n",
    "                               current_week= week)\n",
    "\n",
    "\n",
    "nashville.sales_update(file='Sherlock Store Matrix.csv')\n",
    "nashville.delivery_update(file='nashville.csv')\n",
    "nashville.sales_report()"
   ]
  },
  {
   "cell_type": "code",
   "execution_count": 13,
   "id": "9d2cb4fe",
   "metadata": {},
   "outputs": [
    {
     "name": "stdout",
     "output_type": "stream",
     "text": [
      "\n",
      "Sales Data Updated\n",
      "Updated: 0 Records\n",
      "Inserted: 290 Records\n",
      "\n",
      "Delivery Data Updated\n",
      "Updated: 21 Records\n",
      "Inserted: 10 Records\n",
      "No Programs have been established for these stores listed:\n",
      "\n",
      " [206, 614, 626, 678, 694, 735, 735, 848, 2803]\n",
      "No Programs have been established for these stores listed:\n",
      "\n",
      " [206, 614, 626, 678, 694, 735, 735, 848, 2803]\n",
      "kvat_external_sales_report_Aug-01-2022.xlsx\n",
      "kvat_internal_sales_report_Aug-01-2022.xlsx\n",
      "\n",
      "Sales Report Generated\n"
     ]
    }
   ],
   "source": [
    "# kvat \n",
    "from store_info import Replenishment\n",
    "\n",
    "kvat = Replenishment(store_type_input='kvat',\n",
    "                               current_year = year , \n",
    "                               current_week= week)\n",
    "\n",
    "\n",
    "kvat.sales_update(file='kvat_sales.xlsx')\n",
    "kvat.delivery_update(file='kvat.csv')\n",
    "kvat.sales_report()"
   ]
  },
  {
   "cell_type": "code",
   "execution_count": 14,
   "id": "6ab69390",
   "metadata": {},
   "outputs": [
    {
     "name": "stdout",
     "output_type": "stream",
     "text": [
      "\n",
      "Sales Data Updated\n",
      "Updated: 0 Records\n",
      "Inserted: 194 Records\n",
      "\n",
      "Delivery Data Updated\n",
      "Updated: 12 Records\n",
      "Inserted: 3 Records\n",
      "No Programs have been established for these stores listed:\n",
      "\n",
      " [27, 64, 824, 1548, 2520, 2911]\n",
      "No Programs have been established for these stores listed:\n",
      "\n",
      " [27, 64, 824, 1548, 2520, 2911]\n",
      "look into store 2915 something is off that needs to be fixed\n",
      "look into store 2915 something is off that needs to be fixed\n",
      "look into store 2915 something is off that needs to be fixed\n",
      "safeway_denver_external_sales_report_Aug-01-2022.xlsx\n",
      "safeway_denver_internal_sales_report_Aug-01-2022.xlsx\n",
      "\n",
      "Sales Report Generated\n"
     ]
    }
   ],
   "source": [
    "# safeway denver\n",
    "from store_info import Replenishment\n",
    "\n",
    "safeway_denver= Replenishment(store_type_input='safeway_denver',\n",
    "                               current_year = year , \n",
    "                               current_week= week)\n",
    "\n",
    "\n",
    "safeway_denver.sales_update(file='denver_sales.xlsx')\n",
    "safeway_denver.delivery_update(file='denver.csv')\n",
    "safeway_denver.sales_report()"
   ]
  },
  {
   "cell_type": "code",
   "execution_count": 15,
   "id": "c0c83341",
   "metadata": {},
   "outputs": [
    {
     "name": "stdout",
     "output_type": "stream",
     "text": [
      "\n",
      "Sales Data Updated\n",
      "Updated: 76 Records\n",
      "Inserted: 124 Records\n",
      "\n",
      "Delivery Data Updated\n",
      "Updated: 13 Records\n",
      "Inserted: 0 Records\n",
      "No Programs have been established for these stores listed:\n",
      "\n",
      " []\n",
      "No Programs have been established for these stores listed:\n",
      "\n",
      " []\n",
      "kroger_cincinatti_external_sales_report_Aug-01-2022.xlsx\n",
      "kroger_cincinatti_internal_sales_report_Aug-01-2022.xlsx\n",
      "\n",
      "Sales Report Generated\n"
     ]
    }
   ],
   "source": [
    "# cincinatti\n",
    "from store_info import Replenishment\n",
    "\n",
    "atlanta = Replenishment(store_type_input='kroger_cincinatti',\n",
    "                               current_year = year , \n",
    "                               current_week= week)\n",
    "\n",
    "\n",
    "atlanta.sales_update(file='Sherlock Store Matrix.csv')\n",
    "atlanta.delivery_update(file='cincinatti.csv')\n",
    "atlanta.sales_report()"
   ]
  },
  {
   "cell_type": "code",
   "execution_count": null,
   "id": "60c9a54b",
   "metadata": {},
   "outputs": [],
   "source": []
  }
 ],
 "metadata": {
  "interpreter": {
   "hash": "eb4e0a0fd1d19bb9a06c4c3c2c2cf016517ec825f23f225e84b2f7e81a104fe7"
  },
  "kernelspec": {
   "display_name": "Python 3 (ipykernel)",
   "language": "python",
   "name": "python3"
  },
  "language_info": {
   "codemirror_mode": {
    "name": "ipython",
    "version": 3
   },
   "file_extension": ".py",
   "mimetype": "text/x-python",
   "name": "python",
   "nbconvert_exporter": "python",
   "pygments_lexer": "ipython3",
   "version": "3.9.7"
  }
 },
 "nbformat": 4,
 "nbformat_minor": 5
}
