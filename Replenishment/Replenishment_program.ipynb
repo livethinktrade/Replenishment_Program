{
 "cells": [
  {
   "cell_type": "code",
   "execution_count": 1,
   "id": "e6208782",
   "metadata": {},
   "outputs": [
    {
     "name": "stdout",
     "output_type": "stream",
     "text": [
      "\n",
      "Enter the Current Year\n",
      "\n",
      "Enter the Current Week\n"
     ]
    }
   ],
   "source": [
    "from store_info import Replenishment\n",
    "# from Sales_Report.Reports.reports import *\n",
    "\n",
    "print('\\nEnter the Current Year')\n",
    "# year = int(input())\n",
    "\n",
    "print('\\nEnter the Current Week')\n",
    "# week = int(input())\n",
    "\n",
    "year = 2022\n",
    "week = 28\n"
   ]
  },
  {
   "cell_type": "code",
   "execution_count": 6,
   "id": "4f2ccd4f",
   "metadata": {},
   "outputs": [
    {
     "ename": "UniqueViolation",
     "evalue": "duplicate key value violates unique constraint \"store_pkey\"\nDETAIL:  Key (store_id)=(52) already exists.\n",
     "output_type": "error",
     "traceback": [
      "\u001b[1;31m---------------------------------------------------------------------------\u001b[0m",
      "\u001b[1;31mUniqueViolation\u001b[0m                           Traceback (most recent call last)",
      "\u001b[1;32m~\\AppData\\Local\\Temp/ipykernel_17900/573956769.py\u001b[0m in \u001b[0;36m<module>\u001b[1;34m\u001b[0m\n\u001b[0;32m      7\u001b[0m \u001b[1;31m# kvat.sales_import(\"jewel_salesdata_backup_Jul-08-2022.xlsx\")\u001b[0m\u001b[1;33m\u001b[0m\u001b[1;33m\u001b[0m\u001b[0m\n\u001b[0;32m      8\u001b[0m \u001b[1;31m# kvat.delivery_import(\"jewel_deliverydata_backup_Jul-08-2022.xlsx\")\u001b[0m\u001b[1;33m\u001b[0m\u001b[1;33m\u001b[0m\u001b[0m\n\u001b[1;32m----> 9\u001b[1;33m \u001b[0mkvat\u001b[0m\u001b[1;33m.\u001b[0m\u001b[0mstore_import\u001b[0m\u001b[1;33m(\u001b[0m\u001b[1;33m)\u001b[0m\u001b[1;33m\u001b[0m\u001b[1;33m\u001b[0m\u001b[0m\n\u001b[0m\u001b[0;32m     10\u001b[0m \u001b[1;31m# kvat.master_planogram_import()\u001b[0m\u001b[1;33m\u001b[0m\u001b[1;33m\u001b[0m\u001b[0m\n\u001b[0;32m     11\u001b[0m \u001b[0mkvat\u001b[0m\u001b[1;33m.\u001b[0m\u001b[0mstore_program_import\u001b[0m\u001b[1;33m(\u001b[0m\u001b[1;33m)\u001b[0m\u001b[1;33m\u001b[0m\u001b[1;33m\u001b[0m\u001b[0m\n",
      "\u001b[1;32m~\\OneDrive\\WinWin Staff Folders\\Michael\\Replenishment program\\Replenishment\\store_info.py\u001b[0m in \u001b[0;36mstore_import\u001b[1;34m(self)\u001b[0m\n\u001b[0;32m    613\u001b[0m             \u001b[0mnotes\u001b[0m \u001b[1;33m=\u001b[0m \u001b[0mself\u001b[0m\u001b[1;33m.\u001b[0m\u001b[0mstore_notes\u001b[0m\u001b[1;33m.\u001b[0m\u001b[0miloc\u001b[0m\u001b[1;33m[\u001b[0m\u001b[0mi\u001b[0m\u001b[1;33m,\u001b[0m \u001b[1;36m2\u001b[0m\u001b[1;33m]\u001b[0m\u001b[1;33m\u001b[0m\u001b[1;33m\u001b[0m\u001b[0m\n\u001b[0;32m    614\u001b[0m \u001b[1;33m\u001b[0m\u001b[0m\n\u001b[1;32m--> 615\u001b[1;33m             \u001b[0mstore_insert\u001b[0m\u001b[1;33m(\u001b[0m\u001b[0mstore_id\u001b[0m\u001b[1;33m,\u001b[0m \u001b[0minitial\u001b[0m\u001b[1;33m,\u001b[0m \u001b[0mnotes\u001b[0m\u001b[1;33m,\u001b[0m \u001b[0mself\u001b[0m\u001b[1;33m.\u001b[0m\u001b[0mconnection_pool\u001b[0m\u001b[1;33m,\u001b[0m \u001b[0mself\u001b[0m\u001b[1;33m.\u001b[0m\u001b[0mstore_type_input\u001b[0m\u001b[1;33m)\u001b[0m\u001b[1;33m\u001b[0m\u001b[1;33m\u001b[0m\u001b[0m\n\u001b[0m\u001b[0;32m    616\u001b[0m \u001b[1;33m\u001b[0m\u001b[0m\n\u001b[0;32m    617\u001b[0m             \u001b[0mi\u001b[0m \u001b[1;33m+=\u001b[0m \u001b[1;36m1\u001b[0m\u001b[1;33m\u001b[0m\u001b[1;33m\u001b[0m\u001b[0m\n",
      "\u001b[1;32m~\\OneDrive\\WinWin Staff Folders\\Michael\\Replenishment program\\Replenishment\\Import\\data_insertion.py\u001b[0m in \u001b[0;36mstore_insert\u001b[1;34m(store_id, initial, notes, connection_pool, store_type_input)\u001b[0m\n\u001b[0;32m    251\u001b[0m     \u001b[0mconnection\u001b[0m \u001b[1;33m=\u001b[0m \u001b[0mconnection_pool\u001b[0m\u001b[1;33m.\u001b[0m\u001b[0mgetconn\u001b[0m\u001b[1;33m(\u001b[0m\u001b[1;33m)\u001b[0m\u001b[1;33m\u001b[0m\u001b[1;33m\u001b[0m\u001b[0m\n\u001b[0;32m    252\u001b[0m     \u001b[0mcursor\u001b[0m \u001b[1;33m=\u001b[0m \u001b[0mconnection\u001b[0m\u001b[1;33m.\u001b[0m\u001b[0mcursor\u001b[0m\u001b[1;33m(\u001b[0m\u001b[1;33m)\u001b[0m\u001b[1;33m\u001b[0m\u001b[1;33m\u001b[0m\u001b[0m\n\u001b[1;32m--> 253\u001b[1;33m     cursor.execute(f\"INSERT INTO {store_type_input}.store (store_id, initial, notes) values (%s,%s,%s)\",\n\u001b[0m\u001b[0;32m    254\u001b[0m            (store_id, initial, notes))\n\u001b[0;32m    255\u001b[0m \u001b[1;33m\u001b[0m\u001b[0m\n",
      "\u001b[1;31mUniqueViolation\u001b[0m: duplicate key value violates unique constraint \"store_pkey\"\nDETAIL:  Key (store_id)=(52) already exists.\n"
     ]
    }
   ],
   "source": [
    "# kvat \n",
    "\n",
    "kvat = Replenishment(store_type_input='jewel', \n",
    "                               current_year = year , \n",
    "                               current_week= week)\n",
    "\n",
    "# kvat.sales_import(\"jewel_salesdata_backup_Jul-08-2022.xlsx\")\n",
    "# kvat.delivery_import(\"jewel_deliverydata_backup_Jul-08-2022.xlsx\")\n",
    "kvat.store_import()\n",
    "# kvat.master_planogram_import()\n",
    "kvat.store_program_import()\n",
    "kvat.store_approval_import('jewel_approval.csv')\n",
    "# kvat.support_import('support_sheet')\n",
    "# kvat.inventory_import('inventory.csv')\n",
    "# kvat.sales_update(file='Sherlock Store Matrix.csv')\n",
    "# kvat.delivery_update(file='kvat.csv')\n",
    "# kvat.sales_report()\n",
    "# kvat.size_table_update('size_table')"
   ]
  },
  {
   "cell_type": "code",
   "execution_count": 16,
   "id": "047c9933",
   "metadata": {},
   "outputs": [
    {
     "name": "stdout",
     "output_type": "stream",
     "text": [
      "kroger_dillons_dummy_sales.xlsx\n"
     ]
    }
   ],
   "source": [
    "store_type_input = 'kroger_dillons'\n",
    "store_setting= pd.read_excel(rf'C:\\Users\\User1\\OneDrive\\WinWin Staff Folders\\Michael\\Groccery Store Program\\{store_type_input}\\{store_type_input}_store_setting.xlsm',\n",
    "                                            sheet_name='Sheet2',\n",
    "                                            header=None,\n",
    "                                            index_col=0,\n",
    "                                            names=('setting', 'values'))\n",
    "\n",
    "atlanta = Reports(store_type_input, store_setting)\n",
    "atlanta.external_report(f'{store_type_input}_dummy_sales.xlsx')"
   ]
  },
  {
   "cell_type": "code",
   "execution_count": 10,
   "id": "e334c275",
   "metadata": {},
   "outputs": [
    {
     "name": "stdout",
     "output_type": "stream",
     "text": [
      "texas_division\n",
      "('pass', 'pass')\n"
     ]
    }
   ],
   "source": [
    "# STEP 1 start of program and data check\n",
    "\n",
    "\n",
    "\n",
    "store_type_input = input()\n",
    "\n",
    "connection_pool = pool.SimpleConnectionPool(1, 10000, \n",
    "                                            database= f\"{store_type_input}\", \n",
    "                                            user=\"postgres\", \n",
    "                                            password=\"winwin\", \n",
    "                                            host=\"localhost\")\n",
    "\n",
    "\n",
    "\n",
    "\n",
    "\n",
    "# reads in new delivery data and puts it into a df\n",
    "new_deliv = pd.read_excel(rf'C:\\Users\\User1\\OneDrive\\WinWin Staff Folders\\Michael\\Groccery Store Program\\{store_type_input}\\{store_type_input}_deliverydata.xlsx')\n",
    "\n",
    "# reads in new sales data and puts it into a df\n",
    "new_sales = pd.read_excel(rf'C:\\Users\\User1\\OneDrive\\WinWin Staff Folders\\Michael\\Groccery Store Program\\{store_type_input}\\{store_type_input}_salesdata.xlsx')\n",
    "\n",
    "# reads in support data and puts it into a df\n",
    "itemsupport = pd.read_excel(\"support.xlsx\")\n",
    "\n",
    "# reads in store capactiy data and puts it into a df\n",
    "case_capacity = pd.read_excel(rf'C:\\Users\\User1\\OneDrive\\WinWin Staff Folders\\Michael\\Groccery Store Program\\{store_type_input}\\{store_type_input}_casecapacity.xlsx')\n",
    "\n",
    "\n",
    "# def dataimport_check():\n",
    "\n",
    "#     i=0\n",
    "#     sales_check_count = len(new_sales)\n",
    "#     while i < sales_check_count:\n",
    "\n",
    "#         sales_check = new_sales.iloc[i,9]\n",
    "#         if store_type_input == sales_check:\n",
    "#             i+=1\n",
    "#             sales_result = \"pass\" \n",
    "\n",
    "#         else:\n",
    "            \n",
    "#             print(\"sales check fail\")\n",
    "#             sales_result = \"fail\"\n",
    "#             break\n",
    "\n",
    "#     if sales_result == 'pass':\n",
    "        \n",
    "#         i=0\n",
    "#         deliv_check_count = len(new_deliv)\n",
    "#         while i < deliv_check_count:\n",
    "\n",
    "#             deliv_check = new_deliv.iloc[i,6]\n",
    "#             if store_type_input == deliv_check:\n",
    "#                 i+=1\n",
    "#                 deliv_result = \"pass\" \n",
    "\n",
    "#             else:\n",
    "                \n",
    "#                 print(\"deliv check fail\")\n",
    "#                 deliv_result = \"fail\"\n",
    "#                 break\n",
    "#     return sales_result, deliv_result\n",
    "        \n",
    "# check = dataimport_check()\n",
    "# print(check)"
   ]
  },
  {
   "cell_type": "code",
   "execution_count": 12,
   "id": "20733ea8",
   "metadata": {},
   "outputs": [],
   "source": [
    "#STEP 1.5 DELETE ALL PRE-EXISTING DATA\n",
    "connection = connection_pool.getconn()\n",
    "cursor = connection.cursor()\n",
    "cursor.execute('DELETE FROM SALES;')\n",
    "\n",
    "connection.commit()\n",
    "cursor.close()\n",
    "connection_pool.putconn(connection)"
   ]
  },
  {
   "cell_type": "code",
   "execution_count": null,
   "id": "33c189c2",
   "metadata": {},
   "outputs": [],
   "source": [
    "# this code is to delete create or whatever you want to do with tablesw and views for all store databasesS\n",
    "\n",
    "sql_code = \"\"\"\n",
    "select * from sales\n",
    "\n",
    "\n",
    "\"\"\"\n",
    "\n",
    "sql_setup(sql_code)"
   ]
  },
  {
   "cell_type": "code",
   "execution_count": 1,
   "id": "1e308657",
   "metadata": {},
   "outputs": [],
   "source": [
    "import datetime\n",
    "import re\n",
    "import pandas as pd\n",
    "import datetime as dt\n",
    "import psycopg2\n",
    "\n",
    "import pandas.io.sql as psql\n",
    "\n",
    "import numpy as np\n",
    "from psycopg2.extensions import register_adapter, AsIs\n",
    "psycopg2.extensions.register_adapter(np.int64, psycopg2._psycopg.AsIs)\n",
    "\n",
    "#downloads the sales & delivery data for all stores\n",
    "store_list = [  \n",
    "                'acme',\n",
    "#                 'brookshire',\n",
    "                'fresh_encounter', \n",
    "                'intermountain', \n",
    "                'jewel',\n",
    "                'kroger_central', \n",
    "                'kroger_columbus',\n",
    "                'kroger_dallas', \n",
    "#                 'kroger_delta', \n",
    "                'kroger_michigan',\n",
    "                'kvat', \n",
    "                'safeway_denver', \n",
    "                'texas_division']\n",
    "\n",
    "i= 0\n",
    "num_of_store = len(store_list)\n",
    "\n",
    "date = datetime.date.today()\n",
    "date = date.strftime(\"%b-%d-%Y\")\n",
    "\n",
    "\n",
    "\n",
    "while i < num_of_store:\n",
    "\n",
    "    store = store_list[i]\n",
    "    connection = psycopg2.connect(database=f\"{store}\", user=\"postgres\", password=\"winwin\", host=\"localhost\")\n",
    "\n",
    "    num = psql.read_sql(f\"select * from delivery2\", connection)\n",
    "\n",
    "    num.to_excel(f'{store}_deliverydata_backup_{date}.xlsx', index = False)\n",
    "    i+=1\n",
    "\n",
    "i= 0\n",
    "num_of_store = len(store_list)\n",
    "\n",
    "while i < num_of_store:\n",
    "\n",
    "    store = store_list[i]\n",
    "    connection = psycopg2.connect(database=f\"{store}\", user=\"postgres\", password=\"winwin\", host=\"localhost\")\n",
    "\n",
    "    num = psql.read_sql(f\"select * from sales2\", connection)\n",
    "\n",
    "    \n",
    "    num.to_excel(f'{store}_salesdata_backup_{date}.xlsx', index = False)\n",
    "    i+=1\n",
    "    \n",
    "    \n",
    "    \n",
    "    \n",
    "\n"
   ]
  },
  {
   "cell_type": "code",
   "execution_count": 2,
   "id": "2f224c69",
   "metadata": {},
   "outputs": [],
   "source": []
  },
  {
   "cell_type": "code",
   "execution_count": 9,
   "id": "81f23ed6",
   "metadata": {},
   "outputs": [
    {
     "name": "stdout",
     "output_type": "stream",
     "text": [
      "\n",
      "Delivery Data Updated\n",
      "Updated: 91 Records\n",
      "Inserted: 0 Records\n",
      "No Programs have been established for these stores listed:\n",
      "\n",
      " [996]\n",
      "No Programs have been established for these stores listed:\n",
      "\n",
      " [996]\n",
      "acme_external_sales_report_Jul-01-2022.xlsx\n",
      "acme_internal_sales_report_Jul-01-2022.xlsx\n",
      "\n",
      "Sales Report Generated\n"
     ]
    }
   ],
   "source": [
    "# Mid-Atlantic\n",
    "from store_info import Replenishment\n",
    "\n",
    "acme = Replenishment(store_type_input='acme',\n",
    "                     current_year = year , \n",
    "                     current_week= week)\n",
    "\n",
    "# acme.sales_import('acme_salesdata_fixed.xlsx')\n",
    "acme.delivery_update(file='acme_new.csv')\n",
    "acme.sales_report()\n",
    "# acme.size_table_update('size_table')"
   ]
  },
  {
   "cell_type": "code",
   "execution_count": 9,
   "id": "a9f69153",
   "metadata": {},
   "outputs": [
    {
     "name": "stdout",
     "output_type": "stream",
     "text": [
      "\n",
      "Delivery Data Updated\n",
      "Updated: 12 Records\n",
      "Inserted: 0 Records\n",
      "No Programs have been established for these stores listed:\n",
      "\n",
      " [1057, 1776, 1786, 1972, 2481, 2544, 2673, 3054, 3312, 3522, 4062]\n",
      "No Programs have been established for these stores listed:\n",
      "\n",
      " [1057, 1776, 1786, 1972, 2481, 2544, 2673, 3054, 3312, 3522, 4062]\n",
      "texas_division_external_sales_report_Jun-17-2022.xlsx\n",
      "texas_division_internal_sales_report_Jun-17-2022.xlsx\n",
      "\n",
      "Sales Report Generated\n"
     ]
    }
   ],
   "source": [
    "# Texas Division\n",
    "from store_info import Replenishment\n",
    "\n",
    "texas_division = Replenishment(store_type_input='texas_division',\n",
    "                               current_year = year , \n",
    "                               current_week= week)\n",
    "\n",
    "# texas_division.sales_update(file='')\n",
    "# texas_division.sales_import('texas_division_salesdata')\n",
    "texas_division.delivery_update(file='texas.csv')\n",
    "texas_division.sales_report()\n",
    "\n",
    "        "
   ]
  },
  {
   "cell_type": "code",
   "execution_count": null,
   "id": "3347f407",
   "metadata": {},
   "outputs": [],
   "source": [
    "# brookshire\n",
    "from store_info import Replenishment\n",
    "\n",
    "brookshire = Replenishment(store_type_input='brookshire',\n",
    "                               transition_date_range='2022SS', \n",
    "                               current_year = year , \n",
    "                               current_week= week)\n",
    "brookshire.sales_update(file='')\n",
    "brookshire.delivery_update(file='brookshire')\n",
    "brookshire.sales_report()\n"
   ]
  },
  {
   "cell_type": "code",
   "execution_count": 7,
   "id": "ef4bf278",
   "metadata": {},
   "outputs": [
    {
     "name": "stdout",
     "output_type": "stream",
     "text": [
      "Updated: 372\n",
      "Inserted: 0\n",
      "\n",
      "Support Sheet Imported\n",
      "\n",
      "Inventory list imported\n",
      "Updated: 455 Records\n",
      "Inserted: 2 Records\n",
      "\n",
      "Sales Data Imported\n",
      "\n",
      "Delivery Data Updated\n",
      "Updated: 306 Records\n",
      "Inserted: 33 Records\n",
      "No Programs have been established for these stores listed:\n",
      "\n",
      " [431, 438, 458, 468, 930, 930, 930]\n",
      "No Programs have been established for these stores listed:\n",
      "\n",
      " [431, 438, 458, 468, 930, 930, 930]\n",
      "look into store 116 something is off that needs to be fixed\n",
      "look into store 116 something is off that needs to be fixed\n",
      "look into store 116 something is off that needs to be fixed\n",
      "fresh_encounter_external_sales_report_Jul-18-2022.xlsx\n",
      "fresh_encounter_internal_sales_report_Jul-18-2022.xlsx\n",
      "\n",
      "Sales Report Generated\n"
     ]
    }
   ],
   "source": [
    "# fresh Encounter\n",
    "from store_info import Replenishment\n",
    "\n",
    "fresh_encounter = Replenishment(store_type_input='fresh_encounter',\n",
    "                               current_year = year , \n",
    "                               current_week= 1)\n",
    "\n",
    "fresh_encounter.support_import('support_sheet')\n",
    "fresh_encounter.inventory_import('inventory.csv')\n",
    "fresh_encounter.sales_import(file='fresh_encounter_salesdata_fixed.xlsx')\n",
    "fresh_encounter.delivery_update(file='fresh_encounter.csv')\n",
    "fresh_encounter.sales_report()"
   ]
  },
  {
   "cell_type": "code",
   "execution_count": 15,
   "id": "930a2b87",
   "metadata": {},
   "outputs": [
    {
     "name": "stdout",
     "output_type": "stream",
     "text": [
      "\n",
      "Sales Data Imported\n",
      "\n",
      "Delivery Data Updated\n",
      "Updated: 179 Records\n",
      "Inserted: 0 Records\n",
      "No Programs have been established for these stores listed:\n",
      "\n",
      " [15, 3004]\n",
      "No Programs have been established for these stores listed:\n",
      "\n",
      " [15, 3004]\n",
      "intermountain_external_sales_report_Jul-01-2022.xlsx\n",
      "intermountain_internal_sales_report_Jul-01-2022.xlsx\n",
      "\n",
      "Sales Report Generated\n"
     ]
    }
   ],
   "source": [
    "# Intermountain \n",
    "from store_info import Replenishment\n",
    "\n",
    "intermountain = Replenishment(store_type_input='intermountain',\n",
    "                               current_year = year , \n",
    "                               current_week= week)\n",
    "\n",
    "# intermountain.sales_update(file='')\n",
    "intermountain.sales_import('intermountain_salesdata_fixed.xlsx')\n",
    "intermountain.delivery_update(file='intermountain.csv')\n",
    "intermountain.sales_report()"
   ]
  },
  {
   "cell_type": "code",
   "execution_count": 3,
   "id": "1b14fb31",
   "metadata": {},
   "outputs": [
    {
     "name": "stdout",
     "output_type": "stream",
     "text": [
      "No Programs have been established for these stores listed:\n",
      "\n",
      " [157, 1282, 3053, 3220, 3349, 3421, 3425, 3429, 3443, 3443, 3443, 3446, 3455, 3461, 3473, 3477, 3481, 3491, 3514, 3720, 3721, 3775, 3775, 3775, 4060]\n",
      "No Programs have been established for these stores listed:\n",
      "\n",
      " [157, 1282, 3053, 3220, 3349, 3421, 3425, 3429, 3443, 3443, 3443, 3446, 3455, 3461, 3473, 3477, 3481, 3491, 3514, 3720, 3721, 3775, 3775, 3775, 4060]\n",
      "jewel_external_sales_report_Jul-19-2022.xlsx\n",
      "jewel_internal_sales_report_Jul-19-2022.xlsx\n",
      "\n",
      "Sales Report Generated\n"
     ]
    }
   ],
   "source": [
    "# jewel\n",
    "from store_info import Replenishment\n",
    "\n",
    "jewel = Replenishment(store_type_input='jewel',\n",
    "                               current_year = year , \n",
    "                               current_week= week)\n",
    "\n",
    "# jewel.sales_update(file='jewel_sales.xlsx')\n",
    "# jewel.sales_import('jewel_salesdata_fixed.xlsx')\n",
    "# jewel.delivery_update(file='jewel.csv')\n",
    "\n",
    "\n",
    "jewel.sales_report()"
   ]
  },
  {
   "cell_type": "code",
   "execution_count": 17,
   "id": "2628b1d3",
   "metadata": {},
   "outputs": [
    {
     "name": "stdout",
     "output_type": "stream",
     "text": [
      "Updated: 372\n",
      "Inserted: 0\n",
      "\n",
      "Support Sheet Imported\n",
      "\n",
      "Inventory list imported\n",
      "Updated: 457 Records\n",
      "Inserted: 0 Records\n",
      "\n",
      "Sales Data Updated\n",
      "Updated: 168 Records\n",
      "Inserted: 0 Records\n",
      "\n",
      "Delivery Data Updated\n",
      "Updated: 794 Records\n",
      "Inserted: 0 Records\n",
      "No Programs have been established for these stores listed:\n",
      "\n",
      " []\n",
      "No Programs have been established for these stores listed:\n",
      "\n",
      " []\n",
      "look into store 685 something is off that needs to be fixed\n",
      "look into store 685 something is off that needs to be fixed\n",
      "look into store 685 something is off that needs to be fixed\n",
      "kroger_atlanta_external_sales_report_Jul-18-2022.xlsx\n",
      "kroger_atlanta_internal_sales_report_Jul-18-2022.xlsx\n"
     ]
    },
    {
     "ename": "PermissionError",
     "evalue": "[Errno 13] Permission denied: 'kroger_atlanta_internal_sales_report_Jul-18-2022.xlsx'",
     "output_type": "error",
     "traceback": [
      "\u001b[1;31m---------------------------------------------------------------------------\u001b[0m",
      "\u001b[1;31mPermissionError\u001b[0m                           Traceback (most recent call last)",
      "\u001b[1;32m~\\AppData\\Local\\Temp/ipykernel_9428/930937147.py\u001b[0m in \u001b[0;36m<module>\u001b[1;34m\u001b[0m\n\u001b[0;32m     10\u001b[0m \u001b[0matlanta\u001b[0m\u001b[1;33m.\u001b[0m\u001b[0msales_update\u001b[0m\u001b[1;33m(\u001b[0m\u001b[0mfile\u001b[0m\u001b[1;33m=\u001b[0m\u001b[1;34m'Sherlock Store Matrix.csv'\u001b[0m\u001b[1;33m)\u001b[0m\u001b[1;33m\u001b[0m\u001b[1;33m\u001b[0m\u001b[0m\n\u001b[0;32m     11\u001b[0m \u001b[0matlanta\u001b[0m\u001b[1;33m.\u001b[0m\u001b[0mdelivery_update\u001b[0m\u001b[1;33m(\u001b[0m\u001b[0mfile\u001b[0m\u001b[1;33m=\u001b[0m\u001b[1;34m'atlanta.csv'\u001b[0m\u001b[1;33m)\u001b[0m\u001b[1;33m\u001b[0m\u001b[1;33m\u001b[0m\u001b[0m\n\u001b[1;32m---> 12\u001b[1;33m \u001b[0matlanta\u001b[0m\u001b[1;33m.\u001b[0m\u001b[0msales_report\u001b[0m\u001b[1;33m(\u001b[0m\u001b[1;33m)\u001b[0m\u001b[1;33m\u001b[0m\u001b[1;33m\u001b[0m\u001b[0m\n\u001b[0m",
      "\u001b[1;32m~\\OneDrive\\WinWin Staff Folders\\Michael\\Replenishment program\\Replenishment\\store_info.py\u001b[0m in \u001b[0;36msales_report\u001b[1;34m(self)\u001b[0m\n\u001b[0;32m    538\u001b[0m \u001b[1;33m\u001b[0m\u001b[0m\n\u001b[0;32m    539\u001b[0m         \u001b[0mfilename\u001b[0m \u001b[1;33m=\u001b[0m \u001b[1;34mf'{self.store_type_input}_internal_sales_report_{date}.xlsx'\u001b[0m\u001b[1;33m\u001b[0m\u001b[1;33m\u001b[0m\u001b[0m\n\u001b[1;32m--> 540\u001b[1;33m         \u001b[0mreports\u001b[0m\u001b[1;33m.\u001b[0m\u001b[0minternal_report\u001b[0m\u001b[1;33m(\u001b[0m\u001b[0mfilename\u001b[0m\u001b[1;33m)\u001b[0m\u001b[1;33m\u001b[0m\u001b[1;33m\u001b[0m\u001b[0m\n\u001b[0m\u001b[0;32m    541\u001b[0m \u001b[1;33m\u001b[0m\u001b[0m\n\u001b[0;32m    542\u001b[0m         \u001b[1;31m# sales_data_fequency = {\u001b[0m\u001b[1;33m\u001b[0m\u001b[1;33m\u001b[0m\u001b[0m\n",
      "\u001b[1;32m~\\OneDrive\\WinWin Staff Folders\\Michael\\Replenishment program\\Replenishment\\Sales_Report\\Reports\\reports.py\u001b[0m in \u001b[0;36minternal_report\u001b[1;34m(self, filename)\u001b[0m\n\u001b[0;32m    114\u001b[0m         \u001b[0mformat\u001b[0m \u001b[1;33m=\u001b[0m \u001b[0mReportFormat\u001b[0m\u001b[1;33m(\u001b[0m\u001b[0mfilename\u001b[0m\u001b[1;33m,\u001b[0m \u001b[1;36m1\u001b[0m\u001b[1;33m,\u001b[0m\u001b[1;36m1\u001b[0m\u001b[1;33m,\u001b[0m\u001b[0mstore_sales_rank_len\u001b[0m\u001b[1;33m,\u001b[0m \u001b[0mself\u001b[0m\u001b[1;33m.\u001b[0m\u001b[0mstore_setting\u001b[0m\u001b[1;33m)\u001b[0m\u001b[1;33m\u001b[0m\u001b[1;33m\u001b[0m\u001b[0m\n\u001b[0;32m    115\u001b[0m \u001b[1;33m\u001b[0m\u001b[0m\n\u001b[1;32m--> 116\u001b[1;33m         \u001b[0mformat\u001b[0m\u001b[1;33m.\u001b[0m\u001b[0minternal_report\u001b[0m\u001b[1;33m(\u001b[0m\u001b[1;33m)\u001b[0m\u001b[1;33m\u001b[0m\u001b[1;33m\u001b[0m\u001b[0m\n\u001b[0m\u001b[0;32m    117\u001b[0m \u001b[1;33m\u001b[0m\u001b[0m\n\u001b[0;32m    118\u001b[0m \u001b[1;33m\u001b[0m\u001b[0m\n",
      "\u001b[1;32m~\\OneDrive\\WinWin Staff Folders\\Michael\\Replenishment program\\Replenishment\\Sales_Report\\Report_Format\\weekly_sales_report_format.py\u001b[0m in \u001b[0;36minternal_report\u001b[1;34m(self)\u001b[0m\n\u001b[0;32m    799\u001b[0m \u001b[1;33m\u001b[0m\u001b[0m\n\u001b[0;32m    800\u001b[0m         \u001b[1;32mif\u001b[0m \u001b[0mself\u001b[0m\u001b[1;33m.\u001b[0m\u001b[0mitem_approval\u001b[0m \u001b[1;33m==\u001b[0m\u001b[1;36m1\u001b[0m\u001b[1;33m:\u001b[0m\u001b[1;33m\u001b[0m\u001b[1;33m\u001b[0m\u001b[0m\n\u001b[1;32m--> 801\u001b[1;33m             \u001b[0mself\u001b[0m\u001b[1;33m.\u001b[0m\u001b[0mitems_approved\u001b[0m\u001b[1;33m(\u001b[0m\u001b[1;33m)\u001b[0m\u001b[1;33m\u001b[0m\u001b[1;33m\u001b[0m\u001b[0m\n\u001b[0m\u001b[0;32m    802\u001b[0m \u001b[1;33m\u001b[0m\u001b[0m\n\u001b[0;32m    803\u001b[0m         \u001b[1;32mif\u001b[0m \u001b[0mself\u001b[0m\u001b[1;33m.\u001b[0m\u001b[0mstore_program\u001b[0m \u001b[1;33m==\u001b[0m\u001b[1;36m1\u001b[0m\u001b[1;33m:\u001b[0m\u001b[1;33m\u001b[0m\u001b[1;33m\u001b[0m\u001b[0m\n",
      "\u001b[1;32m~\\OneDrive\\WinWin Staff Folders\\Michael\\Replenishment program\\Replenishment\\Sales_Report\\Report_Format\\weekly_sales_report_format.py\u001b[0m in \u001b[0;36mitems_approved\u001b[1;34m(self)\u001b[0m\n\u001b[0;32m    738\u001b[0m         \u001b[0mws\u001b[0m\u001b[1;33m.\u001b[0m\u001b[0mauto_filter\u001b[0m\u001b[1;33m.\u001b[0m\u001b[0mref\u001b[0m \u001b[1;33m=\u001b[0m \u001b[1;34mf\"A1:H10000\"\u001b[0m\u001b[1;33m\u001b[0m\u001b[1;33m\u001b[0m\u001b[0m\n\u001b[0;32m    739\u001b[0m \u001b[1;33m\u001b[0m\u001b[0m\n\u001b[1;32m--> 740\u001b[1;33m         \u001b[0mself\u001b[0m\u001b[1;33m.\u001b[0m\u001b[0mwb\u001b[0m\u001b[1;33m.\u001b[0m\u001b[0msave\u001b[0m\u001b[1;33m(\u001b[0m\u001b[0mself\u001b[0m\u001b[1;33m.\u001b[0m\u001b[0mfilename\u001b[0m\u001b[1;33m)\u001b[0m\u001b[1;33m\u001b[0m\u001b[1;33m\u001b[0m\u001b[0m\n\u001b[0m\u001b[0;32m    741\u001b[0m \u001b[1;33m\u001b[0m\u001b[0m\n\u001b[0;32m    742\u001b[0m     \u001b[1;32mdef\u001b[0m \u001b[0mstore_programs\u001b[0m\u001b[1;33m(\u001b[0m\u001b[0mself\u001b[0m\u001b[1;33m)\u001b[0m\u001b[1;33m:\u001b[0m\u001b[1;33m\u001b[0m\u001b[1;33m\u001b[0m\u001b[0m\n",
      "\u001b[1;32m~\\anaconda3\\lib\\site-packages\\openpyxl\\workbook\\workbook.py\u001b[0m in \u001b[0;36msave\u001b[1;34m(self, filename)\u001b[0m\n\u001b[0;32m    405\u001b[0m         \u001b[1;32mif\u001b[0m \u001b[0mself\u001b[0m\u001b[1;33m.\u001b[0m\u001b[0mwrite_only\u001b[0m \u001b[1;32mand\u001b[0m \u001b[1;32mnot\u001b[0m \u001b[0mself\u001b[0m\u001b[1;33m.\u001b[0m\u001b[0mworksheets\u001b[0m\u001b[1;33m:\u001b[0m\u001b[1;33m\u001b[0m\u001b[1;33m\u001b[0m\u001b[0m\n\u001b[0;32m    406\u001b[0m             \u001b[0mself\u001b[0m\u001b[1;33m.\u001b[0m\u001b[0mcreate_sheet\u001b[0m\u001b[1;33m(\u001b[0m\u001b[1;33m)\u001b[0m\u001b[1;33m\u001b[0m\u001b[1;33m\u001b[0m\u001b[0m\n\u001b[1;32m--> 407\u001b[1;33m         \u001b[0msave_workbook\u001b[0m\u001b[1;33m(\u001b[0m\u001b[0mself\u001b[0m\u001b[1;33m,\u001b[0m \u001b[0mfilename\u001b[0m\u001b[1;33m)\u001b[0m\u001b[1;33m\u001b[0m\u001b[1;33m\u001b[0m\u001b[0m\n\u001b[0m\u001b[0;32m    408\u001b[0m \u001b[1;33m\u001b[0m\u001b[0m\n\u001b[0;32m    409\u001b[0m \u001b[1;33m\u001b[0m\u001b[0m\n",
      "\u001b[1;32m~\\anaconda3\\lib\\site-packages\\openpyxl\\writer\\excel.py\u001b[0m in \u001b[0;36msave_workbook\u001b[1;34m(workbook, filename)\u001b[0m\n\u001b[0;32m    289\u001b[0m \u001b[1;33m\u001b[0m\u001b[0m\n\u001b[0;32m    290\u001b[0m     \"\"\"\n\u001b[1;32m--> 291\u001b[1;33m     \u001b[0marchive\u001b[0m \u001b[1;33m=\u001b[0m \u001b[0mZipFile\u001b[0m\u001b[1;33m(\u001b[0m\u001b[0mfilename\u001b[0m\u001b[1;33m,\u001b[0m \u001b[1;34m'w'\u001b[0m\u001b[1;33m,\u001b[0m \u001b[0mZIP_DEFLATED\u001b[0m\u001b[1;33m,\u001b[0m \u001b[0mallowZip64\u001b[0m\u001b[1;33m=\u001b[0m\u001b[1;32mTrue\u001b[0m\u001b[1;33m)\u001b[0m\u001b[1;33m\u001b[0m\u001b[1;33m\u001b[0m\u001b[0m\n\u001b[0m\u001b[0;32m    292\u001b[0m     \u001b[0mwriter\u001b[0m \u001b[1;33m=\u001b[0m \u001b[0mExcelWriter\u001b[0m\u001b[1;33m(\u001b[0m\u001b[0mworkbook\u001b[0m\u001b[1;33m,\u001b[0m \u001b[0marchive\u001b[0m\u001b[1;33m)\u001b[0m\u001b[1;33m\u001b[0m\u001b[1;33m\u001b[0m\u001b[0m\n\u001b[0;32m    293\u001b[0m     \u001b[0mwriter\u001b[0m\u001b[1;33m.\u001b[0m\u001b[0msave\u001b[0m\u001b[1;33m(\u001b[0m\u001b[1;33m)\u001b[0m\u001b[1;33m\u001b[0m\u001b[1;33m\u001b[0m\u001b[0m\n",
      "\u001b[1;32m~\\anaconda3\\lib\\zipfile.py\u001b[0m in \u001b[0;36m__init__\u001b[1;34m(self, file, mode, compression, allowZip64, compresslevel, strict_timestamps)\u001b[0m\n\u001b[0;32m   1237\u001b[0m             \u001b[1;32mwhile\u001b[0m \u001b[1;32mTrue\u001b[0m\u001b[1;33m:\u001b[0m\u001b[1;33m\u001b[0m\u001b[1;33m\u001b[0m\u001b[0m\n\u001b[0;32m   1238\u001b[0m                 \u001b[1;32mtry\u001b[0m\u001b[1;33m:\u001b[0m\u001b[1;33m\u001b[0m\u001b[1;33m\u001b[0m\u001b[0m\n\u001b[1;32m-> 1239\u001b[1;33m                     \u001b[0mself\u001b[0m\u001b[1;33m.\u001b[0m\u001b[0mfp\u001b[0m \u001b[1;33m=\u001b[0m \u001b[0mio\u001b[0m\u001b[1;33m.\u001b[0m\u001b[0mopen\u001b[0m\u001b[1;33m(\u001b[0m\u001b[0mfile\u001b[0m\u001b[1;33m,\u001b[0m \u001b[0mfilemode\u001b[0m\u001b[1;33m)\u001b[0m\u001b[1;33m\u001b[0m\u001b[1;33m\u001b[0m\u001b[0m\n\u001b[0m\u001b[0;32m   1240\u001b[0m                 \u001b[1;32mexcept\u001b[0m \u001b[0mOSError\u001b[0m\u001b[1;33m:\u001b[0m\u001b[1;33m\u001b[0m\u001b[1;33m\u001b[0m\u001b[0m\n\u001b[0;32m   1241\u001b[0m                     \u001b[1;32mif\u001b[0m \u001b[0mfilemode\u001b[0m \u001b[1;32min\u001b[0m \u001b[0mmodeDict\u001b[0m\u001b[1;33m:\u001b[0m\u001b[1;33m\u001b[0m\u001b[1;33m\u001b[0m\u001b[0m\n",
      "\u001b[1;31mPermissionError\u001b[0m: [Errno 13] Permission denied: 'kroger_atlanta_internal_sales_report_Jul-18-2022.xlsx'"
     ]
    }
   ],
   "source": [
    "# atlanta\n",
    "from store_info import Replenishment\n",
    "\n",
    "atlanta = Replenishment(store_type_input='kroger_atlanta',\n",
    "                               current_year = year , \n",
    "                               current_week= week)\n",
    "\n",
    "atlanta.support_import('support_sheet')\n",
    "atlanta.inventory_import('inventory.csv')\n",
    "atlanta.sales_update(file='Sherlock Store Matrix.csv')\n",
    "atlanta.delivery_update(file='atlanta.csv')\n",
    "atlanta.sales_report()"
   ]
  },
  {
   "cell_type": "code",
   "execution_count": 6,
   "id": "68debb9c",
   "metadata": {},
   "outputs": [
    {
     "name": "stdout",
     "output_type": "stream",
     "text": [
      "Updated: 372\n",
      "Inserted: 0\n",
      "\n",
      "Support Sheet Imported\n",
      "\n",
      "Inventory list imported\n",
      "Updated: 455 Records\n",
      "Inserted: 2 Records\n",
      "\n",
      "Sales Data Updated\n",
      "Updated: 55 Records\n",
      "Inserted: 114 Records\n",
      "\n",
      "Delivery Data Updated\n",
      "Updated: 53 Records\n",
      "Inserted: 3 Records\n",
      "No Programs have been established for these stores listed:\n",
      "\n",
      " [1, 889]\n",
      "No Programs have been established for these stores listed:\n",
      "\n",
      " [1, 889]\n",
      "kroger_central_external_sales_report_Jul-18-2022.xlsx\n",
      "kroger_central_internal_sales_report_Jul-18-2022.xlsx\n",
      "\n",
      "Sales Report Generated\n"
     ]
    }
   ],
   "source": [
    "# central\n",
    "from store_info import Replenishment\n",
    "\n",
    "central = Replenishment(store_type_input='kroger_central',\n",
    "                               current_year = year , \n",
    "                               current_week= week)\n",
    "central.support_import('support_sheet')\n",
    "central.inventory_import('inventory.csv')\n",
    "central.sales_update(file='Sherlock Store Matrix.csv')\n",
    "central.delivery_update(file='central.csv')\n",
    "central.sales_report()"
   ]
  },
  {
   "cell_type": "code",
   "execution_count": 5,
   "id": "b125d768",
   "metadata": {},
   "outputs": [
    {
     "name": "stdout",
     "output_type": "stream",
     "text": [
      "Updated: 372\n",
      "Inserted: 0\n",
      "\n",
      "Support Sheet Imported\n",
      "\n",
      "Inventory list imported\n",
      "Updated: 455 Records\n",
      "Inserted: 2 Records\n",
      "\n",
      "Sales Data Updated\n",
      "Updated: 164 Records\n",
      "Inserted: 195 Records\n",
      "\n",
      "Delivery Data Updated\n",
      "Updated: 83 Records\n",
      "Inserted: 16 Records\n",
      "No Programs have been established for these stores listed:\n",
      "\n",
      " []\n",
      "No Programs have been established for these stores listed:\n",
      "\n",
      " []\n",
      "kroger_columbus_external_sales_report_Jul-18-2022.xlsx\n",
      "kroger_columbus_internal_sales_report_Jul-18-2022.xlsx\n",
      "\n",
      "Sales Report Generated\n"
     ]
    }
   ],
   "source": [
    "# columubus\n",
    "from store_info import Replenishment\n",
    "\n",
    "columbus = Replenishment(store_type_input='kroger_columbus',\n",
    "                               current_year = year , \n",
    "                               current_week= week)\n",
    "columbus.support_import('support_sheet')\n",
    "columbus.inventory_import('inventory.csv')\n",
    "columbus.sales_update(file='Sherlock Store Matrix.csv')\n",
    "columbus.delivery_update(file='columbus.csv')\n",
    "columbus.sales_report()"
   ]
  },
  {
   "cell_type": "code",
   "execution_count": 4,
   "id": "4bd39071",
   "metadata": {},
   "outputs": [
    {
     "name": "stdout",
     "output_type": "stream",
     "text": [
      "Updated: 372\n",
      "Inserted: 0\n",
      "\n",
      "Support Sheet Imported\n",
      "\n",
      "Inventory list imported\n",
      "Updated: 455 Records\n",
      "Inserted: 2 Records\n",
      "\n",
      "Sales Data Updated\n",
      "Updated: 44 Records\n",
      "Inserted: 51 Records\n",
      "\n",
      "Delivery Data Updated\n",
      "Updated: 26 Records\n",
      "Inserted: 2 Records\n",
      "No Programs have been established for these stores listed:\n",
      "\n",
      " []\n",
      "No Programs have been established for these stores listed:\n",
      "\n",
      " []\n",
      "kroger_dallas_external_sales_report_Jul-18-2022.xlsx\n",
      "kroger_dallas_internal_sales_report_Jul-18-2022.xlsx\n",
      "\n",
      "Sales Report Generated\n"
     ]
    }
   ],
   "source": [
    "# dallas\n",
    "from store_info import Replenishment\n",
    "\n",
    "dallas = Replenishment(store_type_input='kroger_dallas',\n",
    "                               current_year = year , \n",
    "                               current_week= week)\n",
    "\n",
    "dallas.support_import('support_sheet')\n",
    "dallas.inventory_import('inventory.csv')\n",
    "dallas.sales_update(file='Sherlock Store Matrix.csv')\n",
    "dallas.delivery_update(file='dallas.csv')\n",
    "dallas.sales_report()"
   ]
  },
  {
   "cell_type": "code",
   "execution_count": null,
   "id": "93579b28",
   "metadata": {},
   "outputs": [],
   "source": [
    "# delta\n",
    "from store_info import Replenishment\n",
    "\n",
    "delta = Replenishment(store_type_input='',\n",
    "                               transition_date_range='2022SS', \n",
    "                               current_year = year , \n",
    "                               current_week= week)\n",
    "\n",
    "delta.sales_update(file='')\n",
    "delta.delivery_update(file='')\n",
    "delta.sales_report()"
   ]
  },
  {
   "cell_type": "code",
   "execution_count": 16,
   "id": "4b6df5d5",
   "metadata": {},
   "outputs": [
    {
     "name": "stdout",
     "output_type": "stream",
     "text": [
      "Updated: 372\n",
      "Inserted: 0\n",
      "\n",
      "Support Sheet Imported\n",
      "\n",
      "Inventory list imported\n",
      "Updated: 457 Records\n",
      "Inserted: 0 Records\n",
      "\n",
      "Sales Data Updated\n",
      "Updated: 88 Records\n",
      "Inserted: 0 Records\n",
      "\n",
      "Delivery Data Updated\n",
      "Updated: 494 Records\n",
      "Inserted: 0 Records\n",
      "No Programs have been established for these stores listed:\n",
      "\n",
      " []\n",
      "No Programs have been established for these stores listed:\n",
      "\n",
      " []\n",
      "kroger_dillons_external_sales_report_Jul-18-2022.xlsx\n",
      "kroger_dillons_internal_sales_report_Jul-18-2022.xlsx\n",
      "\n",
      "Sales Report Generated\n"
     ]
    }
   ],
   "source": [
    "# dillons\n",
    "from store_info import Replenishment\n",
    "\n",
    "dillons = Replenishment(store_type_input='kroger_dillons',\n",
    "                               current_year = year , \n",
    "                               current_week= week)\n",
    "dillons.support_import('support_sheet')\n",
    "dillons.inventory_import('inventory.csv')\n",
    "dillons.sales_update(file='Sherlock Store Matrix.csv')\n",
    "dillons.delivery_update(file='dillons.csv')\n",
    "dillons.sales_report()"
   ]
  },
  {
   "cell_type": "code",
   "execution_count": 9,
   "id": "881ba544",
   "metadata": {},
   "outputs": [
    {
     "name": "stdout",
     "output_type": "stream",
     "text": [
      "Updated: 372\n",
      "Inserted: 0\n",
      "\n",
      "Support Sheet Imported\n",
      "\n",
      "Inventory list imported\n",
      "Updated: 457 Records\n",
      "Inserted: 0 Records\n",
      "\n",
      "Sales Data Updated\n",
      "Updated: 106 Records\n",
      "Inserted: 0 Records\n",
      "\n",
      "Delivery Data Updated\n",
      "Updated: 156 Records\n",
      "Inserted: 0 Records\n",
      "No Programs have been established for these stores listed:\n",
      "\n",
      " []\n",
      "No Programs have been established for these stores listed:\n",
      "\n",
      " []\n",
      "kroger_king_soopers_external_sales_report_Jul-18-2022.xlsx\n",
      "kroger_king_soopers_internal_sales_report_Jul-18-2022.xlsx\n",
      "\n",
      "Sales Report Generated\n"
     ]
    }
   ],
   "source": [
    "# king sooper\n",
    "from store_info import Replenishment\n",
    "\n",
    "king_soopers = Replenishment(store_type_input='kroger_king_soopers',\n",
    "                               current_year = year , \n",
    "                               current_week= week)\n",
    "king_soopers.support_import('support_sheet')\n",
    "king_soopers.inventory_import('inventory.csv')\n",
    "king_soopers.sales_update(file='Sherlock Store Matrix.csv')\n",
    "king_soopers.delivery_update(file='king_soopers.csv')\n",
    "king_soopers.sales_report()"
   ]
  },
  {
   "cell_type": "code",
   "execution_count": null,
   "id": "1efb8bb5",
   "metadata": {},
   "outputs": [],
   "source": [
    "# louisville\n",
    "from store_info import Replenishment\n",
    "\n",
    "louisville = Replenishment(store_type_input='',\n",
    "                               current_year = year , \n",
    "                               current_week= week)\n",
    "\n",
    "louisville.sales_update(file='')\n",
    "louisville.delivery_update(file='')\n",
    "louisville.sales_report()"
   ]
  },
  {
   "cell_type": "code",
   "execution_count": 3,
   "id": "05d85060",
   "metadata": {},
   "outputs": [
    {
     "name": "stdout",
     "output_type": "stream",
     "text": [
      "Updated: 372\n",
      "Inserted: 0\n",
      "\n",
      "Support Sheet Imported\n",
      "\n",
      "Inventory list imported\n",
      "Updated: 455 Records\n",
      "Inserted: 2 Records\n",
      "\n",
      "Sales Data Updated\n",
      "Updated: 28 Records\n",
      "Inserted: 47 Records\n",
      "\n",
      "Delivery Data Updated\n",
      "Updated: 103 Records\n",
      "Inserted: 0 Records\n",
      "No Programs have been established for these stores listed:\n",
      "\n",
      " [115]\n",
      "No Programs have been established for these stores listed:\n",
      "\n",
      " [115]\n",
      "look into store 749 something is off that needs to be fixed\n",
      "look into store 749 something is off that needs to be fixed\n",
      "look into store 749 something is off that needs to be fixed\n",
      "kroger_michigan_external_sales_report_Jul-18-2022.xlsx\n",
      "kroger_michigan_internal_sales_report_Jul-18-2022.xlsx\n",
      "\n",
      "Sales Report Generated\n"
     ]
    }
   ],
   "source": [
    "# michigan\n",
    "from store_info import Replenishment\n",
    "\n",
    "michigan = Replenishment(store_type_input='kroger_michigan',\n",
    "                               current_year = year , \n",
    "                               current_week= week)\n",
    "michigan.support_import('support_sheet')\n",
    "michigan.inventory_import('inventory.csv')\n",
    "michigan.sales_update(file='Sherlock Store Matrix.csv')\n",
    "michigan.delivery_update(file='michigan.csv')\n",
    "michigan.sales_report()"
   ]
  },
  {
   "cell_type": "code",
   "execution_count": 15,
   "id": "04a8d7cc",
   "metadata": {},
   "outputs": [
    {
     "name": "stdout",
     "output_type": "stream",
     "text": [
      "Updated: 372\n",
      "Inserted: 0\n",
      "\n",
      "Support Sheet Imported\n",
      "\n",
      "Inventory list imported\n",
      "Updated: 457 Records\n",
      "Inserted: 0 Records\n",
      "\n",
      "Sales Data Updated\n",
      "Updated: 69 Records\n",
      "Inserted: 0 Records\n",
      "\n",
      "Delivery Data Updated\n",
      "Updated: 482 Records\n",
      "Inserted: 0 Records\n",
      "No Programs have been established for these stores listed:\n",
      "\n",
      " []\n",
      "No Programs have been established for these stores listed:\n",
      "\n",
      " []\n",
      "kroger_nashville_external_sales_report_Jul-18-2022.xlsx\n",
      "kroger_nashville_internal_sales_report_Jul-18-2022.xlsx\n",
      "\n",
      "Sales Report Generated\n"
     ]
    }
   ],
   "source": [
    "# nashville\n",
    "from store_info import Replenishment\n",
    "\n",
    "nashville = Replenishment(store_type_input='kroger_nashville',\n",
    "                               current_year = year , \n",
    "                               current_week= week)\n",
    "\n",
    "nashville.support_import('support_sheet')\n",
    "nashville.inventory_import('inventory.csv')\n",
    "nashville.sales_update(file='Sherlock Store Matrix.csv')\n",
    "nashville.delivery_update(file='nashville.csv')\n",
    "nashville.sales_report()"
   ]
  },
  {
   "cell_type": "code",
   "execution_count": 21,
   "id": "9d2cb4fe",
   "metadata": {},
   "outputs": [
    {
     "name": "stdout",
     "output_type": "stream",
     "text": [
      "\n",
      "Inventory list imported\n",
      "Updated: 455 Records\n",
      "Inserted: 2 Records\n",
      "\n",
      "Sales Data Updated\n",
      "Updated: 0 Records\n",
      "Inserted: 316 Records\n",
      "\n",
      "Delivery Data Updated\n",
      "Updated: 558 Records\n",
      "Inserted: 10 Records\n",
      "No Programs have been established for these stores listed:\n",
      "\n",
      " [206, 614, 626, 678, 694, 735, 735, 848, 2803]\n",
      "No Programs have been established for these stores listed:\n",
      "\n",
      " [206, 614, 626, 678, 694, 735, 735, 848, 2803]\n",
      "kvat_external_sales_report_Jul-19-2022.xlsx\n",
      "kvat_internal_sales_report_Jul-19-2022.xlsx\n",
      "\n",
      "Sales Report Generated\n"
     ]
    }
   ],
   "source": [
    "# kvat \n",
    "from store_info import Replenishment\n",
    "\n",
    "kvat = Replenishment(store_type_input='kvat',\n",
    "                               current_year = year , \n",
    "                               current_week= week)\n",
    "# kvat.store_program_import()\n",
    "kvat.inventory_import('inventory.csv')\n",
    "kvat.sales_update(file='kvat_sales.xlsx')\n",
    "kvat.delivery_update(file='kvat.csv')\n",
    "kvat.sales_report()"
   ]
  },
  {
   "cell_type": "code",
   "execution_count": 2,
   "id": "6ab69390",
   "metadata": {},
   "outputs": [
    {
     "name": "stdout",
     "output_type": "stream",
     "text": [
      "Updated: 372\n",
      "Inserted: 0\n",
      "\n",
      "Support Sheet Imported\n",
      "\n",
      "Inventory list imported\n",
      "Updated: 457 Records\n",
      "Inserted: 0 Records\n",
      "\n",
      "Sales Data Updated\n",
      "Updated: 185 Records\n",
      "Inserted: 0 Records\n",
      "\n",
      "Delivery Data Updated\n",
      "Updated: 15 Records\n",
      "Inserted: 0 Records\n",
      "No Programs have been established for these stores listed:\n",
      "\n",
      " [27, 64, 824, 1548, 2520, 2911]\n",
      "No Programs have been established for these stores listed:\n",
      "\n",
      " [27, 64, 824, 1548, 2520, 2911]\n",
      "look into store 2915 something is off that needs to be fixed\n",
      "look into store 2915 something is off that needs to be fixed\n",
      "look into store 2915 something is off that needs to be fixed\n",
      "safeway_denver_external_sales_report_Jul-18-2022.xlsx\n",
      "safeway_denver_internal_sales_report_Jul-18-2022.xlsx\n",
      "\n",
      "Sales Report Generated\n"
     ]
    }
   ],
   "source": [
    "# safeway denver\n",
    "from store_info import Replenishment\n",
    "\n",
    "safeway_denver= Replenishment(store_type_input='safeway_denver',\n",
    "                               current_year = year , \n",
    "                               current_week= week)\n",
    "safeway_denver.support_import('support_sheet')\n",
    "safeway_denver.inventory_import('inventory.csv')\n",
    "safeway_denver.sales_update(file='denver_sales.xlsx')\n",
    "safeway_denver.delivery_update(file='denver.csv')\n",
    "safeway_denver.sales_report()"
   ]
  },
  {
   "cell_type": "code",
   "execution_count": 6,
   "id": "c0c83341",
   "metadata": {},
   "outputs": [
    {
     "name": "stdout",
     "output_type": "stream",
     "text": [
      "Updated: 372\n",
      "Inserted: 0\n",
      "\n",
      "Support Sheet Imported\n",
      "\n",
      "Inventory list imported\n",
      "Updated: 457 Records\n",
      "Inserted: 0 Records\n",
      "\n",
      "Sales Data Updated\n",
      "Updated: 79 Records\n",
      "Inserted: 0 Records\n",
      "\n",
      "Delivery Data Updated\n",
      "Updated: 662 Records\n",
      "Inserted: 0 Records\n",
      "No Programs have been established for these stores listed:\n",
      "\n",
      " []\n",
      "No Programs have been established for these stores listed:\n",
      "\n",
      " []\n",
      "look into store 925 something is off that needs to be fixed\n",
      "look into store 925 something is off that needs to be fixed\n",
      "look into store 925 something is off that needs to be fixed\n",
      "kroger_cincinatti_external_sales_report_Jul-18-2022.xlsx\n",
      "kroger_cincinatti_internal_sales_report_Jul-18-2022.xlsx\n",
      "\n",
      "Sales Report Generated\n"
     ]
    }
   ],
   "source": [
    "# cincinatti\n",
    "from store_info import Replenishment\n",
    "\n",
    "atlanta = Replenishment(store_type_input='kroger_cincinatti',\n",
    "                               current_year = year , \n",
    "                               current_week= week)\n",
    "\n",
    "atlanta.support_import('support_sheet')\n",
    "atlanta.inventory_import('inventory.csv')\n",
    "atlanta.sales_update(file='Sherlock Store Matrix.csv')\n",
    "atlanta.delivery_update(file='cincinatti.csv')\n",
    "atlanta.sales_report()"
   ]
  },
  {
   "cell_type": "code",
   "execution_count": null,
   "id": "60c9a54b",
   "metadata": {},
   "outputs": [],
   "source": []
  }
 ],
 "metadata": {
  "interpreter": {
   "hash": "eb4e0a0fd1d19bb9a06c4c3c2c2cf016517ec825f23f225e84b2f7e81a104fe7"
  },
  "kernelspec": {
   "display_name": "Python 3 (ipykernel)",
   "language": "python",
   "name": "python3"
  },
  "language_info": {
   "codemirror_mode": {
    "name": "ipython",
    "version": 3
   },
   "file_extension": ".py",
   "mimetype": "text/x-python",
   "name": "python",
   "nbconvert_exporter": "python",
   "pygments_lexer": "ipython3",
   "version": "3.9.7"
  }
 },
 "nbformat": 4,
 "nbformat_minor": 5
}
