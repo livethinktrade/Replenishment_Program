{
 "cells": [
  {
   "cell_type": "code",
   "execution_count": 1,
   "id": "e6208782",
   "metadata": {},
   "outputs": [
    {
     "name": "stdout",
     "output_type": "stream",
     "text": [
      "\n",
      "Support Sheet Imported\n",
      "Updated: 377\n",
      "Inserted: 0\n",
      "\n",
      "Inventory list imported\n",
      "Updated: 472 Records\n",
      "Inserted: 0 Records\n"
     ]
    }
   ],
   "source": [
    "from store_info import Replenishment\n",
    "import os\n",
    "# from Sales_Report.Reports.reports import *\n",
    "store = Replenishment(store_type_input='midwest')\n",
    "sales_data_file_path = os.getcwd() + r'\\support document\\sales'\n",
    "delivery_data_file_path = os.getcwd() + r'\\support document\\deliveries'\n",
    "\n",
    "store.support_import(r'C:\\Users\\User1\\OneDrive\\WinWin Staff Folders\\Michael\\Replenishment program\\Replenishment\\support document\\support_sheet.xlsx')\n",
    "store.inventory_import(r'C:\\Users\\User1\\OneDrive\\WinWin Staff Folders\\Michael\\Replenishment program\\Replenishment\\support document\\inventory\\inventory.csv')\n"
   ]
  },
  {
   "cell_type": "code",
   "execution_count": 2,
   "id": "4f2ccd4f",
   "metadata": {},
   "outputs": [
    {
     "name": "stdout",
     "output_type": "stream",
     "text": [
      "\n",
      " Store Data Imported\n",
      "Updated: 88 Records\n",
      "Inserted: 0 Records\n"
     ]
    }
   ],
   "source": [
    "store = Replenishment(store_type_input='intermountain')\n",
    "\n",
    "\n",
    "# store.store_import()\n",
    "\n",
    "# updates the master planogram\n",
    "# store.master_planogram_import()\n",
    "\n",
    "# updates the planogram for each store based on the values set in the store setting.\n",
    "# store.store_pog_import()\n",
    "\n",
    "# update notes\n",
    "store.store_notes_import()\n",
    "\n",
    "# store.store_approval_import('delta_approval.csv')\n",
    "# store.size_table_update('size_table')"
   ]
  },
  {
   "cell_type": "code",
   "execution_count": 3,
   "id": "81f23ed6",
   "metadata": {},
   "outputs": [
    {
     "name": "stdout",
     "output_type": "stream",
     "text": [
      "Please input the name of the sales file for the \"Current Sales Week\"\n",
      "10-09-22 acme.xlsx\n",
      "Please input the name of the sales file for the \"Previous Sales Week\"\n",
      "09-16-22 acme.xlsx\n"
     ]
    },
    {
     "name": "stderr",
     "output_type": "stream",
     "text": [
      "C:\\Users\\User1\\OneDrive\\WinWin Staff Folders\\Michael\\Replenishment program\\Replenishment\\Update\\Transform_Sales_Data\\transform.py:1106: UserWarning: \n",
      "    \n",
      "                The 2 files from the sales data is showing that it is 3 weeks\n",
      "                apart.\n",
      "    \n",
      "                Ideally the sales data imported should be from week to week. However if more than a weeks of sales data\n",
      "                was missed being sent, it is still ok to import the sales data.\n",
      "    \n",
      "                If this is the case, enter 'VERIFIED' if not enter 'CANCEL'\n",
      "  warnings.warn(f\"\"\"\n"
     ]
    },
    {
     "name": "stdout",
     "output_type": "stream",
     "text": [
      "\n",
      "\n",
      "\n",
      "READ STATEMENT ABOVE:\tverified\n",
      "Found code for Sales table in support sheet instead of delivery table store 849 upc: 81031202144\n",
      "Found code for Sales table in support sheet instead of delivery table store 3816 upc: 81031202373\n",
      "Found code for Sales table in support sheet instead of delivery table store 3824 upc: 81031202141\n",
      "\n",
      " acme Sales Data Updated\n",
      "Updated: 0 Records\n",
      "Inserted: 439 Records\n",
      "\n",
      " acme Delivery Data Updated\n",
      "Updated: 21 Records\n",
      "Inserted: 0 Records\n",
      "No Programs have been established for these stores listed:\n",
      "\n",
      " [996]\n",
      "acme_external_sales_report_Oct-10-2022.xlsx\n",
      "\n",
      "Sales Report Generated\n"
     ]
    }
   ],
   "source": [
    "# Mid-Atlantic\n",
    "\n",
    "from store_info import Replenishment\n",
    "\n",
    "acme = Replenishment(store_type_input='acme')\n",
    "\n",
    "\n",
    "current_week = input('Please input the name of the sales file for the \"Current Sales Week\"\\n')\n",
    "previous_week = input('Please input the name of the sales file for the \"Previous Sales Week\"\\n')\n",
    "\n",
    "acme.sales_update(sales_data_file_path + rf'\\{current_week}', sales_data_file_path + rf'\\{previous_week}' )\n",
    "acme.delivery_update(delivery_data_file_path + r'\\acme.csv')\n",
    "acme.sales_report()\n"
   ]
  },
  {
   "cell_type": "code",
   "execution_count": 4,
   "id": "a9f69153",
   "metadata": {},
   "outputs": [
    {
     "name": "stdout",
     "output_type": "stream",
     "text": [
      "Please input the name of the sales file for the \"Current Sales Week\"\n",
      "10.08.22 texas.xlsm\n",
      "Please input the name of the sales file for the \"Previous Sales Week\"\n",
      "10.03.22 texas.xlsm\n"
     ]
    },
    {
     "name": "stderr",
     "output_type": "stream",
     "text": [
      "C:\\Users\\User1\\OneDrive\\WinWin Staff Folders\\Michael\\Replenishment program\\Replenishment\\Update\\Transform_Sales_Data\\transform.py:507: SettingWithCopyWarning: \n",
      "A value is trying to be set on a copy of a slice from a DataFrame.\n",
      "Try using .loc[row_indexer,col_indexer] = value instead\n",
      "\n",
      "See the caveats in the documentation: https://pandas.pydata.org/pandas-docs/stable/user_guide/indexing.html#returning-a-view-versus-a-copy\n",
      "  df['store_year'] = store_year\n",
      "C:\\Users\\User1\\OneDrive\\WinWin Staff Folders\\Michael\\Replenishment program\\Replenishment\\Update\\Transform_Sales_Data\\transform.py:508: SettingWithCopyWarning: \n",
      "A value is trying to be set on a copy of a slice from a DataFrame.\n",
      "Try using .loc[row_indexer,col_indexer] = value instead\n",
      "\n",
      "See the caveats in the documentation: https://pandas.pydata.org/pandas-docs/stable/user_guide/indexing.html#returning-a-view-versus-a-copy\n",
      "  df['store_week'] = store_week\n",
      "C:\\Users\\User1\\OneDrive\\WinWin Staff Folders\\Michael\\Replenishment program\\Replenishment\\Update\\Transform_Sales_Data\\transform.py:510: SettingWithCopyWarning: \n",
      "A value is trying to be set on a copy of a slice from a DataFrame.\n",
      "Try using .loc[row_indexer,col_indexer] = value instead\n",
      "\n",
      "See the caveats in the documentation: https://pandas.pydata.org/pandas-docs/stable/user_guide/indexing.html#returning-a-view-versus-a-copy\n",
      "  df['date'] = date\n"
     ]
    },
    {
     "name": "stdout",
     "output_type": "stream",
     "text": [
      "Found code for Sales table in support sheet instead of delivery table store 4176 upc: 81031202155\n",
      "Found code for Sales table in support sheet instead of delivery table store 4176 upc: 81031202229\n",
      "Found code for Sales table in support sheet instead of delivery table store 4176 upc: 81031202230\n",
      "Found code for Sales table in support sheet instead of delivery table store 70 upc: 81031202155\n",
      "Found code for Sales table in support sheet instead of delivery table store 3575 upc: 81031202278\n",
      "Found code for Sales table in support sheet instead of delivery table store 4191 upc: 81031202229\n",
      "Found code for Sales table in support sheet instead of delivery table store 4191 upc: 81031202118\n",
      "Found code for Sales table in support sheet instead of delivery table store 4191 upc: 81031202144\n",
      "Found code for Sales table in support sheet instead of delivery table store 4267 upc: 81031202144\n",
      "Found code for Sales table in support sheet instead of delivery table store 2578 upc: 81031202155\n",
      "Found code for Sales table in support sheet instead of delivery table store 3099 upc: 81031202230\n",
      "Found code for Sales table in support sheet instead of delivery table store 4112 upc: 81031202337\n",
      "Found code for Sales table in support sheet instead of delivery table store 4234 upc: 81031202337\n",
      "Found code for Sales table in support sheet instead of delivery table store 3215 upc: 81031202163\n",
      "Found code for Sales table in support sheet instead of delivery table store 3215 upc: 81031202141\n",
      "\n",
      " texas_division Sales Data Updated\n",
      "Updated: 0 Records\n",
      "Inserted: 98 Records\n",
      "\n",
      " texas_division Delivery Data Updated\n",
      "Updated: 19 Records\n",
      "Inserted: 0 Records\n",
      "No Programs have been established for these stores listed:\n",
      "\n",
      " [1057, 1776, 1786, 1972, 2481, 2544, 2673, 3054, 3312, 3522, 4062]\n",
      "texas_division_external_sales_report_Oct-10-2022.xlsx\n",
      "\n",
      "Sales Report Generated\n"
     ]
    }
   ],
   "source": [
    "# Texas Division\n",
    "from store_info import Replenishment\n",
    "\n",
    "texas_division = Replenishment(store_type_input='texas_division')\n",
    "\n",
    "\n",
    "current_week = input('Please input the name of the sales file for the \"Current Sales Week\"\\n')\n",
    "previous_week = input('Please input the name of the sales file for the \"Previous Sales Week\"\\n')\n",
    "\n",
    "texas_division.sales_update(sales_data_file_path + rf'\\{current_week}', sales_data_file_path + rf'\\{previous_week}' )\n",
    "texas_division.delivery_update(delivery_data_file_path + r'\\texas.csv')\n",
    "texas_division.sales_report()\n",
    "\n"
   ]
  },
  {
   "cell_type": "code",
   "execution_count": 4,
   "id": "ef4bf278",
   "metadata": {},
   "outputs": [
    {
     "name": "stdout",
     "output_type": "stream",
     "text": [
      "Found code for Sales table in support sheet instead of delivery table store 107.0 upc: 81031202324\n",
      "Found code for Sales table in support sheet instead of delivery table store 4.0 upc: 81031202127\n",
      "Found code for Sales table in support sheet instead of delivery table store 340.0 upc: 81031202324\n",
      "Found code for Sales table in support sheet instead of delivery table store 926.0 upc: 81031202324\n",
      "Found code for Sales table in support sheet instead of delivery table store 926.0 upc: 81031202367\n",
      "Found code for Sales table in support sheet instead of delivery table store 926.0 upc: 81031202367\n",
      "Found code for Sales table in support sheet instead of delivery table store 617.0 upc: 81031202324\n",
      "Found code for Sales table in support sheet instead of delivery table store 617.0 upc: 81031202324\n",
      "Found code for Sales table in support sheet instead of delivery table store 610.0 upc: 81031202251\n",
      "Found code for Sales table in support sheet instead of delivery table store 114.0 upc: 81031202370\n",
      "Found code for Sales table in support sheet instead of delivery table store 619.0 upc: 81031202370\n",
      "Found code for Sales table in support sheet instead of delivery table store 952.0 upc: 81031202370\n",
      "Found code for Sales table in support sheet instead of delivery table store 617.0 upc: 81031202125\n",
      "Found code for Sales table in support sheet instead of delivery table store 617.0 upc: 81031202125\n",
      "Found code for Sales table in support sheet instead of delivery table store 619.0 upc: 81031202214\n",
      "Found code for Sales table in support sheet instead of delivery table store 926.0 upc: 81031202214\n",
      "Found code for Sales table in support sheet instead of delivery table store 617.0 upc: 81031202054\n",
      "Found code for Sales table in support sheet instead of delivery table store 330.0 upc: 81031202335\n",
      "Found code for Sales table in support sheet instead of delivery table store 330.0 upc: 81031202335\n",
      "Found code for Sales table in support sheet instead of delivery table store 340.0 upc: 81031202258\n",
      "Found code for Sales table in support sheet instead of delivery table store 617.0 upc: 81031202098\n",
      "Found code for Sales table in support sheet instead of delivery table store 617.0 upc: 81031202098\n",
      "Found code for Sales table in support sheet instead of delivery table store 617.0 upc: 81031202098\n",
      "\n",
      " midwest Sales Data Updated\n",
      "Updated: 0 Records\n",
      "Inserted: 225 Records\n",
      "\n",
      " midwest Delivery Data Updated\n",
      "Updated: 112 Records\n",
      "Inserted: 3 Records\n",
      "No Programs have been established for these stores listed:\n",
      "\n",
      " [930]\n",
      "midwest_external_sales_report_Oct-10-2022.xlsx\n",
      "Error: No objects to concatenate\n",
      "\n",
      "Sales Report Generated\n"
     ]
    }
   ],
   "source": [
    "# fresh Encounter midwest\n",
    "from store_info import Replenishment\n",
    "\n",
    "fresh_encounter = Replenishment(store_type_input='midwest')\n",
    "\n",
    "fresh_encounter.sales_update(sales_data_file_path + r'\\fresh_sales.csv')\n",
    "fresh_encounter.delivery_update(delivery_data_file_path + r'\\fresh_encounter.csv')\n",
    "fresh_encounter.sales_report()"
   ]
  },
  {
   "cell_type": "code",
   "execution_count": 3,
   "id": "10c15ae6",
   "metadata": {},
   "outputs": [
    {
     "name": "stdout",
     "output_type": "stream",
     "text": [
      "Found code for Sales table in support sheet instead of delivery table store 443.0 upc: 81031202371\n",
      "Found code for Sales table in support sheet instead of delivery table store 460.0 upc: 81031202430\n",
      "Found code for Sales table in support sheet instead of delivery table store 449.0 upc: 81031202449\n",
      "Found code for Sales table in support sheet instead of delivery table store 441.0 upc: 81031202449\n",
      "Found code for Sales table in support sheet instead of delivery table store 441.0 upc: 81031202449\n",
      "Found code for Sales table in support sheet instead of delivery table store 432.0 upc: 81031202449\n",
      "Found code for Sales table in support sheet instead of delivery table store 453.0 upc: 81031202449\n",
      "Found code for Sales table in support sheet instead of delivery table store 456.0 upc: 81031202449\n",
      "Found code for Sales table in support sheet instead of delivery table store 478.0 upc: 81031202449\n",
      "Found code for Sales table in support sheet instead of delivery table store 459.0 upc: 81031202374\n",
      "Found code for Sales table in support sheet instead of delivery table store 478.0 upc: 81031202226\n",
      "Found code for Sales table in support sheet instead of delivery table store 462.0 upc: 81031202374\n",
      "Found code for Sales table in support sheet instead of delivery table store 463.0 upc: 81031202449\n",
      "Found code for Sales table in support sheet instead of delivery table store 440.0 upc: 81031202420\n",
      "Found code for Sales table in support sheet instead of delivery table store 443.0 upc: 81031202420\n",
      "Found code for Sales table in support sheet instead of delivery table store 436.0 upc: 81031202420\n",
      "Found code for Sales table in support sheet instead of delivery table store 436.0 upc: 81031202418\n",
      "Found code for Sales table in support sheet instead of delivery table store 435.0 upc: 81031202418\n",
      "Found code for Sales table in support sheet instead of delivery table store 435.0 upc: 81031202418\n",
      "Found code for Sales table in support sheet instead of delivery table store 470.0 upc: 81031202418\n",
      "Found code for Sales table in support sheet instead of delivery table store 471.0 upc: 81031202420\n",
      "Found code for Sales table in support sheet instead of delivery table store 455.0 upc: 81031202420\n",
      "Found code for Sales table in support sheet instead of delivery table store 461.0 upc: 81031202418\n",
      "Found code for Sales table in support sheet instead of delivery table store 461.0 upc: 81031202418\n",
      "Found code for Sales table in support sheet instead of delivery table store 454.0 upc: 81031202420\n",
      "Found code for Sales table in support sheet instead of delivery table store 473.0 upc: 81031202449\n",
      "Found code for Sales table in support sheet instead of delivery table store 475.0 upc: 81031202449\n",
      "Found code for Sales table in support sheet instead of delivery table store 480.0 upc: 81031202449\n",
      "Found code for Sales table in support sheet instead of delivery table store 480.0 upc: 81031202449\n",
      "Found code for Sales table in support sheet instead of delivery table store 465.0 upc: 81031202463\n",
      "Found code for Sales table in support sheet instead of delivery table store 467.0 upc: 81031202418\n",
      "Found code for Sales table in support sheet instead of delivery table store 473.0 upc: 81031202418\n",
      "Found code for Sales table in support sheet instead of delivery table store 477.0 upc: 81031202418\n",
      "Found code for Sales table in support sheet instead of delivery table store 478.0 upc: 81031202372\n",
      "Found code for Sales table in support sheet instead of delivery table store 478.0 upc: 81031202418\n",
      "Found code for Sales table in support sheet instead of delivery table store 479.0 upc: 81031202418\n",
      "Found code for Sales table in support sheet instead of delivery table store 473.0 upc: 81031202420\n",
      "Found code for Sales table in support sheet instead of delivery table store 455.0 upc: 81031202155\n",
      "Found code for Sales table in support sheet instead of delivery table store 465.0 upc: 81031202230\n",
      "Found code for Sales table in support sheet instead of delivery table store 435.0 upc: 81031202155\n",
      "\n",
      " sal Sales Data Updated\n",
      "Updated: 0 Records\n",
      "Inserted: 204 Records\n",
      "\n",
      " sal Delivery Data Updated\n",
      "Updated: 72 Records\n",
      "Inserted: 35 Records\n",
      "No Programs have been established for these stores listed:\n",
      "\n",
      " [431, 438, 458, 468]\n",
      "sal_external_sales_report_Oct-10-2022.xlsx\n",
      "\n",
      "Sales Report Generated\n"
     ]
    }
   ],
   "source": [
    "# fresh encounter SAL\n",
    "from store_info import Replenishment\n",
    "\n",
    "fresh_encounter = Replenishment(store_type_input='sal')\n",
    "\n",
    "fresh_encounter.sales_update(sales_data_file_path + r'\\fresh_sales.csv')\n",
    "fresh_encounter.delivery_update(delivery_data_file_path + r'\\fresh_encounter.csv')\n",
    "fresh_encounter.sales_report()"
   ]
  },
  {
   "cell_type": "code",
   "execution_count": 3,
   "id": "930a2b87",
   "metadata": {
    "collapsed": true
   },
   "outputs": [
    {
     "ename": "KeyboardInterrupt",
     "evalue": "Interrupted by user",
     "output_type": "error",
     "traceback": [
      "\u001b[1;31m---------------------------------------------------------------------------\u001b[0m",
      "\u001b[1;31mKeyboardInterrupt\u001b[0m                         Traceback (most recent call last)",
      "\u001b[1;32m~\\AppData\\Local\\Temp/ipykernel_12400/1386937230.py\u001b[0m in \u001b[0;36m<module>\u001b[1;34m\u001b[0m\n\u001b[0;32m      4\u001b[0m \u001b[0mintermountain\u001b[0m \u001b[1;33m=\u001b[0m \u001b[0mReplenishment\u001b[0m\u001b[1;33m(\u001b[0m\u001b[0mstore_type_input\u001b[0m\u001b[1;33m=\u001b[0m\u001b[1;34m'intermountain'\u001b[0m\u001b[1;33m)\u001b[0m\u001b[1;33m\u001b[0m\u001b[1;33m\u001b[0m\u001b[0m\n\u001b[0;32m      5\u001b[0m \u001b[1;33m\u001b[0m\u001b[0m\n\u001b[1;32m----> 6\u001b[1;33m \u001b[0mcurrent_week\u001b[0m \u001b[1;33m=\u001b[0m \u001b[0minput\u001b[0m\u001b[1;33m(\u001b[0m\u001b[1;34m'Please input the name of the sales file for the \"Current Sales Week\"\\n'\u001b[0m\u001b[1;33m)\u001b[0m\u001b[1;33m\u001b[0m\u001b[1;33m\u001b[0m\u001b[0m\n\u001b[0m\u001b[0;32m      7\u001b[0m \u001b[0mprevious_week\u001b[0m \u001b[1;33m=\u001b[0m \u001b[0minput\u001b[0m\u001b[1;33m(\u001b[0m\u001b[1;34m'Please input the name of the sales file for the \"Previous Sales Week\"\\n'\u001b[0m\u001b[1;33m)\u001b[0m\u001b[1;33m\u001b[0m\u001b[1;33m\u001b[0m\u001b[0m\n\u001b[0;32m      8\u001b[0m \u001b[1;33m\u001b[0m\u001b[0m\n",
      "\u001b[1;32m~\\anaconda3\\lib\\site-packages\\ipykernel\\kernelbase.py\u001b[0m in \u001b[0;36mraw_input\u001b[1;34m(self, prompt)\u001b[0m\n\u001b[0;32m   1004\u001b[0m                 \u001b[1;34m\"raw_input was called, but this frontend does not support input requests.\"\u001b[0m\u001b[1;33m\u001b[0m\u001b[1;33m\u001b[0m\u001b[0m\n\u001b[0;32m   1005\u001b[0m             )\n\u001b[1;32m-> 1006\u001b[1;33m         return self._input_request(\n\u001b[0m\u001b[0;32m   1007\u001b[0m             \u001b[0mstr\u001b[0m\u001b[1;33m(\u001b[0m\u001b[0mprompt\u001b[0m\u001b[1;33m)\u001b[0m\u001b[1;33m,\u001b[0m\u001b[1;33m\u001b[0m\u001b[1;33m\u001b[0m\u001b[0m\n\u001b[0;32m   1008\u001b[0m             \u001b[0mself\u001b[0m\u001b[1;33m.\u001b[0m\u001b[0m_parent_ident\u001b[0m\u001b[1;33m[\u001b[0m\u001b[1;34m\"shell\"\u001b[0m\u001b[1;33m]\u001b[0m\u001b[1;33m,\u001b[0m\u001b[1;33m\u001b[0m\u001b[1;33m\u001b[0m\u001b[0m\n",
      "\u001b[1;32m~\\anaconda3\\lib\\site-packages\\ipykernel\\kernelbase.py\u001b[0m in \u001b[0;36m_input_request\u001b[1;34m(self, prompt, ident, parent, password)\u001b[0m\n\u001b[0;32m   1049\u001b[0m             \u001b[1;32mexcept\u001b[0m \u001b[0mKeyboardInterrupt\u001b[0m\u001b[1;33m:\u001b[0m\u001b[1;33m\u001b[0m\u001b[1;33m\u001b[0m\u001b[0m\n\u001b[0;32m   1050\u001b[0m                 \u001b[1;31m# re-raise KeyboardInterrupt, to truncate traceback\u001b[0m\u001b[1;33m\u001b[0m\u001b[1;33m\u001b[0m\u001b[0m\n\u001b[1;32m-> 1051\u001b[1;33m                 \u001b[1;32mraise\u001b[0m \u001b[0mKeyboardInterrupt\u001b[0m\u001b[1;33m(\u001b[0m\u001b[1;34m\"Interrupted by user\"\u001b[0m\u001b[1;33m)\u001b[0m \u001b[1;32mfrom\u001b[0m \u001b[1;32mNone\u001b[0m\u001b[1;33m\u001b[0m\u001b[1;33m\u001b[0m\u001b[0m\n\u001b[0m\u001b[0;32m   1052\u001b[0m             \u001b[1;32mexcept\u001b[0m \u001b[0mException\u001b[0m\u001b[1;33m:\u001b[0m\u001b[1;33m\u001b[0m\u001b[1;33m\u001b[0m\u001b[0m\n\u001b[0;32m   1053\u001b[0m                 \u001b[0mself\u001b[0m\u001b[1;33m.\u001b[0m\u001b[0mlog\u001b[0m\u001b[1;33m.\u001b[0m\u001b[0mwarning\u001b[0m\u001b[1;33m(\u001b[0m\u001b[1;34m\"Invalid Message:\"\u001b[0m\u001b[1;33m,\u001b[0m \u001b[0mexc_info\u001b[0m\u001b[1;33m=\u001b[0m\u001b[1;32mTrue\u001b[0m\u001b[1;33m)\u001b[0m\u001b[1;33m\u001b[0m\u001b[1;33m\u001b[0m\u001b[0m\n",
      "\u001b[1;31mKeyboardInterrupt\u001b[0m: Interrupted by user"
     ]
    }
   ],
   "source": [
    "# Intermountain \n",
    "from store_info import Replenishment\n",
    "\n",
    "intermountain = Replenishment(store_type_input='intermountain')\n",
    "\n",
    "current_week = input('Please input the name of the sales file for the \"Current Sales Week\"\\n')\n",
    "previous_week = input('Please input the name of the sales file for the \"Previous Sales Week\"\\n')\n",
    "\n",
    "intermountain.sales_update(sales_data_file_path + rf'\\{current_week}', sales_data_file_path + rf'\\{previous_week}' )\n",
    "# intermountain.delivery_update(delivery_data_file_path + r'\\intermountain.csv')\n",
    "# intermountain.sales_report()"
   ]
  },
  {
   "cell_type": "code",
   "execution_count": 4,
   "id": "e8105cda",
   "metadata": {
    "collapsed": true
   },
   "outputs": [
    {
     "name": "stdout",
     "output_type": "stream",
     "text": [
      "\n",
      " follett Sales Data Imported\n",
      "No Programs have been established for these stores listed:\n",
      "\n",
      " []\n",
      "152\n",
      "0\n",
      "1\n",
      "2\n",
      "3\n",
      "4\n",
      "5\n",
      "6\n",
      "7\n",
      "8\n",
      "9\n",
      "10\n",
      "11\n",
      "12\n",
      "13\n",
      "14\n",
      "15\n",
      "16\n",
      "17\n",
      "18\n",
      "19\n",
      "20\n",
      "21\n",
      "22\n",
      "23\n",
      "24\n",
      "25\n",
      "26\n",
      "27\n",
      "28\n",
      "29\n",
      "30\n",
      "31\n",
      "32\n",
      "33\n",
      "34\n",
      "35\n",
      "36\n",
      "37\n",
      "38\n",
      "39\n",
      "40\n",
      "41\n",
      "42\n",
      "43\n",
      "44\n",
      "45\n",
      "46\n",
      "47\n",
      "48\n",
      "49\n",
      "50\n",
      "51\n",
      "52\n",
      "53\n",
      "54"
     ]
    },
    {
     "name": "stderr",
     "output_type": "stream",
     "text": [
      "C:\\Users\\User1\\anaconda3\\lib\\site-packages\\pandas\\core\\indexing.py:1684: SettingWithCopyWarning: \n",
      "A value is trying to be set on a copy of a slice from a DataFrame.\n",
      "Try using .loc[row_indexer,col_indexer] = value instead\n",
      "\n",
      "See the caveats in the documentation: https://pandas.pydata.org/pandas-docs/stable/user_guide/indexing.html#returning-a-view-versus-a-copy\n",
      "  self.obj[key] = infer_fill_value(value)\n",
      "C:\\Users\\User1\\anaconda3\\lib\\site-packages\\pandas\\core\\indexing.py:1817: SettingWithCopyWarning: \n",
      "A value is trying to be set on a copy of a slice from a DataFrame.\n",
      "Try using .loc[row_indexer,col_indexer] = value instead\n",
      "\n",
      "See the caveats in the documentation: https://pandas.pydata.org/pandas-docs/stable/user_guide/indexing.html#returning-a-view-versus-a-copy\n",
      "  self._setitem_single_column(loc, value, pi)\n"
     ]
    },
    {
     "name": "stdout",
     "output_type": "stream",
     "text": [
      "\n",
      "55\n",
      "56\n",
      "57\n",
      "58\n",
      "59\n",
      "60\n",
      "61\n",
      "62\n",
      "63\n",
      "64\n",
      "65\n",
      "66\n",
      "67\n",
      "68\n",
      "69\n",
      "70\n",
      "71\n",
      "72\n",
      "73\n",
      "74\n",
      "75\n",
      "76\n",
      "77\n",
      "78\n",
      "79\n",
      "80\n",
      "81\n",
      "82\n",
      "83\n",
      "84\n",
      "85\n",
      "86\n",
      "87\n",
      "88\n",
      "89\n",
      "90\n",
      "91\n",
      "92\n",
      "93\n",
      "94\n",
      "95\n",
      "96\n",
      "97\n",
      "98\n",
      "99\n",
      "100\n",
      "101\n",
      "102\n",
      "103\n",
      "104\n",
      "105\n",
      "106\n",
      "107\n",
      "108\n",
      "109\n",
      "110\n",
      "111\n",
      "112\n",
      "113\n",
      "114\n",
      "115\n",
      "116\n",
      "117\n",
      "118\n",
      "119\n",
      "120\n",
      "121\n",
      "122\n",
      "123\n",
      "124\n",
      "125\n",
      "126\n",
      "127\n",
      "128\n",
      "129\n",
      "130\n",
      "131\n",
      "132\n",
      "133\n",
      "134\n",
      "135\n",
      "136\n",
      "137\n",
      "138\n",
      "139\n",
      "140\n",
      "141\n",
      "142\n",
      "143\n",
      "144\n",
      "145\n",
      "146\n",
      "147\n",
      "148\n",
      "149\n",
      "150\n",
      "151\n",
      "follett_external_sales_report_Sep-30-2022.xlsx\n",
      "\n",
      "Sales Report Generated\n"
     ]
    }
   ],
   "source": [
    "# follett\n",
    "from store_info import Replenishment\n",
    "\n",
    "follett = Replenishment(store_type_input='follett')\n",
    "\n",
    "follett.sales_import(file=r'C:\\Users\\User1\\OneDrive\\WinWin Staff Folders\\Michael\\Replenishment program\\Replenishment\\support document\\sales\\follett_salesdata_fixed.xlsx')\n",
    "# follett.delivery_update(delivery_data_file_path + r'\\follett.csv')\n",
    "follett.sales_report()                                         "
   ]
  },
  {
   "cell_type": "code",
   "execution_count": 2,
   "id": "1b14fb31",
   "metadata": {},
   "outputs": [
    {
     "name": "stderr",
     "output_type": "stream",
     "text": [
      "C:\\Users\\User1\\OneDrive\\WinWin Staff Folders\\Michael\\Replenishment program\\Replenishment\\Update\\Transform_Sales_Data\\transform.py:376: FutureWarning: The default value of regex will change from True to False in a future version.\n",
      "  old['store_type'] = old.store_type.str.replace('[^a-zA-Z]', '')\n"
     ]
    },
    {
     "name": "stdout",
     "output_type": "stream",
     "text": [
      "Found code for Sales table in support sheet instead of delivery table store 3478 upc: 81031202231\n",
      "Found code for Sales table in support sheet instead of delivery table store 3465 upc: 81031202045\n",
      "Found code for Sales table in support sheet instead of delivery table store 3464 upc: 81031202155\n",
      "Found code for Sales table in support sheet instead of delivery table store 202 upc: 81031202045\n",
      "Found code for Sales table in support sheet instead of delivery table store 3546 upc: 81031202045\n",
      "Found code for Sales table in support sheet instead of delivery table store 264 upc: 81031202350\n",
      "Found code for Sales table in support sheet instead of delivery table store 1296 upc: 81031202045\n",
      "Found code for Sales table in support sheet instead of delivery table store 3465 upc: 81031202045\n",
      "Found code for Sales table in support sheet instead of delivery table store 264 upc: 81031202229\n",
      "Found code for Sales table in support sheet instead of delivery table store 264 upc: 81031202350\n",
      "Found code for Sales table in support sheet instead of delivery table store 3051 upc: 81031202155\n",
      "Found code for Sales table in support sheet instead of delivery table store 1296 upc: 81031202045\n",
      "Found code for Sales table in support sheet instead of delivery table store 157 upc: 81031202418\n",
      "Found code for Sales table in support sheet instead of delivery table store 157 upc: 81031202420\n",
      "Found code for Sales table in support sheet instead of delivery table store 1296 upc: 81031202045\n",
      "Found code for Sales table in support sheet instead of delivery table store 3465 upc: 81031202045\n",
      "Found code for Sales table in support sheet instead of delivery table store 3181 upc: 81031202305\n",
      "Found code for Sales table in support sheet instead of delivery table store 1189 upc: 81031202045\n",
      "Found code for Sales table in support sheet instead of delivery table store 3348 upc: 81031202373\n",
      "Found code for Sales table in support sheet instead of delivery table store 185 upc: 81031202045\n",
      "Found code for Sales table in support sheet instead of delivery table store 3776 upc: 81031202230\n",
      "Found code for Sales table in support sheet instead of delivery table store 3459 upc: 81031202045\n",
      "Found code for Sales table in support sheet instead of delivery table store 3429 upc: 81031202230\n",
      "Found code for Sales table in support sheet instead of delivery table store 157 upc: 81031202386\n",
      "Found code for Sales table in support sheet instead of delivery table store 4252 upc: 81031202045\n",
      "Found code for Sales table in support sheet instead of delivery table store 3730 upc: 81031202045\n",
      "Found code for Sales table in support sheet instead of delivery table store 3176 upc: 81031202229\n",
      "Found code for Sales table in support sheet instead of delivery table store 3374 upc: 81031202155\n",
      "Found code for Sales table in support sheet instead of delivery table store 1296 upc: 81031202045\n",
      "\n",
      " jewel Sales Data Updated\n",
      "Updated: 78 Records\n",
      "Inserted: 470 Records\n",
      "\n",
      " jewel Delivery Data Updated\n",
      "Updated: 49 Records\n",
      "Inserted: 21 Records\n",
      "No Programs have been established for these stores listed:\n",
      "\n",
      " [157, 1282, 3053, 3220, 3349, 3421, 3425, 3429, 3443, 3446, 3455, 3461, 3473, 3477, 3481, 3491, 3514, 3720, 3721, 3775, 4060]\n"
     ]
    },
    {
     "name": "stderr",
     "output_type": "stream",
     "text": [
      "C:\\Users\\User1\\anaconda3\\lib\\site-packages\\pandas\\core\\indexing.py:1684: SettingWithCopyWarning: \n",
      "A value is trying to be set on a copy of a slice from a DataFrame.\n",
      "Try using .loc[row_indexer,col_indexer] = value instead\n",
      "\n",
      "See the caveats in the documentation: https://pandas.pydata.org/pandas-docs/stable/user_guide/indexing.html#returning-a-view-versus-a-copy\n",
      "  self.obj[key] = infer_fill_value(value)\n",
      "C:\\Users\\User1\\anaconda3\\lib\\site-packages\\pandas\\core\\indexing.py:1817: SettingWithCopyWarning: \n",
      "A value is trying to be set on a copy of a slice from a DataFrame.\n",
      "Try using .loc[row_indexer,col_indexer] = value instead\n",
      "\n",
      "See the caveats in the documentation: https://pandas.pydata.org/pandas-docs/stable/user_guide/indexing.html#returning-a-view-versus-a-copy\n",
      "  self._setitem_single_column(loc, value, pi)\n"
     ]
    },
    {
     "name": "stdout",
     "output_type": "stream",
     "text": [
      "jewel_external_sales_report_Oct-10-2022.xlsx\n",
      "\n",
      "Sales Report Generated\n"
     ]
    }
   ],
   "source": [
    "# jewel\n",
    "from store_info import Replenishment\n",
    "\n",
    "jewel = Replenishment(store_type_input='jewel')\n",
    "\n",
    "jewel.sales_update(sales_data_file_path + r'\\jewel_sales.xlsx')\n",
    "jewel.delivery_update(delivery_data_file_path + r'\\jewel.csv')\n",
    "\n",
    "\n",
    "jewel.sales_report()"
   ]
  },
  {
   "cell_type": "code",
   "execution_count": 2,
   "id": "2628b1d3",
   "metadata": {},
   "outputs": [
    {
     "name": "stderr",
     "output_type": "stream",
     "text": [
      "C:\\Users\\User1\\anaconda3\\lib\\site-packages\\pandas\\core\\frame.py:3641: SettingWithCopyWarning: \n",
      "A value is trying to be set on a copy of a slice from a DataFrame.\n",
      "Try using .loc[row_indexer,col_indexer] = value instead\n",
      "\n",
      "See the caveats in the documentation: https://pandas.pydata.org/pandas-docs/stable/user_guide/indexing.html#returning-a-view-versus-a-copy\n",
      "  self[k1] = value[k2]\n",
      "C:\\Users\\User1\\OneDrive\\WinWin Staff Folders\\Michael\\Replenishment program\\Replenishment\\Update\\Transform_Sales_Data\\transform.py:86: FutureWarning: The default value of regex will change from True to False in a future version.\n",
      "  new['RPT_SHORT_DESC'] = new.RPT_SHORT_DESC.str.replace('[^a-zA-Z]', '')\n"
     ]
    },
    {
     "name": "stdout",
     "output_type": "stream",
     "text": [
      "Found code for Sales table in support sheet instead of delivery table store 493 upc: 81031202373\n",
      "Found code for Sales table in support sheet instead of delivery table store 394 upc: 81031202373\n",
      "\n",
      " kroger_atlanta Sales Data Updated\n",
      "Updated: 260 Records\n",
      "Inserted: 308 Records\n",
      "\n",
      " kroger_atlanta Delivery Data Updated\n",
      "Updated: 0 Records\n",
      "Inserted: 57 Records\n",
      "No Programs have been established for these stores listed:\n",
      "\n",
      " []\n"
     ]
    },
    {
     "name": "stderr",
     "output_type": "stream",
     "text": [
      "C:\\Users\\User1\\anaconda3\\lib\\site-packages\\pandas\\core\\indexing.py:1684: SettingWithCopyWarning: \n",
      "A value is trying to be set on a copy of a slice from a DataFrame.\n",
      "Try using .loc[row_indexer,col_indexer] = value instead\n",
      "\n",
      "See the caveats in the documentation: https://pandas.pydata.org/pandas-docs/stable/user_guide/indexing.html#returning-a-view-versus-a-copy\n",
      "  self.obj[key] = infer_fill_value(value)\n",
      "C:\\Users\\User1\\anaconda3\\lib\\site-packages\\pandas\\core\\indexing.py:1817: SettingWithCopyWarning: \n",
      "A value is trying to be set on a copy of a slice from a DataFrame.\n",
      "Try using .loc[row_indexer,col_indexer] = value instead\n",
      "\n",
      "See the caveats in the documentation: https://pandas.pydata.org/pandas-docs/stable/user_guide/indexing.html#returning-a-view-versus-a-copy\n",
      "  self._setitem_single_column(loc, value, pi)\n"
     ]
    },
    {
     "name": "stdout",
     "output_type": "stream",
     "text": [
      "kroger_atlanta_external_sales_report_Oct-10-2022.xlsx\n",
      "\n",
      "Sales Report Generated\n"
     ]
    }
   ],
   "source": [
    "# atlanta\n",
    "from store_info import Replenishment\n",
    "\n",
    "atlanta = Replenishment(store_type_input='kroger_atlanta')\n",
    "\n",
    "atlanta.sales_update(sales_data_file_path + r'\\Sherlock Store Matrix.csv')\n",
    "atlanta.delivery_update(delivery_data_file_path + r'\\atlanta.csv')\n",
    "atlanta.sales_report()"
   ]
  },
  {
   "cell_type": "code",
   "execution_count": 3,
   "id": "68debb9c",
   "metadata": {},
   "outputs": [
    {
     "name": "stdout",
     "output_type": "stream",
     "text": [
      "Found code for Sales table in support sheet instead of delivery table store 900 upc: 81031202045\n",
      "Found code for Sales table in support sheet instead of delivery table store 909 upc: 81031202045\n",
      "Found code for Sales table in support sheet instead of delivery table store 86 upc: 81031202045\n",
      "Found code for Sales table in support sheet instead of delivery table store 946 upc: 81031202045\n",
      "Found code for Sales table in support sheet instead of delivery table store 886 upc: 81031202230\n",
      "Found code for Sales table in support sheet instead of delivery table store 918 upc: 81031202045\n",
      "Found code for Sales table in support sheet instead of delivery table store 927 upc: 81031202230\n",
      "Found code for Sales table in support sheet instead of delivery table store 918 upc: 81031202372\n",
      "Found code for Sales table in support sheet instead of delivery table store 330 upc: 81031202385\n",
      "Found code for Sales table in support sheet instead of delivery table store 900 upc: 81031202045\n",
      "Found code for Sales table in support sheet instead of delivery table store 989 upc: 81031202236\n",
      "Found code for Sales table in support sheet instead of delivery table store 822 upc: 81031202045\n",
      "Found code for Sales table in support sheet instead of delivery table store 993 upc: 81031202045\n",
      "Found code for Sales table in support sheet instead of delivery table store 972 upc: 81031202384\n",
      "Found code for Sales table in support sheet instead of delivery table store 990 upc: 81031202155\n",
      "Found code for Sales table in support sheet instead of delivery table store 945 upc: 81031202366\n",
      "\n",
      " kroger_central Sales Data Updated\n",
      "Updated: 95 Records\n",
      "Inserted: 113 Records\n",
      "\n",
      " kroger_central Delivery Data Updated\n",
      "Updated: 0 Records\n",
      "Inserted: 22 Records\n",
      "No Programs have been established for these stores listed:\n",
      "\n",
      " [1, 889]\n",
      "kroger_central_external_sales_report_Oct-10-2022.xlsx\n",
      "\n",
      "Sales Report Generated\n"
     ]
    }
   ],
   "source": [
    "# central\n",
    "from store_info import Replenishment\n",
    "\n",
    "central = Replenishment(store_type_input='kroger_central')\n",
    "\n",
    "\n",
    "central.sales_update( sales_data_file_path + r'\\Sherlock Store Matrix.csv')\n",
    "central.delivery_update(delivery_data_file_path + r'\\central.csv')\n",
    "central.sales_report()"
   ]
  },
  {
   "cell_type": "code",
   "execution_count": 4,
   "id": "b125d768",
   "metadata": {},
   "outputs": [
    {
     "name": "stdout",
     "output_type": "stream",
     "text": [
      "\n",
      " kroger_columbus Sales Data Updated\n",
      "Updated: 194 Records\n",
      "Inserted: 206 Records\n",
      "\n",
      " kroger_columbus Delivery Data Updated\n",
      "Updated: 0 Records\n",
      "Inserted: 33 Records\n",
      "No Programs have been established for these stores listed:\n",
      "\n",
      " []\n",
      "kroger_columbus_external_sales_report_Oct-10-2022.xlsx\n",
      "\n",
      "Sales Report Generated\n"
     ]
    }
   ],
   "source": [
    "# columubus\n",
    "from store_info import Replenishment\n",
    "\n",
    "columbus = Replenishment(store_type_input='kroger_columbus')\n",
    "\n",
    "\n",
    "columbus.sales_update(sales_data_file_path + r'\\Sherlock Store Matrix.csv')\n",
    "columbus.delivery_update(delivery_data_file_path + r'\\columbus.csv')\n",
    "columbus.sales_report()"
   ]
  },
  {
   "cell_type": "code",
   "execution_count": 3,
   "id": "4bd39071",
   "metadata": {},
   "outputs": [
    {
     "name": "stdout",
     "output_type": "stream",
     "text": [
      "No Programs have been established for these stores listed:\n",
      "\n",
      " []\n",
      "kroger_dallas_external_sales_report_Oct-10-2022.xlsx\n",
      "\n",
      "Sales Report Generated\n"
     ]
    }
   ],
   "source": [
    "# dallas\n",
    "from store_info import Replenishment\n",
    "\n",
    "dallas = Replenishment(store_type_input='kroger_dallas')\n",
    "\n",
    "\n",
    "\n",
    "# dallas.sales_update(sales_data_file_path + r'\\Sherlock Store Matrix.csv')\n",
    "# dallas.delivery_update(delivery_data_file_path + r'\\dallas.csv')\n",
    "dallas.sales_report()"
   ]
  },
  {
   "cell_type": "code",
   "execution_count": 6,
   "id": "4b6df5d5",
   "metadata": {},
   "outputs": [
    {
     "name": "stdout",
     "output_type": "stream",
     "text": [
      "\n",
      " kroger_dillons Sales Data Updated\n",
      "Updated: 119 Records\n",
      "Inserted: 140 Records\n",
      "\n",
      " kroger_dillons Delivery Data Updated\n",
      "Updated: 66 Records\n",
      "Inserted: 18 Records\n",
      "No Programs have been established for these stores listed:\n",
      "\n",
      " []\n",
      "kroger_dillons_external_sales_report_Oct-10-2022.xlsx\n",
      "\n",
      "Sales Report Generated\n"
     ]
    }
   ],
   "source": [
    "# dillons\n",
    "from store_info import Replenishment\n",
    "\n",
    "dillons = Replenishment(store_type_input='kroger_dillons')\n",
    "\n",
    "dillons.sales_update(sales_data_file_path + r'\\Sherlock Store Matrix.csv')\n",
    "dillons.delivery_update(delivery_data_file_path + r'\\dillons.csv')\n",
    "dillons.sales_report()"
   ]
  },
  {
   "cell_type": "code",
   "execution_count": 7,
   "id": "881ba544",
   "metadata": {},
   "outputs": [
    {
     "name": "stdout",
     "output_type": "stream",
     "text": [
      "\n",
      " kroger_king_soopers Sales Data Updated\n",
      "Updated: 55 Records\n",
      "Inserted: 77 Records\n",
      "\n",
      " kroger_king_soopers Delivery Data Updated\n",
      "Updated: 27 Records\n",
      "Inserted: 3 Records\n",
      "No Programs have been established for these stores listed:\n",
      "\n",
      " []\n",
      "kroger_king_soopers_external_sales_report_Oct-10-2022.xlsx\n",
      "\n",
      "Sales Report Generated\n"
     ]
    }
   ],
   "source": [
    "# king sooper\n",
    "from store_info import Replenishment\n",
    "\n",
    "king_soopers = Replenishment(store_type_input='kroger_king_soopers')\n",
    "\n",
    "\n",
    "king_soopers.sales_update(sales_data_file_path + r'\\Sherlock Store Matrix.csv')\n",
    "king_soopers.delivery_update(delivery_data_file_path + r'\\king.csv')\n",
    "king_soopers.sales_report()"
   ]
  },
  {
   "cell_type": "code",
   "execution_count": 8,
   "id": "1efb8bb5",
   "metadata": {},
   "outputs": [
    {
     "name": "stdout",
     "output_type": "stream",
     "text": [
      "\n",
      " kroger_louisville Sales Data Updated\n",
      "Updated: 127 Records\n",
      "Inserted: 135 Records\n",
      "\n",
      " kroger_louisville Delivery Data Updated\n",
      "Updated: 0 Records\n",
      "Inserted: 24 Records\n",
      "No Programs have been established for these stores listed:\n",
      "\n",
      " []\n",
      "kroger_louisville_external_sales_report_Oct-10-2022.xlsx\n",
      "\n",
      "Sales Report Generated\n"
     ]
    }
   ],
   "source": [
    "# louisville\n",
    "from store_info import Replenishment\n",
    "\n",
    "louisville = Replenishment(store_type_input='kroger_louisville')\n",
    "\n",
    "louisville.sales_update(sales_data_file_path + r'\\Sherlock Store Matrix.csv')\n",
    "louisville.delivery_update(delivery_data_file_path + r'\\louisville.csv')\n",
    "louisville.sales_report()"
   ]
  },
  {
   "cell_type": "code",
   "execution_count": 9,
   "id": "05d85060",
   "metadata": {},
   "outputs": [
    {
     "name": "stdout",
     "output_type": "stream",
     "text": [
      "Found code for Sales table in support sheet instead of delivery table store 449 upc: 81031202046\n",
      "Found code for Sales table in support sheet instead of delivery table store 706 upc: 81031202046\n",
      "Found code for Sales table in support sheet instead of delivery table store 638 upc: 81031202045\n",
      "Found code for Sales table in support sheet instead of delivery table store 706 upc: 81031202367\n",
      "Found code for Sales table in support sheet instead of delivery table store 449 upc: 81031202046\n",
      "Found code for Sales table in support sheet instead of delivery table store 638 upc: 81031202045\n",
      "\n",
      " kroger_michigan Sales Data Updated\n",
      "Updated: 52 Records\n",
      "Inserted: 67 Records\n",
      "\n",
      " kroger_michigan Delivery Data Updated\n",
      "Updated: 0 Records\n",
      "Inserted: 10 Records\n",
      "No Programs have been established for these stores listed:\n",
      "\n",
      " [115]\n",
      "kroger_michigan_external_sales_report_Oct-10-2022.xlsx\n",
      "\n",
      "Sales Report Generated\n"
     ]
    }
   ],
   "source": [
    "# michigan\n",
    "from store_info import Replenishment\n",
    "\n",
    "michigan = Replenishment(store_type_input='kroger_michigan')\n",
    "\n",
    "michigan.sales_update(sales_data_file_path + r'\\Sherlock Store Matrix.csv')\n",
    "michigan.delivery_update(delivery_data_file_path + r'\\michigan.csv')\n",
    "michigan.sales_report()"
   ]
  },
  {
   "cell_type": "code",
   "execution_count": 10,
   "id": "04a8d7cc",
   "metadata": {},
   "outputs": [
    {
     "name": "stdout",
     "output_type": "stream",
     "text": [
      "Found code for Sales table in support sheet instead of delivery table store 542 upc: 81031202367\n",
      "Found code for Sales table in support sheet instead of delivery table store 684 upc: 81031202111\n",
      "\n",
      " kroger_nashville Sales Data Updated\n",
      "Updated: 141 Records\n",
      "Inserted: 160 Records\n",
      "\n",
      " kroger_nashville Delivery Data Updated\n",
      "Updated: 0 Records\n",
      "Inserted: 36 Records\n",
      "No Programs have been established for these stores listed:\n",
      "\n",
      " []\n",
      "kroger_nashville_external_sales_report_Oct-10-2022.xlsx\n",
      "\n",
      "Sales Report Generated\n"
     ]
    }
   ],
   "source": [
    "# nashville\n",
    "from store_info import Replenishment\n",
    "\n",
    "nashville = Replenishment(store_type_input='kroger_nashville')\n",
    "\n",
    "\n",
    "nashville.sales_update(sales_data_file_path + r'\\Sherlock Store Matrix.csv')\n",
    "nashville.delivery_update(delivery_data_file_path + r'\\nashville.csv')\n",
    "nashville.sales_report()"
   ]
  },
  {
   "cell_type": "code",
   "execution_count": 11,
   "id": "9d2cb4fe",
   "metadata": {},
   "outputs": [
    {
     "name": "stdout",
     "output_type": "stream",
     "text": [
      "Found code for Sales table in support sheet instead of delivery table store 230 upc: 81031202229\n",
      "Found code for Sales table in support sheet instead of delivery table store 233 upc: 81031202335\n",
      "Found code for Sales table in support sheet instead of delivery table store 249 upc: 81031202229\n",
      "Found code for Sales table in support sheet instead of delivery table store 424 upc: 81031202127\n",
      "Found code for Sales table in support sheet instead of delivery table store 428 upc: 81031202374\n",
      "Found code for Sales table in support sheet instead of delivery table store 428 upc: 81031202125\n",
      "Found code for Sales table in support sheet instead of delivery table store 433 upc: 81031202258\n",
      "Found code for Sales table in support sheet instead of delivery table store 433 upc: 81031202127\n",
      "Found code for Sales table in support sheet instead of delivery table store 608 upc: 81031202125\n",
      "Found code for Sales table in support sheet instead of delivery table store 610 upc: 81031202271\n",
      "Found code for Sales table in support sheet instead of delivery table store 610 upc: 81031202236\n",
      "Found code for Sales table in support sheet instead of delivery table store 610 upc: 81031202234\n",
      "Found code for Sales table in support sheet instead of delivery table store 610 upc: 81031202230\n",
      "Found code for Sales table in support sheet instead of delivery table store 610 upc: 81031202229\n",
      "Found code for Sales table in support sheet instead of delivery table store 620 upc: 81031202170\n",
      "Found code for Sales table in support sheet instead of delivery table store 646 upc: 81031202230\n",
      "Found code for Sales table in support sheet instead of delivery table store 665 upc: 81031202172\n",
      "Found code for Sales table in support sheet instead of delivery table store 665 upc: 81031202155\n",
      "Found code for Sales table in support sheet instead of delivery table store 687 upc: 81031202325\n",
      "Found code for Sales table in support sheet instead of delivery table store 687 upc: 81031202324\n",
      "Found code for Sales table in support sheet instead of delivery table store 706 upc: 81031202232\n",
      "Found code for Sales table in support sheet instead of delivery table store 715 upc: 81031202373\n",
      "Found code for Sales table in support sheet instead of delivery table store 716 upc: 81031202258\n",
      "Found code for Sales table in support sheet instead of delivery table store 726 upc: 81031202264\n",
      "Found code for Sales table in support sheet instead of delivery table store 727 upc: 81031202324\n",
      "Found code for Sales table in support sheet instead of delivery table store 839 upc: 81031202372\n",
      "Found code for Sales table in support sheet instead of delivery table store 865 upc: 81031202045\n",
      "Found code for Sales table in support sheet instead of delivery table store 865 upc: 81031202230\n",
      "Found code for Sales table in support sheet instead of delivery table store 865 upc: 81031202324\n",
      "Found code for Sales table in support sheet instead of delivery table store 893 upc: 81031202324\n",
      "Found code for Sales table in support sheet instead of delivery table store 2446 upc: 81031202243\n",
      "Found code for Sales table in support sheet instead of delivery table store 2446 upc: 81031202258\n",
      "Found code for Sales table in support sheet instead of delivery table store 2446 upc: 81031202127\n",
      "\n",
      " kvat Sales Data Updated\n",
      "Updated: 0 Records\n",
      "Inserted: 410 Records\n",
      "\n",
      " kvat Delivery Data Updated\n",
      "Updated: 0 Records\n",
      "Inserted: 22 Records\n",
      "No Programs have been established for these stores listed:\n",
      "\n",
      " [206, 614, 626, 678, 694, 735, 735, 848, 2803]\n",
      "kvat_external_sales_report_Oct-10-2022.xlsx\n",
      "\n",
      "Sales Report Generated\n"
     ]
    }
   ],
   "source": [
    "# kvat \n",
    "from store_info import Replenishment\n",
    "\n",
    "kvat = Replenishment(store_type_input='kvat')\n",
    "\n",
    "\n",
    "kvat.sales_update(sales_data_file_path + r'\\kvat_sales.xlsx')\n",
    "kvat.delivery_update(delivery_data_file_path + r'\\kvat.csv')\n",
    "kvat.sales_report()"
   ]
  },
  {
   "cell_type": "code",
   "execution_count": 2,
   "id": "6ab69390",
   "metadata": {},
   "outputs": [
    {
     "name": "stdout",
     "output_type": "stream",
     "text": [
      "Found code for Sales table in support sheet instead of delivery table store 244 upc: 81031202155\n",
      "Found code for Sales table in support sheet instead of delivery table store 1038 upc: 81031202155\n",
      "Found code for Sales table in support sheet instead of delivery table store 1267 upc: 81031202155\n",
      "Found code for Sales table in support sheet instead of delivery table store 2342 upc: 81031202217\n",
      "Found code for Sales table in support sheet instead of delivery table store 2624 upc: 81031202217\n",
      "Found code for Sales table in support sheet instead of delivery table store 137 upc: 81031202372\n",
      "Found code for Sales table in support sheet instead of delivery table store 390 upc: 81031202217\n",
      "Found code for Sales table in support sheet instead of delivery table store 1480 upc: 81031202217\n",
      "Found code for Sales table in support sheet instead of delivery table store 64 upc: 81031202373\n",
      "Found code for Sales table in support sheet instead of delivery table store 65 upc: 81031202373\n",
      "Found code for Sales table in support sheet instead of delivery table store 67 upc: 81031202155\n",
      "Found code for Sales table in support sheet instead of delivery table store 467 upc: 81031202155\n",
      "Found code for Sales table in support sheet instead of delivery table store 467 upc: 81031202217\n",
      "Found code for Sales table in support sheet instead of delivery table store 549 upc: 81031202069\n",
      "Found code for Sales table in support sheet instead of delivery table store 583 upc: 81031202373\n",
      "Found code for Sales table in support sheet instead of delivery table store 876 upc: 81031202372\n",
      "Found code for Sales table in support sheet instead of delivery table store 1552 upc: 81031202155\n",
      "Found code for Sales table in support sheet instead of delivery table store 1552 upc: 81031202217\n",
      "Found code for Sales table in support sheet instead of delivery table store 2466 upc: 81031202045\n",
      "Found code for Sales table in support sheet instead of delivery table store 920 upc: 81031202155\n",
      "Found code for Sales table in support sheet instead of delivery table store 1615 upc: 81031202045\n",
      "Found code for Sales table in support sheet instead of delivery table store 1615 upc: 81031202217\n",
      "Found code for Sales table in support sheet instead of delivery table store 1656 upc: 81031202155\n",
      "Found code for Sales table in support sheet instead of delivery table store 2341 upc: 81031202155\n",
      "Found code for Sales table in support sheet instead of delivery table store 2915 upc: 81031202374\n",
      "Found code for Sales table in support sheet instead of delivery table store 2917 upc: 81031202217\n",
      "Found code for Sales table in support sheet instead of delivery table store 803 upc: 81031202373\n",
      "Found code for Sales table in support sheet instead of delivery table store 840 upc: 81031202069\n",
      "Found code for Sales table in support sheet instead of delivery table store 1440 upc: 81031202155\n",
      "Found code for Sales table in support sheet instead of delivery table store 1446 upc: 81031202155\n",
      "Found code for Sales table in support sheet instead of delivery table store 1499 upc: 81031202045\n",
      "Found code for Sales table in support sheet instead of delivery table store 1578 upc: 81031202155\n",
      "Found code for Sales table in support sheet instead of delivery table store 1578 upc: 81031202372\n",
      "Found code for Sales table in support sheet instead of delivery table store 1578 upc: 81031202373\n",
      "Found code for Sales table in support sheet instead of delivery table store 617 upc: 81031202045\n",
      "Found code for Sales table in support sheet instead of delivery table store 1438 upc: 81031202217\n",
      "Found code for Sales table in support sheet instead of delivery table store 1681 upc: 81031202217\n",
      "Found code for Sales table in support sheet instead of delivery table store 1721 upc: 81031202155\n",
      "Found code for Sales table in support sheet instead of delivery table store 1760 upc: 81031202045\n",
      "Found code for Sales table in support sheet instead of delivery table store 1760 upc: 81031202155\n",
      "Found code for Sales table in support sheet instead of delivery table store 1892 upc: 81031202155\n",
      "Found code for Sales table in support sheet instead of delivery table store 2810 upc: 81031202155\n",
      "Found code for Sales table in support sheet instead of delivery table store 2817 upc: 81031202069\n",
      "Found code for Sales table in support sheet instead of delivery table store 3723 upc: 81031202045\n",
      "Found code for Sales table in support sheet instead of delivery table store 3727 upc: 81031202155\n",
      "\n",
      " safeway_denver Sales Data Updated\n",
      "Updated: 0 Records\n",
      "Inserted: 174 Records\n",
      "\n",
      " safeway_denver Delivery Data Updated\n",
      "Updated: 0 Records\n",
      "Inserted: 12 Records\n",
      "No Programs have been established for these stores listed:\n",
      "\n",
      " [27, 64, 824, 1548, 2520, 2911]\n"
     ]
    },
    {
     "name": "stderr",
     "output_type": "stream",
     "text": [
      "C:\\Users\\User1\\anaconda3\\lib\\site-packages\\pandas\\core\\indexing.py:1684: SettingWithCopyWarning: \n",
      "A value is trying to be set on a copy of a slice from a DataFrame.\n",
      "Try using .loc[row_indexer,col_indexer] = value instead\n",
      "\n",
      "See the caveats in the documentation: https://pandas.pydata.org/pandas-docs/stable/user_guide/indexing.html#returning-a-view-versus-a-copy\n",
      "  self.obj[key] = infer_fill_value(value)\n",
      "C:\\Users\\User1\\anaconda3\\lib\\site-packages\\pandas\\core\\indexing.py:1817: SettingWithCopyWarning: \n",
      "A value is trying to be set on a copy of a slice from a DataFrame.\n",
      "Try using .loc[row_indexer,col_indexer] = value instead\n",
      "\n",
      "See the caveats in the documentation: https://pandas.pydata.org/pandas-docs/stable/user_guide/indexing.html#returning-a-view-versus-a-copy\n",
      "  self._setitem_single_column(loc, value, pi)\n"
     ]
    },
    {
     "name": "stdout",
     "output_type": "stream",
     "text": [
      "safeway_denver_external_sales_report_Oct-10-2022.xlsx\n",
      "Error: No objects to concatenate\n",
      "\n",
      "Sales Report Generated\n"
     ]
    }
   ],
   "source": [
    "# safeway denver\n",
    "from store_info import Replenishment\n",
    "\n",
    "safeway_denver= Replenishment(store_type_input='safeway_denver')\n",
    "\n",
    "safeway_denver.sales_update(sales_data_file_path + r'\\denver_sales.xlsx')\n",
    "safeway_denver.delivery_update(delivery_data_file_path + r'\\denver.csv')\n",
    "safeway_denver.sales_report()"
   ]
  },
  {
   "cell_type": "code",
   "execution_count": 13,
   "id": "c0c83341",
   "metadata": {},
   "outputs": [
    {
     "name": "stdout",
     "output_type": "stream",
     "text": [
      "\n",
      " kroger_cincinatti Sales Data Updated\n",
      "Updated: 143 Records\n",
      "Inserted: 170 Records\n",
      "\n",
      " kroger_cincinatti Delivery Data Updated\n",
      "Updated: 0 Records\n",
      "Inserted: 38 Records\n",
      "No Programs have been established for these stores listed:\n",
      "\n",
      " []\n",
      "kroger_cincinatti_external_sales_report_Oct-10-2022.xlsx\n",
      "\n",
      "Sales Report Generated\n"
     ]
    }
   ],
   "source": [
    "# cincinatti\n",
    "from store_info import Replenishment\n",
    "\n",
    "atlanta = Replenishment(store_type_input='kroger_cincinatti')\n",
    "\n",
    "atlanta.sales_update(sales_data_file_path + r'\\Sherlock Store Matrix.csv')\n",
    "atlanta.delivery_update(delivery_data_file_path + r'\\cincinatti.csv')\n",
    "atlanta.sales_report()"
   ]
  },
  {
   "cell_type": "code",
   "execution_count": 14,
   "id": "60c9a54b",
   "metadata": {},
   "outputs": [
    {
     "name": "stdout",
     "output_type": "stream",
     "text": [
      "Found code for Sales table in support sheet instead of delivery table store 625 upc: 81031202273\n",
      "Found code for Sales table in support sheet instead of delivery table store 625 upc: 81031202272\n",
      "Found code for Sales table in support sheet instead of delivery table store 606 upc: 81031202046\n",
      "Found code for Sales table in support sheet instead of delivery table store 622 upc: 81031202069\n",
      "Found code for Sales table in support sheet instead of delivery table store 625 upc: 81031202069\n",
      "Found code for Sales table in support sheet instead of delivery table store 625 upc: 81031202272\n",
      "Found code for Sales table in support sheet instead of delivery table store 606 upc: 81031202045\n",
      "Found code for Sales table in support sheet instead of delivery table store 625 upc: 81031202155\n",
      "\n",
      " kroger_delta Sales Data Updated\n",
      "Updated: 13 Records\n",
      "Inserted: 14 Records\n"
     ]
    }
   ],
   "source": [
    "\n",
    "delta = Replenishment(store_type_input='kroger_delta')\n",
    "\n",
    "delta.sales_update(sales_data_file_path + r'\\Sherlock Store Matrix.csv')\n",
    "# delta.delivery_update(file=r'C:\\Users\\User1\\OneDrive\\WinWin Staff Folders\\Michael\\Replenishment program\\Replenishment\\support document\\deliveries\\delta.csv')\n",
    "# delta.sales_report()"
   ]
  },
  {
   "cell_type": "code",
   "execution_count": 15,
   "id": "a930968f",
   "metadata": {},
   "outputs": [
    {
     "name": "stdout",
     "output_type": "stream",
     "text": [
      "No Programs have been established for these stores listed:\n",
      "\n",
      " []\n",
      "Kroger Corporate Report Generated\n"
     ]
    }
   ],
   "source": [
    "# Be sure to update all sales tables for all stores in the Kroger Division. \n",
    "# Kroger Corporate Report\n",
    "\n",
    "kroger_corporate = Replenishment(store_type_input='kroger_dallas')\n",
    "\n",
    "kroger_corporate.kroger_corporate_report()\n",
    "\n"
   ]
  },
  {
   "cell_type": "code",
   "execution_count": null,
   "id": "05cfb0a3",
   "metadata": {},
   "outputs": [],
   "source": []
  }
 ],
 "metadata": {
  "interpreter": {
   "hash": "eb4e0a0fd1d19bb9a06c4c3c2c2cf016517ec825f23f225e84b2f7e81a104fe7"
  },
  "kernelspec": {
   "display_name": "Python 3 (ipykernel)",
   "language": "python",
   "name": "python3"
  },
  "language_info": {
   "codemirror_mode": {
    "name": "ipython",
    "version": 3
   },
   "file_extension": ".py",
   "mimetype": "text/x-python",
   "name": "python",
   "nbconvert_exporter": "python",
   "pygments_lexer": "ipython3",
   "version": "3.9.7"
  }
 },
 "nbformat": 4,
 "nbformat_minor": 5
}
